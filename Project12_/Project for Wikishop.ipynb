{
 "cells": [
  {
   "cell_type": "markdown",
   "id": "5406372c",
   "metadata": {},
   "source": [
    "# Проект для \"Викишоп\""
   ]
  },
  {
   "cell_type": "markdown",
   "id": "cc29441a",
   "metadata": {},
   "source": [
    "Интернет-магазин «Викишоп» запускает новый сервис. Теперь пользователи могут редактировать и дополнять описания товаров, как в вики-сообществах. То есть клиенты предлагают свои правки и комментируют изменения других. Магазину нужен инструмент, который будет искать токсичные комментарии и отправлять их на модерацию. "
   ]
  },
  {
   "cell_type": "markdown",
   "id": "20dfe86e",
   "metadata": {},
   "source": [
    "В ходе нашего проекта мы создадим модель, которая позволит классифицировать комментарии на токсичные и положительные. Критерием качества для нашего проекта будет являться метрика F1. Постараемся добиться того, чтобы значение этой метрики было не меньше 0.75."
   ]
  },
  {
   "cell_type": "markdown",
   "id": "534464a3",
   "metadata": {},
   "source": [
    "Исходные данные будут представлять из себя датафрейм текстовых комментариев - с полем text и оценкой их токсичностей в поле toxic. Для обучения воспользуемся несколькими моделями машинного обучения и выберем наилучшую, учитывая как качество, так и скорость предсказания. "
   ]
  },
  {
   "cell_type": "markdown",
   "id": "82fdf407",
   "metadata": {},
   "source": [
    "Основные этапы работы над проектом\n",
    "- загрузка и предобработка исходных данных - выявление аномалий, пропусков и других особенностей в данных. \n",
    "- подготовка данных для обучения. \n",
    "- обучение на разных моделях машинного обучения. \n",
    "- тестирование, проверка на даеватность и формулировка выводов. "
   ]
  },
  {
   "cell_type": "code",
   "execution_count": 33,
   "id": "5cdd20f3",
   "metadata": {},
   "outputs": [],
   "source": [
    "#импортируем все используемые в проекте модули \n",
    "import pandas as pd\n",
    "import matplotlib.pyplot as plt\n",
    "from sklearn.linear_model import LogisticRegression\n",
    "from numpy.random import RandomState\n",
    "import numpy as np\n",
    "from sklearn.model_selection import train_test_split, cross_val_score, GridSearchCV\n",
    "from sklearn.metrics import f1_score\n",
    "from sklearn.feature_extraction.text import TfidfVectorizer \n",
    "import nltk\n",
    "from nltk.corpus import stopwords as nltk_stopwords\n",
    "import seaborn as sns\n",
    "from nltk.stem import WordNetLemmatizer\n",
    "import re\n",
    "from sklearn.model_selection import GridSearchCV\n",
    "from catboost import CatBoostClassifier\n",
    "from sklearn.dummy import DummyClassifier"
   ]
  },
  {
   "cell_type": "markdown",
   "id": "1fba43f0",
   "metadata": {},
   "source": [
    "# 1. Предобработка данных."
   ]
  },
  {
   "cell_type": "markdown",
   "id": "001097ff",
   "metadata": {},
   "source": [
    "Проведем предобработку исходных данных. Изучим возможные пропуски, дубликаты, проанализируем количество токсичных и нетоксичных комментариев."
   ]
  },
  {
   "cell_type": "code",
   "execution_count": 2,
   "id": "a91c6c02",
   "metadata": {},
   "outputs": [],
   "source": [
    "#Проведем считывание данных в датафрейм data\n",
    "try:\n",
    "    data= pd.read_csv('/datasets/toxic_comments.csv')\n",
    "except:\n",
    "    data = pd.read_csv('toxic_comments.csv')"
   ]
  },
  {
   "cell_type": "code",
   "execution_count": 3,
   "id": "7d90edb6",
   "metadata": {},
   "outputs": [
    {
     "data": {
      "text/html": [
       "<div>\n",
       "<style scoped>\n",
       "    .dataframe tbody tr th:only-of-type {\n",
       "        vertical-align: middle;\n",
       "    }\n",
       "\n",
       "    .dataframe tbody tr th {\n",
       "        vertical-align: top;\n",
       "    }\n",
       "\n",
       "    .dataframe thead th {\n",
       "        text-align: right;\n",
       "    }\n",
       "</style>\n",
       "<table border=\"1\" class=\"dataframe\">\n",
       "  <thead>\n",
       "    <tr style=\"text-align: right;\">\n",
       "      <th></th>\n",
       "      <th>Unnamed: 0</th>\n",
       "      <th>text</th>\n",
       "      <th>toxic</th>\n",
       "    </tr>\n",
       "  </thead>\n",
       "  <tbody>\n",
       "    <tr>\n",
       "      <th>0</th>\n",
       "      <td>0</td>\n",
       "      <td>Explanation\\nWhy the edits made under my usern...</td>\n",
       "      <td>0</td>\n",
       "    </tr>\n",
       "    <tr>\n",
       "      <th>1</th>\n",
       "      <td>1</td>\n",
       "      <td>D'aww! He matches this background colour I'm s...</td>\n",
       "      <td>0</td>\n",
       "    </tr>\n",
       "    <tr>\n",
       "      <th>2</th>\n",
       "      <td>2</td>\n",
       "      <td>Hey man, I'm really not trying to edit war. It...</td>\n",
       "      <td>0</td>\n",
       "    </tr>\n",
       "    <tr>\n",
       "      <th>3</th>\n",
       "      <td>3</td>\n",
       "      <td>\"\\nMore\\nI can't make any real suggestions on ...</td>\n",
       "      <td>0</td>\n",
       "    </tr>\n",
       "    <tr>\n",
       "      <th>4</th>\n",
       "      <td>4</td>\n",
       "      <td>You, sir, are my hero. Any chance you remember...</td>\n",
       "      <td>0</td>\n",
       "    </tr>\n",
       "    <tr>\n",
       "      <th>5</th>\n",
       "      <td>5</td>\n",
       "      <td>\"\\n\\nCongratulations from me as well, use the ...</td>\n",
       "      <td>0</td>\n",
       "    </tr>\n",
       "    <tr>\n",
       "      <th>6</th>\n",
       "      <td>6</td>\n",
       "      <td>COCKSUCKER BEFORE YOU PISS AROUND ON MY WORK</td>\n",
       "      <td>1</td>\n",
       "    </tr>\n",
       "    <tr>\n",
       "      <th>7</th>\n",
       "      <td>7</td>\n",
       "      <td>Your vandalism to the Matt Shirvington article...</td>\n",
       "      <td>0</td>\n",
       "    </tr>\n",
       "    <tr>\n",
       "      <th>8</th>\n",
       "      <td>8</td>\n",
       "      <td>Sorry if the word 'nonsense' was offensive to ...</td>\n",
       "      <td>0</td>\n",
       "    </tr>\n",
       "    <tr>\n",
       "      <th>9</th>\n",
       "      <td>9</td>\n",
       "      <td>alignment on this subject and which are contra...</td>\n",
       "      <td>0</td>\n",
       "    </tr>\n",
       "  </tbody>\n",
       "</table>\n",
       "</div>"
      ],
      "text/plain": [
       "   Unnamed: 0                                               text  toxic\n",
       "0           0  Explanation\\nWhy the edits made under my usern...      0\n",
       "1           1  D'aww! He matches this background colour I'm s...      0\n",
       "2           2  Hey man, I'm really not trying to edit war. It...      0\n",
       "3           3  \"\\nMore\\nI can't make any real suggestions on ...      0\n",
       "4           4  You, sir, are my hero. Any chance you remember...      0\n",
       "5           5  \"\\n\\nCongratulations from me as well, use the ...      0\n",
       "6           6       COCKSUCKER BEFORE YOU PISS AROUND ON MY WORK      1\n",
       "7           7  Your vandalism to the Matt Shirvington article...      0\n",
       "8           8  Sorry if the word 'nonsense' was offensive to ...      0\n",
       "9           9  alignment on this subject and which are contra...      0"
      ]
     },
     "execution_count": 3,
     "metadata": {},
     "output_type": "execute_result"
    }
   ],
   "source": [
    "#Выведем на экран первые 10 строчек датафрейма\n",
    "data.head(10)"
   ]
  },
  {
   "cell_type": "code",
   "execution_count": 4,
   "id": "2239e999",
   "metadata": {},
   "outputs": [
    {
     "name": "stdout",
     "output_type": "stream",
     "text": [
      "<class 'pandas.core.frame.DataFrame'>\n",
      "RangeIndex: 159292 entries, 0 to 159291\n",
      "Data columns (total 3 columns):\n",
      " #   Column      Non-Null Count   Dtype \n",
      "---  ------      --------------   ----- \n",
      " 0   Unnamed: 0  159292 non-null  int64 \n",
      " 1   text        159292 non-null  object\n",
      " 2   toxic       159292 non-null  int64 \n",
      "dtypes: int64(2), object(1)\n",
      "memory usage: 3.6+ MB\n"
     ]
    }
   ],
   "source": [
    "#Выведем общую информацию о данных\n",
    "data.info()"
   ]
  },
  {
   "cell_type": "code",
   "execution_count": 5,
   "id": "b6a2fc6b",
   "metadata": {},
   "outputs": [
    {
     "name": "stdout",
     "output_type": "stream",
     "text": [
      "0\n"
     ]
    }
   ],
   "source": [
    "#Посмотрим на количество дубликатов \n",
    "print(data.duplicated().sum())"
   ]
  },
  {
   "cell_type": "markdown",
   "id": "d1f42cff",
   "metadata": {},
   "source": [
    "**Вывод**: в ходе первых шагов предварительной обработки не обнаружено дубликатов, пропущеных значений, а также несоответсвия типов данных. "
   ]
  },
  {
   "cell_type": "markdown",
   "id": "c580f019",
   "metadata": {},
   "source": [
    "Проанализируем количество токсичных и нетоксичных комментариев. "
   ]
  },
  {
   "cell_type": "code",
   "execution_count": 6,
   "id": "0ef676db",
   "metadata": {
    "scrolled": true
   },
   "outputs": [
    {
     "data": {
      "text/plain": [
       "Text(0, 0.5, 'Количество')"
      ]
     },
     "execution_count": 6,
     "metadata": {},
     "output_type": "execute_result"
    },
    {
     "data": {
      "image/png": "[encoded data removed]",
      "text/plain": [
       "<Figure size 640x480 with 1 Axes>"
      ]
     },
     "metadata": {},
     "output_type": "display_data"
    }
   ],
   "source": [
    "sns.countplot(x=data[\"toxic\"])\n",
    "plt.title('Распределение количества токсичных комментариев')\n",
    "plt.xlabel ('0 - не токсичные, 1 - токсичные')\n",
    "plt.ylabel('Количество')"
   ]
  },
  {
   "cell_type": "code",
   "execution_count": 7,
   "id": "50eb2e22",
   "metadata": {},
   "outputs": [
    {
     "data": {
      "text/plain": [
       "0    143106\n",
       "1     16186\n",
       "Name: toxic, dtype: int64"
      ]
     },
     "execution_count": 7,
     "metadata": {},
     "output_type": "execute_result"
    }
   ],
   "source": [
    "data['toxic'].value_counts()"
   ]
  },
  {
   "cell_type": "markdown",
   "id": "9a29bd22",
   "metadata": {},
   "source": [
    "**Вывод**: Количество нетоксичных комментариев практически в 9 раз больше, чем количество токсичных. В контексте моделей обучения для задачи классификации можно утверждать, что представленных классы несбалансированные, и при построении различных моделей это необходимо учитывать. "
   ]
  },
  {
   "cell_type": "markdown",
   "id": "f198c082",
   "metadata": {},
   "source": [
    "**Общий вывод**: Таким образом в ходе предообработки данных мы не обнаружили дубликатов или пропущенных значений, но выявили, что количество токсичных комментариев практически в 9 раз меньше, чем  нетоксичных."
   ]
  },
  {
   "cell_type": "markdown",
   "id": "d5cc3434",
   "metadata": {},
   "source": [
    "# 2. Подготовка модели"
   ]
  },
  {
   "cell_type": "markdown",
   "id": "7fe9b726",
   "metadata": {},
   "source": [
    "Поскольку мы работаем с текстовыми данными для формирования признаков в модели машинного обучения необходимо провести лемматизацию и векторизацию данных. Дальнейшая подготовка будет состоять из разделения выборки на обучающую и тестовую."
   ]
  },
  {
   "cell_type": "code",
   "execution_count": 8,
   "id": "f121f7e7",
   "metadata": {},
   "outputs": [
    {
     "name": "stderr",
     "output_type": "stream",
     "text": [
      "[nltk_data] Downloading package wordnet to\n",
      "[nltk_data]     C:\\Users\\diguz\\AppData\\Roaming\\nltk_data...\n",
      "[nltk_data]   Package wordnet is already up-to-date!\n"
     ]
    }
   ],
   "source": [
    "#Проведем лемматизацию данных с помощью WordNetLemmatizer\n",
    "m = WordNetLemmatizer()\n",
    "nltk.download('wordnet')\n",
    "def lemmatize_text(text):\n",
    "    text = text.lower()\n",
    "    lemm_text = \"\".join(m.lemmatize(text))\n",
    "    cleared_text = re.sub(r'[^a-zA-Z]', ' ', lemm_text) \n",
    "    return \" \".join(cleared_text.split())"
   ]
  },
  {
   "cell_type": "code",
   "execution_count": 9,
   "id": "e38b68fe",
   "metadata": {},
   "outputs": [],
   "source": [
    "#Применим функцию лемматизации к исходным данным\n",
    "data['text_lemmatized'] = data['text'].apply(lemmatize_text)"
   ]
  },
  {
   "cell_type": "code",
   "execution_count": 10,
   "id": "31b3cfc9",
   "metadata": {
    "scrolled": true
   },
   "outputs": [
    {
     "data": {
      "text/html": [
       "<div>\n",
       "<style scoped>\n",
       "    .dataframe tbody tr th:only-of-type {\n",
       "        vertical-align: middle;\n",
       "    }\n",
       "\n",
       "    .dataframe tbody tr th {\n",
       "        vertical-align: top;\n",
       "    }\n",
       "\n",
       "    .dataframe thead th {\n",
       "        text-align: right;\n",
       "    }\n",
       "</style>\n",
       "<table border=\"1\" class=\"dataframe\">\n",
       "  <thead>\n",
       "    <tr style=\"text-align: right;\">\n",
       "      <th></th>\n",
       "      <th>Unnamed: 0</th>\n",
       "      <th>text</th>\n",
       "      <th>toxic</th>\n",
       "      <th>text_lemmatized</th>\n",
       "    </tr>\n",
       "  </thead>\n",
       "  <tbody>\n",
       "    <tr>\n",
       "      <th>0</th>\n",
       "      <td>0</td>\n",
       "      <td>Explanation\\nWhy the edits made under my usern...</td>\n",
       "      <td>0</td>\n",
       "      <td>explanation why the edits made under my userna...</td>\n",
       "    </tr>\n",
       "    <tr>\n",
       "      <th>1</th>\n",
       "      <td>1</td>\n",
       "      <td>D'aww! He matches this background colour I'm s...</td>\n",
       "      <td>0</td>\n",
       "      <td>d aww he matches this background colour i m se...</td>\n",
       "    </tr>\n",
       "    <tr>\n",
       "      <th>2</th>\n",
       "      <td>2</td>\n",
       "      <td>Hey man, I'm really not trying to edit war. It...</td>\n",
       "      <td>0</td>\n",
       "      <td>hey man i m really not trying to edit war it s...</td>\n",
       "    </tr>\n",
       "    <tr>\n",
       "      <th>3</th>\n",
       "      <td>3</td>\n",
       "      <td>\"\\nMore\\nI can't make any real suggestions on ...</td>\n",
       "      <td>0</td>\n",
       "      <td>more i can t make any real suggestions on impr...</td>\n",
       "    </tr>\n",
       "    <tr>\n",
       "      <th>4</th>\n",
       "      <td>4</td>\n",
       "      <td>You, sir, are my hero. Any chance you remember...</td>\n",
       "      <td>0</td>\n",
       "      <td>you sir are my hero any chance you remember wh...</td>\n",
       "    </tr>\n",
       "  </tbody>\n",
       "</table>\n",
       "</div>"
      ],
      "text/plain": [
       "   Unnamed: 0                                               text  toxic  \\\n",
       "0           0  Explanation\\nWhy the edits made under my usern...      0   \n",
       "1           1  D'aww! He matches this background colour I'm s...      0   \n",
       "2           2  Hey man, I'm really not trying to edit war. It...      0   \n",
       "3           3  \"\\nMore\\nI can't make any real suggestions on ...      0   \n",
       "4           4  You, sir, are my hero. Any chance you remember...      0   \n",
       "\n",
       "                                     text_lemmatized  \n",
       "0  explanation why the edits made under my userna...  \n",
       "1  d aww he matches this background colour i m se...  \n",
       "2  hey man i m really not trying to edit war it s...  \n",
       "3  more i can t make any real suggestions on impr...  \n",
       "4  you sir are my hero any chance you remember wh...  "
      ]
     },
     "execution_count": 10,
     "metadata": {},
     "output_type": "execute_result"
    }
   ],
   "source": [
    "data.head()"
   ]
  },
  {
   "cell_type": "code",
   "execution_count": 11,
   "id": "e5b9dedd",
   "metadata": {
    "scrolled": false
   },
   "outputs": [
    {
     "data": {
      "text/html": [
       "<div>\n",
       "<style scoped>\n",
       "    .dataframe tbody tr th:only-of-type {\n",
       "        vertical-align: middle;\n",
       "    }\n",
       "\n",
       "    .dataframe tbody tr th {\n",
       "        vertical-align: top;\n",
       "    }\n",
       "\n",
       "    .dataframe thead th {\n",
       "        text-align: right;\n",
       "    }\n",
       "</style>\n",
       "<table border=\"1\" class=\"dataframe\">\n",
       "  <thead>\n",
       "    <tr style=\"text-align: right;\">\n",
       "      <th></th>\n",
       "      <th>Unnamed: 0</th>\n",
       "      <th>toxic</th>\n",
       "      <th>text_lemmatized</th>\n",
       "    </tr>\n",
       "  </thead>\n",
       "  <tbody>\n",
       "    <tr>\n",
       "      <th>0</th>\n",
       "      <td>0</td>\n",
       "      <td>0</td>\n",
       "      <td>explanation why the edits made under my userna...</td>\n",
       "    </tr>\n",
       "    <tr>\n",
       "      <th>1</th>\n",
       "      <td>1</td>\n",
       "      <td>0</td>\n",
       "      <td>d aww he matches this background colour i m se...</td>\n",
       "    </tr>\n",
       "    <tr>\n",
       "      <th>2</th>\n",
       "      <td>2</td>\n",
       "      <td>0</td>\n",
       "      <td>hey man i m really not trying to edit war it s...</td>\n",
       "    </tr>\n",
       "    <tr>\n",
       "      <th>3</th>\n",
       "      <td>3</td>\n",
       "      <td>0</td>\n",
       "      <td>more i can t make any real suggestions on impr...</td>\n",
       "    </tr>\n",
       "    <tr>\n",
       "      <th>4</th>\n",
       "      <td>4</td>\n",
       "      <td>0</td>\n",
       "      <td>you sir are my hero any chance you remember wh...</td>\n",
       "    </tr>\n",
       "  </tbody>\n",
       "</table>\n",
       "</div>"
      ],
      "text/plain": [
       "   Unnamed: 0  toxic                                    text_lemmatized\n",
       "0           0      0  explanation why the edits made under my userna...\n",
       "1           1      0  d aww he matches this background colour i m se...\n",
       "2           2      0  hey man i m really not trying to edit war it s...\n",
       "3           3      0  more i can t make any real suggestions on impr...\n",
       "4           4      0  you sir are my hero any chance you remember wh..."
      ]
     },
     "execution_count": 11,
     "metadata": {},
     "output_type": "execute_result"
    }
   ],
   "source": [
    "data = data.drop(['text'], axis = 1)\n",
    "data.head()"
   ]
  },
  {
   "cell_type": "code",
   "execution_count": 12,
   "id": "d6bd665e",
   "metadata": {},
   "outputs": [],
   "source": [
    "#Выделим обучающие признаки и целевой\n",
    "target = data['toxic']\n",
    "features = data.drop(['toxic'], axis=1)"
   ]
  },
  {
   "cell_type": "markdown",
   "id": "86c29f29",
   "metadata": {},
   "source": [
    "Проведем теперь разделение нашей исходной выборки на обучающую и тестовую в соотношении 3:1."
   ]
  },
  {
   "cell_type": "code",
   "execution_count": 13,
   "id": "6ebcffa5",
   "metadata": {},
   "outputs": [],
   "source": [
    "features_train, features_test, target_train, target_test = train_test_split(features, \n",
    "                                                                              target, \n",
    "                                                                              test_size=0.25, \n",
    "                                                                              random_state=1234, stratify = data['toxic'])"
   ]
  },
  {
   "cell_type": "markdown",
   "id": "8b8902e2",
   "metadata": {},
   "source": [
    "Проведем теперь векторизацию данных с помощью TF-IDF. "
   ]
  },
  {
   "cell_type": "code",
   "execution_count": 14,
   "id": "eb91c5eb",
   "metadata": {},
   "outputs": [
    {
     "name": "stderr",
     "output_type": "stream",
     "text": [
      "[nltk_data] Downloading package stopwords to\n",
      "[nltk_data]     C:\\Users\\diguz\\AppData\\Roaming\\nltk_data...\n",
      "[nltk_data]   Package stopwords is already up-to-date!\n"
     ]
    }
   ],
   "source": [
    "nltk.download('stopwords')\n",
    "stopwords = set(nltk_stopwords.words('english'))\n",
    "\n",
    "count_tf_idf = TfidfVectorizer(stop_words=stopwords)"
   ]
  },
  {
   "cell_type": "code",
   "execution_count": 15,
   "id": "40ab6e04",
   "metadata": {},
   "outputs": [],
   "source": [
    "features_train = count_tf_idf.fit_transform(features_train['text_lemmatized'].values.astype('U'))\n",
    "features_test = count_tf_idf.transform(features_test['text_lemmatized'].values.astype('U'))"
   ]
  },
  {
   "cell_type": "markdown",
   "id": "e189a0c9",
   "metadata": {},
   "source": [
    "**Вывод**: были сформированы признаки для выборки, исходные данные были разделены на обучающую и тестовые выборки."
   ]
  },
  {
   "cell_type": "markdown",
   "id": "06a7efe4",
   "metadata": {},
   "source": [
    "# 3. Обучение моделей"
   ]
  },
  {
   "cell_type": "markdown",
   "id": "66bda85b",
   "metadata": {},
   "source": [
    "## 3.1 Логистическая регрессия "
   ]
  },
  {
   "cell_type": "markdown",
   "id": "8f0a6fa8",
   "metadata": {},
   "source": [
    "Учтем несбалансированность классов для логистической регрессии и проведем кросс-валидацию с использованием метрики F1."
   ]
  },
  {
   "cell_type": "code",
   "execution_count": 16,
   "id": "a5437ab1",
   "metadata": {},
   "outputs": [],
   "source": [
    "model_lr = LogisticRegression(class_weight='balanced')"
   ]
  },
  {
   "cell_type": "code",
   "execution_count": 26,
   "id": "6ac050dd",
   "metadata": {},
   "outputs": [
    {
     "data": {
      "text/plain": [
       "GridSearchCV(cv=2, estimator=LogisticRegression(class_weight='balanced'),\n",
       "             param_grid=[{'C': [0.1, 1, 10],\n",
       "                          'solver': ['newton-cg', 'lbfgs', 'liblinear']}],\n",
       "             scoring='f1')"
      ]
     },
     "execution_count": 26,
     "metadata": {},
     "output_type": "execute_result"
    }
   ],
   "source": [
    "grid = [{'solver':['newton-cg', 'lbfgs', 'liblinear'],\n",
    "                'C':[0.1, 1, 10]\n",
    "        }]\n",
    "\n",
    "gsearch = GridSearchCV(estimator=model_lr, \n",
    "                       cv=2, \n",
    "                       param_grid=grid,  \n",
    "                       scoring = 'f1')\n",
    "import warnings\n",
    "warnings.filterwarnings('ignore')\n",
    "gsearch.fit(features_train, target_train)"
   ]
  },
  {
   "cell_type": "code",
   "execution_count": 27,
   "id": "56e8dfc3",
   "metadata": {},
   "outputs": [
    {
     "data": {
      "text/plain": [
       "0.7616539894981854"
      ]
     },
     "execution_count": 27,
     "metadata": {},
     "output_type": "execute_result"
    }
   ],
   "source": [
    "gsearch.best_score_"
   ]
  },
  {
   "cell_type": "markdown",
   "id": "42cb8cc5",
   "metadata": {},
   "source": [
    "## 3.2 CatBoostClassifier"
   ]
  },
  {
   "cell_type": "code",
   "execution_count": 22,
   "id": "9b4dd371",
   "metadata": {},
   "outputs": [],
   "source": [
    "model_cb = CatBoostClassifier(verbose=False)"
   ]
  },
  {
   "cell_type": "code",
   "execution_count": 24,
   "id": "b30ab373",
   "metadata": {
    "scrolled": true
   },
   "outputs": [
    {
     "data": {
      "text/plain": [
       "GridSearchCV(cv=2,\n",
       "             estimator=<catboost.core.CatBoostClassifier object at 0x0000012909A1C2B0>,\n",
       "             param_grid=[{'iterations': [200, 300, 400]}], scoring='f1')"
      ]
     },
     "execution_count": 24,
     "metadata": {},
     "output_type": "execute_result"
    }
   ],
   "source": [
    "grid = [{'iterations':[200, 300, 400]\n",
    "        }]\n",
    "\n",
    "gsearch_2 = GridSearchCV(estimator=model_cb, \n",
    "                       cv=2, \n",
    "                       param_grid=grid,  \n",
    "                       scoring = 'f1')\n",
    "\n",
    "gsearch_2.fit(features_train, target_train)"
   ]
  },
  {
   "cell_type": "code",
   "execution_count": 25,
   "id": "695afd7b",
   "metadata": {
    "scrolled": true
   },
   "outputs": [
    {
     "data": {
      "text/plain": [
       "0.7226697881313073"
      ]
     },
     "execution_count": 25,
     "metadata": {},
     "output_type": "execute_result"
    }
   ],
   "source": [
    "gsearch_2.best_score_"
   ]
  },
  {
   "cell_type": "markdown",
   "id": "fa3e849b",
   "metadata": {},
   "source": [
    "**Вывод**: Таким образом, сравнив две модели по параметру F1, мы получаем, что наиболее подходящая - модель логистической регрессии."
   ]
  },
  {
   "cell_type": "markdown",
   "id": "c6295157",
   "metadata": {},
   "source": [
    "# 4. Тестирование "
   ]
  },
  {
   "cell_type": "markdown",
   "id": "3b40a592",
   "metadata": {},
   "source": [
    "Проведем тестирование лучшей модели."
   ]
  },
  {
   "cell_type": "code",
   "execution_count": 31,
   "id": "c2f4578a",
   "metadata": {},
   "outputs": [],
   "source": [
    "predictions = gsearch.best_estimator_.predict(features_test)"
   ]
  },
  {
   "cell_type": "code",
   "execution_count": 32,
   "id": "c65d557e",
   "metadata": {
    "scrolled": true
   },
   "outputs": [
    {
     "data": {
      "text/plain": [
       "0.7685367264314633"
      ]
     },
     "execution_count": 32,
     "metadata": {},
     "output_type": "execute_result"
    }
   ],
   "source": [
    "f1_score(predictions, target_test)"
   ]
  },
  {
   "cell_type": "markdown",
   "id": "89189d04",
   "metadata": {},
   "source": [
    "Проведем проверку модели на адекватность."
   ]
  },
  {
   "cell_type": "code",
   "execution_count": 46,
   "id": "7b9242d8",
   "metadata": {},
   "outputs": [],
   "source": [
    "dummy_clf = DummyClassifier(strategy=\"constant\", constant = 0)"
   ]
  },
  {
   "cell_type": "code",
   "execution_count": 48,
   "id": "95f9cfb1",
   "metadata": {
    "scrolled": true
   },
   "outputs": [
    {
     "data": {
      "text/plain": [
       "0.0"
      ]
     },
     "execution_count": 48,
     "metadata": {},
     "output_type": "execute_result"
    }
   ],
   "source": [
    "dummy_clf.fit(features_train, target_train)\n",
    "predictions_dm = dummy_clf.predict(features_test)\n",
    "f1_score(predictions_dm, target_test)"
   ]
  },
  {
   "cell_type": "markdown",
   "id": "246f3202",
   "metadata": {},
   "source": [
    "**Вывод**: подобранная модель соответствует требованием и выдает на тестовой выборке значение метрики **F1 = 0.77.**"
   ]
  },
  {
   "cell_type": "markdown",
   "id": "64f55fac",
   "metadata": {},
   "source": [
    "# Вывод."
   ]
  },
  {
   "cell_type": "markdown",
   "id": "e0335732",
   "metadata": {},
   "source": [
    "В ходе работы над проектом были проанализированы исходные данные и выявленна особенность несбалансированности исходных классов. Далее данные были подготовлены для формирования модели обучения - проведена их лемматизация и векторизация. Данные были также разделены на две выборки - обучающую и тестовую. "
   ]
  },
  {
   "cell_type": "markdown",
   "id": "d3af821b",
   "metadata": {},
   "source": [
    "В качестве моделей были выбраны - логистическая регрессия и CatBoostClassifier (градиентный бустинг). На кросс-валидации наилучший результат был получен у логистической регресии, поэтому в конечном итоге выбрана именно она. "
   ]
  },
  {
   "cell_type": "markdown",
   "id": "92144418",
   "metadata": {},
   "source": [
    "Было также проведено тестирование выбранной модели и определена метрика F1, которая составила **0.77**, что удовлетворяет поставленной выше задаче. "
   ]
  }
 ],
 "metadata": {
  "kernelspec": {
   "display_name": "Python 3 (ipykernel)",
   "language": "python",
   "name": "python3"
  },
  "language_info": {
   "codemirror_mode": {
    "name": "ipython",
    "version": 3
   },
   "file_extension": ".py",
   "mimetype": "text/x-python",
   "name": "python",
   "nbconvert_exporter": "python",
   "pygments_lexer": "ipython3",
   "version": "3.9.16"
  }
 },
 "nbformat": 4,
 "nbformat_minor": 5
}
