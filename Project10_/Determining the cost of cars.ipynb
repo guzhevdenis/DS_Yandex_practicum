{
 "cells": [
  {
   "cell_type": "markdown",
   "id": "e4bcf33c",
   "metadata": {},
   "source": [
    "# Определение стоимости автомобилей "
   ]
  },
  {
   "cell_type": "markdown",
   "id": "35c56f26",
   "metadata": {},
   "source": [
    "\"Не бит, не крашен\" - сервис по продаже автомобилей, в котором разрабатывается приложение для клиентов. Это приложение позволит узнать стоимость приобретаемого автомобиля. "
   ]
  },
  {
   "cell_type": "markdown",
   "id": "752d19af",
   "metadata": {},
   "source": [
    "**Целью** нашего проекта будет создание эффективной **модели**, которая позволит делать **предсказания стоимости** представленных авто на основе ее входных характеристик. "
   ]
  },
  {
   "cell_type": "markdown",
   "id": "79f81862",
   "metadata": {},
   "source": [
    "Исходные данные будут содержать следующие характеристики:"
   ]
  },
  {
   "cell_type": "markdown",
   "id": "e7bfcfb5",
   "metadata": {},
   "source": [
    "- **DateCrawled** — дата скачивания анкеты из базы\n",
    "- **VehicleType** — тип автомобильного кузова\n",
    "- **RegistrationYear** — год регистрации автомобиля\n",
    "- **Gearbox** — тип коробки передач\n",
    "- **Power** — мощность (л. с.)\n",
    "- **Model** — модель автомобиля\n",
    "- **Kilometer** — пробег (км)\n",
    "- **RegistrationMonth** — месяц регистрации автомобиля\n",
    "- **FuelType** — тип топлива\n",
    "- **Brand** — марка автомобиля\n",
    "- **Repaired** — была машина в ремонте или нет\n",
    "- **DateCreated** — дата создания анкеты\n",
    "- **NumberOfPictures** — количество фотографий автомобиля\n",
    "- **PostalCode** — почтовый индекс владельца анкеты (пользователя)\n",
    "- **LastSeen** — дата последней активности пользователя\n",
    "- **Price** - цена"
   ]
  },
  {
   "cell_type": "markdown",
   "id": "0e87fba9",
   "metadata": {},
   "source": [
    "В ходе разработки и создания нашей модели, мы будем опираться на такие важные характеристики, как **качество предсказания, время обучения модели, время предсказания модели**. "
   ]
  },
  {
   "cell_type": "markdown",
   "id": "bfecab26",
   "metadata": {},
   "source": [
    "Строить наше исследование будем следующим образом - изучим исходные данные, обработаем пропуски, дубликаты, аномалии, несоответствующие типы данных. Проверим данные на взаимосвязанность - определим корреляцию между различными характеристиками. Это позволит определить наличие избыточных данных и исключить их из дальнейшей работы. Так же определим характеристики, которые не влияют не предсказание *стоимости* автомобиля. "
   ]
  },
  {
   "cell_type": "markdown",
   "id": "420e045a",
   "metadata": {},
   "source": [
    "Далее мы подготовим данные для обучения - разделим их на соответствующие выборки. "
   ]
  },
  {
   "cell_type": "markdown",
   "id": "9a32bfab",
   "metadata": {},
   "source": [
    "В качестве моделей обучения воспользуемся **LightGBM и случайный лес**. Для каждой из моделей будем подбирать различные гиперпараметры. "
   ]
  },
  {
   "cell_type": "markdown",
   "id": "e0c7b966",
   "metadata": {},
   "source": [
    "Из рассмотренных моделей выберем наиболее качественную и протестируем ее на тестовой выборке. Затем проведем анализ адекватности выбранной модели, подведем соответсвующие итоги. "
   ]
  },
  {
   "cell_type": "code",
   "execution_count": 1,
   "id": "ddb07cf7",
   "metadata": {},
   "outputs": [],
   "source": [
    "#Импортируем все используемые в проекте библиотеки\n",
    "import pandas as pd\n",
    "import seaborn as sns\n",
    "import matplotlib.pyplot as plt\n",
    "import numpy as np\n",
    "from numpy.random import RandomState\n",
    "from sklearn.metrics import ( mean_absolute_error, fbeta_score, make_scorer, mean_squared_error )\n",
    "from sklearn.ensemble import RandomForestRegressor\n",
    "from sklearn.preprocessing import StandardScaler\n",
    "from sklearn.dummy import DummyRegressor\n",
    "from sklearn.preprocessing import OrdinalEncoder\n",
    "from sklearn.model_selection import train_test_split\n",
    "import time\n",
    "from catboost import CatBoostRegressor\n",
    "from sklearn.model_selection import GridSearchCV"
   ]
  },
  {
   "cell_type": "markdown",
   "id": "a9e99496",
   "metadata": {},
   "source": [
    "# 1. Предобработка данных"
   ]
  },
  {
   "cell_type": "markdown",
   "id": "cebd69bf",
   "metadata": {},
   "source": [
    "Считаем имеющиеся данные в соответсвующий датафрейм. "
   ]
  },
  {
   "cell_type": "code",
   "execution_count": 2,
   "id": "6f7e4ba8",
   "metadata": {},
   "outputs": [],
   "source": [
    "try:\n",
    "    data= pd.read_csv('/datasets/autos.csv')\n",
    "except:\n",
    "    data = pd.read_csv('autos.csv')  "
   ]
  },
  {
   "cell_type": "markdown",
   "id": "43ead5d5",
   "metadata": {},
   "source": [
    "Выведем общую информацию о данных "
   ]
  },
  {
   "cell_type": "code",
   "execution_count": 3,
   "id": "d35d5886",
   "metadata": {
    "scrolled": true
   },
   "outputs": [
    {
     "data": {
      "text/html": [
       "<div>\n",
       "<style scoped>\n",
       "    .dataframe tbody tr th:only-of-type {\n",
       "        vertical-align: middle;\n",
       "    }\n",
       "\n",
       "    .dataframe tbody tr th {\n",
       "        vertical-align: top;\n",
       "    }\n",
       "\n",
       "    .dataframe thead th {\n",
       "        text-align: right;\n",
       "    }\n",
       "</style>\n",
       "<table border=\"1\" class=\"dataframe\">\n",
       "  <thead>\n",
       "    <tr style=\"text-align: right;\">\n",
       "      <th></th>\n",
       "      <th>DateCrawled</th>\n",
       "      <th>Price</th>\n",
       "      <th>VehicleType</th>\n",
       "      <th>RegistrationYear</th>\n",
       "      <th>Gearbox</th>\n",
       "      <th>Power</th>\n",
       "      <th>Model</th>\n",
       "      <th>Kilometer</th>\n",
       "      <th>RegistrationMonth</th>\n",
       "      <th>FuelType</th>\n",
       "      <th>Brand</th>\n",
       "      <th>Repaired</th>\n",
       "      <th>DateCreated</th>\n",
       "      <th>NumberOfPictures</th>\n",
       "      <th>PostalCode</th>\n",
       "      <th>LastSeen</th>\n",
       "    </tr>\n",
       "  </thead>\n",
       "  <tbody>\n",
       "    <tr>\n",
       "      <th>0</th>\n",
       "      <td>2016-03-24 11:52:17</td>\n",
       "      <td>480</td>\n",
       "      <td>NaN</td>\n",
       "      <td>1993</td>\n",
       "      <td>manual</td>\n",
       "      <td>0</td>\n",
       "      <td>golf</td>\n",
       "      <td>150000</td>\n",
       "      <td>0</td>\n",
       "      <td>petrol</td>\n",
       "      <td>volkswagen</td>\n",
       "      <td>NaN</td>\n",
       "      <td>2016-03-24 00:00:00</td>\n",
       "      <td>0</td>\n",
       "      <td>70435</td>\n",
       "      <td>2016-04-07 03:16:57</td>\n",
       "    </tr>\n",
       "    <tr>\n",
       "      <th>1</th>\n",
       "      <td>2016-03-24 10:58:45</td>\n",
       "      <td>18300</td>\n",
       "      <td>coupe</td>\n",
       "      <td>2011</td>\n",
       "      <td>manual</td>\n",
       "      <td>190</td>\n",
       "      <td>NaN</td>\n",
       "      <td>125000</td>\n",
       "      <td>5</td>\n",
       "      <td>gasoline</td>\n",
       "      <td>audi</td>\n",
       "      <td>yes</td>\n",
       "      <td>2016-03-24 00:00:00</td>\n",
       "      <td>0</td>\n",
       "      <td>66954</td>\n",
       "      <td>2016-04-07 01:46:50</td>\n",
       "    </tr>\n",
       "    <tr>\n",
       "      <th>2</th>\n",
       "      <td>2016-03-14 12:52:21</td>\n",
       "      <td>9800</td>\n",
       "      <td>suv</td>\n",
       "      <td>2004</td>\n",
       "      <td>auto</td>\n",
       "      <td>163</td>\n",
       "      <td>grand</td>\n",
       "      <td>125000</td>\n",
       "      <td>8</td>\n",
       "      <td>gasoline</td>\n",
       "      <td>jeep</td>\n",
       "      <td>NaN</td>\n",
       "      <td>2016-03-14 00:00:00</td>\n",
       "      <td>0</td>\n",
       "      <td>90480</td>\n",
       "      <td>2016-04-05 12:47:46</td>\n",
       "    </tr>\n",
       "    <tr>\n",
       "      <th>3</th>\n",
       "      <td>2016-03-17 16:54:04</td>\n",
       "      <td>1500</td>\n",
       "      <td>small</td>\n",
       "      <td>2001</td>\n",
       "      <td>manual</td>\n",
       "      <td>75</td>\n",
       "      <td>golf</td>\n",
       "      <td>150000</td>\n",
       "      <td>6</td>\n",
       "      <td>petrol</td>\n",
       "      <td>volkswagen</td>\n",
       "      <td>no</td>\n",
       "      <td>2016-03-17 00:00:00</td>\n",
       "      <td>0</td>\n",
       "      <td>91074</td>\n",
       "      <td>2016-03-17 17:40:17</td>\n",
       "    </tr>\n",
       "    <tr>\n",
       "      <th>4</th>\n",
       "      <td>2016-03-31 17:25:20</td>\n",
       "      <td>3600</td>\n",
       "      <td>small</td>\n",
       "      <td>2008</td>\n",
       "      <td>manual</td>\n",
       "      <td>69</td>\n",
       "      <td>fabia</td>\n",
       "      <td>90000</td>\n",
       "      <td>7</td>\n",
       "      <td>gasoline</td>\n",
       "      <td>skoda</td>\n",
       "      <td>no</td>\n",
       "      <td>2016-03-31 00:00:00</td>\n",
       "      <td>0</td>\n",
       "      <td>60437</td>\n",
       "      <td>2016-04-06 10:17:21</td>\n",
       "    </tr>\n",
       "  </tbody>\n",
       "</table>\n",
       "</div>"
      ],
      "text/plain": [
       "           DateCrawled  Price VehicleType  RegistrationYear Gearbox  Power  \\\n",
       "0  2016-03-24 11:52:17    480         NaN              1993  manual      0   \n",
       "1  2016-03-24 10:58:45  18300       coupe              2011  manual    190   \n",
       "2  2016-03-14 12:52:21   9800         suv              2004    auto    163   \n",
       "3  2016-03-17 16:54:04   1500       small              2001  manual     75   \n",
       "4  2016-03-31 17:25:20   3600       small              2008  manual     69   \n",
       "\n",
       "   Model  Kilometer  RegistrationMonth  FuelType       Brand Repaired  \\\n",
       "0   golf     150000                  0    petrol  volkswagen      NaN   \n",
       "1    NaN     125000                  5  gasoline        audi      yes   \n",
       "2  grand     125000                  8  gasoline        jeep      NaN   \n",
       "3   golf     150000                  6    petrol  volkswagen       no   \n",
       "4  fabia      90000                  7  gasoline       skoda       no   \n",
       "\n",
       "           DateCreated  NumberOfPictures  PostalCode             LastSeen  \n",
       "0  2016-03-24 00:00:00                 0       70435  2016-04-07 03:16:57  \n",
       "1  2016-03-24 00:00:00                 0       66954  2016-04-07 01:46:50  \n",
       "2  2016-03-14 00:00:00                 0       90480  2016-04-05 12:47:46  \n",
       "3  2016-03-17 00:00:00                 0       91074  2016-03-17 17:40:17  \n",
       "4  2016-03-31 00:00:00                 0       60437  2016-04-06 10:17:21  "
      ]
     },
     "execution_count": 3,
     "metadata": {},
     "output_type": "execute_result"
    }
   ],
   "source": [
    "data.head()"
   ]
  },
  {
   "cell_type": "code",
   "execution_count": 4,
   "id": "184c39c1",
   "metadata": {
    "scrolled": true
   },
   "outputs": [
    {
     "name": "stdout",
     "output_type": "stream",
     "text": [
      "<class 'pandas.core.frame.DataFrame'>\n",
      "RangeIndex: 354369 entries, 0 to 354368\n",
      "Data columns (total 16 columns):\n",
      " #   Column             Non-Null Count   Dtype \n",
      "---  ------             --------------   ----- \n",
      " 0   DateCrawled        354369 non-null  object\n",
      " 1   Price              354369 non-null  int64 \n",
      " 2   VehicleType        316879 non-null  object\n",
      " 3   RegistrationYear   354369 non-null  int64 \n",
      " 4   Gearbox            334536 non-null  object\n",
      " 5   Power              354369 non-null  int64 \n",
      " 6   Model              334664 non-null  object\n",
      " 7   Kilometer          354369 non-null  int64 \n",
      " 8   RegistrationMonth  354369 non-null  int64 \n",
      " 9   FuelType           321474 non-null  object\n",
      " 10  Brand              354369 non-null  object\n",
      " 11  Repaired           283215 non-null  object\n",
      " 12  DateCreated        354369 non-null  object\n",
      " 13  NumberOfPictures   354369 non-null  int64 \n",
      " 14  PostalCode         354369 non-null  int64 \n",
      " 15  LastSeen           354369 non-null  object\n",
      "dtypes: int64(7), object(9)\n",
      "memory usage: 43.3+ MB\n"
     ]
    }
   ],
   "source": [
    "data.info()"
   ]
  },
  {
   "cell_type": "markdown",
   "id": "8bebeb6a",
   "metadata": {},
   "source": [
    "**Вывод**: из представленного видно, что в некоторых переменных следует провести замену типа данных. "
   ]
  },
  {
   "cell_type": "markdown",
   "id": "a72f4672",
   "metadata": {},
   "source": [
    "*DateCrawled, DateCreated и LastSeen* необходимо заменить на тип datetime. "
   ]
  },
  {
   "cell_type": "code",
   "execution_count": 5,
   "id": "f0f84fcb",
   "metadata": {},
   "outputs": [],
   "source": [
    "data['DateCrawled'] = pd.to_datetime(\n",
    "    data['DateCrawled'], format='%Y-%m-%dT%H:%M:%S'\n",
    ")\n",
    "data['DateCreated'] = pd.to_datetime(\n",
    "    data['DateCreated'], format='%Y-%m-%dT%H:%M:%S'\n",
    ")\n",
    "data['LastSeen'] = pd.to_datetime(\n",
    "    data['LastSeen'], format='%Y-%m-%dT%H:%M:%S'\n",
    ")"
   ]
  },
  {
   "cell_type": "code",
   "execution_count": 6,
   "id": "4beebae4",
   "metadata": {
    "scrolled": true
   },
   "outputs": [
    {
     "data": {
      "text/html": [
       "<div>\n",
       "<style scoped>\n",
       "    .dataframe tbody tr th:only-of-type {\n",
       "        vertical-align: middle;\n",
       "    }\n",
       "\n",
       "    .dataframe tbody tr th {\n",
       "        vertical-align: top;\n",
       "    }\n",
       "\n",
       "    .dataframe thead th {\n",
       "        text-align: right;\n",
       "    }\n",
       "</style>\n",
       "<table border=\"1\" class=\"dataframe\">\n",
       "  <thead>\n",
       "    <tr style=\"text-align: right;\">\n",
       "      <th></th>\n",
       "      <th>Price</th>\n",
       "      <th>RegistrationYear</th>\n",
       "      <th>Power</th>\n",
       "      <th>Kilometer</th>\n",
       "      <th>RegistrationMonth</th>\n",
       "      <th>NumberOfPictures</th>\n",
       "      <th>PostalCode</th>\n",
       "    </tr>\n",
       "  </thead>\n",
       "  <tbody>\n",
       "    <tr>\n",
       "      <th>count</th>\n",
       "      <td>354369.000000</td>\n",
       "      <td>354369.000000</td>\n",
       "      <td>354369.000000</td>\n",
       "      <td>354369.000000</td>\n",
       "      <td>354369.000000</td>\n",
       "      <td>354369.0</td>\n",
       "      <td>354369.000000</td>\n",
       "    </tr>\n",
       "    <tr>\n",
       "      <th>mean</th>\n",
       "      <td>4416.656776</td>\n",
       "      <td>2004.234448</td>\n",
       "      <td>110.094337</td>\n",
       "      <td>128211.172535</td>\n",
       "      <td>5.714645</td>\n",
       "      <td>0.0</td>\n",
       "      <td>50508.689087</td>\n",
       "    </tr>\n",
       "    <tr>\n",
       "      <th>std</th>\n",
       "      <td>4514.158514</td>\n",
       "      <td>90.227958</td>\n",
       "      <td>189.850405</td>\n",
       "      <td>37905.341530</td>\n",
       "      <td>3.726421</td>\n",
       "      <td>0.0</td>\n",
       "      <td>25783.096248</td>\n",
       "    </tr>\n",
       "    <tr>\n",
       "      <th>min</th>\n",
       "      <td>0.000000</td>\n",
       "      <td>1000.000000</td>\n",
       "      <td>0.000000</td>\n",
       "      <td>5000.000000</td>\n",
       "      <td>0.000000</td>\n",
       "      <td>0.0</td>\n",
       "      <td>1067.000000</td>\n",
       "    </tr>\n",
       "    <tr>\n",
       "      <th>25%</th>\n",
       "      <td>1050.000000</td>\n",
       "      <td>1999.000000</td>\n",
       "      <td>69.000000</td>\n",
       "      <td>125000.000000</td>\n",
       "      <td>3.000000</td>\n",
       "      <td>0.0</td>\n",
       "      <td>30165.000000</td>\n",
       "    </tr>\n",
       "    <tr>\n",
       "      <th>50%</th>\n",
       "      <td>2700.000000</td>\n",
       "      <td>2003.000000</td>\n",
       "      <td>105.000000</td>\n",
       "      <td>150000.000000</td>\n",
       "      <td>6.000000</td>\n",
       "      <td>0.0</td>\n",
       "      <td>49413.000000</td>\n",
       "    </tr>\n",
       "    <tr>\n",
       "      <th>75%</th>\n",
       "      <td>6400.000000</td>\n",
       "      <td>2008.000000</td>\n",
       "      <td>143.000000</td>\n",
       "      <td>150000.000000</td>\n",
       "      <td>9.000000</td>\n",
       "      <td>0.0</td>\n",
       "      <td>71083.000000</td>\n",
       "    </tr>\n",
       "    <tr>\n",
       "      <th>max</th>\n",
       "      <td>20000.000000</td>\n",
       "      <td>9999.000000</td>\n",
       "      <td>20000.000000</td>\n",
       "      <td>150000.000000</td>\n",
       "      <td>12.000000</td>\n",
       "      <td>0.0</td>\n",
       "      <td>99998.000000</td>\n",
       "    </tr>\n",
       "  </tbody>\n",
       "</table>\n",
       "</div>"
      ],
      "text/plain": [
       "               Price  RegistrationYear          Power      Kilometer  \\\n",
       "count  354369.000000     354369.000000  354369.000000  354369.000000   \n",
       "mean     4416.656776       2004.234448     110.094337  128211.172535   \n",
       "std      4514.158514         90.227958     189.850405   37905.341530   \n",
       "min         0.000000       1000.000000       0.000000    5000.000000   \n",
       "25%      1050.000000       1999.000000      69.000000  125000.000000   \n",
       "50%      2700.000000       2003.000000     105.000000  150000.000000   \n",
       "75%      6400.000000       2008.000000     143.000000  150000.000000   \n",
       "max     20000.000000       9999.000000   20000.000000  150000.000000   \n",
       "\n",
       "       RegistrationMonth  NumberOfPictures     PostalCode  \n",
       "count      354369.000000          354369.0  354369.000000  \n",
       "mean            5.714645               0.0   50508.689087  \n",
       "std             3.726421               0.0   25783.096248  \n",
       "min             0.000000               0.0    1067.000000  \n",
       "25%             3.000000               0.0   30165.000000  \n",
       "50%             6.000000               0.0   49413.000000  \n",
       "75%             9.000000               0.0   71083.000000  \n",
       "max            12.000000               0.0   99998.000000  "
      ]
     },
     "execution_count": 6,
     "metadata": {},
     "output_type": "execute_result"
    }
   ],
   "source": [
    "data.describe()"
   ]
  },
  {
   "cell_type": "markdown",
   "id": "0a37d359",
   "metadata": {},
   "source": [
    "Проверим данные на дубликаты "
   ]
  },
  {
   "cell_type": "code",
   "execution_count": 7,
   "id": "215e4496",
   "metadata": {
    "scrolled": true
   },
   "outputs": [
    {
     "name": "stdout",
     "output_type": "stream",
     "text": [
      "4\n"
     ]
    }
   ],
   "source": [
    "print(data.duplicated().sum())"
   ]
  },
  {
   "cell_type": "markdown",
   "id": "7f5cf209",
   "metadata": {},
   "source": [
    "**Вывод**: в данных присутствует 4 дублированных значения, необходимо удалить подобные случаи. "
   ]
  },
  {
   "cell_type": "code",
   "execution_count": 8,
   "id": "083a0863",
   "metadata": {
    "scrolled": true
   },
   "outputs": [
    {
     "name": "stdout",
     "output_type": "stream",
     "text": [
      "0\n"
     ]
    }
   ],
   "source": [
    "#Удаляем дублирующиеся значения\n",
    "data = data.drop_duplicates()\n",
    "print(data.duplicated().sum())"
   ]
  },
  {
   "cell_type": "code",
   "execution_count": 9,
   "id": "8ff4caa5",
   "metadata": {
    "scrolled": false
   },
   "outputs": [
    {
     "name": "stdout",
     "output_type": "stream",
     "text": [
      "Пропуски в data DateCrawled              0\n",
      "Price                    0\n",
      "VehicleType          37490\n",
      "RegistrationYear         0\n",
      "Gearbox              19833\n",
      "Power                    0\n",
      "Model                19705\n",
      "Kilometer                0\n",
      "RegistrationMonth        0\n",
      "FuelType             32895\n",
      "Brand                    0\n",
      "Repaired             71154\n",
      "DateCreated              0\n",
      "NumberOfPictures         0\n",
      "PostalCode               0\n",
      "LastSeen                 0\n",
      "dtype: int64\n"
     ]
    }
   ],
   "source": [
    "print('Пропуски в data', data.isna().sum())"
   ]
  },
  {
   "cell_type": "markdown",
   "id": "05c4e8f1",
   "metadata": {},
   "source": [
    "**Вывод**: в данных присутствует большое количество пропусков в таких характеристиках как VehicleType, Gearbox, Model, FuelType и Repaired. "
   ]
  },
  {
   "cell_type": "markdown",
   "id": "166263eb",
   "metadata": {},
   "source": [
    "Изучим каждый из типов пропущенных значения. "
   ]
  },
  {
   "cell_type": "code",
   "execution_count": 10,
   "id": "8061e7b1",
   "metadata": {
    "scrolled": true
   },
   "outputs": [
    {
     "data": {
      "text/plain": [
       "Text(0, 0.5, 'Количество')"
      ]
     },
     "execution_count": 10,
     "metadata": {},
     "output_type": "execute_result"
    },
    {
     "data": {
      "image/png": "[encoded data removed]",
      "text/plain": [
       "<Figure size 640x480 with 1 Axes>"
      ]
     },
     "metadata": {},
     "output_type": "display_data"
    }
   ],
   "source": [
    "#Рассмотрим тип коробки передач\n",
    "data['Gearbox'].hist()\n",
    "plt.title('Коробка передач')\n",
    "plt.xlabel('Тип коробки')\n",
    "plt.ylabel('Количество')"
   ]
  },
  {
   "cell_type": "markdown",
   "id": "c3cd934b",
   "metadata": {},
   "source": [
    "Количество пропущенных значений по типу коробки передач составляет:"
   ]
  },
  {
   "cell_type": "code",
   "execution_count": 11,
   "id": "c33279a1",
   "metadata": {
    "scrolled": true
   },
   "outputs": [
    {
     "data": {
      "text/plain": [
       "19833"
      ]
     },
     "execution_count": 11,
     "metadata": {},
     "output_type": "execute_result"
    }
   ],
   "source": [
    "data['Gearbox'].isna().sum()"
   ]
  },
  {
   "cell_type": "markdown",
   "id": "01dfea66",
   "metadata": {},
   "source": [
    "Процентное соотношение пропущенных значений от общего числа "
   ]
  },
  {
   "cell_type": "code",
   "execution_count": 12,
   "id": "38b0e9de",
   "metadata": {
    "scrolled": true
   },
   "outputs": [
    {
     "data": {
      "text/plain": [
       "5.928580823359201"
      ]
     },
     "execution_count": 12,
     "metadata": {},
     "output_type": "execute_result"
    }
   ],
   "source": [
    "data['Gearbox'].isna().sum()/data['Gearbox'].count() * 100"
   ]
  },
  {
   "cell_type": "markdown",
   "id": "dbb6c154",
   "metadata": {},
   "source": [
    "**Вывод**: пропущенных значений по типу коробки передач в наших данных - порядка 6 процентов. Заменим пропущенные значения на unknown для дальшейшей возможности построения модели.  "
   ]
  },
  {
   "cell_type": "code",
   "execution_count": 13,
   "id": "5f8eaafa",
   "metadata": {},
   "outputs": [
    {
     "data": {
      "text/plain": [
       "Text(0, 0.5, 'Количество')"
      ]
     },
     "execution_count": 13,
     "metadata": {},
     "output_type": "execute_result"
    },
    {
     "data": {
      "image/png": "[encoded data removed]",
      "text/plain": [
       "<Figure size 640x480 with 1 Axes>"
      ]
     },
     "metadata": {},
     "output_type": "display_data"
    }
   ],
   "source": [
    "#Заменим пропущеные значения по типу коробки передач на тип unknown\n",
    "data['Gearbox'] = data['Gearbox'].fillna('unknown')\n",
    "data['Gearbox'].hist()\n",
    "plt.title('Коробка передач')\n",
    "plt.xlabel('Тип коробки')\n",
    "plt.ylabel('Количество')"
   ]
  },
  {
   "cell_type": "markdown",
   "id": "6ea332a9",
   "metadata": {},
   "source": [
    "Рассмотрим теперь тип моделей. "
   ]
  },
  {
   "cell_type": "code",
   "execution_count": 14,
   "id": "8c893c66",
   "metadata": {
    "scrolled": false
   },
   "outputs": [
    {
     "data": {
      "text/plain": [
       "array(['golf', nan, 'grand', 'fabia', '3er', '2_reihe', 'other', 'c_max',\n",
       "       '3_reihe', 'passat', 'navara', 'ka', 'polo', 'twingo', 'a_klasse',\n",
       "       'scirocco', '5er', 'meriva', 'arosa', 'c4', 'civic', 'transporter',\n",
       "       'punto', 'e_klasse', 'clio', 'kadett', 'kangoo', 'corsa', 'one',\n",
       "       'fortwo', '1er', 'b_klasse', 'signum', 'astra', 'a8', 'jetta',\n",
       "       'fiesta', 'c_klasse', 'micra', 'vito', 'sprinter', '156', 'escort',\n",
       "       'forester', 'xc_reihe', 'scenic', 'a4', 'a1', 'insignia', 'combo',\n",
       "       'focus', 'tt', 'a6', 'jazz', 'omega', 'slk', '7er', '80', '147',\n",
       "       '100', 'z_reihe', 'sportage', 'sorento', 'v40', 'ibiza', 'mustang',\n",
       "       'eos', 'touran', 'getz', 'a3', 'almera', 'megane', 'lupo', 'r19',\n",
       "       'zafira', 'caddy', 'mondeo', 'cordoba', 'colt', 'impreza',\n",
       "       'vectra', 'berlingo', 'tiguan', 'i_reihe', 'espace', 'sharan',\n",
       "       '6_reihe', 'panda', 'up', 'seicento', 'ceed', '5_reihe', 'yeti',\n",
       "       'octavia', 'mii', 'rx_reihe', '6er', 'modus', 'fox', 'matiz',\n",
       "       'beetle', 'c1', 'rio', 'touareg', 'logan', 'spider', 'cuore',\n",
       "       's_max', 'a2', 'galaxy', 'c3', 'viano', 's_klasse', '1_reihe',\n",
       "       'avensis', 'roomster', 'sl', 'kaefer', 'santa', 'cooper', 'leon',\n",
       "       '4_reihe', 'a5', '500', 'laguna', 'ptcruiser', 'clk', 'primera',\n",
       "       'x_reihe', 'exeo', '159', 'transit', 'juke', 'qashqai', 'carisma',\n",
       "       'accord', 'corolla', 'lanos', 'phaeton', 'verso', 'swift', 'rav',\n",
       "       'picanto', 'boxster', 'kalos', 'superb', 'stilo', 'alhambra',\n",
       "       'mx_reihe', 'roadster', 'ypsilon', 'cayenne', 'galant', 'justy',\n",
       "       '90', 'sirion', 'crossfire', 'agila', 'duster', 'cr_reihe', 'v50',\n",
       "       'c_reihe', 'v_klasse', 'm_klasse', 'yaris', 'c5', 'aygo', 'cc',\n",
       "       'carnival', 'fusion', '911', 'bora', 'forfour', 'm_reihe', 'cl',\n",
       "       'tigra', '300c', 'spark', 'v70', 'kuga', 'x_type', 'ducato',\n",
       "       's_type', 'x_trail', 'toledo', 'altea', 'voyager', 'calibra',\n",
       "       'bravo', 'antara', 'tucson', 'citigo', 'jimny', 'wrangler',\n",
       "       'lybra', 'q7', 'lancer', 'captiva', 'c2', 'discovery',\n",
       "       'freelander', 'sandero', 'note', '900', 'cherokee', 'clubman',\n",
       "       'samara', 'defender', '601', 'cx_reihe', 'legacy', 'pajero',\n",
       "       'auris', 'niva', 's60', 'nubira', 'vivaro', 'g_klasse', 'lodgy',\n",
       "       '850', 'range_rover', 'q3', 'serie_2', 'glk', 'charade', 'croma',\n",
       "       'outlander', 'doblo', 'musa', 'move', '9000', 'v60', '145', 'aveo',\n",
       "       '200', 'b_max', 'range_rover_sport', 'terios', 'rangerover', 'q5',\n",
       "       'range_rover_evoque', 'materia', 'delta', 'gl', 'kalina', 'amarok',\n",
       "       'elefantino', 'i3', 'kappa', 'serie_3', 'serie_1'], dtype=object)"
      ]
     },
     "execution_count": 14,
     "metadata": {},
     "output_type": "execute_result"
    }
   ],
   "source": [
    "data['Model'].unique()\n"
   ]
  },
  {
   "cell_type": "markdown",
   "id": "4449297d",
   "metadata": {},
   "source": [
    "Поступим таким же образом, заменим пропущенные значения моделей на метку unknown"
   ]
  },
  {
   "cell_type": "code",
   "execution_count": 15,
   "id": "078dec61",
   "metadata": {},
   "outputs": [],
   "source": [
    "data['Model'] = data['Model'].fillna('unknown')"
   ]
  },
  {
   "cell_type": "code",
   "execution_count": 16,
   "id": "24fafa3c",
   "metadata": {},
   "outputs": [
    {
     "data": {
      "text/plain": [
       "0"
      ]
     },
     "execution_count": 16,
     "metadata": {},
     "output_type": "execute_result"
    }
   ],
   "source": [
    "data['Model'].isna().sum()"
   ]
  },
  {
   "cell_type": "markdown",
   "id": "5353dce0",
   "metadata": {},
   "source": [
    "Характеристика VehicleType."
   ]
  },
  {
   "cell_type": "code",
   "execution_count": 17,
   "id": "d1c6096d",
   "metadata": {
    "scrolled": true
   },
   "outputs": [
    {
     "data": {
      "text/plain": [
       "Text(0, 0.5, 'Количество')"
      ]
     },
     "execution_count": 17,
     "metadata": {},
     "output_type": "execute_result"
    },
    {
     "data": {
      "image/png": "[encoded data removed]",
      "text/plain": [
       "<Figure size 640x480 with 1 Axes>"
      ]
     },
     "metadata": {},
     "output_type": "display_data"
    }
   ],
   "source": [
    "data['VehicleType'].hist()\n",
    "plt.title('Распределение типов кузовов')\n",
    "plt.xlabel('Тип кузова')\n",
    "plt.ylabel('Количество')"
   ]
  },
  {
   "cell_type": "markdown",
   "id": "4e16e0cd",
   "metadata": {},
   "source": [
    "Пропущенных значений по признаку VehicleType значительное количество - 37490. Удалить их из выборки, мы не можем, поэтому поместим неизвестные значения в столбец other."
   ]
  },
  {
   "cell_type": "code",
   "execution_count": 18,
   "id": "543cf52e",
   "metadata": {},
   "outputs": [],
   "source": [
    "data['VehicleType'] = data['VehicleType'].fillna('other')"
   ]
  },
  {
   "cell_type": "markdown",
   "id": "b1cbe4cc",
   "metadata": {},
   "source": [
    "Рассмотрим теперь типы топлива."
   ]
  },
  {
   "cell_type": "code",
   "execution_count": 19,
   "id": "430d5f9a",
   "metadata": {
    "scrolled": false
   },
   "outputs": [
    {
     "data": {
      "text/plain": [
       "Text(0, 0.5, 'Количество')"
      ]
     },
     "execution_count": 19,
     "metadata": {},
     "output_type": "execute_result"
    },
    {
     "data": {
      "image/png": "[encoded data removed]",
      "text/plain": [
       "<Figure size 640x480 with 1 Axes>"
      ]
     },
     "metadata": {},
     "output_type": "display_data"
    }
   ],
   "source": [
    "data['FuelType'].hist()\n",
    "plt.title('Распределение  по типам топлива')\n",
    "plt.xlabel('Тип топлива')\n",
    "plt.ylabel('Количество')"
   ]
  },
  {
   "cell_type": "markdown",
   "id": "9daaddde",
   "metadata": {},
   "source": [
    "Можно заметить, что petrol и gasoline - английский и американский термины для бензина. Логичным будет объединение этих типов в один. "
   ]
  },
  {
   "cell_type": "code",
   "execution_count": 20,
   "id": "cd9c6822",
   "metadata": {},
   "outputs": [],
   "source": [
    "data['FuelType'] = data['FuelType'].str.replace('gasoline','petrol')"
   ]
  },
  {
   "cell_type": "markdown",
   "id": "36a7ae43",
   "metadata": {},
   "source": [
    "Пропущенные значения в этом случае также можно поместить в столбец other."
   ]
  },
  {
   "cell_type": "code",
   "execution_count": 21,
   "id": "9dc39dd7",
   "metadata": {},
   "outputs": [],
   "source": [
    "data['FuelType']=data['FuelType'].fillna('other')"
   ]
  },
  {
   "cell_type": "markdown",
   "id": "0ddf8906",
   "metadata": {},
   "source": [
    "И последний из пропущенных параметров - наличие ремонта. "
   ]
  },
  {
   "cell_type": "code",
   "execution_count": 22,
   "id": "da1a2b28",
   "metadata": {
    "scrolled": true
   },
   "outputs": [
    {
     "data": {
      "text/plain": [
       "Text(0, 0.5, 'Количество')"
      ]
     },
     "execution_count": 22,
     "metadata": {},
     "output_type": "execute_result"
    },
    {
     "data": {
      "image/png": "[encoded data removed]",
      "text/plain": [
       "<Figure size 640x480 with 1 Axes>"
      ]
     },
     "metadata": {},
     "output_type": "display_data"
    }
   ],
   "source": [
    "data['Repaired'].hist()\n",
    "plt.title('Распределение по количеству отремонтированных')\n",
    "plt.xlabel('Наличие ремонта')\n",
    "plt.ylabel('Количество')"
   ]
  },
  {
   "cell_type": "markdown",
   "id": "16b70859",
   "metadata": {},
   "source": [
    "Поскольку этот параметр, также представляет важность, а востановить данные не получается возможным - укажем это напрямую, с помощью маркера N/A."
   ]
  },
  {
   "cell_type": "code",
   "execution_count": 23,
   "id": "b550b738",
   "metadata": {},
   "outputs": [],
   "source": [
    "data['Repaired']=data['Repaired'].fillna('N/A')"
   ]
  },
  {
   "cell_type": "code",
   "execution_count": 24,
   "id": "f26f2297",
   "metadata": {
    "scrolled": true
   },
   "outputs": [
    {
     "name": "stdout",
     "output_type": "stream",
     "text": [
      "Пропуски в data DateCrawled          0\n",
      "Price                0\n",
      "VehicleType          0\n",
      "RegistrationYear     0\n",
      "Gearbox              0\n",
      "Power                0\n",
      "Model                0\n",
      "Kilometer            0\n",
      "RegistrationMonth    0\n",
      "FuelType             0\n",
      "Brand                0\n",
      "Repaired             0\n",
      "DateCreated          0\n",
      "NumberOfPictures     0\n",
      "PostalCode           0\n",
      "LastSeen             0\n",
      "dtype: int64\n"
     ]
    }
   ],
   "source": [
    "print('Пропуски в data', data.isna().sum())"
   ]
  },
  {
   "cell_type": "markdown",
   "id": "f805302d",
   "metadata": {},
   "source": [
    "**Вывод**: при предварительном изучении данных было обнаружено, что у части данных, которые отвечают за временные величины, будет оптимально сменить имеющиеся типы данных на datetime. Обнаруженные дублированные значения были удалены, а пропущенные значения обработаны. Для характеристик Gearbox и Model отсутсвующие данные были удалены. Для других таких параметров подобная же процедура удалила бы значительный процент имеющихся данных, поэтому пропущенные значения были  заменены либо на тип other, либо на N/A. "
   ]
  },
  {
   "cell_type": "markdown",
   "id": "7c472602",
   "metadata": {},
   "source": [
    "Построим гистограммы для целочисленных переменных. "
   ]
  },
  {
   "cell_type": "markdown",
   "id": "6afac9d2",
   "metadata": {},
   "source": [
    "**Цена**"
   ]
  },
  {
   "cell_type": "code",
   "execution_count": 25,
   "id": "8d807eba",
   "metadata": {
    "scrolled": true
   },
   "outputs": [
    {
     "data": {
      "text/plain": [
       "Text(0, 0.5, 'Frequency')"
      ]
     },
     "execution_count": 25,
     "metadata": {},
     "output_type": "execute_result"
    },
    {
     "data": {
      "image/png": "[encoded data removed]",
      "text/plain": [
       "<Figure size 640x480 with 1 Axes>"
      ]
     },
     "metadata": {},
     "output_type": "display_data"
    }
   ],
   "source": [
    "data['Price'].plot.hist(bins = 100, alpha=0.7, edgecolor='black')\n",
    "plt.title(f'Histogram of Price', fontsize=8)\n",
    "plt.xlabel('Value', fontsize=5)\n",
    "plt.ylabel('Frequency', fontsize=7)"
   ]
  },
  {
   "cell_type": "code",
   "execution_count": 26,
   "id": "b309247b",
   "metadata": {},
   "outputs": [
    {
     "data": {
      "text/plain": [
       "<AxesSubplot:>"
      ]
     },
     "execution_count": 26,
     "metadata": {},
     "output_type": "execute_result"
    },
    {
     "data": {
      "image/png": "[encoded data removed]",
      "text/plain": [
       "<Figure size 640x480 with 1 Axes>"
      ]
     },
     "metadata": {},
     "output_type": "display_data"
    }
   ],
   "source": [
    "data.boxplot(column = 'Price')"
   ]
  },
  {
   "cell_type": "code",
   "execution_count": 27,
   "id": "2b42841c",
   "metadata": {},
   "outputs": [
    {
     "data": {
      "text/plain": [
       "7           0\n",
       "51          1\n",
       "459         2\n",
       "354         3\n",
       "1999        4\n",
       "        ...  \n",
       "615     19995\n",
       "1901    19997\n",
       "2159    19998\n",
       "564     19999\n",
       "442     20000\n",
       "Length: 3731, dtype: int64"
      ]
     },
     "execution_count": 27,
     "metadata": {},
     "output_type": "execute_result"
    }
   ],
   "source": [
    "pd.Series(data['Price'].unique()).sort_values(ascending=True)\n"
   ]
  },
  {
   "cell_type": "markdown",
   "id": "ff0a3a54",
   "metadata": {},
   "source": [
    "**Вывод**: часть значений достаточно мала, для того чтобы представлять собой цену автомобиля. Удалим значения меньше 50 евро. "
   ]
  },
  {
   "cell_type": "code",
   "execution_count": 28,
   "id": "dde33e82",
   "metadata": {},
   "outputs": [],
   "source": [
    "data = data.query('Price> 50')"
   ]
  },
  {
   "cell_type": "markdown",
   "id": "1fbeba34",
   "metadata": {},
   "source": [
    "**Год регистрации**"
   ]
  },
  {
   "cell_type": "code",
   "execution_count": 29,
   "id": "4c3f1703",
   "metadata": {
    "scrolled": true
   },
   "outputs": [
    {
     "data": {
      "text/plain": [
       "Text(0, 0.5, 'Frequency')"
      ]
     },
     "execution_count": 29,
     "metadata": {},
     "output_type": "execute_result"
    },
    {
     "data": {
      "image/png": "[encoded data removed]",
      "text/plain": [
       "<Figure size 640x480 with 1 Axes>"
      ]
     },
     "metadata": {},
     "output_type": "display_data"
    }
   ],
   "source": [
    "data['RegistrationYear'].hist()\n",
    "plt.title(f'Histogram of Registration Year', fontsize=8)\n",
    "plt.xlabel('Value', fontsize=5)\n",
    "plt.ylabel('Frequency', fontsize=7)"
   ]
  },
  {
   "cell_type": "code",
   "execution_count": 30,
   "id": "1aa971f0",
   "metadata": {
    "scrolled": true
   },
   "outputs": [
    {
     "data": {
      "text/plain": [
       "<AxesSubplot:>"
      ]
     },
     "execution_count": 30,
     "metadata": {},
     "output_type": "execute_result"
    },
    {
     "data": {
      "image/png": "[encoded data removed]",
      "text/plain": [
       "<Figure size 640x480 with 1 Axes>"
      ]
     },
     "metadata": {},
     "output_type": "display_data"
    }
   ],
   "source": [
    "data.boxplot(column='RegistrationYear')\n"
   ]
  },
  {
   "cell_type": "code",
   "execution_count": 31,
   "id": "ef20dbb1",
   "metadata": {},
   "outputs": [
    {
     "data": {
      "text/plain": [
       "(1975.0, 2020.0)"
      ]
     },
     "execution_count": 31,
     "metadata": {},
     "output_type": "execute_result"
    },
    {
     "data": {
      "image/png": "[encoded data removed]",
      "text/plain": [
       "<Figure size 640x480 with 1 Axes>"
      ]
     },
     "metadata": {},
     "output_type": "display_data"
    }
   ],
   "source": [
    "data.boxplot(column='RegistrationYear').set_ylim([1975, 2020])"
   ]
  },
  {
   "cell_type": "markdown",
   "id": "bada8678",
   "metadata": {},
   "source": [
    "**Вывод**: в годе регистрации наблюдаются аномально высокие и аномально низкие значения. Выберем из представленных только осмысленный промежуток 1975 - 2020"
   ]
  },
  {
   "cell_type": "code",
   "execution_count": 32,
   "id": "a581b2f4",
   "metadata": {},
   "outputs": [],
   "source": [
    "data = data.query('RegistrationYear > 1975')\n",
    "data = data.query('RegistrationYear <= 2016')"
   ]
  },
  {
   "cell_type": "markdown",
   "id": "3311b1c2",
   "metadata": {},
   "source": [
    "**Power**"
   ]
  },
  {
   "cell_type": "code",
   "execution_count": 33,
   "id": "00e365df",
   "metadata": {
    "scrolled": true
   },
   "outputs": [
    {
     "data": {
      "text/plain": [
       "<AxesSubplot:>"
      ]
     },
     "execution_count": 33,
     "metadata": {},
     "output_type": "execute_result"
    },
    {
     "data": {
      "image/png": "[encoded data removed]",
      "text/plain": [
       "<Figure size 640x480 with 1 Axes>"
      ]
     },
     "metadata": {},
     "output_type": "display_data"
    }
   ],
   "source": [
    "data.boxplot(column='Power')"
   ]
  },
  {
   "cell_type": "code",
   "execution_count": 34,
   "id": "dda6182f",
   "metadata": {
    "scrolled": true
   },
   "outputs": [
    {
     "data": {
      "text/plain": [
       "(0.0, 500.0)"
      ]
     },
     "execution_count": 34,
     "metadata": {},
     "output_type": "execute_result"
    },
    {
     "data": {
      "image/png": "[encoded data removed]",
      "text/plain": [
       "<Figure size 640x480 with 1 Axes>"
      ]
     },
     "metadata": {},
     "output_type": "display_data"
    }
   ],
   "source": [
    "data.boxplot(column='Power').set_ylim([0, 500])"
   ]
  },
  {
   "cell_type": "markdown",
   "id": "0b6590a1",
   "metadata": {},
   "source": [
    "**Вывод**: в характеристиках **Power** также достаточно много значений, выбивающихся за межквартильный размах и имеющих физические не осмысленные значения. "
   ]
  },
  {
   "cell_type": "code",
   "execution_count": 35,
   "id": "12ff31de",
   "metadata": {},
   "outputs": [],
   "source": [
    "data = data.query('Power > 15')\n",
    "data = data.query('Power < 1600')"
   ]
  },
  {
   "cell_type": "markdown",
   "id": "af1dc40d",
   "metadata": {},
   "source": [
    "**Number of Pictures**"
   ]
  },
  {
   "cell_type": "code",
   "execution_count": 36,
   "id": "7183db00",
   "metadata": {},
   "outputs": [
    {
     "data": {
      "text/plain": [
       "<AxesSubplot:>"
      ]
     },
     "execution_count": 36,
     "metadata": {},
     "output_type": "execute_result"
    },
    {
     "data": {
      "image/png": "[encoded data removed]",
      "text/plain": [
       "<Figure size 640x480 with 1 Axes>"
      ]
     },
     "metadata": {},
     "output_type": "display_data"
    }
   ],
   "source": [
    "data.boxplot(column='NumberOfPictures')"
   ]
  },
  {
   "cell_type": "code",
   "execution_count": 37,
   "id": "7d53b300",
   "metadata": {
    "scrolled": true
   },
   "outputs": [
    {
     "data": {
      "text/plain": [
       "(0.0, 1.0)"
      ]
     },
     "execution_count": 37,
     "metadata": {},
     "output_type": "execute_result"
    },
    {
     "data": {
      "image/png": "[encoded data removed]",
      "text/plain": [
       "<Figure size 640x480 with 1 Axes>"
      ]
     },
     "metadata": {},
     "output_type": "display_data"
    }
   ],
   "source": [
    "data.boxplot(column='NumberOfPictures').set_ylim([0, 1])"
   ]
  },
  {
   "cell_type": "markdown",
   "id": "80f5555e",
   "metadata": {},
   "source": [
    "**Вывод**: все значения NumberOfPictures равны 0 и не несут информативной нагрузки, необходимой для нашей модели. "
   ]
  },
  {
   "cell_type": "code",
   "execution_count": 38,
   "id": "238e64e3",
   "metadata": {},
   "outputs": [],
   "source": [
    "data=data.drop(['NumberOfPictures'], axis=1)"
   ]
  },
  {
   "cell_type": "markdown",
   "id": "fd11f786",
   "metadata": {},
   "source": [
    "**Kilometer**"
   ]
  },
  {
   "cell_type": "code",
   "execution_count": 39,
   "id": "a3a3fae7",
   "metadata": {},
   "outputs": [
    {
     "data": {
      "text/plain": [
       "Text(0, 0.5, 'частота')"
      ]
     },
     "execution_count": 39,
     "metadata": {},
     "output_type": "execute_result"
    },
    {
     "data": {
      "image/png": "[encoded data removed]",
      "text/plain": [
       "<Figure size 640x480 with 1 Axes>"
      ]
     },
     "metadata": {},
     "output_type": "display_data"
    }
   ],
   "source": [
    "data['Kilometer'].hist()\n",
    "plt.title(f'Пробег', fontsize=8)\n",
    "plt.xlabel('км', fontsize=5)\n",
    "plt.ylabel('частота', fontsize=7)"
   ]
  },
  {
   "cell_type": "code",
   "execution_count": 40,
   "id": "19d42a3a",
   "metadata": {},
   "outputs": [
    {
     "data": {
      "text/plain": [
       "count    294052.000000\n",
       "mean     128538.523799\n",
       "std       36496.968802\n",
       "min        5000.000000\n",
       "25%      125000.000000\n",
       "50%      150000.000000\n",
       "75%      150000.000000\n",
       "max      150000.000000\n",
       "Name: Kilometer, dtype: float64"
      ]
     },
     "execution_count": 40,
     "metadata": {},
     "output_type": "execute_result"
    }
   ],
   "source": [
    "data['Kilometer'].describe()"
   ]
  },
  {
   "cell_type": "code",
   "execution_count": 41,
   "id": "de2c8056",
   "metadata": {
    "scrolled": true
   },
   "outputs": [
    {
     "data": {
      "text/plain": [
       "<AxesSubplot:>"
      ]
     },
     "execution_count": 41,
     "metadata": {},
     "output_type": "execute_result"
    },
    {
     "data": {
      "image/png": "[encoded data removed]",
      "text/plain": [
       "<Figure size 640x480 with 1 Axes>"
      ]
     },
     "metadata": {},
     "output_type": "display_data"
    }
   ],
   "source": [
    "data.boxplot(column='Kilometer')"
   ]
  },
  {
   "cell_type": "code",
   "execution_count": 42,
   "id": "c44aeb75",
   "metadata": {},
   "outputs": [
    {
     "data": {
      "text/plain": [
       "array([125000, 150000,  90000,  30000,  70000, 100000,  60000,   5000,\n",
       "        20000,  80000,  50000,  40000,  10000], dtype=int64)"
      ]
     },
     "execution_count": 42,
     "metadata": {},
     "output_type": "execute_result"
    }
   ],
   "source": [
    "data['Kilometer'].unique()"
   ]
  },
  {
   "cell_type": "markdown",
   "id": "ec3bfc6a",
   "metadata": {},
   "source": [
    "**Вывод**: особых аномалий в значении пробегов не обнаружено. Но отметим, что этот признак принимает всего 13 значений, а значит его можно воспринимать, как категориальный. "
   ]
  },
  {
   "cell_type": "markdown",
   "id": "67c7c87d",
   "metadata": {},
   "source": [
    "Определим возможные корреляции между признаками. "
   ]
  },
  {
   "cell_type": "code",
   "execution_count": 43,
   "id": "bc46a99f",
   "metadata": {
    "scrolled": true
   },
   "outputs": [
    {
     "data": {
      "text/html": [
       "<div>\n",
       "<style scoped>\n",
       "    .dataframe tbody tr th:only-of-type {\n",
       "        vertical-align: middle;\n",
       "    }\n",
       "\n",
       "    .dataframe tbody tr th {\n",
       "        vertical-align: top;\n",
       "    }\n",
       "\n",
       "    .dataframe thead th {\n",
       "        text-align: right;\n",
       "    }\n",
       "</style>\n",
       "<table border=\"1\" class=\"dataframe\">\n",
       "  <thead>\n",
       "    <tr style=\"text-align: right;\">\n",
       "      <th></th>\n",
       "      <th>Price</th>\n",
       "      <th>RegistrationYear</th>\n",
       "      <th>Power</th>\n",
       "      <th>Kilometer</th>\n",
       "      <th>RegistrationMonth</th>\n",
       "      <th>PostalCode</th>\n",
       "    </tr>\n",
       "  </thead>\n",
       "  <tbody>\n",
       "    <tr>\n",
       "      <th>Price</th>\n",
       "      <td>1.000000</td>\n",
       "      <td>0.552465</td>\n",
       "      <td>0.464095</td>\n",
       "      <td>-0.389078</td>\n",
       "      <td>0.069212</td>\n",
       "      <td>0.064165</td>\n",
       "    </tr>\n",
       "    <tr>\n",
       "      <th>RegistrationYear</th>\n",
       "      <td>0.552465</td>\n",
       "      <td>1.000000</td>\n",
       "      <td>0.122025</td>\n",
       "      <td>-0.351727</td>\n",
       "      <td>0.042482</td>\n",
       "      <td>0.032038</td>\n",
       "    </tr>\n",
       "    <tr>\n",
       "      <th>Power</th>\n",
       "      <td>0.464095</td>\n",
       "      <td>0.122025</td>\n",
       "      <td>1.000000</td>\n",
       "      <td>0.090838</td>\n",
       "      <td>0.036302</td>\n",
       "      <td>0.047316</td>\n",
       "    </tr>\n",
       "    <tr>\n",
       "      <th>Kilometer</th>\n",
       "      <td>-0.389078</td>\n",
       "      <td>-0.351727</td>\n",
       "      <td>0.090838</td>\n",
       "      <td>1.000000</td>\n",
       "      <td>-0.017044</td>\n",
       "      <td>-0.010354</td>\n",
       "    </tr>\n",
       "    <tr>\n",
       "      <th>RegistrationMonth</th>\n",
       "      <td>0.069212</td>\n",
       "      <td>0.042482</td>\n",
       "      <td>0.036302</td>\n",
       "      <td>-0.017044</td>\n",
       "      <td>1.000000</td>\n",
       "      <td>0.002197</td>\n",
       "    </tr>\n",
       "    <tr>\n",
       "      <th>PostalCode</th>\n",
       "      <td>0.064165</td>\n",
       "      <td>0.032038</td>\n",
       "      <td>0.047316</td>\n",
       "      <td>-0.010354</td>\n",
       "      <td>0.002197</td>\n",
       "      <td>1.000000</td>\n",
       "    </tr>\n",
       "  </tbody>\n",
       "</table>\n",
       "</div>"
      ],
      "text/plain": [
       "                      Price  RegistrationYear     Power  Kilometer  \\\n",
       "Price              1.000000          0.552465  0.464095  -0.389078   \n",
       "RegistrationYear   0.552465          1.000000  0.122025  -0.351727   \n",
       "Power              0.464095          0.122025  1.000000   0.090838   \n",
       "Kilometer         -0.389078         -0.351727  0.090838   1.000000   \n",
       "RegistrationMonth  0.069212          0.042482  0.036302  -0.017044   \n",
       "PostalCode         0.064165          0.032038  0.047316  -0.010354   \n",
       "\n",
       "                   RegistrationMonth  PostalCode  \n",
       "Price                       0.069212    0.064165  \n",
       "RegistrationYear            0.042482    0.032038  \n",
       "Power                       0.036302    0.047316  \n",
       "Kilometer                  -0.017044   -0.010354  \n",
       "RegistrationMonth           1.000000    0.002197  \n",
       "PostalCode                  0.002197    1.000000  "
      ]
     },
     "execution_count": 43,
     "metadata": {},
     "output_type": "execute_result"
    }
   ],
   "source": [
    "data.corr()"
   ]
  },
  {
   "cell_type": "markdown",
   "id": "a872515d",
   "metadata": {},
   "source": [
    "**Вывод**: Заметной корреляции между численными признаками не выявлено."
   ]
  },
  {
   "cell_type": "markdown",
   "id": "fb10420e",
   "metadata": {},
   "source": [
    "**Вывод**: целочисленные значения были проанализированы и обработаны. Убраны аномальные и не имеющие смысла значения. Таким образом, предобработанные данные могут далее обрабатываться для построения модели обучения. "
   ]
  },
  {
   "cell_type": "markdown",
   "id": "d8d90938",
   "metadata": {},
   "source": [
    "# 2. Подготовка модели обучения"
   ]
  },
  {
   "cell_type": "markdown",
   "id": "c0443bd9",
   "metadata": {},
   "source": [
    "Для дальнейшего обучения модели требуется сформировать тренировочную и тестовую выборки, а также закодировать категориальные значения. "
   ]
  },
  {
   "cell_type": "code",
   "execution_count": 44,
   "id": "6884a3b9",
   "metadata": {
    "scrolled": false
   },
   "outputs": [
    {
     "name": "stdout",
     "output_type": "stream",
     "text": [
      "<class 'pandas.core.frame.DataFrame'>\n",
      "Int64Index: 294052 entries, 1 to 354368\n",
      "Data columns (total 15 columns):\n",
      " #   Column             Non-Null Count   Dtype         \n",
      "---  ------             --------------   -----         \n",
      " 0   DateCrawled        294052 non-null  datetime64[ns]\n",
      " 1   Price              294052 non-null  int64         \n",
      " 2   VehicleType        294052 non-null  object        \n",
      " 3   RegistrationYear   294052 non-null  int64         \n",
      " 4   Gearbox            294052 non-null  object        \n",
      " 5   Power              294052 non-null  int64         \n",
      " 6   Model              294052 non-null  object        \n",
      " 7   Kilometer          294052 non-null  int64         \n",
      " 8   RegistrationMonth  294052 non-null  int64         \n",
      " 9   FuelType           294052 non-null  object        \n",
      " 10  Brand              294052 non-null  object        \n",
      " 11  Repaired           294052 non-null  object        \n",
      " 12  DateCreated        294052 non-null  datetime64[ns]\n",
      " 13  PostalCode         294052 non-null  int64         \n",
      " 14  LastSeen           294052 non-null  datetime64[ns]\n",
      "dtypes: datetime64[ns](3), int64(6), object(6)\n",
      "memory usage: 35.9+ MB\n"
     ]
    }
   ],
   "source": [
    "data.info()"
   ]
  },
  {
   "cell_type": "markdown",
   "id": "5d79a8d3",
   "metadata": {},
   "source": [
    "Отберем только значения, которые могут влиять на ценообразование. "
   ]
  },
  {
   "cell_type": "code",
   "execution_count": 45,
   "id": "95502ac1",
   "metadata": {},
   "outputs": [],
   "source": [
    "data = data.drop(['DateCrawled', 'DateCreated', 'LastSeen', 'PostalCode', 'RegistrationMonth'], axis = 1)\n",
    "data=data.reset_index(drop=True)"
   ]
  },
  {
   "cell_type": "markdown",
   "id": "efd2b6b8",
   "metadata": {},
   "source": [
    "Отберем только категориальные значения. "
   ]
  },
  {
   "cell_type": "code",
   "execution_count": 46,
   "id": "e3a00287",
   "metadata": {},
   "outputs": [],
   "source": [
    "category_columns=['VehicleType', 'Gearbox','Model',\n",
    "       'FuelType', 'Brand', 'Repaired']"
   ]
  },
  {
   "cell_type": "markdown",
   "id": "696ad5e3",
   "metadata": {},
   "source": [
    "Отделим целевой признак от остальных. "
   ]
  },
  {
   "cell_type": "code",
   "execution_count": 47,
   "id": "acb59a92",
   "metadata": {},
   "outputs": [],
   "source": [
    "features=data.drop(['Price'],axis=1)\n",
    "target=data['Price']"
   ]
  },
  {
   "cell_type": "code",
   "execution_count": 48,
   "id": "346b338a",
   "metadata": {},
   "outputs": [
    {
     "data": {
      "text/html": [
       "<div>\n",
       "<style scoped>\n",
       "    .dataframe tbody tr th:only-of-type {\n",
       "        vertical-align: middle;\n",
       "    }\n",
       "\n",
       "    .dataframe tbody tr th {\n",
       "        vertical-align: top;\n",
       "    }\n",
       "\n",
       "    .dataframe thead th {\n",
       "        text-align: right;\n",
       "    }\n",
       "</style>\n",
       "<table border=\"1\" class=\"dataframe\">\n",
       "  <thead>\n",
       "    <tr style=\"text-align: right;\">\n",
       "      <th></th>\n",
       "      <th>VehicleType</th>\n",
       "      <th>RegistrationYear</th>\n",
       "      <th>Gearbox</th>\n",
       "      <th>Power</th>\n",
       "      <th>Model</th>\n",
       "      <th>Kilometer</th>\n",
       "      <th>FuelType</th>\n",
       "      <th>Brand</th>\n",
       "      <th>Repaired</th>\n",
       "    </tr>\n",
       "  </thead>\n",
       "  <tbody>\n",
       "    <tr>\n",
       "      <th>0</th>\n",
       "      <td>coupe</td>\n",
       "      <td>2011</td>\n",
       "      <td>manual</td>\n",
       "      <td>190</td>\n",
       "      <td>unknown</td>\n",
       "      <td>125000</td>\n",
       "      <td>petrol</td>\n",
       "      <td>audi</td>\n",
       "      <td>yes</td>\n",
       "    </tr>\n",
       "    <tr>\n",
       "      <th>1</th>\n",
       "      <td>suv</td>\n",
       "      <td>2004</td>\n",
       "      <td>auto</td>\n",
       "      <td>163</td>\n",
       "      <td>grand</td>\n",
       "      <td>125000</td>\n",
       "      <td>petrol</td>\n",
       "      <td>jeep</td>\n",
       "      <td>N/A</td>\n",
       "    </tr>\n",
       "    <tr>\n",
       "      <th>2</th>\n",
       "      <td>small</td>\n",
       "      <td>2001</td>\n",
       "      <td>manual</td>\n",
       "      <td>75</td>\n",
       "      <td>golf</td>\n",
       "      <td>150000</td>\n",
       "      <td>petrol</td>\n",
       "      <td>volkswagen</td>\n",
       "      <td>no</td>\n",
       "    </tr>\n",
       "    <tr>\n",
       "      <th>3</th>\n",
       "      <td>small</td>\n",
       "      <td>2008</td>\n",
       "      <td>manual</td>\n",
       "      <td>69</td>\n",
       "      <td>fabia</td>\n",
       "      <td>90000</td>\n",
       "      <td>petrol</td>\n",
       "      <td>skoda</td>\n",
       "      <td>no</td>\n",
       "    </tr>\n",
       "    <tr>\n",
       "      <th>4</th>\n",
       "      <td>sedan</td>\n",
       "      <td>1995</td>\n",
       "      <td>manual</td>\n",
       "      <td>102</td>\n",
       "      <td>3er</td>\n",
       "      <td>150000</td>\n",
       "      <td>petrol</td>\n",
       "      <td>bmw</td>\n",
       "      <td>yes</td>\n",
       "    </tr>\n",
       "  </tbody>\n",
       "</table>\n",
       "</div>"
      ],
      "text/plain": [
       "  VehicleType  RegistrationYear Gearbox  Power    Model  Kilometer FuelType  \\\n",
       "0       coupe              2011  manual    190  unknown     125000   petrol   \n",
       "1         suv              2004    auto    163    grand     125000   petrol   \n",
       "2       small              2001  manual     75     golf     150000   petrol   \n",
       "3       small              2008  manual     69    fabia      90000   petrol   \n",
       "4       sedan              1995  manual    102      3er     150000   petrol   \n",
       "\n",
       "        Brand Repaired  \n",
       "0        audi      yes  \n",
       "1        jeep      N/A  \n",
       "2  volkswagen       no  \n",
       "3       skoda       no  \n",
       "4         bmw      yes  "
      ]
     },
     "execution_count": 48,
     "metadata": {},
     "output_type": "execute_result"
    }
   ],
   "source": [
    "features.head()"
   ]
  },
  {
   "cell_type": "markdown",
   "id": "2f01461d",
   "metadata": {},
   "source": [
    "Закодируем категориальные признаки."
   ]
  },
  {
   "cell_type": "code",
   "execution_count": 49,
   "id": "e83b25ed",
   "metadata": {
    "scrolled": true
   },
   "outputs": [],
   "source": [
    "encoder = OrdinalEncoder()\n",
    "encoder.fit(features[category_columns])\n",
    "features_ord=features.copy()\n",
    "features_ord[category_columns]= pd.DataFrame(encoder.transform(features[category_columns]), columns = features[category_columns].columns)"
   ]
  },
  {
   "cell_type": "code",
   "execution_count": 50,
   "id": "37a6a7e5",
   "metadata": {
    "scrolled": false
   },
   "outputs": [
    {
     "data": {
      "text/html": [
       "<div>\n",
       "<style scoped>\n",
       "    .dataframe tbody tr th:only-of-type {\n",
       "        vertical-align: middle;\n",
       "    }\n",
       "\n",
       "    .dataframe tbody tr th {\n",
       "        vertical-align: top;\n",
       "    }\n",
       "\n",
       "    .dataframe thead th {\n",
       "        text-align: right;\n",
       "    }\n",
       "</style>\n",
       "<table border=\"1\" class=\"dataframe\">\n",
       "  <thead>\n",
       "    <tr style=\"text-align: right;\">\n",
       "      <th></th>\n",
       "      <th>VehicleType</th>\n",
       "      <th>RegistrationYear</th>\n",
       "      <th>Gearbox</th>\n",
       "      <th>Power</th>\n",
       "      <th>Model</th>\n",
       "      <th>Kilometer</th>\n",
       "      <th>FuelType</th>\n",
       "      <th>Brand</th>\n",
       "      <th>Repaired</th>\n",
       "    </tr>\n",
       "  </thead>\n",
       "  <tbody>\n",
       "    <tr>\n",
       "      <th>0</th>\n",
       "      <td>2.0</td>\n",
       "      <td>2011</td>\n",
       "      <td>1.0</td>\n",
       "      <td>190</td>\n",
       "      <td>227.0</td>\n",
       "      <td>125000</td>\n",
       "      <td>5.0</td>\n",
       "      <td>1.0</td>\n",
       "      <td>2.0</td>\n",
       "    </tr>\n",
       "    <tr>\n",
       "      <th>1</th>\n",
       "      <td>6.0</td>\n",
       "      <td>2004</td>\n",
       "      <td>0.0</td>\n",
       "      <td>163</td>\n",
       "      <td>117.0</td>\n",
       "      <td>125000</td>\n",
       "      <td>5.0</td>\n",
       "      <td>14.0</td>\n",
       "      <td>0.0</td>\n",
       "    </tr>\n",
       "    <tr>\n",
       "      <th>2</th>\n",
       "      <td>5.0</td>\n",
       "      <td>2001</td>\n",
       "      <td>1.0</td>\n",
       "      <td>75</td>\n",
       "      <td>116.0</td>\n",
       "      <td>150000</td>\n",
       "      <td>5.0</td>\n",
       "      <td>38.0</td>\n",
       "      <td>1.0</td>\n",
       "    </tr>\n",
       "    <tr>\n",
       "      <th>3</th>\n",
       "      <td>5.0</td>\n",
       "      <td>2008</td>\n",
       "      <td>1.0</td>\n",
       "      <td>69</td>\n",
       "      <td>101.0</td>\n",
       "      <td>90000</td>\n",
       "      <td>5.0</td>\n",
       "      <td>31.0</td>\n",
       "      <td>1.0</td>\n",
       "    </tr>\n",
       "    <tr>\n",
       "      <th>4</th>\n",
       "      <td>4.0</td>\n",
       "      <td>1995</td>\n",
       "      <td>1.0</td>\n",
       "      <td>102</td>\n",
       "      <td>11.0</td>\n",
       "      <td>150000</td>\n",
       "      <td>5.0</td>\n",
       "      <td>2.0</td>\n",
       "      <td>2.0</td>\n",
       "    </tr>\n",
       "  </tbody>\n",
       "</table>\n",
       "</div>"
      ],
      "text/plain": [
       "   VehicleType  RegistrationYear  Gearbox  Power  Model  Kilometer  FuelType  \\\n",
       "0          2.0              2011      1.0    190  227.0     125000       5.0   \n",
       "1          6.0              2004      0.0    163  117.0     125000       5.0   \n",
       "2          5.0              2001      1.0     75  116.0     150000       5.0   \n",
       "3          5.0              2008      1.0     69  101.0      90000       5.0   \n",
       "4          4.0              1995      1.0    102   11.0     150000       5.0   \n",
       "\n",
       "   Brand  Repaired  \n",
       "0    1.0       2.0  \n",
       "1   14.0       0.0  \n",
       "2   38.0       1.0  \n",
       "3   31.0       1.0  \n",
       "4    2.0       2.0  "
      ]
     },
     "execution_count": 50,
     "metadata": {},
     "output_type": "execute_result"
    }
   ],
   "source": [
    "features_ord.head()"
   ]
  },
  {
   "cell_type": "markdown",
   "id": "09dda047",
   "metadata": {},
   "source": [
    "Разделим теперь исходную выборку на тестовую и тренировочную в соотношении 1:4."
   ]
  },
  {
   "cell_type": "code",
   "execution_count": 51,
   "id": "3909fbd8",
   "metadata": {},
   "outputs": [],
   "source": [
    "train_features, test_features, train_target, test_target = train_test_split(features_ord, target, test_size=0.25, random_state=254)"
   ]
  },
  {
   "cell_type": "markdown",
   "id": "05cd7c81",
   "metadata": {},
   "source": [
    "Применим масштабирование к данным. "
   ]
  },
  {
   "cell_type": "code",
   "execution_count": 52,
   "id": "bf488956",
   "metadata": {
    "scrolled": false
   },
   "outputs": [
    {
     "data": {
      "text/html": [
       "<div>\n",
       "<style scoped>\n",
       "    .dataframe tbody tr th:only-of-type {\n",
       "        vertical-align: middle;\n",
       "    }\n",
       "\n",
       "    .dataframe tbody tr th {\n",
       "        vertical-align: top;\n",
       "    }\n",
       "\n",
       "    .dataframe thead th {\n",
       "        text-align: right;\n",
       "    }\n",
       "</style>\n",
       "<table border=\"1\" class=\"dataframe\">\n",
       "  <thead>\n",
       "    <tr style=\"text-align: right;\">\n",
       "      <th></th>\n",
       "      <th>VehicleType</th>\n",
       "      <th>RegistrationYear</th>\n",
       "      <th>Gearbox</th>\n",
       "      <th>Power</th>\n",
       "      <th>Model</th>\n",
       "      <th>Kilometer</th>\n",
       "      <th>FuelType</th>\n",
       "      <th>Brand</th>\n",
       "      <th>Repaired</th>\n",
       "    </tr>\n",
       "  </thead>\n",
       "  <tbody>\n",
       "    <tr>\n",
       "      <th>262935</th>\n",
       "      <td>1.326511</td>\n",
       "      <td>-1.825576</td>\n",
       "      <td>0.421756</td>\n",
       "      <td>-0.091472</td>\n",
       "      <td>-1.262762</td>\n",
       "      <td>0.588035</td>\n",
       "      <td>0.239993</td>\n",
       "      <td>-1.472068</td>\n",
       "      <td>-1.950785</td>\n",
       "    </tr>\n",
       "    <tr>\n",
       "      <th>130287</th>\n",
       "      <td>-0.108607</td>\n",
       "      <td>-0.498436</td>\n",
       "      <td>0.421756</td>\n",
       "      <td>-0.346826</td>\n",
       "      <td>-0.124914</td>\n",
       "      <td>0.588035</td>\n",
       "      <td>0.239993</td>\n",
       "      <td>-0.799305</td>\n",
       "      <td>-1.950785</td>\n",
       "    </tr>\n",
       "    <tr>\n",
       "      <th>50788</th>\n",
       "      <td>-0.108607</td>\n",
       "      <td>-0.000758</td>\n",
       "      <td>0.421756</td>\n",
       "      <td>0.334118</td>\n",
       "      <td>-1.495815</td>\n",
       "      <td>0.588035</td>\n",
       "      <td>0.239993</td>\n",
       "      <td>-1.546819</td>\n",
       "      <td>0.095957</td>\n",
       "    </tr>\n",
       "    <tr>\n",
       "      <th>106678</th>\n",
       "      <td>-1.065353</td>\n",
       "      <td>-0.996113</td>\n",
       "      <td>0.421756</td>\n",
       "      <td>-0.534086</td>\n",
       "      <td>1.437914</td>\n",
       "      <td>0.588035</td>\n",
       "      <td>0.239993</td>\n",
       "      <td>0.247214</td>\n",
       "      <td>0.095957</td>\n",
       "    </tr>\n",
       "    <tr>\n",
       "      <th>14613</th>\n",
       "      <td>1.326511</td>\n",
       "      <td>-0.166650</td>\n",
       "      <td>0.421756</td>\n",
       "      <td>0.317094</td>\n",
       "      <td>1.643549</td>\n",
       "      <td>0.588035</td>\n",
       "      <td>-12.418360</td>\n",
       "      <td>1.368485</td>\n",
       "      <td>0.095957</td>\n",
       "    </tr>\n",
       "  </tbody>\n",
       "</table>\n",
       "</div>"
      ],
      "text/plain": [
       "        VehicleType  RegistrationYear   Gearbox     Power     Model  \\\n",
       "262935     1.326511         -1.825576  0.421756 -0.091472 -1.262762   \n",
       "130287    -0.108607         -0.498436  0.421756 -0.346826 -0.124914   \n",
       "50788     -0.108607         -0.000758  0.421756  0.334118 -1.495815   \n",
       "106678    -1.065353         -0.996113  0.421756 -0.534086  1.437914   \n",
       "14613      1.326511         -0.166650  0.421756  0.317094  1.643549   \n",
       "\n",
       "        Kilometer   FuelType     Brand  Repaired  \n",
       "262935   0.588035   0.239993 -1.472068 -1.950785  \n",
       "130287   0.588035   0.239993 -0.799305 -1.950785  \n",
       "50788    0.588035   0.239993 -1.546819  0.095957  \n",
       "106678   0.588035   0.239993  0.247214  0.095957  \n",
       "14613    0.588035 -12.418360  1.368485  0.095957  "
      ]
     },
     "execution_count": 52,
     "metadata": {},
     "output_type": "execute_result"
    }
   ],
   "source": [
    "numeric=['VehicleType','RegistrationYear','Gearbox','Power','Model','Kilometer','FuelType','Brand','Repaired']\n",
    "#Проведем масштабирование данных\n",
    "scaler = StandardScaler()\n",
    "pd.options.mode.chained_assignment = None\n",
    "scaler.fit(features_ord[numeric]) \n",
    "train_features[numeric] = scaler.transform(train_features[numeric])\n",
    "test_features[numeric] = scaler.transform(test_features[numeric])\n",
    "train_features.head()"
   ]
  },
  {
   "cell_type": "markdown",
   "id": "dda3df07",
   "metadata": {},
   "source": [
    "**Вывод**: из исходных данных выделены целевые признаки и обычные, категориальные признаки приведены в числовую форму, все признаки таким образом масштабированы, и в итоге они разделены на тестовую и тренировочную выборки."
   ]
  },
  {
   "cell_type": "markdown",
   "id": "e9c8366f",
   "metadata": {},
   "source": [
    "# 3. Построение модели обучения "
   ]
  },
  {
   "cell_type": "markdown",
   "id": "6eb9bf9c",
   "metadata": {},
   "source": [
    "## 3.1 Градиентный бустинг"
   ]
  },
  {
   "cell_type": "markdown",
   "id": "c5771cf1",
   "metadata": {},
   "source": [
    "Обучим и исследуем модель CatBoostRegressor. Модель градиентного бустинга в данном случае хорошо подходит, так как работает с неоднородными данными."
   ]
  },
  {
   "cell_type": "code",
   "execution_count": 65,
   "id": "7520d568",
   "metadata": {},
   "outputs": [],
   "source": [
    "#Создадим функцию оценки по mean_squared_error\n",
    "def rmse(prediction, target):\n",
    "    return (mean_squared_error(target,prediction)**0.5).round(2)\n",
    "scorer = make_scorer(rmse, greater_is_better=False)"
   ]
  },
  {
   "cell_type": "code",
   "execution_count": 67,
   "id": "bc43037c",
   "metadata": {},
   "outputs": [
    {
     "data": {
      "text/plain": [
       "0.82"
      ]
     },
     "execution_count": 67,
     "metadata": {},
     "output_type": "execute_result"
    }
   ],
   "source": [
    "prediction = [1, 2, 3]\n",
    "target = [1,1,2]\n",
    "rmse(prediction, target)"
   ]
  },
  {
   "cell_type": "markdown",
   "id": "9185fae1",
   "metadata": {},
   "source": [
    "Определим наилучшую модель посредством кросс-валидации."
   ]
  },
  {
   "cell_type": "code",
   "execution_count": 68,
   "id": "9f9514d9",
   "metadata": {
    "scrolled": false
   },
   "outputs": [
    {
     "data": {
      "text/plain": [
       "GridSearchCV(cv=5,\n",
       "             estimator=<catboost.core.CatBoostRegressor object at 0x000001945A46A1C0>,\n",
       "             param_grid={'n_estimators': [800, 900, 1000]},\n",
       "             scoring=make_scorer(rmse, greater_is_better=False))"
      ]
     },
     "execution_count": 68,
     "metadata": {},
     "output_type": "execute_result"
    }
   ],
   "source": [
    "model = CatBoostRegressor(verbose = 0)\n",
    "grid = {\n",
    "         'n_estimators': [800, 900, 1000]\n",
    "         }\n",
    "gsearch = GridSearchCV(estimator=model, \n",
    "                       cv=5, \n",
    "                       param_grid=grid,  \n",
    "                       scoring = scorer)\n",
    "gsearch.fit(train_features, train_target)\n"
   ]
  },
  {
   "cell_type": "markdown",
   "id": "bd65586f",
   "metadata": {},
   "source": [
    "Лучший гиперпараметр n_estimators таким образом"
   ]
  },
  {
   "cell_type": "code",
   "execution_count": 69,
   "id": "584a8664",
   "metadata": {
    "scrolled": true
   },
   "outputs": [
    {
     "data": {
      "text/plain": [
       "{'n_estimators': 1000}"
      ]
     },
     "execution_count": 69,
     "metadata": {},
     "output_type": "execute_result"
    }
   ],
   "source": [
    "gsearch.best_params_"
   ]
  },
  {
   "cell_type": "markdown",
   "id": "e9e0e2d2",
   "metadata": {},
   "source": [
    "C лучшим результатом"
   ]
  },
  {
   "cell_type": "code",
   "execution_count": 70,
   "id": "7ecad3a1",
   "metadata": {
    "scrolled": false
   },
   "outputs": [
    {
     "data": {
      "text/plain": [
       "-1571.908"
      ]
     },
     "execution_count": 70,
     "metadata": {},
     "output_type": "execute_result"
    }
   ],
   "source": [
    "gsearch.best_score_"
   ]
  },
  {
   "cell_type": "markdown",
   "id": "a8501523",
   "metadata": {},
   "source": [
    "Исследуем время обучения нашей модели"
   ]
  },
  {
   "cell_type": "code",
   "execution_count": 58,
   "id": "ee32f1ac",
   "metadata": {},
   "outputs": [
    {
     "name": "stdout",
     "output_type": "stream",
     "text": [
      "0:\tlearn: 3470.1308039\ttotal: 28.3ms\tremaining: 28.2s\n",
      "100:\tlearn: 1606.2145166\ttotal: 1.35s\tremaining: 12s\n",
      "200:\tlearn: 1532.2895497\ttotal: 2.86s\tremaining: 11.4s\n",
      "300:\tlearn: 1487.7362663\ttotal: 4.2s\tremaining: 9.76s\n",
      "400:\tlearn: 1454.5028222\ttotal: 5.57s\tremaining: 8.32s\n",
      "500:\tlearn: 1430.4247006\ttotal: 6.87s\tremaining: 6.85s\n",
      "600:\tlearn: 1410.6421683\ttotal: 8.54s\tremaining: 5.67s\n",
      "700:\tlearn: 1393.9634606\ttotal: 9.93s\tremaining: 4.24s\n",
      "800:\tlearn: 1379.1539764\ttotal: 11.2s\tremaining: 2.79s\n",
      "900:\tlearn: 1366.3224248\ttotal: 12.5s\tremaining: 1.37s\n",
      "999:\tlearn: 1355.3582534\ttotal: 14.1s\tremaining: 0us\n",
      "CPU times: total: 2min 21s\n",
      "Wall time: 14.3 s\n"
     ]
    }
   ],
   "source": [
    "%%time\n",
    "start = time.time()\n",
    "model_boost = CatBoostRegressor(random_state=12345,learning_rate=0.4, verbose=100,n_estimators=1000)\n",
    "model_boost.fit(train_features, train_target)\n",
    "end = time.time()\n",
    "t_boost=round(end-start,2)"
   ]
  },
  {
   "cell_type": "markdown",
   "id": "ce7f7b90",
   "metadata": {},
   "source": [
    "Исследуем время предсказания модели "
   ]
  },
  {
   "cell_type": "code",
   "execution_count": 59,
   "id": "b902e393",
   "metadata": {},
   "outputs": [
    {
     "name": "stdout",
     "output_type": "stream",
     "text": [
      "CPU times: total: 172 ms\n",
      "Wall time: 25.9 ms\n"
     ]
    }
   ],
   "source": [
    "%%time\n",
    "start = time.time()\n",
    "predict_boost=model_boost.predict(test_features)\n",
    "end = time.time()\n",
    "t_cat_p=round(end-start,2)"
   ]
  },
  {
   "cell_type": "markdown",
   "id": "9b782b98",
   "metadata": {},
   "source": [
    "**Вывод**: модель обучения CatBoostRegressor дает следующие параметры по обучению и предсказанию, 14.3 с и 25.9 мс соответственно. \n"
   ]
  },
  {
   "cell_type": "markdown",
   "id": "23c7ae4c",
   "metadata": {},
   "source": [
    "## 3.2 Случайный лес"
   ]
  },
  {
   "cell_type": "markdown",
   "id": "617b1234",
   "metadata": {},
   "source": [
    "Рассмотрим теперь более стандартную модель - модель случайного леса. "
   ]
  },
  {
   "cell_type": "code",
   "execution_count": 60,
   "id": "b1b1a863",
   "metadata": {
    "scrolled": true
   },
   "outputs": [
    {
     "data": {
      "text/plain": [
       "GridSearchCV(cv=5, estimator=RandomForestRegressor(),\n",
       "             param_grid={'max_depth': [6, 9], 'n_estimators': [100, 200, 300]},\n",
       "             scoring=make_scorer(rmse, greater_is_better=False))"
      ]
     },
     "execution_count": 60,
     "metadata": {},
     "output_type": "execute_result"
    }
   ],
   "source": [
    "model = RandomForestRegressor()\n",
    "grid = {\n",
    "         'n_estimators': [100, 200, 300],\n",
    "          'max_depth': [6, 9]\n",
    "         }\n",
    "gsearch = GridSearchCV(estimator=model, \n",
    "                       cv=5, \n",
    "                       param_grid=grid,  \n",
    "                       scoring=scorer)\n",
    "gsearch.fit(train_features, train_target)"
   ]
  },
  {
   "cell_type": "code",
   "execution_count": 61,
   "id": "f0208dff",
   "metadata": {
    "scrolled": true
   },
   "outputs": [
    {
     "data": {
      "text/plain": [
       "{'max_depth': 9, 'n_estimators': 200}"
      ]
     },
     "execution_count": 61,
     "metadata": {},
     "output_type": "execute_result"
    }
   ],
   "source": [
    "gsearch.best_params_"
   ]
  },
  {
   "cell_type": "code",
   "execution_count": 74,
   "id": "53401cd5",
   "metadata": {},
   "outputs": [
    {
     "data": {
      "text/plain": [
       "-1571.908"
      ]
     },
     "execution_count": 74,
     "metadata": {},
     "output_type": "execute_result"
    }
   ],
   "source": [
    "gsearch.best_score_"
   ]
  },
  {
   "cell_type": "markdown",
   "id": "29300e0a",
   "metadata": {},
   "source": [
    "Измерим время обучения подобранной модели."
   ]
  },
  {
   "cell_type": "code",
   "execution_count": 63,
   "id": "cd843ccc",
   "metadata": {
    "scrolled": true
   },
   "outputs": [
    {
     "name": "stdout",
     "output_type": "stream",
     "text": [
      "CPU times: total: 45.8 s\n",
      "Wall time: 45.8 s\n"
     ]
    }
   ],
   "source": [
    "%%time\n",
    "start = time.time()\n",
    "model_rf = RandomForestRegressor(random_state=12345,max_depth=9, n_estimators=200)\n",
    "model_rf.fit(train_features, train_target)\n",
    "end = time.time()\n",
    "t_rf=round(end-start,2)"
   ]
  },
  {
   "cell_type": "markdown",
   "id": "74097274",
   "metadata": {},
   "source": [
    "Измерим время предсказания подбранной модели."
   ]
  },
  {
   "cell_type": "code",
   "execution_count": 64,
   "id": "006d19f9",
   "metadata": {},
   "outputs": [
    {
     "name": "stdout",
     "output_type": "stream",
     "text": [
      "CPU times: total: 1.09 s\n",
      "Wall time: 1.09 s\n"
     ]
    }
   ],
   "source": [
    "%%time\n",
    "start = time.time()\n",
    "pred_rf=model_rf.predict(test_features)\n",
    "end = time.time()\n",
    "t_rf_p=round(end-start,2)"
   ]
  },
  {
   "cell_type": "markdown",
   "id": "019002cd",
   "metadata": {},
   "source": [
    "**Вывод**: модель случайного леса дает следующие параметры по обучению и предсказанию, 45.8 и 1.09 с соответственно. "
   ]
  },
  {
   "cell_type": "markdown",
   "id": "d9464279",
   "metadata": {},
   "source": [
    "**Вывод**: видно, что модель градиентного бустинга обучается и предсказывает гораздо быстрее, чем модель случайного леса. А по параметрам качества отличаются незначительно. Поэтому разумным будет сделать выбор в пользу модели градиентного бустинга. "
   ]
  },
  {
   "cell_type": "markdown",
   "id": "b648164a",
   "metadata": {},
   "source": [
    "# 4. Тестирование и проверка на адекватность"
   ]
  },
  {
   "cell_type": "markdown",
   "id": "c3c1f531",
   "metadata": {},
   "source": [
    "Проведем тестирование выбранной модели градиентного бустинга. "
   ]
  },
  {
   "cell_type": "code",
   "execution_count": 72,
   "id": "8d179df1",
   "metadata": {},
   "outputs": [
    {
     "data": {
      "text/plain": [
       "1527.34"
      ]
     },
     "execution_count": 72,
     "metadata": {},
     "output_type": "execute_result"
    }
   ],
   "source": [
    "#Расчитаем результат метрики RMSE для модели градиентного бустинга \n",
    "rmse(predict_boost, test_target)"
   ]
  },
  {
   "cell_type": "markdown",
   "id": "c2b0351c",
   "metadata": {},
   "source": [
    "Сравним полученный результат с константной моделью среднего значения. "
   ]
  },
  {
   "cell_type": "code",
   "execution_count": 73,
   "id": "3c4156c9",
   "metadata": {
    "scrolled": true
   },
   "outputs": [
    {
     "data": {
      "text/plain": [
       "4600.52"
      ]
     },
     "execution_count": 73,
     "metadata": {},
     "output_type": "execute_result"
    }
   ],
   "source": [
    "#Cоздадим константную модель со средним значением\n",
    "model_dummy = DummyRegressor(strategy=\"mean\")\n",
    "model_dummy.fit(train_features, train_target)\n",
    "predictions_dummy = model_dummy.predict(test_features)\n",
    "rmse_dummy=(mean_squared_error(test_target,predictions_dummy)**0.5).round(2)\n",
    "rmse_dummy"
   ]
  },
  {
   "cell_type": "markdown",
   "id": "7bcb0e91",
   "metadata": {},
   "source": [
    "**Вывод**: по параметру RMSE константная модель сильно хуже рассмотренных раннее. Таким образом подобранные модели являются адекватными. "
   ]
  },
  {
   "cell_type": "markdown",
   "id": "ffc0dd7e",
   "metadata": {},
   "source": [
    "# Вывод"
   ]
  },
  {
   "cell_type": "markdown",
   "id": "c13b72ae",
   "metadata": {},
   "source": [
    "При предварительном изучении данных было обнаружено, что у части данных, которые отвечают за временные величины, будет оптимально сменить имеющиеся типы данных на datetime. Обнаруженные дублированные значения были удалены, а пропущенные значения обработаны. Для характеристик Gearbox и Model отсутсвующие данные были удалены. Для других таких параметров подобная же процедура удалила бы значительный процент имеющихся данных, поэтому пропущенные значения были  заменены либо на тип other, либо на N/A. Целочисленные значения были проанализированы и обработаны. Убраны аномальные и не имеющие смысла значения. Таким образом, предобработанные данные могут далее обрабатываться для построения модели обучения. "
   ]
  },
  {
   "cell_type": "markdown",
   "id": "4011e82e",
   "metadata": {},
   "source": [
    "В ходе подготовки данных к построению моделей из исходных данных выделены целевые признаки и обычные, категориальные признаки приведены в числовую форму, все признаки таким образом масштабированы, и в итоге они разделены на тестовую и тренировочную выборки."
   ]
  },
  {
   "cell_type": "markdown",
   "id": "36ee52b7",
   "metadata": {},
   "source": [
    "Были сформированы две модели - модель градиентного бустинга и модель случайного леса. По интересующим заказчика параметрам была выбрана модель градиентного бустинга со следующими параметрами. "
   ]
  },
  {
   "cell_type": "markdown",
   "id": "d4bf575b",
   "metadata": {},
   "source": [
    "**Градиентный бустинг**\n",
    "- время обучения 14.3 s\n",
    "- время предсказания 25.9 ms\n",
    "- параметр качества RMSE 1527"
   ]
  },
  {
   "cell_type": "markdown",
   "id": "313ae977",
   "metadata": {},
   "source": [
    "Таким образом, учитывая что градиентый бустинг работает на порядки быстрее, чем стандартная модель случайного леса, а по параметрам качества различия не значительны, то предпочтительной будет модель градиентного бустинга. "
   ]
  }
 ],
 "metadata": {
  "ExecuteTimeLog": [
   {
    "duration": 1984,
    "start_time": "2023-09-10T17:02:15.913Z"
   },
   {
    "duration": 1189,
    "start_time": "2023-09-10T17:02:17.899Z"
   },
   {
    "duration": 17,
    "start_time": "2023-09-10T17:02:19.090Z"
   },
   {
    "duration": 141,
    "start_time": "2023-09-10T17:02:19.109Z"
   },
   {
    "duration": 286,
    "start_time": "2023-09-10T17:02:19.252Z"
   },
   {
    "duration": 90,
    "start_time": "2023-09-10T17:02:19.540Z"
   },
   {
    "duration": 287,
    "start_time": "2023-09-10T17:02:19.632Z"
   },
   {
    "duration": 595,
    "start_time": "2023-09-10T17:02:19.921Z"
   },
   {
    "duration": 92,
    "start_time": "2023-09-10T17:02:20.517Z"
   },
   {
    "duration": 198,
    "start_time": "2023-09-10T17:02:20.612Z"
   },
   {
    "duration": 21,
    "start_time": "2023-09-10T17:02:20.812Z"
   },
   {
    "duration": 99,
    "start_time": "2023-09-10T17:02:20.834Z"
   },
   {
    "duration": 194,
    "start_time": "2023-09-10T17:02:20.935Z"
   },
   {
    "duration": 24,
    "start_time": "2023-09-10T17:02:21.130Z"
   },
   {
    "duration": 226,
    "start_time": "2023-09-10T17:02:21.156Z"
   },
   {
    "duration": 18,
    "start_time": "2023-09-10T17:02:21.384Z"
   },
   {
    "duration": 176,
    "start_time": "2023-09-10T17:02:21.404Z"
   },
   {
    "duration": 19,
    "start_time": "2023-09-10T17:02:21.581Z"
   },
   {
    "duration": 93,
    "start_time": "2023-09-10T17:02:21.602Z"
   },
   {
    "duration": 355,
    "start_time": "2023-09-10T17:02:21.696Z"
   },
   {
    "duration": 389,
    "start_time": "2023-09-10T17:02:22.052Z"
   },
   {
    "duration": 15,
    "start_time": "2023-09-10T17:02:22.442Z"
   },
   {
    "duration": 33,
    "start_time": "2023-09-10T17:02:22.459Z"
   },
   {
    "duration": 152,
    "start_time": "2023-09-10T17:02:22.493Z"
   },
   {
    "duration": 365,
    "start_time": "2023-09-10T17:02:22.649Z"
   },
   {
    "duration": 371,
    "start_time": "2023-09-10T17:02:23.016Z"
   },
   {
    "duration": 62,
    "start_time": "2023-09-10T17:02:23.389Z"
   },
   {
    "duration": 305,
    "start_time": "2023-09-10T17:02:23.454Z"
   },
   {
    "duration": 301,
    "start_time": "2023-09-10T17:02:23.760Z"
   },
   {
    "duration": 50,
    "start_time": "2023-09-10T17:02:24.063Z"
   },
   {
    "duration": 284,
    "start_time": "2023-09-10T17:02:24.115Z"
   },
   {
    "duration": 283,
    "start_time": "2023-09-10T17:02:24.401Z"
   },
   {
    "duration": 19,
    "start_time": "2023-09-10T17:02:24.686Z"
   },
   {
    "duration": 170,
    "start_time": "2023-09-10T17:02:24.706Z"
   },
   {
    "duration": 13,
    "start_time": "2023-09-10T17:02:24.878Z"
   },
   {
    "duration": 392,
    "start_time": "2023-09-10T17:02:24.892Z"
   },
   {
    "duration": 42,
    "start_time": "2023-09-10T17:02:25.286Z"
   },
   {
    "duration": 90,
    "start_time": "2023-09-10T17:02:25.330Z"
   },
   {
    "duration": 37,
    "start_time": "2023-09-10T17:02:25.421Z"
   },
   {
    "duration": 3,
    "start_time": "2023-09-10T17:02:25.460Z"
   },
   {
    "duration": 23,
    "start_time": "2023-09-10T17:02:25.464Z"
   },
   {
    "duration": 11,
    "start_time": "2023-09-10T17:02:25.488Z"
   },
   {
    "duration": 493,
    "start_time": "2023-09-10T17:02:25.501Z"
   },
   {
    "duration": 16,
    "start_time": "2023-09-10T17:02:25.996Z"
   },
   {
    "duration": 70,
    "start_time": "2023-09-10T17:02:26.014Z"
   },
   {
    "duration": 550,
    "start_time": "2023-09-10T17:02:26.086Z"
   },
   {
    "duration": 28689,
    "start_time": "2023-09-10T17:02:26.637Z"
   },
   {
    "duration": 67,
    "start_time": "2023-09-10T17:02:55.327Z"
   },
   {
    "duration": 5,
    "start_time": "2023-09-10T17:02:55.395Z"
   },
   {
    "duration": 9,
    "start_time": "2023-09-10T17:02:55.401Z"
   },
   {
    "duration": 179134,
    "start_time": "2023-09-10T17:02:55.411Z"
   },
   {
    "duration": 7172,
    "start_time": "2023-09-10T17:05:54.547Z"
   },
   {
    "duration": 6,
    "start_time": "2023-09-10T17:06:01.721Z"
   },
   {
    "duration": 37,
    "start_time": "2023-09-10T17:06:01.728Z"
   },
   {
    "duration": 35,
    "start_time": "2023-09-10T17:06:01.767Z"
   },
   {
    "duration": 34,
    "start_time": "2023-09-10T17:06:01.804Z"
   }
  ],
  "kernelspec": {
   "display_name": "Python 3 (ipykernel)",
   "language": "python",
   "name": "python3"
  },
  "language_info": {
   "codemirror_mode": {
    "name": "ipython",
    "version": 3
   },
   "file_extension": ".py",
   "mimetype": "text/x-python",
   "name": "python",
   "nbconvert_exporter": "python",
   "pygments_lexer": "ipython3",
   "version": "3.9.16"
  },
  "toc": {
   "base_numbering": 1,
   "nav_menu": {},
   "number_sections": true,
   "sideBar": true,
   "skip_h1_title": true,
   "title_cell": "Table of Contents",
   "title_sidebar": "Contents",
   "toc_cell": false,
   "toc_position": {},
   "toc_section_display": true,
   "toc_window_display": false
  },
  "varInspector": {
   "cols": {
    "lenName": 16,
    "lenType": 16,
    "lenVar": 40
   },
   "kernels_config": {
    "python": {
     "delete_cmd_postfix": "",
     "delete_cmd_prefix": "del ",
     "library": "var_list.py",
     "varRefreshCmd": "print(var_dic_list())"
    },
    "r": {
     "delete_cmd_postfix": ") ",
     "delete_cmd_prefix": "rm(",
     "library": "var_list.r",
     "varRefreshCmd": "cat(var_dic_list()) "
    }
   },
   "types_to_exclude": [
    "module",
    "function",
    "builtin_function_or_method",
    "instance",
    "_Feature"
   ],
   "window_display": false
  }
 },
 "nbformat": 4,
 "nbformat_minor": 5
}
