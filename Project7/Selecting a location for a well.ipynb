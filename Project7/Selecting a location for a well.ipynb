{
 "cells": [
  {
   "cell_type": "markdown",
   "id": "1fabf248",
   "metadata": {},
   "source": [
    "# Выбор локации для скважины"
   ]
  },
  {
   "cell_type": "markdown",
   "id": "f8224a6f",
   "metadata": {},
   "source": [
    "В ходе данного проекта проведем анализ добычи нефти в трех различных регионах для компании «ГлавРосГосНефть». Основной задачей будет определение того, где необходимо будет произвести бурение скважины. Используя данные для каждой из имеющихся скважин, мы создадим модель, которая позволит предсказать регион с максимальной возможной прибылью.  "
   ]
  },
  {
   "cell_type": "markdown",
   "id": "8fad9b76",
   "metadata": {},
   "source": [
    "В качестве исходных данных воспользуемся имеющимися датасетами для трех регионов. Структура датасетов следующая: \n",
    "- id — уникальный идентификатор скважины;\n",
    "- f0, f1, f2 — три признака точек;\n",
    "- product — объём запасов в скважине (тыс. баррелей)."
   ]
  },
  {
   "cell_type": "markdown",
   "id": "0131cca3",
   "metadata": {},
   "source": [
    "В ходе создания модели загрузим и подготовим исходные данные о трех различных регионах, проверим данные на дубликаты, пропуски и аномальные значения. С помощью линейной регрессии обучим модель на предсказание целевого показателя (product). Это позволит также реализовать функцию по расчету предсказываемой прибыли. С помощью техники bootstrap расчитаем и проанализируем возможную прибыль."
   ]
  },
  {
   "cell_type": "code",
   "execution_count": 35,
   "id": "6c643658",
   "metadata": {},
   "outputs": [],
   "source": [
    "#Импортируем все используемые в проекте библиотеки\n",
    "import pandas as pd\n",
    "import seaborn as sns\n",
    "import matplotlib.pyplot as plt\n",
    "from scipy import stats as st\n",
    "import numpy as np\n",
    "from sklearn.model_selection import train_test_split\n",
    "from sklearn.metrics import confusion_matrix\n",
    "from sklearn.linear_model import LinearRegression\n",
    "from sklearn.metrics import mean_squared_error\n",
    "from numpy.random import RandomState"
   ]
  },
  {
   "cell_type": "code",
   "execution_count": 36,
   "id": "8ec54ddb",
   "metadata": {},
   "outputs": [],
   "source": [
    "#Определим основные переменные\n",
    "#доход с 1 тыс. барелей \n",
    "INCOME_FROM_PRODUCT = 450*10**3\n",
    "\n",
    "#бюджет, выделенный на добычу в одном регионе \n",
    "BUDGET_FOR_REGION = 10*10**9\n",
    "\n",
    "#количество мест добычи \n",
    "NUMBER_OF_LOCATIONS = 200\n",
    "\n",
    "#общее число мест для выборки \n",
    "TOTAL_NUMBER_OF_LOCATIONS = 500"
   ]
  },
  {
   "cell_type": "markdown",
   "id": "cc863d64",
   "metadata": {},
   "source": [
    "# 1. Предобработка данных "
   ]
  },
  {
   "cell_type": "markdown",
   "id": "efa84d5e",
   "metadata": {},
   "source": [
    "В ходе изучения наших данных исследуем представленные типы данных, пропуски и дубликаты значений, проанализируем исходные данные на взаимосвязанность. "
   ]
  },
  {
   "cell_type": "code",
   "execution_count": 37,
   "id": "ce089a53",
   "metadata": {},
   "outputs": [],
   "source": [
    "#Считываем csv файлы с данными и сохраняем их в соответсвующие датафреймы\n",
    "try:\n",
    "    data_0 = pd.read_csv('/datasets/geo_data_0.csv')\n",
    "    data_1 = pd.read_csv('/datasets/geo_data_1.csv')\n",
    "    data_2 = pd.read_csv('/datasets/geo_data_2.csv')\n",
    "except:\n",
    "    data_0 = pd.read_csv('geo_data_0.csv')  \n",
    "    data_1 = pd.read_csv('geo_data_1.csv') \n",
    "    data_2 = pd.read_csv('geo_data_2.csv') "
   ]
  },
  {
   "cell_type": "code",
   "execution_count": 38,
   "id": "8dd86b3d",
   "metadata": {},
   "outputs": [],
   "source": [
    "#Поместим данные для всех регионов в один списко \n",
    "datas = [data_0, data_1, data_2]"
   ]
  },
  {
   "cell_type": "markdown",
   "id": "500e5ef3",
   "metadata": {},
   "source": [
    "Проанализируем общий вид данных для каждого региона. "
   ]
  },
  {
   "cell_type": "code",
   "execution_count": 39,
   "id": "7eab670d",
   "metadata": {},
   "outputs": [
    {
     "data": {
      "text/html": [
       "<div>\n",
       "<style scoped>\n",
       "    .dataframe tbody tr th:only-of-type {\n",
       "        vertical-align: middle;\n",
       "    }\n",
       "\n",
       "    .dataframe tbody tr th {\n",
       "        vertical-align: top;\n",
       "    }\n",
       "\n",
       "    .dataframe thead th {\n",
       "        text-align: right;\n",
       "    }\n",
       "</style>\n",
       "<table border=\"1\" class=\"dataframe\">\n",
       "  <thead>\n",
       "    <tr style=\"text-align: right;\">\n",
       "      <th></th>\n",
       "      <th>id</th>\n",
       "      <th>f0</th>\n",
       "      <th>f1</th>\n",
       "      <th>f2</th>\n",
       "      <th>product</th>\n",
       "    </tr>\n",
       "  </thead>\n",
       "  <tbody>\n",
       "    <tr>\n",
       "      <th>0</th>\n",
       "      <td>txEyH</td>\n",
       "      <td>0.705745</td>\n",
       "      <td>-0.497823</td>\n",
       "      <td>1.221170</td>\n",
       "      <td>105.280062</td>\n",
       "    </tr>\n",
       "    <tr>\n",
       "      <th>1</th>\n",
       "      <td>2acmU</td>\n",
       "      <td>1.334711</td>\n",
       "      <td>-0.340164</td>\n",
       "      <td>4.365080</td>\n",
       "      <td>73.037750</td>\n",
       "    </tr>\n",
       "    <tr>\n",
       "      <th>2</th>\n",
       "      <td>409Wp</td>\n",
       "      <td>1.022732</td>\n",
       "      <td>0.151990</td>\n",
       "      <td>1.419926</td>\n",
       "      <td>85.265647</td>\n",
       "    </tr>\n",
       "    <tr>\n",
       "      <th>3</th>\n",
       "      <td>iJLyR</td>\n",
       "      <td>-0.032172</td>\n",
       "      <td>0.139033</td>\n",
       "      <td>2.978566</td>\n",
       "      <td>168.620776</td>\n",
       "    </tr>\n",
       "    <tr>\n",
       "      <th>4</th>\n",
       "      <td>Xdl7t</td>\n",
       "      <td>1.988431</td>\n",
       "      <td>0.155413</td>\n",
       "      <td>4.751769</td>\n",
       "      <td>154.036647</td>\n",
       "    </tr>\n",
       "    <tr>\n",
       "      <th>5</th>\n",
       "      <td>wX4Hy</td>\n",
       "      <td>0.969570</td>\n",
       "      <td>0.489775</td>\n",
       "      <td>-0.735383</td>\n",
       "      <td>64.741541</td>\n",
       "    </tr>\n",
       "    <tr>\n",
       "      <th>6</th>\n",
       "      <td>tL6pL</td>\n",
       "      <td>0.645075</td>\n",
       "      <td>0.530656</td>\n",
       "      <td>1.780266</td>\n",
       "      <td>49.055285</td>\n",
       "    </tr>\n",
       "    <tr>\n",
       "      <th>7</th>\n",
       "      <td>BYPU6</td>\n",
       "      <td>-0.400648</td>\n",
       "      <td>0.808337</td>\n",
       "      <td>-5.624670</td>\n",
       "      <td>72.943292</td>\n",
       "    </tr>\n",
       "    <tr>\n",
       "      <th>8</th>\n",
       "      <td>j9Oui</td>\n",
       "      <td>0.643105</td>\n",
       "      <td>-0.551583</td>\n",
       "      <td>2.372141</td>\n",
       "      <td>113.356160</td>\n",
       "    </tr>\n",
       "    <tr>\n",
       "      <th>9</th>\n",
       "      <td>OLuZU</td>\n",
       "      <td>2.173381</td>\n",
       "      <td>0.563698</td>\n",
       "      <td>9.441852</td>\n",
       "      <td>127.910945</td>\n",
       "    </tr>\n",
       "  </tbody>\n",
       "</table>\n",
       "</div>"
      ],
      "text/plain": [
       "      id        f0        f1        f2     product\n",
       "0  txEyH  0.705745 -0.497823  1.221170  105.280062\n",
       "1  2acmU  1.334711 -0.340164  4.365080   73.037750\n",
       "2  409Wp  1.022732  0.151990  1.419926   85.265647\n",
       "3  iJLyR -0.032172  0.139033  2.978566  168.620776\n",
       "4  Xdl7t  1.988431  0.155413  4.751769  154.036647\n",
       "5  wX4Hy  0.969570  0.489775 -0.735383   64.741541\n",
       "6  tL6pL  0.645075  0.530656  1.780266   49.055285\n",
       "7  BYPU6 -0.400648  0.808337 -5.624670   72.943292\n",
       "8  j9Oui  0.643105 -0.551583  2.372141  113.356160\n",
       "9  OLuZU  2.173381  0.563698  9.441852  127.910945"
      ]
     },
     "execution_count": 39,
     "metadata": {},
     "output_type": "execute_result"
    }
   ],
   "source": [
    "#Выведем первые 10 строчек из датафрейма\n",
    "data_0.head(10)"
   ]
  },
  {
   "cell_type": "code",
   "execution_count": 40,
   "id": "0e452605",
   "metadata": {},
   "outputs": [
    {
     "data": {
      "text/html": [
       "<div>\n",
       "<style scoped>\n",
       "    .dataframe tbody tr th:only-of-type {\n",
       "        vertical-align: middle;\n",
       "    }\n",
       "\n",
       "    .dataframe tbody tr th {\n",
       "        vertical-align: top;\n",
       "    }\n",
       "\n",
       "    .dataframe thead th {\n",
       "        text-align: right;\n",
       "    }\n",
       "</style>\n",
       "<table border=\"1\" class=\"dataframe\">\n",
       "  <thead>\n",
       "    <tr style=\"text-align: right;\">\n",
       "      <th></th>\n",
       "      <th>id</th>\n",
       "      <th>f0</th>\n",
       "      <th>f1</th>\n",
       "      <th>f2</th>\n",
       "      <th>product</th>\n",
       "    </tr>\n",
       "  </thead>\n",
       "  <tbody>\n",
       "    <tr>\n",
       "      <th>0</th>\n",
       "      <td>kBEdx</td>\n",
       "      <td>-15.001348</td>\n",
       "      <td>-8.276000</td>\n",
       "      <td>-0.005876</td>\n",
       "      <td>3.179103</td>\n",
       "    </tr>\n",
       "    <tr>\n",
       "      <th>1</th>\n",
       "      <td>62mP7</td>\n",
       "      <td>14.272088</td>\n",
       "      <td>-3.475083</td>\n",
       "      <td>0.999183</td>\n",
       "      <td>26.953261</td>\n",
       "    </tr>\n",
       "    <tr>\n",
       "      <th>2</th>\n",
       "      <td>vyE1P</td>\n",
       "      <td>6.263187</td>\n",
       "      <td>-5.948386</td>\n",
       "      <td>5.001160</td>\n",
       "      <td>134.766305</td>\n",
       "    </tr>\n",
       "    <tr>\n",
       "      <th>3</th>\n",
       "      <td>KcrkZ</td>\n",
       "      <td>-13.081196</td>\n",
       "      <td>-11.506057</td>\n",
       "      <td>4.999415</td>\n",
       "      <td>137.945408</td>\n",
       "    </tr>\n",
       "    <tr>\n",
       "      <th>4</th>\n",
       "      <td>AHL4O</td>\n",
       "      <td>12.702195</td>\n",
       "      <td>-8.147433</td>\n",
       "      <td>5.004363</td>\n",
       "      <td>134.766305</td>\n",
       "    </tr>\n",
       "    <tr>\n",
       "      <th>5</th>\n",
       "      <td>HHckp</td>\n",
       "      <td>-3.327590</td>\n",
       "      <td>-2.205276</td>\n",
       "      <td>3.003647</td>\n",
       "      <td>84.038886</td>\n",
       "    </tr>\n",
       "    <tr>\n",
       "      <th>6</th>\n",
       "      <td>h5Ujo</td>\n",
       "      <td>-11.142655</td>\n",
       "      <td>-10.133399</td>\n",
       "      <td>4.002382</td>\n",
       "      <td>110.992147</td>\n",
       "    </tr>\n",
       "    <tr>\n",
       "      <th>7</th>\n",
       "      <td>muH9x</td>\n",
       "      <td>4.234715</td>\n",
       "      <td>-0.001354</td>\n",
       "      <td>2.004588</td>\n",
       "      <td>53.906522</td>\n",
       "    </tr>\n",
       "    <tr>\n",
       "      <th>8</th>\n",
       "      <td>YiRkx</td>\n",
       "      <td>13.355129</td>\n",
       "      <td>-0.332068</td>\n",
       "      <td>4.998647</td>\n",
       "      <td>134.766305</td>\n",
       "    </tr>\n",
       "    <tr>\n",
       "      <th>9</th>\n",
       "      <td>jG6Gi</td>\n",
       "      <td>1.069227</td>\n",
       "      <td>-11.025667</td>\n",
       "      <td>4.997844</td>\n",
       "      <td>137.945408</td>\n",
       "    </tr>\n",
       "  </tbody>\n",
       "</table>\n",
       "</div>"
      ],
      "text/plain": [
       "      id         f0         f1        f2     product\n",
       "0  kBEdx -15.001348  -8.276000 -0.005876    3.179103\n",
       "1  62mP7  14.272088  -3.475083  0.999183   26.953261\n",
       "2  vyE1P   6.263187  -5.948386  5.001160  134.766305\n",
       "3  KcrkZ -13.081196 -11.506057  4.999415  137.945408\n",
       "4  AHL4O  12.702195  -8.147433  5.004363  134.766305\n",
       "5  HHckp  -3.327590  -2.205276  3.003647   84.038886\n",
       "6  h5Ujo -11.142655 -10.133399  4.002382  110.992147\n",
       "7  muH9x   4.234715  -0.001354  2.004588   53.906522\n",
       "8  YiRkx  13.355129  -0.332068  4.998647  134.766305\n",
       "9  jG6Gi   1.069227 -11.025667  4.997844  137.945408"
      ]
     },
     "execution_count": 40,
     "metadata": {},
     "output_type": "execute_result"
    }
   ],
   "source": [
    "data_1.head(10)"
   ]
  },
  {
   "cell_type": "code",
   "execution_count": 41,
   "id": "81d33098",
   "metadata": {
    "scrolled": true
   },
   "outputs": [
    {
     "data": {
      "text/html": [
       "<div>\n",
       "<style scoped>\n",
       "    .dataframe tbody tr th:only-of-type {\n",
       "        vertical-align: middle;\n",
       "    }\n",
       "\n",
       "    .dataframe tbody tr th {\n",
       "        vertical-align: top;\n",
       "    }\n",
       "\n",
       "    .dataframe thead th {\n",
       "        text-align: right;\n",
       "    }\n",
       "</style>\n",
       "<table border=\"1\" class=\"dataframe\">\n",
       "  <thead>\n",
       "    <tr style=\"text-align: right;\">\n",
       "      <th></th>\n",
       "      <th>id</th>\n",
       "      <th>f0</th>\n",
       "      <th>f1</th>\n",
       "      <th>f2</th>\n",
       "      <th>product</th>\n",
       "    </tr>\n",
       "  </thead>\n",
       "  <tbody>\n",
       "    <tr>\n",
       "      <th>0</th>\n",
       "      <td>fwXo0</td>\n",
       "      <td>-1.146987</td>\n",
       "      <td>0.963328</td>\n",
       "      <td>-0.828965</td>\n",
       "      <td>27.758673</td>\n",
       "    </tr>\n",
       "    <tr>\n",
       "      <th>1</th>\n",
       "      <td>WJtFt</td>\n",
       "      <td>0.262778</td>\n",
       "      <td>0.269839</td>\n",
       "      <td>-2.530187</td>\n",
       "      <td>56.069697</td>\n",
       "    </tr>\n",
       "    <tr>\n",
       "      <th>2</th>\n",
       "      <td>ovLUW</td>\n",
       "      <td>0.194587</td>\n",
       "      <td>0.289035</td>\n",
       "      <td>-5.586433</td>\n",
       "      <td>62.871910</td>\n",
       "    </tr>\n",
       "    <tr>\n",
       "      <th>3</th>\n",
       "      <td>q6cA6</td>\n",
       "      <td>2.236060</td>\n",
       "      <td>-0.553760</td>\n",
       "      <td>0.930038</td>\n",
       "      <td>114.572842</td>\n",
       "    </tr>\n",
       "    <tr>\n",
       "      <th>4</th>\n",
       "      <td>WPMUX</td>\n",
       "      <td>-0.515993</td>\n",
       "      <td>1.716266</td>\n",
       "      <td>5.899011</td>\n",
       "      <td>149.600746</td>\n",
       "    </tr>\n",
       "    <tr>\n",
       "      <th>5</th>\n",
       "      <td>LzZXx</td>\n",
       "      <td>-0.758092</td>\n",
       "      <td>0.710691</td>\n",
       "      <td>2.585887</td>\n",
       "      <td>90.222465</td>\n",
       "    </tr>\n",
       "    <tr>\n",
       "      <th>6</th>\n",
       "      <td>WBHRv</td>\n",
       "      <td>-0.574891</td>\n",
       "      <td>0.317727</td>\n",
       "      <td>1.773745</td>\n",
       "      <td>45.641478</td>\n",
       "    </tr>\n",
       "    <tr>\n",
       "      <th>7</th>\n",
       "      <td>XO8fn</td>\n",
       "      <td>-1.906649</td>\n",
       "      <td>-2.458350</td>\n",
       "      <td>-0.177097</td>\n",
       "      <td>72.480640</td>\n",
       "    </tr>\n",
       "    <tr>\n",
       "      <th>8</th>\n",
       "      <td>ybmQ5</td>\n",
       "      <td>1.776292</td>\n",
       "      <td>-0.279356</td>\n",
       "      <td>3.004156</td>\n",
       "      <td>106.616832</td>\n",
       "    </tr>\n",
       "    <tr>\n",
       "      <th>9</th>\n",
       "      <td>OilcN</td>\n",
       "      <td>-1.214452</td>\n",
       "      <td>-0.439314</td>\n",
       "      <td>5.922514</td>\n",
       "      <td>52.954532</td>\n",
       "    </tr>\n",
       "  </tbody>\n",
       "</table>\n",
       "</div>"
      ],
      "text/plain": [
       "      id        f0        f1        f2     product\n",
       "0  fwXo0 -1.146987  0.963328 -0.828965   27.758673\n",
       "1  WJtFt  0.262778  0.269839 -2.530187   56.069697\n",
       "2  ovLUW  0.194587  0.289035 -5.586433   62.871910\n",
       "3  q6cA6  2.236060 -0.553760  0.930038  114.572842\n",
       "4  WPMUX -0.515993  1.716266  5.899011  149.600746\n",
       "5  LzZXx -0.758092  0.710691  2.585887   90.222465\n",
       "6  WBHRv -0.574891  0.317727  1.773745   45.641478\n",
       "7  XO8fn -1.906649 -2.458350 -0.177097   72.480640\n",
       "8  ybmQ5  1.776292 -0.279356  3.004156  106.616832\n",
       "9  OilcN -1.214452 -0.439314  5.922514   52.954532"
      ]
     },
     "execution_count": 41,
     "metadata": {},
     "output_type": "execute_result"
    }
   ],
   "source": [
    "data_2.head(10)"
   ]
  },
  {
   "cell_type": "code",
   "execution_count": 42,
   "id": "3a500644",
   "metadata": {},
   "outputs": [
    {
     "name": "stdout",
     "output_type": "stream",
     "text": [
      "<class 'pandas.core.frame.DataFrame'>\n",
      "RangeIndex: 100000 entries, 0 to 99999\n",
      "Data columns (total 5 columns):\n",
      " #   Column   Non-Null Count   Dtype  \n",
      "---  ------   --------------   -----  \n",
      " 0   id       100000 non-null  object \n",
      " 1   f0       100000 non-null  float64\n",
      " 2   f1       100000 non-null  float64\n",
      " 3   f2       100000 non-null  float64\n",
      " 4   product  100000 non-null  float64\n",
      "dtypes: float64(4), object(1)\n",
      "memory usage: 3.8+ MB\n"
     ]
    }
   ],
   "source": [
    "#Выведем общую информацию о данных \n",
    "data_0.info()"
   ]
  },
  {
   "cell_type": "code",
   "execution_count": 43,
   "id": "8ab32d71",
   "metadata": {},
   "outputs": [
    {
     "name": "stdout",
     "output_type": "stream",
     "text": [
      "<class 'pandas.core.frame.DataFrame'>\n",
      "RangeIndex: 100000 entries, 0 to 99999\n",
      "Data columns (total 5 columns):\n",
      " #   Column   Non-Null Count   Dtype  \n",
      "---  ------   --------------   -----  \n",
      " 0   id       100000 non-null  object \n",
      " 1   f0       100000 non-null  float64\n",
      " 2   f1       100000 non-null  float64\n",
      " 3   f2       100000 non-null  float64\n",
      " 4   product  100000 non-null  float64\n",
      "dtypes: float64(4), object(1)\n",
      "memory usage: 3.8+ MB\n"
     ]
    }
   ],
   "source": [
    "#Выведем общую информацию о данных \n",
    "data_1.info()"
   ]
  },
  {
   "cell_type": "code",
   "execution_count": 44,
   "id": "690cd39c",
   "metadata": {
    "scrolled": true
   },
   "outputs": [
    {
     "name": "stdout",
     "output_type": "stream",
     "text": [
      "<class 'pandas.core.frame.DataFrame'>\n",
      "RangeIndex: 100000 entries, 0 to 99999\n",
      "Data columns (total 5 columns):\n",
      " #   Column   Non-Null Count   Dtype  \n",
      "---  ------   --------------   -----  \n",
      " 0   id       100000 non-null  object \n",
      " 1   f0       100000 non-null  float64\n",
      " 2   f1       100000 non-null  float64\n",
      " 3   f2       100000 non-null  float64\n",
      " 4   product  100000 non-null  float64\n",
      "dtypes: float64(4), object(1)\n",
      "memory usage: 3.8+ MB\n"
     ]
    }
   ],
   "source": [
    "data_2.info()"
   ]
  },
  {
   "cell_type": "code",
   "execution_count": 45,
   "id": "63f723f8",
   "metadata": {},
   "outputs": [
    {
     "name": "stdout",
     "output_type": "stream",
     "text": [
      "Дубликатов в 0ом регионе - 0\n",
      "Дубликатов в 1ом регионе - 0\n",
      "Дубликатов в 2ем регионе - 0\n"
     ]
    }
   ],
   "source": [
    "print('Дубликатов в 0ом регионе -', data_0.duplicated().sum())\n",
    "print('Дубликатов в 1ом регионе -',data_1.duplicated().sum())\n",
    "print('Дубликатов в 2ем регионе -',data_2.duplicated().sum())"
   ]
  },
  {
   "cell_type": "markdown",
   "id": "a7ab2a62",
   "metadata": {},
   "source": [
    "**Вывод**: данные не содержат пропущенных значений, их типы соответсвуют их смыслу и значениям, явные дубликаты отсутствуют. "
   ]
  },
  {
   "cell_type": "code",
   "execution_count": 46,
   "id": "4a69e908",
   "metadata": {},
   "outputs": [
    {
     "data": {
      "text/html": [
       "<div>\n",
       "<style scoped>\n",
       "    .dataframe tbody tr th:only-of-type {\n",
       "        vertical-align: middle;\n",
       "    }\n",
       "\n",
       "    .dataframe tbody tr th {\n",
       "        vertical-align: top;\n",
       "    }\n",
       "\n",
       "    .dataframe thead th {\n",
       "        text-align: right;\n",
       "    }\n",
       "</style>\n",
       "<table border=\"1\" class=\"dataframe\">\n",
       "  <thead>\n",
       "    <tr style=\"text-align: right;\">\n",
       "      <th></th>\n",
       "      <th>f0</th>\n",
       "      <th>f1</th>\n",
       "      <th>f2</th>\n",
       "    </tr>\n",
       "  </thead>\n",
       "  <tbody>\n",
       "    <tr>\n",
       "      <th>f0</th>\n",
       "      <td>1.000000</td>\n",
       "      <td>-0.440723</td>\n",
       "      <td>-0.003153</td>\n",
       "    </tr>\n",
       "    <tr>\n",
       "      <th>f1</th>\n",
       "      <td>-0.440723</td>\n",
       "      <td>1.000000</td>\n",
       "      <td>0.001724</td>\n",
       "    </tr>\n",
       "    <tr>\n",
       "      <th>f2</th>\n",
       "      <td>-0.003153</td>\n",
       "      <td>0.001724</td>\n",
       "      <td>1.000000</td>\n",
       "    </tr>\n",
       "  </tbody>\n",
       "</table>\n",
       "</div>"
      ],
      "text/plain": [
       "          f0        f1        f2\n",
       "f0  1.000000 -0.440723 -0.003153\n",
       "f1 -0.440723  1.000000  0.001724\n",
       "f2 -0.003153  0.001724  1.000000"
      ]
     },
     "execution_count": 46,
     "metadata": {},
     "output_type": "execute_result"
    }
   ],
   "source": [
    "#Оценим взаимосвязь данных, исключив неимеющие для этой процедуры смысла признаки \n",
    "features = ['f0', 'f1', 'f2']\n",
    "drop = ['id', 'product']\n",
    "data_0.drop(drop, axis = 1).corr()"
   ]
  },
  {
   "cell_type": "code",
   "execution_count": 47,
   "id": "7d2e0fa5",
   "metadata": {
    "scrolled": true
   },
   "outputs": [
    {
     "data": {
      "text/html": [
       "<div>\n",
       "<style scoped>\n",
       "    .dataframe tbody tr th:only-of-type {\n",
       "        vertical-align: middle;\n",
       "    }\n",
       "\n",
       "    .dataframe tbody tr th {\n",
       "        vertical-align: top;\n",
       "    }\n",
       "\n",
       "    .dataframe thead th {\n",
       "        text-align: right;\n",
       "    }\n",
       "</style>\n",
       "<table border=\"1\" class=\"dataframe\">\n",
       "  <thead>\n",
       "    <tr style=\"text-align: right;\">\n",
       "      <th></th>\n",
       "      <th>f0</th>\n",
       "      <th>f1</th>\n",
       "      <th>f2</th>\n",
       "    </tr>\n",
       "  </thead>\n",
       "  <tbody>\n",
       "    <tr>\n",
       "      <th>f0</th>\n",
       "      <td>1.000000</td>\n",
       "      <td>0.182287</td>\n",
       "      <td>-0.001777</td>\n",
       "    </tr>\n",
       "    <tr>\n",
       "      <th>f1</th>\n",
       "      <td>0.182287</td>\n",
       "      <td>1.000000</td>\n",
       "      <td>-0.002595</td>\n",
       "    </tr>\n",
       "    <tr>\n",
       "      <th>f2</th>\n",
       "      <td>-0.001777</td>\n",
       "      <td>-0.002595</td>\n",
       "      <td>1.000000</td>\n",
       "    </tr>\n",
       "  </tbody>\n",
       "</table>\n",
       "</div>"
      ],
      "text/plain": [
       "          f0        f1        f2\n",
       "f0  1.000000  0.182287 -0.001777\n",
       "f1  0.182287  1.000000 -0.002595\n",
       "f2 -0.001777 -0.002595  1.000000"
      ]
     },
     "execution_count": 47,
     "metadata": {},
     "output_type": "execute_result"
    }
   ],
   "source": [
    "data_1.drop(drop, axis = 1).corr()"
   ]
  },
  {
   "cell_type": "code",
   "execution_count": 48,
   "id": "39dba1ba",
   "metadata": {
    "scrolled": true
   },
   "outputs": [
    {
     "data": {
      "text/html": [
       "<div>\n",
       "<style scoped>\n",
       "    .dataframe tbody tr th:only-of-type {\n",
       "        vertical-align: middle;\n",
       "    }\n",
       "\n",
       "    .dataframe tbody tr th {\n",
       "        vertical-align: top;\n",
       "    }\n",
       "\n",
       "    .dataframe thead th {\n",
       "        text-align: right;\n",
       "    }\n",
       "</style>\n",
       "<table border=\"1\" class=\"dataframe\">\n",
       "  <thead>\n",
       "    <tr style=\"text-align: right;\">\n",
       "      <th></th>\n",
       "      <th>f0</th>\n",
       "      <th>f1</th>\n",
       "      <th>f2</th>\n",
       "    </tr>\n",
       "  </thead>\n",
       "  <tbody>\n",
       "    <tr>\n",
       "      <th>f0</th>\n",
       "      <td>1.000000</td>\n",
       "      <td>0.000528</td>\n",
       "      <td>-0.000448</td>\n",
       "    </tr>\n",
       "    <tr>\n",
       "      <th>f1</th>\n",
       "      <td>0.000528</td>\n",
       "      <td>1.000000</td>\n",
       "      <td>0.000779</td>\n",
       "    </tr>\n",
       "    <tr>\n",
       "      <th>f2</th>\n",
       "      <td>-0.000448</td>\n",
       "      <td>0.000779</td>\n",
       "      <td>1.000000</td>\n",
       "    </tr>\n",
       "  </tbody>\n",
       "</table>\n",
       "</div>"
      ],
      "text/plain": [
       "          f0        f1        f2\n",
       "f0  1.000000  0.000528 -0.000448\n",
       "f1  0.000528  1.000000  0.000779\n",
       "f2 -0.000448  0.000779  1.000000"
      ]
     },
     "execution_count": 48,
     "metadata": {},
     "output_type": "execute_result"
    }
   ],
   "source": [
    "data_2.drop(drop, axis = 1).corr()"
   ]
  },
  {
   "cell_type": "code",
   "execution_count": 49,
   "id": "c3711d43",
   "metadata": {},
   "outputs": [
    {
     "data": {
      "image/png": "[encoded data removed]",
      "text/plain": [
       "<Figure size 1500x2000 with 4 Axes>"
      ]
     },
     "metadata": {},
     "output_type": "display_data"
    },
    {
     "data": {
      "image/png": "[encoded data removed]",
      "text/plain": [
       "<Figure size 1500x2000 with 4 Axes>"
      ]
     },
     "metadata": {},
     "output_type": "display_data"
    },
    {
     "data": {
      "image/png": "[encoded data removed]",
      "text/plain": [
       "<Figure size 1500x2000 with 4 Axes>"
      ]
     },
     "metadata": {},
     "output_type": "display_data"
    }
   ],
   "source": [
    "for i, data in enumerate(datas):\n",
    "    data.hist(figsize=(15,20))"
   ]
  },
  {
   "cell_type": "code",
   "execution_count": 50,
   "id": "cac96bf2",
   "metadata": {},
   "outputs": [
    {
     "data": {
      "text/html": [
       "<div>\n",
       "<style scoped>\n",
       "    .dataframe tbody tr th:only-of-type {\n",
       "        vertical-align: middle;\n",
       "    }\n",
       "\n",
       "    .dataframe tbody tr th {\n",
       "        vertical-align: top;\n",
       "    }\n",
       "\n",
       "    .dataframe thead th {\n",
       "        text-align: right;\n",
       "    }\n",
       "</style>\n",
       "<table border=\"1\" class=\"dataframe\">\n",
       "  <thead>\n",
       "    <tr style=\"text-align: right;\">\n",
       "      <th></th>\n",
       "      <th>f0</th>\n",
       "      <th>f1</th>\n",
       "      <th>f2</th>\n",
       "      <th>product</th>\n",
       "    </tr>\n",
       "  </thead>\n",
       "  <tbody>\n",
       "    <tr>\n",
       "      <th>count</th>\n",
       "      <td>100000.000000</td>\n",
       "      <td>100000.000000</td>\n",
       "      <td>100000.000000</td>\n",
       "      <td>100000.000000</td>\n",
       "    </tr>\n",
       "    <tr>\n",
       "      <th>mean</th>\n",
       "      <td>0.500419</td>\n",
       "      <td>0.250143</td>\n",
       "      <td>2.502647</td>\n",
       "      <td>92.500000</td>\n",
       "    </tr>\n",
       "    <tr>\n",
       "      <th>std</th>\n",
       "      <td>0.871832</td>\n",
       "      <td>0.504433</td>\n",
       "      <td>3.248248</td>\n",
       "      <td>44.288691</td>\n",
       "    </tr>\n",
       "    <tr>\n",
       "      <th>min</th>\n",
       "      <td>-1.408605</td>\n",
       "      <td>-0.848218</td>\n",
       "      <td>-12.088328</td>\n",
       "      <td>0.000000</td>\n",
       "    </tr>\n",
       "    <tr>\n",
       "      <th>25%</th>\n",
       "      <td>-0.072580</td>\n",
       "      <td>-0.200881</td>\n",
       "      <td>0.287748</td>\n",
       "      <td>56.497507</td>\n",
       "    </tr>\n",
       "    <tr>\n",
       "      <th>50%</th>\n",
       "      <td>0.502360</td>\n",
       "      <td>0.250252</td>\n",
       "      <td>2.515969</td>\n",
       "      <td>91.849972</td>\n",
       "    </tr>\n",
       "    <tr>\n",
       "      <th>75%</th>\n",
       "      <td>1.073581</td>\n",
       "      <td>0.700646</td>\n",
       "      <td>4.715088</td>\n",
       "      <td>128.564089</td>\n",
       "    </tr>\n",
       "    <tr>\n",
       "      <th>max</th>\n",
       "      <td>2.362331</td>\n",
       "      <td>1.343769</td>\n",
       "      <td>16.003790</td>\n",
       "      <td>185.364347</td>\n",
       "    </tr>\n",
       "  </tbody>\n",
       "</table>\n",
       "</div>"
      ],
      "text/plain": [
       "                  f0             f1             f2        product\n",
       "count  100000.000000  100000.000000  100000.000000  100000.000000\n",
       "mean        0.500419       0.250143       2.502647      92.500000\n",
       "std         0.871832       0.504433       3.248248      44.288691\n",
       "min        -1.408605      -0.848218     -12.088328       0.000000\n",
       "25%        -0.072580      -0.200881       0.287748      56.497507\n",
       "50%         0.502360       0.250252       2.515969      91.849972\n",
       "75%         1.073581       0.700646       4.715088     128.564089\n",
       "max         2.362331       1.343769      16.003790     185.364347"
      ]
     },
     "execution_count": 50,
     "metadata": {},
     "output_type": "execute_result"
    }
   ],
   "source": [
    "data_0.describe()"
   ]
  },
  {
   "cell_type": "code",
   "execution_count": 51,
   "id": "2d37743e",
   "metadata": {},
   "outputs": [
    {
     "data": {
      "text/html": [
       "<div>\n",
       "<style scoped>\n",
       "    .dataframe tbody tr th:only-of-type {\n",
       "        vertical-align: middle;\n",
       "    }\n",
       "\n",
       "    .dataframe tbody tr th {\n",
       "        vertical-align: top;\n",
       "    }\n",
       "\n",
       "    .dataframe thead th {\n",
       "        text-align: right;\n",
       "    }\n",
       "</style>\n",
       "<table border=\"1\" class=\"dataframe\">\n",
       "  <thead>\n",
       "    <tr style=\"text-align: right;\">\n",
       "      <th></th>\n",
       "      <th>f0</th>\n",
       "      <th>f1</th>\n",
       "      <th>f2</th>\n",
       "      <th>product</th>\n",
       "    </tr>\n",
       "  </thead>\n",
       "  <tbody>\n",
       "    <tr>\n",
       "      <th>count</th>\n",
       "      <td>100000.000000</td>\n",
       "      <td>100000.000000</td>\n",
       "      <td>100000.000000</td>\n",
       "      <td>100000.000000</td>\n",
       "    </tr>\n",
       "    <tr>\n",
       "      <th>mean</th>\n",
       "      <td>1.141296</td>\n",
       "      <td>-4.796579</td>\n",
       "      <td>2.494541</td>\n",
       "      <td>68.825000</td>\n",
       "    </tr>\n",
       "    <tr>\n",
       "      <th>std</th>\n",
       "      <td>8.965932</td>\n",
       "      <td>5.119872</td>\n",
       "      <td>1.703572</td>\n",
       "      <td>45.944423</td>\n",
       "    </tr>\n",
       "    <tr>\n",
       "      <th>min</th>\n",
       "      <td>-31.609576</td>\n",
       "      <td>-26.358598</td>\n",
       "      <td>-0.018144</td>\n",
       "      <td>0.000000</td>\n",
       "    </tr>\n",
       "    <tr>\n",
       "      <th>25%</th>\n",
       "      <td>-6.298551</td>\n",
       "      <td>-8.267985</td>\n",
       "      <td>1.000021</td>\n",
       "      <td>26.953261</td>\n",
       "    </tr>\n",
       "    <tr>\n",
       "      <th>50%</th>\n",
       "      <td>1.153055</td>\n",
       "      <td>-4.813172</td>\n",
       "      <td>2.011479</td>\n",
       "      <td>57.085625</td>\n",
       "    </tr>\n",
       "    <tr>\n",
       "      <th>75%</th>\n",
       "      <td>8.621015</td>\n",
       "      <td>-1.332816</td>\n",
       "      <td>3.999904</td>\n",
       "      <td>107.813044</td>\n",
       "    </tr>\n",
       "    <tr>\n",
       "      <th>max</th>\n",
       "      <td>29.421755</td>\n",
       "      <td>18.734063</td>\n",
       "      <td>5.019721</td>\n",
       "      <td>137.945408</td>\n",
       "    </tr>\n",
       "  </tbody>\n",
       "</table>\n",
       "</div>"
      ],
      "text/plain": [
       "                  f0             f1             f2        product\n",
       "count  100000.000000  100000.000000  100000.000000  100000.000000\n",
       "mean        1.141296      -4.796579       2.494541      68.825000\n",
       "std         8.965932       5.119872       1.703572      45.944423\n",
       "min       -31.609576     -26.358598      -0.018144       0.000000\n",
       "25%        -6.298551      -8.267985       1.000021      26.953261\n",
       "50%         1.153055      -4.813172       2.011479      57.085625\n",
       "75%         8.621015      -1.332816       3.999904     107.813044\n",
       "max        29.421755      18.734063       5.019721     137.945408"
      ]
     },
     "execution_count": 51,
     "metadata": {},
     "output_type": "execute_result"
    }
   ],
   "source": [
    "data_1.describe()"
   ]
  },
  {
   "cell_type": "code",
   "execution_count": 52,
   "id": "0e363eea",
   "metadata": {},
   "outputs": [
    {
     "data": {
      "text/html": [
       "<div>\n",
       "<style scoped>\n",
       "    .dataframe tbody tr th:only-of-type {\n",
       "        vertical-align: middle;\n",
       "    }\n",
       "\n",
       "    .dataframe tbody tr th {\n",
       "        vertical-align: top;\n",
       "    }\n",
       "\n",
       "    .dataframe thead th {\n",
       "        text-align: right;\n",
       "    }\n",
       "</style>\n",
       "<table border=\"1\" class=\"dataframe\">\n",
       "  <thead>\n",
       "    <tr style=\"text-align: right;\">\n",
       "      <th></th>\n",
       "      <th>f0</th>\n",
       "      <th>f1</th>\n",
       "      <th>f2</th>\n",
       "      <th>product</th>\n",
       "    </tr>\n",
       "  </thead>\n",
       "  <tbody>\n",
       "    <tr>\n",
       "      <th>count</th>\n",
       "      <td>100000.000000</td>\n",
       "      <td>100000.000000</td>\n",
       "      <td>100000.000000</td>\n",
       "      <td>100000.000000</td>\n",
       "    </tr>\n",
       "    <tr>\n",
       "      <th>mean</th>\n",
       "      <td>0.002023</td>\n",
       "      <td>-0.002081</td>\n",
       "      <td>2.495128</td>\n",
       "      <td>95.000000</td>\n",
       "    </tr>\n",
       "    <tr>\n",
       "      <th>std</th>\n",
       "      <td>1.732045</td>\n",
       "      <td>1.730417</td>\n",
       "      <td>3.473445</td>\n",
       "      <td>44.749921</td>\n",
       "    </tr>\n",
       "    <tr>\n",
       "      <th>min</th>\n",
       "      <td>-8.760004</td>\n",
       "      <td>-7.084020</td>\n",
       "      <td>-11.970335</td>\n",
       "      <td>0.000000</td>\n",
       "    </tr>\n",
       "    <tr>\n",
       "      <th>25%</th>\n",
       "      <td>-1.162288</td>\n",
       "      <td>-1.174820</td>\n",
       "      <td>0.130359</td>\n",
       "      <td>59.450441</td>\n",
       "    </tr>\n",
       "    <tr>\n",
       "      <th>50%</th>\n",
       "      <td>0.009424</td>\n",
       "      <td>-0.009482</td>\n",
       "      <td>2.484236</td>\n",
       "      <td>94.925613</td>\n",
       "    </tr>\n",
       "    <tr>\n",
       "      <th>75%</th>\n",
       "      <td>1.158535</td>\n",
       "      <td>1.163678</td>\n",
       "      <td>4.858794</td>\n",
       "      <td>130.595027</td>\n",
       "    </tr>\n",
       "    <tr>\n",
       "      <th>max</th>\n",
       "      <td>7.238262</td>\n",
       "      <td>7.844801</td>\n",
       "      <td>16.739402</td>\n",
       "      <td>190.029838</td>\n",
       "    </tr>\n",
       "  </tbody>\n",
       "</table>\n",
       "</div>"
      ],
      "text/plain": [
       "                  f0             f1             f2        product\n",
       "count  100000.000000  100000.000000  100000.000000  100000.000000\n",
       "mean        0.002023      -0.002081       2.495128      95.000000\n",
       "std         1.732045       1.730417       3.473445      44.749921\n",
       "min        -8.760004      -7.084020     -11.970335       0.000000\n",
       "25%        -1.162288      -1.174820       0.130359      59.450441\n",
       "50%         0.009424      -0.009482       2.484236      94.925613\n",
       "75%         1.158535       1.163678       4.858794     130.595027\n",
       "max         7.238262       7.844801      16.739402     190.029838"
      ]
     },
     "execution_count": 52,
     "metadata": {},
     "output_type": "execute_result"
    }
   ],
   "source": [
    "data_2.describe()"
   ]
  },
  {
   "cell_type": "markdown",
   "id": "a31d2c92",
   "metadata": {},
   "source": [
    "**Вывод**: изучены исходные данные для дальшнего построения модели. Не выявлено пропусков, дубликатов и аномальных значений. Для первого региона выявлена отрицательная корелляция между признаком f0 и f1. "
   ]
  },
  {
   "cell_type": "markdown",
   "id": "aca870a9",
   "metadata": {},
   "source": [
    "Определим наличие неявных дубликатов по столбцу 'id'. "
   ]
  },
  {
   "cell_type": "code",
   "execution_count": 53,
   "id": "7c84b662",
   "metadata": {
    "scrolled": true
   },
   "outputs": [
    {
     "name": "stdout",
     "output_type": "stream",
     "text": [
      "Дубликаты по столбцу id в регионе 0  -  10\n",
      "Дубликаты по столбцу id в регионе 1  -  4\n",
      "Дубликаты по столбцу id в регионе 2  -  4\n"
     ]
    }
   ],
   "source": [
    "for i, data in enumerate(datas):\n",
    "    print('Дубликаты по столбцу id в регионе', i, ' - ', len(data[data['id'].duplicated()]))"
   ]
  },
  {
   "cell_type": "markdown",
   "id": "df530ac6",
   "metadata": {},
   "source": [
    "**Вывод**: наличие подобных дубликатов говорит о том, что необходимо избавиться от неоднозначной информации. Поскольку мы не знаем какие из представленных данных более достоверные, то для корректности дальнейшей работы, уберем все мешающие данные.  "
   ]
  },
  {
   "cell_type": "code",
   "execution_count": 54,
   "id": "824bb92a",
   "metadata": {},
   "outputs": [],
   "source": [
    "#Удаление дубликатов по id \n",
    "for data in datas:\n",
    "    data['id'].drop_duplicates()"
   ]
  },
  {
   "cell_type": "markdown",
   "id": "7a7b4e99",
   "metadata": {},
   "source": [
    "# 2. Модель предсказания запаса сырья "
   ]
  },
  {
   "cell_type": "markdown",
   "id": "433ad823",
   "metadata": {},
   "source": [
    "Создадим модель предсказывающую запас сырья в каждом из представленных регионов. Для этого разобьем исходную выборку на обучающую и валидационную и примененим в качестве механизма предсказания **линейную регрессию**. "
   ]
  },
  {
   "cell_type": "code",
   "execution_count": 55,
   "id": "82c93519",
   "metadata": {},
   "outputs": [
    {
     "name": "stdout",
     "output_type": "stream",
     "text": [
      "0 - (100000, 5)\n",
      "1 - (100000, 5)\n",
      "2 - (100000, 5)\n"
     ]
    }
   ],
   "source": [
    "#Проверим исходный размер выборок\n",
    "for i, data in enumerate(datas):\n",
    "    print(i,'-', data.shape)"
   ]
  },
  {
   "cell_type": "code",
   "execution_count": 56,
   "id": "08b2af56",
   "metadata": {},
   "outputs": [],
   "source": [
    "#Объединим для удобства все данные в списки \n",
    "target = []\n",
    "features = [] \n",
    "features_train = []\n",
    "features_valid = []\n",
    "target_train = []\n",
    "target_valid = []\n",
    "for data in datas:\n",
    "    target.append(data['product'])\n",
    "    features.append(data.drop(['product', 'id'] , axis=1))"
   ]
  },
  {
   "cell_type": "code",
   "execution_count": 57,
   "id": "77c4e394",
   "metadata": {},
   "outputs": [],
   "source": [
    "#Разделим каждую из трех исходных выборок на тренировочную и валидационную \n",
    "for i in range(len(datas)):\n",
    "    features_train_i, features_valid_i, target_train_i, target_valid_i = train_test_split(\n",
    "    features[i], target[i], test_size=0.25, random_state=12345)\n",
    "    features_train.append(features_train_i)\n",
    "    features_valid.append(features_valid_i)\n",
    "    target_train.append(target_train_i)\n",
    "    target_valid.append(target_valid_i)\n"
   ]
  },
  {
   "cell_type": "code",
   "execution_count": 58,
   "id": "5ecd5ae2",
   "metadata": {
    "scrolled": true
   },
   "outputs": [
    {
     "name": "stdout",
     "output_type": "stream",
     "text": [
      "Target Valid shapes\n",
      "0 - (25000,)\n",
      "1 - (25000,)\n",
      "2 - (25000,)\n"
     ]
    }
   ],
   "source": [
    "#Проверим конечный размер выборок\n",
    "print('Target Valid shapes')\n",
    "for i, targ in enumerate(target_valid):\n",
    "    print(i,'-', targ.shape)"
   ]
  },
  {
   "cell_type": "code",
   "execution_count": 59,
   "id": "13ffc844",
   "metadata": {},
   "outputs": [
    {
     "name": "stdout",
     "output_type": "stream",
     "text": [
      "Target train shapes\n",
      "0 - (75000,)\n",
      "1 - (75000,)\n",
      "2 - (75000,)\n"
     ]
    }
   ],
   "source": [
    "#Проверим конечный размер выборок\n",
    "print('Target train shapes')\n",
    "for i, targ in enumerate(target_train):\n",
    "    print(i,'-', targ.shape)"
   ]
  },
  {
   "cell_type": "code",
   "execution_count": 60,
   "id": "57384a86",
   "metadata": {
    "scrolled": true
   },
   "outputs": [
    {
     "name": "stdout",
     "output_type": "stream",
     "text": [
      "Для региона 0 RMSE = 37.5794217150813\n",
      "Средний запас предсказанного сырья 92.59256778438035\n",
      "Для региона 1 RMSE = 0.8930992867756165\n",
      "Средний запас предсказанного сырья 68.72854689544602\n",
      "Для региона 2 RMSE = 40.02970873393434\n",
      "Средний запас предсказанного сырья 94.96504596800489\n"
     ]
    }
   ],
   "source": [
    "#Произведем моделирование с помощью линейной регрессии\n",
    "model = []\n",
    "predicted_valid = []\n",
    "for i in range(len(datas)):\n",
    "    model.append(LinearRegression())\n",
    "    model[i].fit(features_train[i], target_train[i])\n",
    "    predicted_valid.append(pd.Series(model[i].predict(features_valid[i])))\n",
    "    mse = mean_squared_error(target_valid[i], predicted_valid[i])\n",
    "    print('Для региона', i, 'RMSE =', mse**0.5 )\n",
    "    print('Средний запас предсказанного сырья', predicted_valid[i].mean() )"
   ]
  },
  {
   "cell_type": "markdown",
   "id": "595e6816",
   "metadata": {},
   "source": [
    "**Вывод**: проведено моделирование для запасов сырья каждого из трех регионов с помощью линейной регрессии. Качество моделирования оценено с помощью параметра RMSE и достигает наилучшего значения для региона 1. \n",
    "Для предсказанных значений product расчитаны также средние значения и составляют:\n",
    "- для 0 - **92.6** тыс. бар.\n",
    "- для 1 - **68.7** тыс. бар. \n",
    "- для 2 - **94.9** тыс. бар."
   ]
  },
  {
   "cell_type": "markdown",
   "id": "8867db41",
   "metadata": {},
   "source": [
    "Приведем данные к единому формату для дальнейших вычислений. "
   ]
  },
  {
   "cell_type": "code",
   "execution_count": 61,
   "id": "e5550dcd",
   "metadata": {},
   "outputs": [],
   "source": [
    "for i, target in enumerate(target_valid):\n",
    "    target_valid[i] = target_valid[i].reset_index(drop=True)\n",
    "for predicted in predicted_valid:\n",
    "    predicted = pd.Series(predicted)"
   ]
  },
  {
   "cell_type": "markdown",
   "id": "8e5c82cf",
   "metadata": {},
   "source": [
    "\n"
   ]
  },
  {
   "cell_type": "markdown",
   "id": "804f565e",
   "metadata": {},
   "source": [
    "# 3. Расчет прибыли "
   ]
  },
  {
   "cell_type": "markdown",
   "id": "ea497e4b",
   "metadata": {},
   "source": [
    "\n",
    "Реализуем функцию для расчета прибыли по выбранным скважинам и предсказаниям созданной модели. "
   ]
  },
  {
   "cell_type": "code",
   "execution_count": 62,
   "id": "59da9e86",
   "metadata": {
    "scrolled": false
   },
   "outputs": [
    {
     "name": "stdout",
     "output_type": "stream",
     "text": [
      "Минимальное количество продукта для безубыточной добычи 111.11111111111111\n"
     ]
    }
   ],
   "source": [
    "min_number_of_products = (BUDGET_FOR_REGION/NUMBER_OF_LOCATIONS/INCOME_FROM_PRODUCT)\n",
    "print ('Минимальное количество продукта для безубыточной добычи', min_number_of_products)"
   ]
  },
  {
   "cell_type": "markdown",
   "id": "b04701ec",
   "metadata": {},
   "source": [
    "**Вывод**: минимальное необходимое количество продукта для безубыточной добычи превышает раннее найденые предсказанные значения средних запасов в каждом регионе.  "
   ]
  },
  {
   "cell_type": "markdown",
   "id": "d9348630",
   "metadata": {},
   "source": [
    "**Вывод**: полученные данные(средние значения и минимальное необходимое количство продукта) не позволяют сделать окончательные выводы о потенциале имеющихся регионов. Для дальнейшего анализа воспользуемся технологией бутстрапирования. Данный статистический метод позволит более полно проанализировать возможную прибыль с каждого региона.  В данном случае бутстрапирование  позволяет построить распределение вероятностей прибыли и рисков в регионе на основе имеющихся данных. Такой подход позволит получить более надежные оценки прибыли и рисков для осуществления бизнес плана в регионе. "
   ]
  },
  {
   "cell_type": "markdown",
   "id": "21373cec",
   "metadata": {},
   "source": [
    "Для реализации функции выберем скважины с максимальным значением предсказаний, просуммируем **целевые значения** объема сырья, соответствующие этим предсказаниям и расчитаем прибыль с полученного объема.\n"
   ]
  },
  {
   "cell_type": "markdown",
   "id": "c6d932ec",
   "metadata": {},
   "source": [
    "# 4. Расчет средней прибыли, рисков и доверительных интервалов "
   ]
  },
  {
   "cell_type": "markdown",
   "id": "255cf586",
   "metadata": {},
   "source": [
    "Используем технологию Bootstrap c 1000 выборок для подсчета средней прибыли с выбранных регионов "
   ]
  },
  {
   "cell_type": "code",
   "execution_count": 64,
   "id": "88695d0e",
   "metadata": {},
   "outputs": [],
   "source": [
    "#функция bootstrap подсчета средней прибыли\n",
    "def income_bootstrap(target, predicted):\n",
    "    state = RandomState(12345)\n",
    "    values = []\n",
    "    for i in range(1000):\n",
    "        #сгенерированный список целевых значений размером 500\n",
    "        target_subsample = target.sample(n = TOTAL_NUMBER_OF_LOCATIONS, replace=True, random_state=state)\n",
    "        predicted_subsample = predicted[target_subsample.index]\n",
    "        values.append(income_calculation(target_subsample, predicted_subsample))\n",
    "    values = pd.Series(values)\n",
    "    values_mean = int(values.mean())\n",
    "    \n",
    "    #расчет нижней и верхней границы доверительного интервала\n",
    "    lower = int(values.quantile(q=0.025))\n",
    "    upper = int(values.quantile(q=0.975))\n",
    "    #расчет убытков в процентах\n",
    "    risk = int(len(values[values < 0]) / len(values) * 100)\n",
    "    risk = len(values[values < 0]) / len(values) * 100\n",
    "    return values_mean, lower, upper, risk"
   ]
  },
  {
   "cell_type": "code",
   "execution_count": 65,
   "id": "4557241d",
   "metadata": {
    "scrolled": false
   },
   "outputs": [
    {
     "name": "stdout",
     "output_type": "stream",
     "text": [
      "Средняя прибыль для региона 0   425\n",
      "95% доверительный интервал для региона 0   -102 - 947\n",
      "Риск убытков в процентах для региона 0   6.0\n",
      "Средняя прибыль для региона 1   515\n",
      "95% доверительный интервал для региона 1   68 - 931\n",
      "Риск убытков в процентах для региона 1   1.0\n",
      "Средняя прибыль для региона 2   435\n",
      "95% доверительный интервал для региона 2   -128 - 969\n",
      "Риск убытков в процентах для региона 2   6.4\n"
     ]
    }
   ],
   "source": [
    "mean_income = []\n",
    "for i in range(len(target_valid)):\n",
    "    values_mean, lower, upper, risk = income_bootstrap(target_valid[i], predicted_valid[i])\n",
    "    print(\"Средняя прибыль для региона\", i, ' ', values_mean)\n",
    "    print('95% доверительный интервал для региона', i, ' ', lower, '-', upper)\n",
    "    print('Риск убытков в процентах для региона', i,' ', risk)\n",
    "    mean_income.append(values_mean)"
   ]
  },
  {
   "cell_type": "code",
   "execution_count": 66,
   "id": "a67def80",
   "metadata": {
    "scrolled": true
   },
   "outputs": [
    {
     "data": {
      "text/plain": [
       "Text(0, 0.5, 'Млн. руб.')"
      ]
     },
     "execution_count": 66,
     "metadata": {},
     "output_type": "execute_result"
    },
    {
     "data": {
      "image/png": "[encoded data removed]",
      "text/plain": [
       "<Figure size 640x480 with 1 Axes>"
      ]
     },
     "metadata": {},
     "output_type": "display_data"
    }
   ],
   "source": [
    "#Визуализируем средную прибыль для каждого из регионов\n",
    "mean_income = pd.Series(mean_income)\n",
    "mean_income.plot(kind='bar');\n",
    "plt.title('Средняя прибыль регионов')\n",
    "plt.xlabel('Регион')\n",
    "plt.ylabel('Млн. руб.')"
   ]
  },
  {
   "cell_type": "markdown",
   "id": "e85e3a04",
   "metadata": {},
   "source": [
    "# Вывод"
   ]
  },
  {
   "cell_type": "markdown",
   "id": "01a20ac2",
   "metadata": {},
   "source": [
    "В рамках проекта был  проведен анализ добычи нефти в трех различных регионах для компании «ГлавРосГосНефть».Используя данные для каждой из имеющихся скважин, была создана модель, которая позволила предсказать регион с максимальной возможной прибылью."
   ]
  },
  {
   "cell_type": "markdown",
   "id": "669c8673",
   "metadata": {},
   "source": [
    "Была создана модель, предсказывающая значения количества сырья в каждом из регионов со следующими средними значеними \n",
    "- для 0 - **92.6** тыс. бар.\n",
    "- для 1 - **68.7** тыс. бар. \n",
    "- для 2 - **94.9** тыс. бар."
   ]
  },
  {
   "cell_type": "markdown",
   "id": "d88091ff",
   "metadata": {},
   "source": [
    "Был расчитан минимальный объем сырья, который необходим для безубыточной добычи. Он равен **111.1** тыс. бар. "
   ]
  },
  {
   "cell_type": "markdown",
   "id": "819d7a6a",
   "metadata": {},
   "source": [
    "Для расчета возможной прибыли была применена технолгия bootstrap  и получены следующие результаты"
   ]
  },
  {
   "cell_type": "markdown",
   "id": "d8fbbc82",
   "metadata": {},
   "source": [
    "Регион **0**"
   ]
  },
  {
   "cell_type": "markdown",
   "id": "d44d8653",
   "metadata": {},
   "source": [
    "- Средняя прибыль для региона 0   **425938526** руб. \n",
    "- 95% доверительный интервал для региона 0   **-102090094 - 947976353**\n",
    "- Риск убытков в процентах для региона 0   **6%**\n"
   ]
  },
  {
   "cell_type": "markdown",
   "id": "1864e237",
   "metadata": {},
   "source": [
    "Регион **1**"
   ]
  },
  {
   "cell_type": "markdown",
   "id": "98a544d1",
   "metadata": {},
   "source": [
    "- Средняя прибыль для региона 1  **515222773** руб.\n",
    "- 95% доверительный интервал для региона 1   **68873225 - 931547591**\n",
    "- Риск убытков в процентах для региона 1   **1%**\n"
   ]
  },
  {
   "cell_type": "markdown",
   "id": "54c650c2",
   "metadata": {},
   "source": [
    "Регион **2**"
   ]
  },
  {
   "cell_type": "markdown",
   "id": "7510017a",
   "metadata": {},
   "source": [
    "- Средняя прибыль для региона 2   **435008362** руб. \n",
    "- 95% доверительный интервал для региона 2   **-128880547 - 969706954**\n",
    "- Риск убытков в процентах для региона 2   **6%**"
   ]
  },
  {
   "cell_type": "markdown",
   "id": "ba9c94c7",
   "metadata": {},
   "source": [
    "На основе представленного анализа можно сделать вывод, что наиболее перспективным для добычи является **регион 1**. "
   ]
  }
 ],
 "metadata": {
  "ExecuteTimeLog": [
   {
    "duration": 1282,
    "start_time": "2023-07-31T00:15:13.866Z"
   },
   {
    "duration": 892,
    "start_time": "2023-07-31T00:15:15.152Z"
   },
   {
    "duration": 3,
    "start_time": "2023-07-31T00:15:16.046Z"
   },
   {
    "duration": 22,
    "start_time": "2023-07-31T00:15:16.051Z"
   },
   {
    "duration": 12,
    "start_time": "2023-07-31T00:15:16.075Z"
   },
   {
    "duration": 16,
    "start_time": "2023-07-31T00:15:16.089Z"
   },
   {
    "duration": 19,
    "start_time": "2023-07-31T00:15:16.107Z"
   },
   {
    "duration": 33,
    "start_time": "2023-07-31T00:15:16.129Z"
   },
   {
    "duration": 15,
    "start_time": "2023-07-31T00:15:16.164Z"
   },
   {
    "duration": 176,
    "start_time": "2023-07-31T00:15:16.182Z"
   },
   {
    "duration": 17,
    "start_time": "2023-07-31T00:15:16.360Z"
   },
   {
    "duration": 14,
    "start_time": "2023-07-31T00:15:16.378Z"
   },
   {
    "duration": 12,
    "start_time": "2023-07-31T00:15:16.394Z"
   },
   {
    "duration": 1944,
    "start_time": "2023-07-31T00:15:16.408Z"
   },
   {
    "duration": 49,
    "start_time": "2023-07-31T00:15:18.354Z"
   },
   {
    "duration": 61,
    "start_time": "2023-07-31T00:15:18.405Z"
   },
   {
    "duration": 38,
    "start_time": "2023-07-31T00:15:18.468Z"
   },
   {
    "duration": 4,
    "start_time": "2023-07-31T00:15:18.508Z"
   },
   {
    "duration": 11,
    "start_time": "2023-07-31T00:15:18.514Z"
   },
   {
    "duration": 55,
    "start_time": "2023-07-31T00:15:18.526Z"
   },
   {
    "duration": 5,
    "start_time": "2023-07-31T00:15:18.583Z"
   },
   {
    "duration": 9,
    "start_time": "2023-07-31T00:15:18.590Z"
   },
   {
    "duration": 262,
    "start_time": "2023-07-31T00:15:18.601Z"
   },
   {
    "duration": 88,
    "start_time": "2023-07-31T00:15:18.866Z"
   },
   {
    "duration": 102,
    "start_time": "2023-07-31T00:15:18.957Z"
   },
   {
    "duration": 6,
    "start_time": "2023-07-31T00:15:19.060Z"
   },
   {
    "duration": 10,
    "start_time": "2023-07-31T00:15:19.067Z"
   },
   {
    "duration": 4284,
    "start_time": "2023-07-31T00:15:19.080Z"
   },
   {
    "duration": 120,
    "start_time": "2023-07-31T00:15:23.365Z"
   }
  ],
  "kernelspec": {
   "display_name": "Python 3 (ipykernel)",
   "language": "python",
   "name": "python3"
  },
  "language_info": {
   "codemirror_mode": {
    "name": "ipython",
    "version": 3
   },
   "file_extension": ".py",
   "mimetype": "text/x-python",
   "name": "python",
   "nbconvert_exporter": "python",
   "pygments_lexer": "ipython3",
   "version": "3.9.16"
  },
  "toc": {
   "base_numbering": 1,
   "nav_menu": {},
   "number_sections": true,
   "sideBar": true,
   "skip_h1_title": true,
   "title_cell": "Table of Contents",
   "title_sidebar": "Contents",
   "toc_cell": false,
   "toc_position": {},
   "toc_section_display": true,
   "toc_window_display": false
  }
 },
 "nbformat": 4,
 "nbformat_minor": 5
}
