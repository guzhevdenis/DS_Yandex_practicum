{
 "cells": [
  {
   "cell_type": "markdown",
   "id": "8525637e",
   "metadata": {},
   "source": [
    "# Отток клиентов\n",
    "\n",
    "Для создания модели, которая будет прогнозировать возможность ухода клиента из \"Бета-Банка\", проведем специальное исследование. Для этого воспользуемся данными по имеющемуся оттоку клиентов. Данные будут представлять из себя таблицу с следующими признаками: \n",
    "- RowNumber — индекс строки в данных\n",
    "- CustomerId — уникальный идентификатор клиента\n",
    "- Surname — фамилия\n",
    "- CreditScore — кредитный рейтинг\n",
    "- Geography — страна проживания\n",
    "- Gender — пол\n",
    "- Age — возраст\n",
    "- Tenure — сколько лет человек является клиентом банка\n",
    "- Balance — баланс на счёте\n",
    "- NumOfProducts — количество продуктов банка, используемых клиентом\n",
    "- HasCrCard — наличие кредитной карты\n",
    "- IsActiveMember — активность клиента\n",
    "- EstimatedSalary — предполагаемая зарплата\n",
    "И в качестве целевого признака, будем использовать \n",
    "- Exited — факт ухода клиента\n",
    "<br>\n",
    "Именно целевой признак мы будем предсказывать в создаваемой нами модели. "
   ]
  },
  {
   "cell_type": "markdown",
   "id": "377587a3",
   "metadata": {},
   "source": [
    "Описанная проблема может быть обозначена как задача классификации. Нам необходимо научить нашу модель распределять (классифицировать) данные по двум категориям - Уйдет или Не уйдет клиент из банка. \n",
    "В ходе нашего исследования мы распределим данные на обучающую, валидационную и тестовую выборки. Затем применим различные модели для обучения (с разными гиперпараметрами) и исследуем качество полученных моделей. И в конце, проанализируем и сравним полученные результаты. "
   ]
  },
  {
   "cell_type": "code",
   "execution_count": 20,
   "id": "c135e4ad",
   "metadata": {},
   "outputs": [],
   "source": [
    "#Импортируем все используемые в проекте библиотеки\n",
    "import pandas as pd\n",
    "import seaborn as sns\n",
    "import matplotlib.pyplot as plt\n",
    "from scipy import stats as st\n",
    "import numpy as np\n",
    "from scipy.stats import binom, norm\n",
    "from joblib import dump\n",
    "from sklearn.ensemble import RandomForestClassifier \n",
    "from sklearn.linear_model import LogisticRegression \n",
    "# Напишите код здесь\n",
    "from sklearn.model_selection import train_test_split\n",
    "from sklearn.tree import DecisionTreeClassifier\n",
    "from sklearn.metrics import accuracy_score\n",
    "from sklearn.dummy import DummyClassifier\n",
    "from sklearn.preprocessing import StandardScaler\n",
    "from sklearn.metrics import confusion_matrix\n",
    "from sklearn.metrics import recall_score\n",
    "from sklearn.metrics import precision_score\n",
    "from sklearn.metrics import f1_score\n",
    "from sklearn.utils import shuffle\n",
    "from sklearn.metrics import roc_auc_score \n",
    "from sklearn.preprocessing import OneHotEncoder\n",
    "from sklearn.compose import make_column_transformer"
   ]
  },
  {
   "cell_type": "markdown",
   "id": "226d9291",
   "metadata": {},
   "source": [
    "# 1. Изучение исходных данных"
   ]
  },
  {
   "cell_type": "markdown",
   "id": "13c40ef7",
   "metadata": {},
   "source": [
    "В ходе изучения наших данных исследуем представленные типы данных, пропуски и дубликаты значений, проанализируем исходные данные на взаимосвязанность. "
   ]
  },
  {
   "cell_type": "code",
   "execution_count": 21,
   "id": "cadbb904",
   "metadata": {
    "scrolled": true
   },
   "outputs": [],
   "source": [
    "#Считываем csv файлы с данными и сохраняем их в соответсвующие датафреймы\n",
    "try:\n",
    "    data = pd.read_csv('/datasets/Churn.csv')\n",
    "except:\n",
    "    data = pd.read_csv('Churn.csv')  "
   ]
  },
  {
   "cell_type": "code",
   "execution_count": 22,
   "id": "d4687986",
   "metadata": {
    "scrolled": false
   },
   "outputs": [
    {
     "data": {
      "text/html": [
       "<div>\n",
       "<style scoped>\n",
       "    .dataframe tbody tr th:only-of-type {\n",
       "        vertical-align: middle;\n",
       "    }\n",
       "\n",
       "    .dataframe tbody tr th {\n",
       "        vertical-align: top;\n",
       "    }\n",
       "\n",
       "    .dataframe thead th {\n",
       "        text-align: right;\n",
       "    }\n",
       "</style>\n",
       "<table border=\"1\" class=\"dataframe\">\n",
       "  <thead>\n",
       "    <tr style=\"text-align: right;\">\n",
       "      <th></th>\n",
       "      <th>RowNumber</th>\n",
       "      <th>CustomerId</th>\n",
       "      <th>Surname</th>\n",
       "      <th>CreditScore</th>\n",
       "      <th>Geography</th>\n",
       "      <th>Gender</th>\n",
       "      <th>Age</th>\n",
       "      <th>Tenure</th>\n",
       "      <th>Balance</th>\n",
       "      <th>NumOfProducts</th>\n",
       "      <th>HasCrCard</th>\n",
       "      <th>IsActiveMember</th>\n",
       "      <th>EstimatedSalary</th>\n",
       "      <th>Exited</th>\n",
       "    </tr>\n",
       "  </thead>\n",
       "  <tbody>\n",
       "    <tr>\n",
       "      <th>0</th>\n",
       "      <td>1</td>\n",
       "      <td>15634602</td>\n",
       "      <td>Hargrave</td>\n",
       "      <td>619</td>\n",
       "      <td>France</td>\n",
       "      <td>Female</td>\n",
       "      <td>42</td>\n",
       "      <td>2.0</td>\n",
       "      <td>0.00</td>\n",
       "      <td>1</td>\n",
       "      <td>1</td>\n",
       "      <td>1</td>\n",
       "      <td>101348.88</td>\n",
       "      <td>1</td>\n",
       "    </tr>\n",
       "    <tr>\n",
       "      <th>1</th>\n",
       "      <td>2</td>\n",
       "      <td>15647311</td>\n",
       "      <td>Hill</td>\n",
       "      <td>608</td>\n",
       "      <td>Spain</td>\n",
       "      <td>Female</td>\n",
       "      <td>41</td>\n",
       "      <td>1.0</td>\n",
       "      <td>83807.86</td>\n",
       "      <td>1</td>\n",
       "      <td>0</td>\n",
       "      <td>1</td>\n",
       "      <td>112542.58</td>\n",
       "      <td>0</td>\n",
       "    </tr>\n",
       "    <tr>\n",
       "      <th>2</th>\n",
       "      <td>3</td>\n",
       "      <td>15619304</td>\n",
       "      <td>Onio</td>\n",
       "      <td>502</td>\n",
       "      <td>France</td>\n",
       "      <td>Female</td>\n",
       "      <td>42</td>\n",
       "      <td>8.0</td>\n",
       "      <td>159660.80</td>\n",
       "      <td>3</td>\n",
       "      <td>1</td>\n",
       "      <td>0</td>\n",
       "      <td>113931.57</td>\n",
       "      <td>1</td>\n",
       "    </tr>\n",
       "    <tr>\n",
       "      <th>3</th>\n",
       "      <td>4</td>\n",
       "      <td>15701354</td>\n",
       "      <td>Boni</td>\n",
       "      <td>699</td>\n",
       "      <td>France</td>\n",
       "      <td>Female</td>\n",
       "      <td>39</td>\n",
       "      <td>1.0</td>\n",
       "      <td>0.00</td>\n",
       "      <td>2</td>\n",
       "      <td>0</td>\n",
       "      <td>0</td>\n",
       "      <td>93826.63</td>\n",
       "      <td>0</td>\n",
       "    </tr>\n",
       "    <tr>\n",
       "      <th>4</th>\n",
       "      <td>5</td>\n",
       "      <td>15737888</td>\n",
       "      <td>Mitchell</td>\n",
       "      <td>850</td>\n",
       "      <td>Spain</td>\n",
       "      <td>Female</td>\n",
       "      <td>43</td>\n",
       "      <td>2.0</td>\n",
       "      <td>125510.82</td>\n",
       "      <td>1</td>\n",
       "      <td>1</td>\n",
       "      <td>1</td>\n",
       "      <td>79084.10</td>\n",
       "      <td>0</td>\n",
       "    </tr>\n",
       "    <tr>\n",
       "      <th>5</th>\n",
       "      <td>6</td>\n",
       "      <td>15574012</td>\n",
       "      <td>Chu</td>\n",
       "      <td>645</td>\n",
       "      <td>Spain</td>\n",
       "      <td>Male</td>\n",
       "      <td>44</td>\n",
       "      <td>8.0</td>\n",
       "      <td>113755.78</td>\n",
       "      <td>2</td>\n",
       "      <td>1</td>\n",
       "      <td>0</td>\n",
       "      <td>149756.71</td>\n",
       "      <td>1</td>\n",
       "    </tr>\n",
       "    <tr>\n",
       "      <th>6</th>\n",
       "      <td>7</td>\n",
       "      <td>15592531</td>\n",
       "      <td>Bartlett</td>\n",
       "      <td>822</td>\n",
       "      <td>France</td>\n",
       "      <td>Male</td>\n",
       "      <td>50</td>\n",
       "      <td>7.0</td>\n",
       "      <td>0.00</td>\n",
       "      <td>2</td>\n",
       "      <td>1</td>\n",
       "      <td>1</td>\n",
       "      <td>10062.80</td>\n",
       "      <td>0</td>\n",
       "    </tr>\n",
       "    <tr>\n",
       "      <th>7</th>\n",
       "      <td>8</td>\n",
       "      <td>15656148</td>\n",
       "      <td>Obinna</td>\n",
       "      <td>376</td>\n",
       "      <td>Germany</td>\n",
       "      <td>Female</td>\n",
       "      <td>29</td>\n",
       "      <td>4.0</td>\n",
       "      <td>115046.74</td>\n",
       "      <td>4</td>\n",
       "      <td>1</td>\n",
       "      <td>0</td>\n",
       "      <td>119346.88</td>\n",
       "      <td>1</td>\n",
       "    </tr>\n",
       "    <tr>\n",
       "      <th>8</th>\n",
       "      <td>9</td>\n",
       "      <td>15792365</td>\n",
       "      <td>He</td>\n",
       "      <td>501</td>\n",
       "      <td>France</td>\n",
       "      <td>Male</td>\n",
       "      <td>44</td>\n",
       "      <td>4.0</td>\n",
       "      <td>142051.07</td>\n",
       "      <td>2</td>\n",
       "      <td>0</td>\n",
       "      <td>1</td>\n",
       "      <td>74940.50</td>\n",
       "      <td>0</td>\n",
       "    </tr>\n",
       "    <tr>\n",
       "      <th>9</th>\n",
       "      <td>10</td>\n",
       "      <td>15592389</td>\n",
       "      <td>H?</td>\n",
       "      <td>684</td>\n",
       "      <td>France</td>\n",
       "      <td>Male</td>\n",
       "      <td>27</td>\n",
       "      <td>2.0</td>\n",
       "      <td>134603.88</td>\n",
       "      <td>1</td>\n",
       "      <td>1</td>\n",
       "      <td>1</td>\n",
       "      <td>71725.73</td>\n",
       "      <td>0</td>\n",
       "    </tr>\n",
       "  </tbody>\n",
       "</table>\n",
       "</div>"
      ],
      "text/plain": [
       "   RowNumber  CustomerId   Surname  CreditScore Geography  Gender  Age  \\\n",
       "0          1    15634602  Hargrave          619    France  Female   42   \n",
       "1          2    15647311      Hill          608     Spain  Female   41   \n",
       "2          3    15619304      Onio          502    France  Female   42   \n",
       "3          4    15701354      Boni          699    France  Female   39   \n",
       "4          5    15737888  Mitchell          850     Spain  Female   43   \n",
       "5          6    15574012       Chu          645     Spain    Male   44   \n",
       "6          7    15592531  Bartlett          822    France    Male   50   \n",
       "7          8    15656148    Obinna          376   Germany  Female   29   \n",
       "8          9    15792365        He          501    France    Male   44   \n",
       "9         10    15592389        H?          684    France    Male   27   \n",
       "\n",
       "   Tenure    Balance  NumOfProducts  HasCrCard  IsActiveMember  \\\n",
       "0     2.0       0.00              1          1               1   \n",
       "1     1.0   83807.86              1          0               1   \n",
       "2     8.0  159660.80              3          1               0   \n",
       "3     1.0       0.00              2          0               0   \n",
       "4     2.0  125510.82              1          1               1   \n",
       "5     8.0  113755.78              2          1               0   \n",
       "6     7.0       0.00              2          1               1   \n",
       "7     4.0  115046.74              4          1               0   \n",
       "8     4.0  142051.07              2          0               1   \n",
       "9     2.0  134603.88              1          1               1   \n",
       "\n",
       "   EstimatedSalary  Exited  \n",
       "0        101348.88       1  \n",
       "1        112542.58       0  \n",
       "2        113931.57       1  \n",
       "3         93826.63       0  \n",
       "4         79084.10       0  \n",
       "5        149756.71       1  \n",
       "6         10062.80       0  \n",
       "7        119346.88       1  \n",
       "8         74940.50       0  \n",
       "9         71725.73       0  "
      ]
     },
     "execution_count": 22,
     "metadata": {},
     "output_type": "execute_result"
    }
   ],
   "source": [
    "#Выведем первые 10 строчек из датафрейма\n",
    "data.head(10)"
   ]
  },
  {
   "cell_type": "code",
   "execution_count": 23,
   "id": "6c037318",
   "metadata": {
    "scrolled": false
   },
   "outputs": [
    {
     "name": "stdout",
     "output_type": "stream",
     "text": [
      "<class 'pandas.core.frame.DataFrame'>\n",
      "RangeIndex: 10000 entries, 0 to 9999\n",
      "Data columns (total 14 columns):\n",
      " #   Column           Non-Null Count  Dtype  \n",
      "---  ------           --------------  -----  \n",
      " 0   RowNumber        10000 non-null  int64  \n",
      " 1   CustomerId       10000 non-null  int64  \n",
      " 2   Surname          10000 non-null  object \n",
      " 3   CreditScore      10000 non-null  int64  \n",
      " 4   Geography        10000 non-null  object \n",
      " 5   Gender           10000 non-null  object \n",
      " 6   Age              10000 non-null  int64  \n",
      " 7   Tenure           9091 non-null   float64\n",
      " 8   Balance          10000 non-null  float64\n",
      " 9   NumOfProducts    10000 non-null  int64  \n",
      " 10  HasCrCard        10000 non-null  int64  \n",
      " 11  IsActiveMember   10000 non-null  int64  \n",
      " 12  EstimatedSalary  10000 non-null  float64\n",
      " 13  Exited           10000 non-null  int64  \n",
      "dtypes: float64(3), int64(8), object(3)\n",
      "memory usage: 1.1+ MB\n"
     ]
    }
   ],
   "source": [
    "#Выведем общую информацию о данных \n",
    "data.info()"
   ]
  },
  {
   "cell_type": "code",
   "execution_count": 24,
   "id": "a3e0df1a",
   "metadata": {},
   "outputs": [],
   "source": [
    "data = data.drop('RowNumber', axis = 1)\n",
    "data = data.drop('CustomerId', axis = 1)\n",
    "data = data.drop('Surname', axis = 1)"
   ]
  },
  {
   "cell_type": "code",
   "execution_count": 25,
   "id": "5e609172",
   "metadata": {},
   "outputs": [
    {
     "name": "stdout",
     "output_type": "stream",
     "text": [
      "<class 'pandas.core.frame.DataFrame'>\n",
      "RangeIndex: 10000 entries, 0 to 9999\n",
      "Data columns (total 11 columns):\n",
      " #   Column           Non-Null Count  Dtype  \n",
      "---  ------           --------------  -----  \n",
      " 0   CreditScore      10000 non-null  int64  \n",
      " 1   Geography        10000 non-null  object \n",
      " 2   Gender           10000 non-null  object \n",
      " 3   Age              10000 non-null  int64  \n",
      " 4   Tenure           9091 non-null   float64\n",
      " 5   Balance          10000 non-null  float64\n",
      " 6   NumOfProducts    10000 non-null  int64  \n",
      " 7   HasCrCard        10000 non-null  int64  \n",
      " 8   IsActiveMember   10000 non-null  int64  \n",
      " 9   EstimatedSalary  10000 non-null  float64\n",
      " 10  Exited           10000 non-null  int64  \n",
      "dtypes: float64(3), int64(6), object(2)\n",
      "memory usage: 859.5+ KB\n"
     ]
    }
   ],
   "source": [
    "data.info()"
   ]
  },
  {
   "cell_type": "markdown",
   "id": "d6c13443",
   "metadata": {},
   "source": [
    "**Вывод**: Из представленного можно сделать вывод для большинства данных их типы соотносятся с их смысловым значением. Для признака Tenure - количество лет, которое выражается целым числом, можно провести оптимизацию и заменить тип на *int*. "
   ]
  },
  {
   "cell_type": "code",
   "execution_count": 26,
   "id": "4c58eb67",
   "metadata": {},
   "outputs": [],
   "source": [
    "#Изменить тип признака Tenure на int\n",
    "data['Tenure'] = data['Tenure'].astype('Int32')"
   ]
  },
  {
   "cell_type": "code",
   "execution_count": 27,
   "id": "5685e45d",
   "metadata": {
    "scrolled": false
   },
   "outputs": [
    {
     "data": {
      "text/plain": [
       "0"
      ]
     },
     "execution_count": 27,
     "metadata": {},
     "output_type": "execute_result"
    }
   ],
   "source": [
    "#Подсчитаем количество дубликатов\n",
    "data.duplicated().sum()"
   ]
  },
  {
   "cell_type": "markdown",
   "id": "3e079bfd",
   "metadata": {},
   "source": [
    "**Вывод**: дубликаты в данных отутствуют. "
   ]
  },
  {
   "cell_type": "code",
   "execution_count": 28,
   "id": "38e2efb2",
   "metadata": {
    "scrolled": true
   },
   "outputs": [
    {
     "data": {
      "text/plain": [
       "CreditScore          0\n",
       "Geography            0\n",
       "Gender               0\n",
       "Age                  0\n",
       "Tenure             909\n",
       "Balance              0\n",
       "NumOfProducts        0\n",
       "HasCrCard            0\n",
       "IsActiveMember       0\n",
       "EstimatedSalary      0\n",
       "Exited               0\n",
       "dtype: int64"
      ]
     },
     "execution_count": 28,
     "metadata": {},
     "output_type": "execute_result"
    }
   ],
   "source": [
    "#Определим число пропущенных значений \n",
    "data.isna().sum()"
   ]
  },
  {
   "cell_type": "code",
   "execution_count": 29,
   "id": "386eb6c3",
   "metadata": {},
   "outputs": [],
   "source": [
    "data['Tenure'] = data['Tenure'].fillna(data['Tenure'].median())"
   ]
  },
  {
   "cell_type": "markdown",
   "id": "397a830d",
   "metadata": {},
   "source": [
    "**Вывод**: в значениях Tenure имеется 909 пропущенных значений, т.е. около 9% всех значений. "
   ]
  },
  {
   "cell_type": "code",
   "execution_count": 30,
   "id": "afe49bdd",
   "metadata": {
    "scrolled": true
   },
   "outputs": [
    {
     "data": {
      "text/html": [
       "<div>\n",
       "<style scoped>\n",
       "    .dataframe tbody tr th:only-of-type {\n",
       "        vertical-align: middle;\n",
       "    }\n",
       "\n",
       "    .dataframe tbody tr th {\n",
       "        vertical-align: top;\n",
       "    }\n",
       "\n",
       "    .dataframe thead th {\n",
       "        text-align: right;\n",
       "    }\n",
       "</style>\n",
       "<table border=\"1\" class=\"dataframe\">\n",
       "  <thead>\n",
       "    <tr style=\"text-align: right;\">\n",
       "      <th></th>\n",
       "      <th>CreditScore</th>\n",
       "      <th>Age</th>\n",
       "      <th>Tenure</th>\n",
       "      <th>Balance</th>\n",
       "      <th>NumOfProducts</th>\n",
       "      <th>EstimatedSalary</th>\n",
       "    </tr>\n",
       "  </thead>\n",
       "  <tbody>\n",
       "    <tr>\n",
       "      <th>CreditScore</th>\n",
       "      <td>1.000000</td>\n",
       "      <td>-0.003965</td>\n",
       "      <td>-0.000060</td>\n",
       "      <td>0.006268</td>\n",
       "      <td>0.012238</td>\n",
       "      <td>-0.001384</td>\n",
       "    </tr>\n",
       "    <tr>\n",
       "      <th>Age</th>\n",
       "      <td>-0.003965</td>\n",
       "      <td>1.000000</td>\n",
       "      <td>-0.012606</td>\n",
       "      <td>0.028308</td>\n",
       "      <td>-0.030680</td>\n",
       "      <td>-0.007201</td>\n",
       "    </tr>\n",
       "    <tr>\n",
       "      <th>Tenure</th>\n",
       "      <td>-0.000060</td>\n",
       "      <td>-0.012606</td>\n",
       "      <td>1.000000</td>\n",
       "      <td>-0.007535</td>\n",
       "      <td>0.011409</td>\n",
       "      <td>0.010049</td>\n",
       "    </tr>\n",
       "    <tr>\n",
       "      <th>Balance</th>\n",
       "      <td>0.006268</td>\n",
       "      <td>0.028308</td>\n",
       "      <td>-0.007535</td>\n",
       "      <td>1.000000</td>\n",
       "      <td>-0.304180</td>\n",
       "      <td>0.012797</td>\n",
       "    </tr>\n",
       "    <tr>\n",
       "      <th>NumOfProducts</th>\n",
       "      <td>0.012238</td>\n",
       "      <td>-0.030680</td>\n",
       "      <td>0.011409</td>\n",
       "      <td>-0.304180</td>\n",
       "      <td>1.000000</td>\n",
       "      <td>0.014204</td>\n",
       "    </tr>\n",
       "    <tr>\n",
       "      <th>EstimatedSalary</th>\n",
       "      <td>-0.001384</td>\n",
       "      <td>-0.007201</td>\n",
       "      <td>0.010049</td>\n",
       "      <td>0.012797</td>\n",
       "      <td>0.014204</td>\n",
       "      <td>1.000000</td>\n",
       "    </tr>\n",
       "  </tbody>\n",
       "</table>\n",
       "</div>"
      ],
      "text/plain": [
       "                 CreditScore       Age    Tenure   Balance  NumOfProducts  \\\n",
       "CreditScore         1.000000 -0.003965 -0.000060  0.006268       0.012238   \n",
       "Age                -0.003965  1.000000 -0.012606  0.028308      -0.030680   \n",
       "Tenure             -0.000060 -0.012606  1.000000 -0.007535       0.011409   \n",
       "Balance             0.006268  0.028308 -0.007535  1.000000      -0.304180   \n",
       "NumOfProducts       0.012238 -0.030680  0.011409 -0.304180       1.000000   \n",
       "EstimatedSalary    -0.001384 -0.007201  0.010049  0.012797       0.014204   \n",
       "\n",
       "                 EstimatedSalary  \n",
       "CreditScore            -0.001384  \n",
       "Age                    -0.007201  \n",
       "Tenure                  0.010049  \n",
       "Balance                 0.012797  \n",
       "NumOfProducts           0.014204  \n",
       "EstimatedSalary         1.000000  "
      ]
     },
     "execution_count": 30,
     "metadata": {},
     "output_type": "execute_result"
    }
   ],
   "source": [
    "#Оценим взаимосвязь данных, исключив неимеющие для этой процедуры смысла признаки \n",
    "bool_qualities = ['Exited','HasCrCard', 'IsActiveMember']\n",
    "data.drop(bool_qualities, axis = 1).corr()"
   ]
  },
  {
   "cell_type": "markdown",
   "id": "26d76a5c",
   "metadata": {},
   "source": [
    "**Вывод**: Между значениями признаков нет сильной положительной или отрицательной корреляции. "
   ]
  },
  {
   "cell_type": "code",
   "execution_count": 31,
   "id": "745151d6",
   "metadata": {
    "scrolled": false
   },
   "outputs": [
    {
     "data": {
      "image/png": "[encoded data removed]",
      "text/plain": [
       "<Figure size 1500x2000 with 9 Axes>"
      ]
     },
     "metadata": {},
     "output_type": "display_data"
    }
   ],
   "source": [
    "#Построение гистограмм\n",
    "data.hist(figsize=(15,20));"
   ]
  },
  {
   "cell_type": "code",
   "execution_count": 32,
   "id": "dae52118",
   "metadata": {},
   "outputs": [
    {
     "data": {
      "text/html": [
       "<div>\n",
       "<style scoped>\n",
       "    .dataframe tbody tr th:only-of-type {\n",
       "        vertical-align: middle;\n",
       "    }\n",
       "\n",
       "    .dataframe tbody tr th {\n",
       "        vertical-align: top;\n",
       "    }\n",
       "\n",
       "    .dataframe thead th {\n",
       "        text-align: right;\n",
       "    }\n",
       "</style>\n",
       "<table border=\"1\" class=\"dataframe\">\n",
       "  <thead>\n",
       "    <tr style=\"text-align: right;\">\n",
       "      <th></th>\n",
       "      <th>CreditScore</th>\n",
       "      <th>Age</th>\n",
       "      <th>Tenure</th>\n",
       "      <th>Balance</th>\n",
       "      <th>NumOfProducts</th>\n",
       "      <th>HasCrCard</th>\n",
       "      <th>IsActiveMember</th>\n",
       "      <th>EstimatedSalary</th>\n",
       "      <th>Exited</th>\n",
       "    </tr>\n",
       "  </thead>\n",
       "  <tbody>\n",
       "    <tr>\n",
       "      <th>count</th>\n",
       "      <td>10000.000000</td>\n",
       "      <td>10000.000000</td>\n",
       "      <td>10000.00000</td>\n",
       "      <td>10000.000000</td>\n",
       "      <td>10000.000000</td>\n",
       "      <td>10000.00000</td>\n",
       "      <td>10000.000000</td>\n",
       "      <td>10000.000000</td>\n",
       "      <td>10000.000000</td>\n",
       "    </tr>\n",
       "    <tr>\n",
       "      <th>mean</th>\n",
       "      <td>650.528800</td>\n",
       "      <td>38.921800</td>\n",
       "      <td>4.99790</td>\n",
       "      <td>76485.889288</td>\n",
       "      <td>1.530200</td>\n",
       "      <td>0.70550</td>\n",
       "      <td>0.515100</td>\n",
       "      <td>100090.239881</td>\n",
       "      <td>0.203700</td>\n",
       "    </tr>\n",
       "    <tr>\n",
       "      <th>std</th>\n",
       "      <td>96.653299</td>\n",
       "      <td>10.487806</td>\n",
       "      <td>2.76001</td>\n",
       "      <td>62397.405202</td>\n",
       "      <td>0.581654</td>\n",
       "      <td>0.45584</td>\n",
       "      <td>0.499797</td>\n",
       "      <td>57510.492818</td>\n",
       "      <td>0.402769</td>\n",
       "    </tr>\n",
       "    <tr>\n",
       "      <th>min</th>\n",
       "      <td>350.000000</td>\n",
       "      <td>18.000000</td>\n",
       "      <td>0.00000</td>\n",
       "      <td>0.000000</td>\n",
       "      <td>1.000000</td>\n",
       "      <td>0.00000</td>\n",
       "      <td>0.000000</td>\n",
       "      <td>11.580000</td>\n",
       "      <td>0.000000</td>\n",
       "    </tr>\n",
       "    <tr>\n",
       "      <th>25%</th>\n",
       "      <td>584.000000</td>\n",
       "      <td>32.000000</td>\n",
       "      <td>3.00000</td>\n",
       "      <td>0.000000</td>\n",
       "      <td>1.000000</td>\n",
       "      <td>0.00000</td>\n",
       "      <td>0.000000</td>\n",
       "      <td>51002.110000</td>\n",
       "      <td>0.000000</td>\n",
       "    </tr>\n",
       "    <tr>\n",
       "      <th>50%</th>\n",
       "      <td>652.000000</td>\n",
       "      <td>37.000000</td>\n",
       "      <td>5.00000</td>\n",
       "      <td>97198.540000</td>\n",
       "      <td>1.000000</td>\n",
       "      <td>1.00000</td>\n",
       "      <td>1.000000</td>\n",
       "      <td>100193.915000</td>\n",
       "      <td>0.000000</td>\n",
       "    </tr>\n",
       "    <tr>\n",
       "      <th>75%</th>\n",
       "      <td>718.000000</td>\n",
       "      <td>44.000000</td>\n",
       "      <td>7.00000</td>\n",
       "      <td>127644.240000</td>\n",
       "      <td>2.000000</td>\n",
       "      <td>1.00000</td>\n",
       "      <td>1.000000</td>\n",
       "      <td>149388.247500</td>\n",
       "      <td>0.000000</td>\n",
       "    </tr>\n",
       "    <tr>\n",
       "      <th>max</th>\n",
       "      <td>850.000000</td>\n",
       "      <td>92.000000</td>\n",
       "      <td>10.00000</td>\n",
       "      <td>250898.090000</td>\n",
       "      <td>4.000000</td>\n",
       "      <td>1.00000</td>\n",
       "      <td>1.000000</td>\n",
       "      <td>199992.480000</td>\n",
       "      <td>1.000000</td>\n",
       "    </tr>\n",
       "  </tbody>\n",
       "</table>\n",
       "</div>"
      ],
      "text/plain": [
       "        CreditScore           Age       Tenure        Balance  NumOfProducts  \\\n",
       "count  10000.000000  10000.000000  10000.00000   10000.000000   10000.000000   \n",
       "mean     650.528800     38.921800      4.99790   76485.889288       1.530200   \n",
       "std       96.653299     10.487806      2.76001   62397.405202       0.581654   \n",
       "min      350.000000     18.000000      0.00000       0.000000       1.000000   \n",
       "25%      584.000000     32.000000      3.00000       0.000000       1.000000   \n",
       "50%      652.000000     37.000000      5.00000   97198.540000       1.000000   \n",
       "75%      718.000000     44.000000      7.00000  127644.240000       2.000000   \n",
       "max      850.000000     92.000000     10.00000  250898.090000       4.000000   \n",
       "\n",
       "         HasCrCard  IsActiveMember  EstimatedSalary        Exited  \n",
       "count  10000.00000    10000.000000     10000.000000  10000.000000  \n",
       "mean       0.70550        0.515100    100090.239881      0.203700  \n",
       "std        0.45584        0.499797     57510.492818      0.402769  \n",
       "min        0.00000        0.000000        11.580000      0.000000  \n",
       "25%        0.00000        0.000000     51002.110000      0.000000  \n",
       "50%        1.00000        1.000000    100193.915000      0.000000  \n",
       "75%        1.00000        1.000000    149388.247500      0.000000  \n",
       "max        1.00000        1.000000    199992.480000      1.000000  "
      ]
     },
     "execution_count": 32,
     "metadata": {},
     "output_type": "execute_result"
    }
   ],
   "source": [
    "data.describe()"
   ]
  },
  {
   "cell_type": "markdown",
   "id": "ba613b79",
   "metadata": {},
   "source": [
    "**Вывод**: из гистограмм и статистической таблицы можно сделать вывод, что аномально высоких или низких значений в данных не обнаружено. Также видно, что в разных данных совершенно разные порядки разброса, что может некоректно сказаться на прогнозировании и важности тех или иных признаков. "
   ]
  },
  {
   "cell_type": "markdown",
   "id": "0a68b437",
   "metadata": {},
   "source": [
    "**Общий вывод**: в ходе изучения представленных данных не выявлено дубликатов значений, выявлены пропуски в признаке, отвечающем за количество лет, в течение которых человек является клиентом банка. Не найдено корреляции между какими-либор признаками и не выявлено аномальных значений. "
   ]
  },
  {
   "cell_type": "markdown",
   "id": "7e320646",
   "metadata": {},
   "source": [
    "# 2. Подготовка модели обучения "
   ]
  },
  {
   "cell_type": "markdown",
   "id": "4300c4c5",
   "metadata": {},
   "source": [
    "Для создания модели разобьем нашу иходную выборку на три части: обучающую, валидационную и тестовую. Размеры тестового и валидационного набора сделаем равными, а обучающую сделаем в три раза больше каждого из них, то есть разобьем данные в сотношении 3:1:1"
   ]
  },
  {
   "cell_type": "code",
   "execution_count": 34,
   "id": "7b89ad59",
   "metadata": {},
   "outputs": [
    {
     "data": {
      "text/plain": [
       "(10000, 11)"
      ]
     },
     "execution_count": 34,
     "metadata": {},
     "output_type": "execute_result"
    }
   ],
   "source": [
    "#Проверим исходный размер выборки\n",
    "data.shape"
   ]
  },
  {
   "cell_type": "code",
   "execution_count": 35,
   "id": "675e883b",
   "metadata": {},
   "outputs": [],
   "source": [
    "#Разобьем на две части 80% и 20%, выделим тем самым тестовую выборку df_test\n",
    "df, df_test = train_test_split(data, test_size = 0.2, random_state = 12345, stratify = data['Exited'])"
   ]
  },
  {
   "cell_type": "code",
   "execution_count": 36,
   "id": "9fcfd1fc",
   "metadata": {},
   "outputs": [],
   "source": [
    "#Разобьем данные на две части - на обучающую и на валидационную выборку\n",
    "df_train, df_valid = train_test_split(df, test_size=0.25, random_state = 12345, stratify = df['Exited'])"
   ]
  },
  {
   "cell_type": "markdown",
   "id": "b72b2ea6",
   "metadata": {},
   "source": []
  },
  {
   "cell_type": "code",
   "execution_count": 37,
   "id": "2cdccec8",
   "metadata": {
    "scrolled": false
   },
   "outputs": [
    {
     "name": "stdout",
     "output_type": "stream",
     "text": [
      "Train =  (6000, 11)\n",
      "Valid =  (2000, 11)\n",
      "Test =  (2000, 11)\n"
     ]
    }
   ],
   "source": [
    "#Проверим конечные размеры выборок \n",
    "print('Train = ', df_train.shape)\n",
    "print('Valid = ', df_valid.shape)\n",
    "print('Test = ', df_test.shape)"
   ]
  },
  {
   "cell_type": "markdown",
   "id": "407c1775",
   "metadata": {},
   "source": [
    "**Вывод**: подготовленные выборки соответсвуют соотношению 3:1:1"
   ]
  },
  {
   "cell_type": "markdown",
   "id": "f711542b",
   "metadata": {},
   "source": [
    "Целевым признаком в нашей модели будет **Exited** - факт ухода клиента из банка. "
   ]
  },
  {
   "cell_type": "markdown",
   "id": "4443f2af",
   "metadata": {},
   "source": [
    "Произведем кодирование наших категориальных переменных - **Gender** и **Geography**. "
   ]
  },
  {
   "cell_type": "code",
   "execution_count": 38,
   "id": "e6cbf5b6",
   "metadata": {
    "scrolled": true
   },
   "outputs": [
    {
     "data": {
      "text/html": [
       "<div>\n",
       "<style scoped>\n",
       "    .dataframe tbody tr th:only-of-type {\n",
       "        vertical-align: middle;\n",
       "    }\n",
       "\n",
       "    .dataframe tbody tr th {\n",
       "        vertical-align: top;\n",
       "    }\n",
       "\n",
       "    .dataframe thead th {\n",
       "        text-align: right;\n",
       "    }\n",
       "</style>\n",
       "<table border=\"1\" class=\"dataframe\">\n",
       "  <thead>\n",
       "    <tr style=\"text-align: right;\">\n",
       "      <th></th>\n",
       "      <th>CreditScore</th>\n",
       "      <th>Age</th>\n",
       "      <th>Tenure</th>\n",
       "      <th>Balance</th>\n",
       "      <th>NumOfProducts</th>\n",
       "      <th>HasCrCard</th>\n",
       "      <th>IsActiveMember</th>\n",
       "      <th>EstimatedSalary</th>\n",
       "      <th>Exited</th>\n",
       "      <th>x0_Male</th>\n",
       "      <th>x1_Germany</th>\n",
       "      <th>x1_Spain</th>\n",
       "    </tr>\n",
       "  </thead>\n",
       "  <tbody>\n",
       "    <tr>\n",
       "      <th>5536</th>\n",
       "      <td>636</td>\n",
       "      <td>45</td>\n",
       "      <td>5</td>\n",
       "      <td>0.00</td>\n",
       "      <td>2</td>\n",
       "      <td>1</td>\n",
       "      <td>1</td>\n",
       "      <td>159463.80</td>\n",
       "      <td>0</td>\n",
       "      <td>1.0</td>\n",
       "      <td>0.0</td>\n",
       "      <td>1.0</td>\n",
       "    </tr>\n",
       "    <tr>\n",
       "      <th>8530</th>\n",
       "      <td>808</td>\n",
       "      <td>33</td>\n",
       "      <td>2</td>\n",
       "      <td>103516.87</td>\n",
       "      <td>1</td>\n",
       "      <td>1</td>\n",
       "      <td>0</td>\n",
       "      <td>113907.80</td>\n",
       "      <td>0</td>\n",
       "      <td>0.0</td>\n",
       "      <td>0.0</td>\n",
       "      <td>0.0</td>\n",
       "    </tr>\n",
       "    <tr>\n",
       "      <th>1762</th>\n",
       "      <td>758</td>\n",
       "      <td>34</td>\n",
       "      <td>1</td>\n",
       "      <td>154139.45</td>\n",
       "      <td>1</td>\n",
       "      <td>1</td>\n",
       "      <td>1</td>\n",
       "      <td>60728.89</td>\n",
       "      <td>0</td>\n",
       "      <td>0.0</td>\n",
       "      <td>0.0</td>\n",
       "      <td>0.0</td>\n",
       "    </tr>\n",
       "    <tr>\n",
       "      <th>9090</th>\n",
       "      <td>809</td>\n",
       "      <td>39</td>\n",
       "      <td>5</td>\n",
       "      <td>0.00</td>\n",
       "      <td>1</td>\n",
       "      <td>1</td>\n",
       "      <td>0</td>\n",
       "      <td>77705.75</td>\n",
       "      <td>0</td>\n",
       "      <td>0.0</td>\n",
       "      <td>0.0</td>\n",
       "      <td>0.0</td>\n",
       "    </tr>\n",
       "    <tr>\n",
       "      <th>8777</th>\n",
       "      <td>603</td>\n",
       "      <td>24</td>\n",
       "      <td>1</td>\n",
       "      <td>165149.13</td>\n",
       "      <td>2</td>\n",
       "      <td>1</td>\n",
       "      <td>0</td>\n",
       "      <td>21858.28</td>\n",
       "      <td>0</td>\n",
       "      <td>1.0</td>\n",
       "      <td>0.0</td>\n",
       "      <td>1.0</td>\n",
       "    </tr>\n",
       "  </tbody>\n",
       "</table>\n",
       "</div>"
      ],
      "text/plain": [
       "      CreditScore  Age  Tenure    Balance  NumOfProducts  HasCrCard  \\\n",
       "5536          636   45       5       0.00              2          1   \n",
       "8530          808   33       2  103516.87              1          1   \n",
       "1762          758   34       1  154139.45              1          1   \n",
       "9090          809   39       5       0.00              1          1   \n",
       "8777          603   24       1  165149.13              2          1   \n",
       "\n",
       "      IsActiveMember  EstimatedSalary  Exited  x0_Male  x1_Germany  x1_Spain  \n",
       "5536               1        159463.80       0      1.0         0.0       1.0  \n",
       "8530               0        113907.80       0      0.0         0.0       0.0  \n",
       "1762               1         60728.89       0      0.0         0.0       0.0  \n",
       "9090               0         77705.75       0      0.0         0.0       0.0  \n",
       "8777               0         21858.28       0      1.0         0.0       1.0  "
      ]
     },
     "execution_count": 38,
     "metadata": {},
     "output_type": "execute_result"
    }
   ],
   "source": [
    "#Создаем объект encoder\n",
    "enc = OneHotEncoder(sparse = False, drop = 'first')\n",
    "df_train_category = df_train[['Gender', 'Geography']]\n",
    "transformed = enc.fit_transform(df_train_category)\n",
    "df_train_category = pd.DataFrame(transformed, index = df_train.index, columns=enc.get_feature_names())\n",
    "df_train = df_train.join(df_train_category)\n",
    "df_train = df_train.drop(['Gender', 'Geography'], axis = 1)\n",
    "df_train.head()"
   ]
  },
  {
   "cell_type": "code",
   "execution_count": 39,
   "id": "5022363d",
   "metadata": {
    "scrolled": true
   },
   "outputs": [
    {
     "data": {
      "text/html": [
       "<div>\n",
       "<style scoped>\n",
       "    .dataframe tbody tr th:only-of-type {\n",
       "        vertical-align: middle;\n",
       "    }\n",
       "\n",
       "    .dataframe tbody tr th {\n",
       "        vertical-align: top;\n",
       "    }\n",
       "\n",
       "    .dataframe thead th {\n",
       "        text-align: right;\n",
       "    }\n",
       "</style>\n",
       "<table border=\"1\" class=\"dataframe\">\n",
       "  <thead>\n",
       "    <tr style=\"text-align: right;\">\n",
       "      <th></th>\n",
       "      <th>CreditScore</th>\n",
       "      <th>Age</th>\n",
       "      <th>Tenure</th>\n",
       "      <th>Balance</th>\n",
       "      <th>NumOfProducts</th>\n",
       "      <th>HasCrCard</th>\n",
       "      <th>IsActiveMember</th>\n",
       "      <th>EstimatedSalary</th>\n",
       "      <th>Exited</th>\n",
       "      <th>x0_Male</th>\n",
       "      <th>x1_Germany</th>\n",
       "      <th>x1_Spain</th>\n",
       "    </tr>\n",
       "  </thead>\n",
       "  <tbody>\n",
       "    <tr>\n",
       "      <th>9375</th>\n",
       "      <td>659</td>\n",
       "      <td>48</td>\n",
       "      <td>4</td>\n",
       "      <td>123593.22</td>\n",
       "      <td>2</td>\n",
       "      <td>1</td>\n",
       "      <td>0</td>\n",
       "      <td>82469.06</td>\n",
       "      <td>1</td>\n",
       "      <td>1.0</td>\n",
       "      <td>1.0</td>\n",
       "      <td>0.0</td>\n",
       "    </tr>\n",
       "    <tr>\n",
       "      <th>9536</th>\n",
       "      <td>550</td>\n",
       "      <td>42</td>\n",
       "      <td>10</td>\n",
       "      <td>128707.31</td>\n",
       "      <td>1</td>\n",
       "      <td>1</td>\n",
       "      <td>0</td>\n",
       "      <td>63092.65</td>\n",
       "      <td>1</td>\n",
       "      <td>0.0</td>\n",
       "      <td>1.0</td>\n",
       "      <td>0.0</td>\n",
       "    </tr>\n",
       "    <tr>\n",
       "      <th>6344</th>\n",
       "      <td>850</td>\n",
       "      <td>41</td>\n",
       "      <td>3</td>\n",
       "      <td>0.00</td>\n",
       "      <td>2</td>\n",
       "      <td>1</td>\n",
       "      <td>0</td>\n",
       "      <td>128892.36</td>\n",
       "      <td>0</td>\n",
       "      <td>1.0</td>\n",
       "      <td>0.0</td>\n",
       "      <td>0.0</td>\n",
       "    </tr>\n",
       "    <tr>\n",
       "      <th>4357</th>\n",
       "      <td>755</td>\n",
       "      <td>36</td>\n",
       "      <td>8</td>\n",
       "      <td>0.00</td>\n",
       "      <td>2</td>\n",
       "      <td>1</td>\n",
       "      <td>0</td>\n",
       "      <td>176809.87</td>\n",
       "      <td>0</td>\n",
       "      <td>1.0</td>\n",
       "      <td>0.0</td>\n",
       "      <td>0.0</td>\n",
       "    </tr>\n",
       "    <tr>\n",
       "      <th>9120</th>\n",
       "      <td>703</td>\n",
       "      <td>58</td>\n",
       "      <td>4</td>\n",
       "      <td>92930.92</td>\n",
       "      <td>1</td>\n",
       "      <td>0</td>\n",
       "      <td>1</td>\n",
       "      <td>85148.78</td>\n",
       "      <td>0</td>\n",
       "      <td>1.0</td>\n",
       "      <td>0.0</td>\n",
       "      <td>1.0</td>\n",
       "    </tr>\n",
       "  </tbody>\n",
       "</table>\n",
       "</div>"
      ],
      "text/plain": [
       "      CreditScore  Age  Tenure    Balance  NumOfProducts  HasCrCard  \\\n",
       "9375          659   48       4  123593.22              2          1   \n",
       "9536          550   42      10  128707.31              1          1   \n",
       "6344          850   41       3       0.00              2          1   \n",
       "4357          755   36       8       0.00              2          1   \n",
       "9120          703   58       4   92930.92              1          0   \n",
       "\n",
       "      IsActiveMember  EstimatedSalary  Exited  x0_Male  x1_Germany  x1_Spain  \n",
       "9375               0         82469.06       1      1.0         1.0       0.0  \n",
       "9536               0         63092.65       1      0.0         1.0       0.0  \n",
       "6344               0        128892.36       0      1.0         0.0       0.0  \n",
       "4357               0        176809.87       0      1.0         0.0       0.0  \n",
       "9120               1         85148.78       0      1.0         0.0       1.0  "
      ]
     },
     "execution_count": 39,
     "metadata": {},
     "output_type": "execute_result"
    }
   ],
   "source": [
    "#Применим функцию trasmorm к валидационной выборке\n",
    "df_valid_category = df_valid[['Gender', 'Geography']]\n",
    "transformed = enc.transform(df_valid_category)\n",
    "df_valid_category = pd.DataFrame(transformed, index = df_valid.index, columns=enc.get_feature_names())\n",
    "df_valid = df_valid.join(df_valid_category)\n",
    "df_valid = df_valid.drop(['Gender', 'Geography'], axis = 1)\n",
    "df_valid.head()"
   ]
  },
  {
   "cell_type": "code",
   "execution_count": 40,
   "id": "5d9acdc7",
   "metadata": {
    "scrolled": false
   },
   "outputs": [
    {
     "data": {
      "text/html": [
       "<div>\n",
       "<style scoped>\n",
       "    .dataframe tbody tr th:only-of-type {\n",
       "        vertical-align: middle;\n",
       "    }\n",
       "\n",
       "    .dataframe tbody tr th {\n",
       "        vertical-align: top;\n",
       "    }\n",
       "\n",
       "    .dataframe thead th {\n",
       "        text-align: right;\n",
       "    }\n",
       "</style>\n",
       "<table border=\"1\" class=\"dataframe\">\n",
       "  <thead>\n",
       "    <tr style=\"text-align: right;\">\n",
       "      <th></th>\n",
       "      <th>CreditScore</th>\n",
       "      <th>Age</th>\n",
       "      <th>Tenure</th>\n",
       "      <th>Balance</th>\n",
       "      <th>NumOfProducts</th>\n",
       "      <th>HasCrCard</th>\n",
       "      <th>IsActiveMember</th>\n",
       "      <th>EstimatedSalary</th>\n",
       "      <th>Exited</th>\n",
       "      <th>x0_Male</th>\n",
       "      <th>x1_Germany</th>\n",
       "      <th>x1_Spain</th>\n",
       "    </tr>\n",
       "  </thead>\n",
       "  <tbody>\n",
       "    <tr>\n",
       "      <th>7837</th>\n",
       "      <td>850</td>\n",
       "      <td>48</td>\n",
       "      <td>2</td>\n",
       "      <td>0.00</td>\n",
       "      <td>1</td>\n",
       "      <td>1</td>\n",
       "      <td>0</td>\n",
       "      <td>169425.30</td>\n",
       "      <td>1</td>\n",
       "      <td>1.0</td>\n",
       "      <td>0.0</td>\n",
       "      <td>1.0</td>\n",
       "    </tr>\n",
       "    <tr>\n",
       "      <th>9505</th>\n",
       "      <td>651</td>\n",
       "      <td>28</td>\n",
       "      <td>10</td>\n",
       "      <td>79562.98</td>\n",
       "      <td>1</td>\n",
       "      <td>1</td>\n",
       "      <td>1</td>\n",
       "      <td>74687.37</td>\n",
       "      <td>0</td>\n",
       "      <td>1.0</td>\n",
       "      <td>0.0</td>\n",
       "      <td>0.0</td>\n",
       "    </tr>\n",
       "    <tr>\n",
       "      <th>6208</th>\n",
       "      <td>714</td>\n",
       "      <td>34</td>\n",
       "      <td>10</td>\n",
       "      <td>0.00</td>\n",
       "      <td>2</td>\n",
       "      <td>1</td>\n",
       "      <td>1</td>\n",
       "      <td>80234.14</td>\n",
       "      <td>0</td>\n",
       "      <td>1.0</td>\n",
       "      <td>0.0</td>\n",
       "      <td>0.0</td>\n",
       "    </tr>\n",
       "    <tr>\n",
       "      <th>5642</th>\n",
       "      <td>782</td>\n",
       "      <td>41</td>\n",
       "      <td>4</td>\n",
       "      <td>0.00</td>\n",
       "      <td>1</td>\n",
       "      <td>1</td>\n",
       "      <td>0</td>\n",
       "      <td>132943.88</td>\n",
       "      <td>0</td>\n",
       "      <td>0.0</td>\n",
       "      <td>0.0</td>\n",
       "      <td>1.0</td>\n",
       "    </tr>\n",
       "    <tr>\n",
       "      <th>9643</th>\n",
       "      <td>521</td>\n",
       "      <td>41</td>\n",
       "      <td>2</td>\n",
       "      <td>0.00</td>\n",
       "      <td>2</td>\n",
       "      <td>1</td>\n",
       "      <td>1</td>\n",
       "      <td>113089.43</td>\n",
       "      <td>0</td>\n",
       "      <td>0.0</td>\n",
       "      <td>0.0</td>\n",
       "      <td>0.0</td>\n",
       "    </tr>\n",
       "  </tbody>\n",
       "</table>\n",
       "</div>"
      ],
      "text/plain": [
       "      CreditScore  Age  Tenure   Balance  NumOfProducts  HasCrCard  \\\n",
       "7837          850   48       2      0.00              1          1   \n",
       "9505          651   28      10  79562.98              1          1   \n",
       "6208          714   34      10      0.00              2          1   \n",
       "5642          782   41       4      0.00              1          1   \n",
       "9643          521   41       2      0.00              2          1   \n",
       "\n",
       "      IsActiveMember  EstimatedSalary  Exited  x0_Male  x1_Germany  x1_Spain  \n",
       "7837               0        169425.30       1      1.0         0.0       1.0  \n",
       "9505               1         74687.37       0      1.0         0.0       0.0  \n",
       "6208               1         80234.14       0      1.0         0.0       0.0  \n",
       "5642               0        132943.88       0      0.0         0.0       1.0  \n",
       "9643               1        113089.43       0      0.0         0.0       0.0  "
      ]
     },
     "execution_count": 40,
     "metadata": {},
     "output_type": "execute_result"
    }
   ],
   "source": [
    "#Применим функцию transform к тестовой выборке\n",
    "df_test_category = df_test[['Gender', 'Geography']]\n",
    "transformed = enc.transform(df_test_category)\n",
    "df_test_category = pd.DataFrame(transformed, index = df_test.index, columns=enc.get_feature_names())\n",
    "df_test = df_test.join(df_test_category)\n",
    "df_test = df_test.drop(['Gender', 'Geography'], axis = 1)\n",
    "df_test.head()"
   ]
  },
  {
   "cell_type": "code",
   "execution_count": 41,
   "id": "7b658cf3",
   "metadata": {},
   "outputs": [],
   "source": [
    "#Выберем переменные для признаков и для целевого признака\n",
    "features_train = df_train.drop(['Exited'], axis=1)\n",
    "target_train = df_train['Exited']\n",
    "features_valid = df_valid.drop(['Exited'], axis=1) \n",
    "target_valid = df_valid['Exited'] \n",
    "features_test = df_test.drop(['Exited'], axis=1) \n",
    "target_test = df_test['Exited'] "
   ]
  },
  {
   "cell_type": "markdown",
   "id": "014c2e33",
   "metadata": {},
   "source": [
    "Как было указано раннее, у разных признаков разные диапазоны изменений (разные масштабы). Это может значительно исказить нашу модель. Избежим этой проблемы и приведем данные к одному масштабу. "
   ]
  },
  {
   "cell_type": "code",
   "execution_count": 42,
   "id": "cf123173",
   "metadata": {},
   "outputs": [],
   "source": [
    "#Зададим числовые признаки\n",
    "numeric = ['CreditScore', 'Age', 'Tenure', 'Balance', 'NumOfProducts', 'EstimatedSalary']"
   ]
  },
  {
   "cell_type": "code",
   "execution_count": 43,
   "id": "a4837584",
   "metadata": {},
   "outputs": [
    {
     "data": {
      "text/html": [
       "<div>\n",
       "<style scoped>\n",
       "    .dataframe tbody tr th:only-of-type {\n",
       "        vertical-align: middle;\n",
       "    }\n",
       "\n",
       "    .dataframe tbody tr th {\n",
       "        vertical-align: top;\n",
       "    }\n",
       "\n",
       "    .dataframe thead th {\n",
       "        text-align: right;\n",
       "    }\n",
       "</style>\n",
       "<table border=\"1\" class=\"dataframe\">\n",
       "  <thead>\n",
       "    <tr style=\"text-align: right;\">\n",
       "      <th></th>\n",
       "      <th>CreditScore</th>\n",
       "      <th>Age</th>\n",
       "      <th>Tenure</th>\n",
       "      <th>Balance</th>\n",
       "      <th>NumOfProducts</th>\n",
       "      <th>HasCrCard</th>\n",
       "      <th>IsActiveMember</th>\n",
       "      <th>EstimatedSalary</th>\n",
       "      <th>x0_Male</th>\n",
       "      <th>x1_Germany</th>\n",
       "      <th>x1_Spain</th>\n",
       "    </tr>\n",
       "  </thead>\n",
       "  <tbody>\n",
       "    <tr>\n",
       "      <th>5536</th>\n",
       "      <td>-0.143332</td>\n",
       "      <td>0.577533</td>\n",
       "      <td>-0.001274</td>\n",
       "      <td>-1.220573</td>\n",
       "      <td>0.797767</td>\n",
       "      <td>1</td>\n",
       "      <td>1</td>\n",
       "      <td>1.029613</td>\n",
       "      <td>1.0</td>\n",
       "      <td>0.0</td>\n",
       "      <td>1.0</td>\n",
       "    </tr>\n",
       "    <tr>\n",
       "      <th>8530</th>\n",
       "      <td>1.632702</td>\n",
       "      <td>-0.564119</td>\n",
       "      <td>-1.092954</td>\n",
       "      <td>0.435807</td>\n",
       "      <td>-0.916018</td>\n",
       "      <td>1</td>\n",
       "      <td>0</td>\n",
       "      <td>0.237986</td>\n",
       "      <td>0.0</td>\n",
       "      <td>0.0</td>\n",
       "      <td>0.0</td>\n",
       "    </tr>\n",
       "    <tr>\n",
       "      <th>1762</th>\n",
       "      <td>1.116413</td>\n",
       "      <td>-0.468981</td>\n",
       "      <td>-1.456847</td>\n",
       "      <td>1.245822</td>\n",
       "      <td>-0.916018</td>\n",
       "      <td>1</td>\n",
       "      <td>1</td>\n",
       "      <td>-0.686104</td>\n",
       "      <td>0.0</td>\n",
       "      <td>0.0</td>\n",
       "      <td>0.0</td>\n",
       "    </tr>\n",
       "    <tr>\n",
       "      <th>9090</th>\n",
       "      <td>1.643028</td>\n",
       "      <td>0.006707</td>\n",
       "      <td>-0.001274</td>\n",
       "      <td>-1.220573</td>\n",
       "      <td>-0.916018</td>\n",
       "      <td>1</td>\n",
       "      <td>0</td>\n",
       "      <td>-0.391097</td>\n",
       "      <td>0.0</td>\n",
       "      <td>0.0</td>\n",
       "      <td>0.0</td>\n",
       "    </tr>\n",
       "    <tr>\n",
       "      <th>8777</th>\n",
       "      <td>-0.484083</td>\n",
       "      <td>-1.420358</td>\n",
       "      <td>-1.456847</td>\n",
       "      <td>1.421989</td>\n",
       "      <td>0.797767</td>\n",
       "      <td>1</td>\n",
       "      <td>0</td>\n",
       "      <td>-1.361559</td>\n",
       "      <td>1.0</td>\n",
       "      <td>0.0</td>\n",
       "      <td>1.0</td>\n",
       "    </tr>\n",
       "  </tbody>\n",
       "</table>\n",
       "</div>"
      ],
      "text/plain": [
       "      CreditScore       Age    Tenure   Balance  NumOfProducts  HasCrCard  \\\n",
       "5536    -0.143332  0.577533 -0.001274 -1.220573       0.797767          1   \n",
       "8530     1.632702 -0.564119 -1.092954  0.435807      -0.916018          1   \n",
       "1762     1.116413 -0.468981 -1.456847  1.245822      -0.916018          1   \n",
       "9090     1.643028  0.006707 -0.001274 -1.220573      -0.916018          1   \n",
       "8777    -0.484083 -1.420358 -1.456847  1.421989       0.797767          1   \n",
       "\n",
       "      IsActiveMember  EstimatedSalary  x0_Male  x1_Germany  x1_Spain  \n",
       "5536               1         1.029613      1.0         0.0       1.0  \n",
       "8530               0         0.237986      0.0         0.0       0.0  \n",
       "1762               1        -0.686104      0.0         0.0       0.0  \n",
       "9090               0        -0.391097      0.0         0.0       0.0  \n",
       "8777               0        -1.361559      1.0         0.0       1.0  "
      ]
     },
     "execution_count": 43,
     "metadata": {},
     "output_type": "execute_result"
    }
   ],
   "source": [
    "scaler = StandardScaler()\n",
    "pd.options.mode.chained_assignment = None\n",
    "scaler.fit(features_train[numeric]) \n",
    "features_train[numeric] = scaler.transform(features_train[numeric])\n",
    "features_valid[numeric] = scaler.transform(features_valid[numeric])\n",
    "features_test[numeric] = scaler.transform(features_test[numeric])\n",
    "features_train.head()"
   ]
  },
  {
   "cell_type": "markdown",
   "id": "cd9c3351",
   "metadata": {},
   "source": [
    "**Вывод**: подготовленные данные теперь находятся в одном масштабе. "
   ]
  },
  {
   "cell_type": "markdown",
   "id": "46838012",
   "metadata": {},
   "source": [
    "Проведем теперь анализ баланса: изучим как часто в целов признаке встречается класс \"1\" и класс \"2\". "
   ]
  },
  {
   "cell_type": "code",
   "execution_count": 44,
   "id": "2e135011",
   "metadata": {
    "scrolled": false
   },
   "outputs": [
    {
     "name": "stdout",
     "output_type": "stream",
     "text": [
      "0    0.7963\n",
      "1    0.2037\n",
      "Name: Exited, dtype: float64\n"
     ]
    },
    {
     "data": {
      "text/plain": [
       "<AxesSubplot:>"
      ]
     },
     "execution_count": 44,
     "metadata": {},
     "output_type": "execute_result"
    },
    {
     "data": {
      "image/png": "[encoded data removed]",
      "text/plain": [
       "<Figure size 640x480 with 1 Axes>"
      ]
     },
     "metadata": {},
     "output_type": "display_data"
    }
   ],
   "source": [
    "class_frequency = data['Exited'].value_counts(normalize = True)\n",
    "print(class_frequency)\n",
    "class_frequency.plot(kind='bar')"
   ]
  },
  {
   "cell_type": "markdown",
   "id": "e02f59b8",
   "metadata": {},
   "source": [
    "**Вывод**: класс *0* встречается в 4 раза чаще класса *1*. "
   ]
  },
  {
   "cell_type": "markdown",
   "id": "296c123c",
   "metadata": {},
   "source": [
    "**Общий вывод**: для подготовки к моделированию данные были разбиты на три выборки - тренировочную, валидационную и тестовую. Были выделены целевой признак и остальныеи исходные данные были пробразованы к одному масштабу. Также обнаружено, что класс **0** встречается в четыре раза чаще класса **1**. "
   ]
  },
  {
   "cell_type": "markdown",
   "id": "2c36d814",
   "metadata": {},
   "source": [
    "# 3. Моделирование"
   ]
  },
  {
   "cell_type": "markdown",
   "id": "eb993834",
   "metadata": {},
   "source": [
    "## 3.1 Тестовое тестирование"
   ]
  },
  {
   "cell_type": "markdown",
   "id": "b423df89",
   "metadata": {},
   "source": [
    "Проведем изначально тестовое моделирование без учета баланса классов и дополнительной настройки параметров. В качестве модели будет выбрано **Решающее дерево**.  "
   ]
  },
  {
   "cell_type": "code",
   "execution_count": 45,
   "id": "e427507e",
   "metadata": {
    "scrolled": true
   },
   "outputs": [
    {
     "name": "stdout",
     "output_type": "stream",
     "text": [
      "Accuracy =  0.789\n"
     ]
    }
   ],
   "source": [
    "#Создание и обучение модели решающего дерева \n",
    "model = DecisionTreeClassifier(random_state = 12345)\n",
    "model.fit(features_train, target_train)\n",
    "predicted_valid = model.predict(features_valid) \n",
    "accuracy_valid = accuracy_score(target_valid, predicted_valid)\n",
    "print('Accuracy = ', accuracy_valid)"
   ]
  },
  {
   "cell_type": "markdown",
   "id": "5f2290ac",
   "metadata": {},
   "source": [
    "**Вывод**: не проводя анализ балансов классов, после создания тестовой модели решающего дерева было получено значение accuracy равное 0.79"
   ]
  },
  {
   "cell_type": "markdown",
   "id": "9b5b2801",
   "metadata": {},
   "source": [
    "Проанализируем частоты классов в результатах предсказаний решающего дерева."
   ]
  },
  {
   "cell_type": "code",
   "execution_count": 46,
   "id": "71a6deaf",
   "metadata": {
    "scrolled": false
   },
   "outputs": [
    {
     "name": "stdout",
     "output_type": "stream",
     "text": [
      "0    0.7815\n",
      "1    0.2185\n",
      "dtype: float64\n"
     ]
    },
    {
     "data": {
      "text/plain": [
       "<AxesSubplot:>"
      ]
     },
     "execution_count": 46,
     "metadata": {},
     "output_type": "execute_result"
    },
    {
     "data": {
      "image/png": "[encoded data removed]",
      "text/plain": [
       "<Figure size 640x480 with 1 Axes>"
      ]
     },
     "metadata": {},
     "output_type": "display_data"
    }
   ],
   "source": [
    "#Проверка частоты предсказания попадания в разные классы \n",
    "predicted_valid = pd.Series(model.predict(features_valid))\n",
    "class_frequency = predicted_valid.value_counts(normalize = True)\n",
    "print(class_frequency)\n",
    "class_frequency.plot(kind='bar')"
   ]
  },
  {
   "cell_type": "markdown",
   "id": "edd02101",
   "metadata": {},
   "source": [
    "Проанализируем адекватность нашей модели, сравнив ее с константной моделью - моделью, которая прогнозируем всем попадание в класс 0. "
   ]
  },
  {
   "cell_type": "code",
   "execution_count": 47,
   "id": "3f7b5170",
   "metadata": {
    "scrolled": true
   },
   "outputs": [
    {
     "name": "stdout",
     "output_type": "stream",
     "text": [
      "0.7965\n"
     ]
    }
   ],
   "source": [
    "#Создадим константную модель и протестируем ее\n",
    "target_pred_constant = pd.Series([0]*len(target_valid))\n",
    "print(accuracy_score(target_valid, target_pred_constant))"
   ]
  },
  {
   "cell_type": "markdown",
   "id": "27fb9eae",
   "metadata": {},
   "source": [
    "**Вывод**: константная модель показывает результат даже лучше исходной модели решающего дерево. Следовательно проверку на адекватность наша исходная модель не прошла. "
   ]
  },
  {
   "cell_type": "markdown",
   "id": "af70a5fe",
   "metadata": {},
   "source": [
    "Воспользуемся теперь более точными для такой модели характеристиками как точность и полнота (precision и recall), а также среднегармоническое этих характеристик - f1. "
   ]
  },
  {
   "cell_type": "code",
   "execution_count": 48,
   "id": "c967d4c8",
   "metadata": {
    "scrolled": true
   },
   "outputs": [
    {
     "name": "stdout",
     "output_type": "stream",
     "text": [
      "[[1367  226]\n",
      " [ 196  211]]\n"
     ]
    }
   ],
   "source": [
    "#Выведем матрицу ошибок \n",
    "print(confusion_matrix(target_valid, predicted_valid))"
   ]
  },
  {
   "cell_type": "code",
   "execution_count": 49,
   "id": "9c91df0b",
   "metadata": {
    "scrolled": false
   },
   "outputs": [
    {
     "name": "stdout",
     "output_type": "stream",
     "text": [
      "Recall = 0.5184275184275184\n"
     ]
    }
   ],
   "source": [
    "#Расчитаем полноту\n",
    "print('Recall =', recall_score(target_valid, predicted_valid))"
   ]
  },
  {
   "cell_type": "code",
   "execution_count": 50,
   "id": "b8333c62",
   "metadata": {},
   "outputs": [
    {
     "name": "stdout",
     "output_type": "stream",
     "text": [
      "Precision =  0.482837528604119\n"
     ]
    }
   ],
   "source": [
    "#Расчитаем точность\n",
    "print('Precision = ', precision_score(target_valid, predicted_valid))"
   ]
  },
  {
   "cell_type": "code",
   "execution_count": 51,
   "id": "fc589751",
   "metadata": {
    "scrolled": false
   },
   "outputs": [
    {
     "name": "stdout",
     "output_type": "stream",
     "text": [
      "F1 =  0.5000000000000001\n"
     ]
    }
   ],
   "source": [
    "#Расчитаем характеристику f1\n",
    "print('F1 = ', f1_score(target_valid, predicted_valid))"
   ]
  },
  {
   "cell_type": "code",
   "execution_count": 52,
   "id": "5d139e40",
   "metadata": {},
   "outputs": [
    {
     "name": "stdout",
     "output_type": "stream",
     "text": [
      "AUC-ROC = 0.6882784170919763\n"
     ]
    }
   ],
   "source": [
    "#Расчитаем также значение auc_roc\n",
    "probabilities_valid = model.predict_proba(features_valid)\n",
    "probabilities_one_valid = probabilities_valid[:, 1]\n",
    "\n",
    "auc_roc = roc_auc_score(target_valid, probabilities_one_valid)\n",
    "print('AUC-ROC =', auc_roc)"
   ]
  },
  {
   "cell_type": "markdown",
   "id": "54ecd7f3",
   "metadata": {},
   "source": [
    "**Вывод**: значение auc roc = 0.68 говорит о том, что модель дает предсказания лучше, чем случайная. "
   ]
  },
  {
   "cell_type": "markdown",
   "id": "2c653783",
   "metadata": {},
   "source": [
    "**Вывод**: после проведения тестового тестирования модели несбалансированной логичстической регрессии были получены следующие результаты: \n",
    "- **Recall** = 0.5\n",
    "- **Precision** = 0.47\n",
    "- **F1** = 0.48 <br>\n",
    "- **auc_roc** = 0.68  <br>\n",
    "Полученные данные не являются достаточными для создания хорошей предсказательной модели. "
   ]
  },
  {
   "cell_type": "markdown",
   "id": "81c316ca",
   "metadata": {},
   "source": [
    "## 3.2 Сбалансированная логистическая регрессия"
   ]
  },
  {
   "cell_type": "markdown",
   "id": "09e71c06",
   "metadata": {},
   "source": [
    "Учтем теперь тот факт, что представленные классы не являются сбалансированными и воспользуемся разными методами для их балансироваки. Сначала проверим, как изменятся параметры модели логистической регресии.  "
   ]
  },
  {
   "cell_type": "code",
   "execution_count": 53,
   "id": "04a37e96",
   "metadata": {
    "scrolled": true
   },
   "outputs": [
    {
     "name": "stdout",
     "output_type": "stream",
     "text": [
      "F1: 0.5113043478260869\n",
      "Recall: 0.7223587223587223\n",
      "Precision: 0.39569313593539707\n",
      "AUC-ROC = 0.791802588412758\n"
     ]
    }
   ],
   "source": [
    "#Обучим сбалансированную модель Логичстической регрессии \n",
    "model = LogisticRegression(random_state=12345, solver='liblinear',class_weight = 'balanced')\n",
    "model.fit(features_train, target_train)\n",
    "predicted_valid = model.predict(features_valid)\n",
    "print(\"F1:\", f1_score(target_valid, predicted_valid))\n",
    "print('Recall:', recall_score(target_valid, predicted_valid))\n",
    "print('Precision:', precision_score(target_valid, predicted_valid))\n",
    "#Расчитаем также значение auc_roc\n",
    "probabilities_valid = model.predict_proba(features_valid)\n",
    "probabilities_one_valid = probabilities_valid[:, 1]\n",
    "\n",
    "auc_roc = roc_auc_score(target_valid, probabilities_one_valid)\n",
    "print('AUC-ROC =', auc_roc)"
   ]
  },
  {
   "cell_type": "markdown",
   "id": "6e1c1ae5",
   "metadata": {},
   "source": [
    "**Вывод**: Сбалансированная логистическая регрессия дает следующие результаты: **F1** - 0.47, **Recall** = 0.68, **Precision** = 0.36. **AUC-ROC** = 0.77. Заметного улучшения результатов она не дает."
   ]
  },
  {
   "cell_type": "markdown",
   "id": "2b88bead",
   "metadata": {},
   "source": [
    "Проведем балансировку теперь другим способом - с помощью увеличения выборки (upsampling) и уменьшения выборки (downsampling)."
   ]
  },
  {
   "cell_type": "markdown",
   "id": "a0390004",
   "metadata": {},
   "source": [
    "Метод **upsampling**"
   ]
  },
  {
   "cell_type": "code",
   "execution_count": 54,
   "id": "725ef271",
   "metadata": {},
   "outputs": [],
   "source": [
    "#Реализиуем функцию, которая проводит увеличивает  количество положительных объектов\n",
    "def upsample(features, target, repeat):\n",
    "    features_zeros = features[target == 0]\n",
    "    features_ones = features[target == 1]\n",
    "    target_zeros = target[target == 0]\n",
    "    target_ones = target[target == 1]\n",
    "\n",
    "    features_upsampled = pd.concat([features_zeros] + [features_ones] * repeat)\n",
    "    target_upsampled = pd.concat([target_zeros] + [target_ones] * repeat)\n",
    "    \n",
    "    features_upsampled, target_upsampled = shuffle(\n",
    "        features_upsampled, target_upsampled, random_state=12345)\n",
    "    \n",
    "    return features_upsampled, target_upsampled\n"
   ]
  },
  {
   "cell_type": "code",
   "execution_count": 55,
   "id": "d7f8a02b",
   "metadata": {},
   "outputs": [
    {
     "name": "stdout",
     "output_type": "stream",
     "text": [
      "F1 = 0.5081545064377684\n",
      "AUC-ROC = 0.7918750800106732\n"
     ]
    }
   ],
   "source": [
    "#Применим логистическую регрессию к увеличенной выборке \n",
    "features_upsampled, target_upsampled = upsample(features_train, target_train, 4)\n",
    "model = LogisticRegression(random_state=12345, solver='liblinear')\n",
    "model.fit(features_upsampled, target_upsampled)\n",
    "predicted_valid = model.predict(features_valid) \n",
    "result = f1_score(target_valid, predicted_valid)\n",
    "    \n",
    "#Расчитаем также значение auc_roc\n",
    "\n",
    "probabilities_valid = model.predict_proba(features_valid)\n",
    "probabilities_one_valid = probabilities_valid[:, 1]\n",
    "print('F1 =', result )\n",
    "auc_roc = roc_auc_score(target_valid, probabilities_one_valid)\n",
    "print('AUC-ROC =', auc_roc)"
   ]
  },
  {
   "cell_type": "markdown",
   "id": "7801f525",
   "metadata": {},
   "source": [
    "**Вывод**: применение логистической регрессии к увеличенной выборке дает результат параметра **f1** =  0.48. Параметр **auc-roc** в этом случае равен 0.77. Значительного улучшения этой характеристики не достигнуто. "
   ]
  },
  {
   "cell_type": "markdown",
   "id": "1d2891b1",
   "metadata": {},
   "source": [
    "Метод **downsampling** "
   ]
  },
  {
   "cell_type": "code",
   "execution_count": 56,
   "id": "2c0bbaa5",
   "metadata": {},
   "outputs": [],
   "source": [
    "#Реализиуем функцию, которая проводит уменьшает количество отрицательных объектов\n",
    "def downsample(features, target, fraction):\n",
    "    features_zeros = features[target == 0]\n",
    "    features_ones = features[target == 1]\n",
    "    target_zeros = target[target == 0]\n",
    "    target_ones = target[target == 1]\n",
    "\n",
    "    features_downsampled = pd.concat(\n",
    "        [features_zeros.sample(frac=fraction, random_state=12345)] + [features_ones])\n",
    "    target_downsampled = pd.concat(\n",
    "        [target_zeros.sample(frac=fraction, random_state=12345)] + [target_ones])\n",
    "    \n",
    "    features_downsampled, target_downsampled = shuffle(\n",
    "        features_downsampled, target_downsampled, random_state=12345)\n",
    "    \n",
    "    return features_downsampled, target_downsampled"
   ]
  },
  {
   "cell_type": "code",
   "execution_count": 57,
   "id": "551914fb",
   "metadata": {
    "scrolled": true
   },
   "outputs": [
    {
     "name": "stdout",
     "output_type": "stream",
     "text": [
      "F1 = 0.5047210300429185\n",
      "AUC-ROC = 0.7913244523414015\n"
     ]
    }
   ],
   "source": [
    "#Применим логистическую регрессию к уменьшенной выборке \n",
    "features_downsampled, target_downsampled = downsample(features_train, target_train, 0.25)\n",
    "model = LogisticRegression(random_state=12345, solver='liblinear')\n",
    "model.fit(features_downsampled, target_downsampled)\n",
    "predicted_valid = model.predict(features_valid) \n",
    "result = f1_score(target_valid, predicted_valid)\n",
    "    \n",
    "#Расчитаем также значение auc_roc\n",
    "\n",
    "probabilities_valid = model.predict_proba(features_valid)\n",
    "probabilities_one_valid = probabilities_valid[:, 1]\n",
    "print('F1 =', result )\n",
    "auc_roc = roc_auc_score(target_valid, probabilities_one_valid)\n",
    "print('AUC-ROC =', auc_roc)"
   ]
  },
  {
   "cell_type": "markdown",
   "id": "c1b165ce",
   "metadata": {},
   "source": [
    "**Вывод**: применение логистической регрессии к уменьшенной выборке дает результат параметра f1 =  0.48. Параметр **auc-roc** в этом случае равен 0.77. Значительного улучшения этой характеристики не достигнуто. "
   ]
  },
  {
   "cell_type": "markdown",
   "id": "d704cc30",
   "metadata": {},
   "source": [
    "## 3.3 Сбалансированный случайный лес"
   ]
  },
  {
   "cell_type": "markdown",
   "id": "683aa801",
   "metadata": {},
   "source": [
    "Проведем теперь моделирование с помощью другой модели - с помощью случайного леса, используя увеличенную выборку. Будем подбирать оптимальные параметры указанной модели, таким образом определив наилучшую. "
   ]
  },
  {
   "cell_type": "code",
   "execution_count": 58,
   "id": "98632976",
   "metadata": {},
   "outputs": [
    {
     "name": "stdout",
     "output_type": "stream",
     "text": [
      "F1 наилучшей модели на валидационной выборке: 0.6372950819672131\n",
      "Количество деревьев 24\n",
      "Максимальная глубина 8\n",
      "AUC-ROC = 0.8670920535327316\n"
     ]
    }
   ],
   "source": [
    "#Обучим модель случайного леса и подберем наилуший параметр количества деревьев\n",
    "best_model_random_tree = None\n",
    "best_result_random_tree = 0\n",
    "best_number_of_trees = 0\n",
    "best_number_of_depth = 0\n",
    "features_upsampled, target_upsampled = upsample(features_train, target_train, 4)\n",
    "#Создадим вложенный цикл по количеству деревьев и по максимальной глубине\n",
    "for est in range(1, 30, 1):\n",
    "        for depth in range (1, 25, 1):\n",
    "            model_random_tree = RandomForestClassifier(random_state=12345, n_estimators= est, max_depth = depth) \n",
    "            model_random_tree.fit(features_upsampled, target_upsampled)\n",
    "            predicted_valid = model_random_tree.predict(features_valid)\n",
    "            result = f1_score(target_valid, predicted_valid)\n",
    "            if result > best_result_random_tree:\n",
    "                best_model_random_tree = model_random_tree\n",
    "                best_result_random_tree = result\n",
    "                best_number_of_trees = est\n",
    "                best_number_of_depth = depth\n",
    "\n",
    "print(\"F1 наилучшей модели на валидационной выборке:\", best_result_random_tree)\n",
    "print('Количество деревьев', best_number_of_trees)\n",
    "print('Максимальная глубина', best_number_of_depth)\n",
    "#Расчитаем также значение auc_roc\n",
    "probabilities_valid = best_model_random_tree.predict_proba(features_valid)\n",
    "probabilities_one_valid = probabilities_valid[:, 1]\n",
    "\n",
    "auc_roc = roc_auc_score(target_valid, probabilities_one_valid)\n",
    "print('AUC-ROC =', auc_roc)"
   ]
  },
  {
   "cell_type": "markdown",
   "id": "2255c69f",
   "metadata": {},
   "source": [
    "**Вывод**: модель случайного дерева с количеством деревьев 24 и максимальной глубиной 8 для увеличенной выборки, продемонстировала лучший результат для  **F1** = 0.63. Параметр **AUC-ROC** в этом случае равен 0.86. "
   ]
  },
  {
   "cell_type": "markdown",
   "id": "3b5cfbd3",
   "metadata": {},
   "source": [
    "# 4. Итоговое тестирование"
   ]
  },
  {
   "cell_type": "markdown",
   "id": "78f8393f",
   "metadata": {},
   "source": [
    "Проведем итоговое тестирование на тестовой выборке."
   ]
  },
  {
   "cell_type": "code",
   "execution_count": 59,
   "id": "5f518690",
   "metadata": {
    "scrolled": true
   },
   "outputs": [
    {
     "name": "stdout",
     "output_type": "stream",
     "text": [
      "f1 = 0.6053333333333333\n",
      "AUC-ROC = 0.8572463063988487\n"
     ]
    }
   ],
   "source": [
    "#Проверим качество выбранной модели на тестовой выборке для лучшего дерева с увеличенной выборкой \n",
    "predicted_test = best_model_random_tree.predict(features_test)\n",
    "print('f1 =', result)\n",
    "probabilities_valid = best_model_random_tree.predict_proba(features_test)\n",
    "probabilities_one_valid = probabilities_valid[:, 1]\n",
    "\n",
    "auc_roc = roc_auc_score(target_test, probabilities_one_valid)\n",
    "print('AUC-ROC =', auc_roc)"
   ]
  },
  {
   "cell_type": "markdown",
   "id": "561d1fc4",
   "metadata": {},
   "source": [
    "**Вывод**: Таким образом, для  модели случайного дерева было получено наилучшее значение параметра F1 = 0.6 на тестовой выборке. Параметр AUC-ROC в этом случае равен 0.86."
   ]
  },
  {
   "cell_type": "markdown",
   "id": "03825ac0",
   "metadata": {},
   "source": [
    "# Выводы:"
   ]
  },
  {
   "cell_type": "markdown",
   "id": "743bab19",
   "metadata": {},
   "source": [
    "В ходе нашего исследования мы проанализировли исходные данные и составили по ним модель, которая позволяет прогнозировать покинет ли клиент банк или нет. Исследование было сведено к задаче классификации, поскольку выбор осуществлялся среди конечного набора действий - уйдет или нет, и сводилось к изучению одного целевого признака. \n",
    "\n"
   ]
  },
  {
   "cell_type": "markdown",
   "id": "40dc5c97",
   "metadata": {},
   "source": [
    "После предобработки данных были обнаружены пропуски определенных значений в признаке Tenure. Обнаруженные данные с пропусками были удалены из текущей выборки для построения корректной модели. Также были изучены возможные взаимосвязи между исходными признаками, но сильных коррелляций обнаружено не было. "
   ]
  },
  {
   "cell_type": "markdown",
   "id": "5184e9a0",
   "metadata": {},
   "source": [
    "В ходе моделирования были протестированы - исходная выборка на модели логичестической регрессии, логистическая регрессия на сбалансированных разными способами выборках и определены характеристики качества моделей **F1** и **AUC-ROC**. Полученные модели не удовлетворяли поставленному требованию по метрике F1 = 0.59. "
   ]
  },
  {
   "cell_type": "markdown",
   "id": "84220881",
   "metadata": {},
   "source": [
    "Для дальнейшего исследования была протестирована модель случайного леса с разными параметрами этой модели (количеством деревьев, максимальной глубиной). Данное тестирование проводилось на увеличенной и уменьшенной выборке. Была найдена наилучшая модель. "
   ]
  },
  {
   "cell_type": "markdown",
   "id": "4d0127fa",
   "metadata": {},
   "source": [
    "Модель, показавшая наилучшие результаты, может быть описана следующим образом:\n",
    "Модель Случайного Леса с количеством деревьев равным **24** и максимальной глубиной равной **8**. \n",
    "Полученные результаты метрик качества модели на валидационной выборке **F1** = 0.63, **AUC-ROC** = 0.85."
   ]
  },
  {
   "cell_type": "markdown",
   "id": "9c9f09a5",
   "metadata": {},
   "source": [
    "Модель была протестирована на тестовой выборке со следующими результатами **F1** = 0.6, **AUC-ROC** = 0.86. "
   ]
  }
 ],
 "metadata": {
  "kernelspec": {
   "display_name": "Python 3 (ipykernel)",
   "language": "python",
   "name": "python3"
  },
  "language_info": {
   "codemirror_mode": {
    "name": "ipython",
    "version": 3
   },
   "file_extension": ".py",
   "mimetype": "text/x-python",
   "name": "python",
   "nbconvert_exporter": "python",
   "pygments_lexer": "ipython3",
   "version": "3.9.16"
  },
  "toc": {
   "base_numbering": 1,
   "nav_menu": {},
   "number_sections": true,
   "sideBar": true,
   "skip_h1_title": true,
   "title_cell": "Table of Contents",
   "title_sidebar": "Contents",
   "toc_cell": false,
   "toc_position": {},
   "toc_section_display": true,
   "toc_window_display": true
  }
 },
 "nbformat": 4,
 "nbformat_minor": 5
}
