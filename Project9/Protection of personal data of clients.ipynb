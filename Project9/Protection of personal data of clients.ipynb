{
 "cells": [
  {
   "cell_type": "markdown",
   "id": "3dcca175",
   "metadata": {},
   "source": [
    "# Защита персональных данных клиентов"
   ]
  },
  {
   "cell_type": "markdown",
   "id": "5253161a",
   "metadata": {},
   "source": [
    "Проект по защите данных клиентов страховой компании \"Хоть потоп\" позволит обеспечить надежный механизм преобразования данных таким образом, чтобы по ним было сложно восстановить персональную информацию о пользователях. В ходе нашей работы мы исследуем имеющиеся входные данные и проанализируем главную проблему - изменяется ли качество модели машинного обучения (линейной регресии) при преобразовании исходных данных. "
   ]
  },
  {
   "cell_type": "markdown",
   "id": "8563a1de",
   "metadata": {},
   "source": [
    "Изучаемые данные можно представить следующей структурой: <br> \n",
    "**Признаки**: пол, возраст и зарплата застрахованного, количество членов его семьи. <br>\n",
    "**Целевой признак**: количество страховых выплат клиенту за последние 5 лет."
   ]
  },
  {
   "cell_type": "markdown",
   "id": "60609cc3",
   "metadata": {},
   "source": [
    "Целью нашего проекта будет - подбор алгоритма преобразования, который не ухудшает качество модели машинного обучения. "
   ]
  },
  {
   "cell_type": "code",
   "execution_count": 36,
   "id": "af207d1d",
   "metadata": {},
   "outputs": [],
   "source": [
    "#Импортируем все используемые в проекте библиотеки\n",
    "import pandas as pd\n",
    "import seaborn as sns\n",
    "import matplotlib.pyplot as plt\n",
    "import numpy as np\n",
    "from sklearn.metrics import confusion_matrix\n",
    "from sklearn.linear_model import LinearRegression\n",
    "from sklearn.metrics import r2_score"
   ]
  },
  {
   "cell_type": "markdown",
   "id": "e8897416",
   "metadata": {},
   "source": [
    "# 1. Предобработка данных "
   ]
  },
  {
   "cell_type": "markdown",
   "id": "dd000623",
   "metadata": {},
   "source": [
    "Первоначально изучим имеющиеся данные. Проверим пропуски, дубликаты, типы переменных, возмножные аномальные значения, распределения величин, возможные корреляции."
   ]
  },
  {
   "cell_type": "code",
   "execution_count": 37,
   "id": "905462f5",
   "metadata": {},
   "outputs": [],
   "source": [
    "#Считывание данных \n",
    "try:\n",
    "    data = pd.read_csv('/datasets/insurance.csv')\n",
    "except:\n",
    "    data = pd.read_csv('insurance.csv')  "
   ]
  },
  {
   "cell_type": "code",
   "execution_count": 38,
   "id": "22c6c7c6",
   "metadata": {
    "scrolled": true
   },
   "outputs": [
    {
     "name": "stdout",
     "output_type": "stream",
     "text": [
      "<class 'pandas.core.frame.DataFrame'>\n",
      "RangeIndex: 5000 entries, 0 to 4999\n",
      "Data columns (total 5 columns):\n",
      " #   Column             Non-Null Count  Dtype  \n",
      "---  ------             --------------  -----  \n",
      " 0   Пол                5000 non-null   int64  \n",
      " 1   Возраст            5000 non-null   float64\n",
      " 2   Зарплата           5000 non-null   float64\n",
      " 3   Члены семьи        5000 non-null   int64  \n",
      " 4   Страховые выплаты  5000 non-null   int64  \n",
      "dtypes: float64(2), int64(3)\n",
      "memory usage: 195.4 KB\n"
     ]
    }
   ],
   "source": [
    "#Вывод основной информации о данных \n",
    "data.info()"
   ]
  },
  {
   "cell_type": "code",
   "execution_count": 39,
   "id": "0341c699",
   "metadata": {
    "scrolled": true
   },
   "outputs": [
    {
     "data": {
      "text/html": [
       "<div>\n",
       "<style scoped>\n",
       "    .dataframe tbody tr th:only-of-type {\n",
       "        vertical-align: middle;\n",
       "    }\n",
       "\n",
       "    .dataframe tbody tr th {\n",
       "        vertical-align: top;\n",
       "    }\n",
       "\n",
       "    .dataframe thead th {\n",
       "        text-align: right;\n",
       "    }\n",
       "</style>\n",
       "<table border=\"1\" class=\"dataframe\">\n",
       "  <thead>\n",
       "    <tr style=\"text-align: right;\">\n",
       "      <th></th>\n",
       "      <th>Пол</th>\n",
       "      <th>Возраст</th>\n",
       "      <th>Зарплата</th>\n",
       "      <th>Члены семьи</th>\n",
       "      <th>Страховые выплаты</th>\n",
       "    </tr>\n",
       "  </thead>\n",
       "  <tbody>\n",
       "    <tr>\n",
       "      <th>0</th>\n",
       "      <td>1</td>\n",
       "      <td>41.0</td>\n",
       "      <td>49600.0</td>\n",
       "      <td>1</td>\n",
       "      <td>0</td>\n",
       "    </tr>\n",
       "    <tr>\n",
       "      <th>1</th>\n",
       "      <td>0</td>\n",
       "      <td>46.0</td>\n",
       "      <td>38000.0</td>\n",
       "      <td>1</td>\n",
       "      <td>1</td>\n",
       "    </tr>\n",
       "    <tr>\n",
       "      <th>2</th>\n",
       "      <td>0</td>\n",
       "      <td>29.0</td>\n",
       "      <td>21000.0</td>\n",
       "      <td>0</td>\n",
       "      <td>0</td>\n",
       "    </tr>\n",
       "    <tr>\n",
       "      <th>3</th>\n",
       "      <td>0</td>\n",
       "      <td>21.0</td>\n",
       "      <td>41700.0</td>\n",
       "      <td>2</td>\n",
       "      <td>0</td>\n",
       "    </tr>\n",
       "    <tr>\n",
       "      <th>4</th>\n",
       "      <td>1</td>\n",
       "      <td>28.0</td>\n",
       "      <td>26100.0</td>\n",
       "      <td>0</td>\n",
       "      <td>0</td>\n",
       "    </tr>\n",
       "  </tbody>\n",
       "</table>\n",
       "</div>"
      ],
      "text/plain": [
       "   Пол  Возраст  Зарплата  Члены семьи  Страховые выплаты\n",
       "0    1     41.0   49600.0            1                  0\n",
       "1    0     46.0   38000.0            1                  1\n",
       "2    0     29.0   21000.0            0                  0\n",
       "3    0     21.0   41700.0            2                  0\n",
       "4    1     28.0   26100.0            0                  0"
      ]
     },
     "execution_count": 39,
     "metadata": {},
     "output_type": "execute_result"
    }
   ],
   "source": [
    "#Вывод начала таблицы\n",
    "data.head()"
   ]
  },
  {
   "cell_type": "markdown",
   "id": "eb8a97b0",
   "metadata": {},
   "source": [
    "**Вывод**: из представленного видно, что тип данных соответсвующий столбцам \"Возраст\" и \"Зарплата\" может быть оптимизирован на тип int, представляющий целочисленные переменные. "
   ]
  },
  {
   "cell_type": "code",
   "execution_count": 40,
   "id": "12eee513",
   "metadata": {},
   "outputs": [],
   "source": [
    "#Оптимизируем отмеченные переменные \n",
    "data['Зарплата'] = data['Зарплата'].astype('int64')\n",
    "data['Возраст'] = data['Возраст'].astype('int64')"
   ]
  },
  {
   "cell_type": "code",
   "execution_count": 41,
   "id": "830fd6f1",
   "metadata": {
    "scrolled": true
   },
   "outputs": [
    {
     "name": "stdout",
     "output_type": "stream",
     "text": [
      "<class 'pandas.core.frame.DataFrame'>\n",
      "RangeIndex: 5000 entries, 0 to 4999\n",
      "Data columns (total 5 columns):\n",
      " #   Column             Non-Null Count  Dtype\n",
      "---  ------             --------------  -----\n",
      " 0   Пол                5000 non-null   int64\n",
      " 1   Возраст            5000 non-null   int64\n",
      " 2   Зарплата           5000 non-null   int64\n",
      " 3   Члены семьи        5000 non-null   int64\n",
      " 4   Страховые выплаты  5000 non-null   int64\n",
      "dtypes: int64(5)\n",
      "memory usage: 195.4 KB\n"
     ]
    }
   ],
   "source": [
    "#Проверим изменение типов переменных\n",
    "data.info()"
   ]
  },
  {
   "cell_type": "markdown",
   "id": "eb271e22",
   "metadata": {},
   "source": [
    "**Вывод**: переменные соответствующие столбцам \"Возраст\" и \"Зарплата\" оптимиизированы к типу int. "
   ]
  },
  {
   "cell_type": "code",
   "execution_count": 42,
   "id": "2235925c",
   "metadata": {},
   "outputs": [
    {
     "data": {
      "text/plain": [
       "Пол                  0\n",
       "Возраст              0\n",
       "Зарплата             0\n",
       "Члены семьи          0\n",
       "Страховые выплаты    0\n",
       "dtype: int64"
      ]
     },
     "execution_count": 42,
     "metadata": {},
     "output_type": "execute_result"
    }
   ],
   "source": [
    "#Проверим данные на наличие пропусков\n",
    "data.isnull().sum()"
   ]
  },
  {
   "cell_type": "markdown",
   "id": "ea017b86",
   "metadata": {},
   "source": [
    "**Вывод**: явные пропуски в данных отсутствуют. "
   ]
  },
  {
   "cell_type": "code",
   "execution_count": 43,
   "id": "a848b558",
   "metadata": {},
   "outputs": [
    {
     "data": {
      "text/plain": [
       "153"
      ]
     },
     "execution_count": 43,
     "metadata": {},
     "output_type": "execute_result"
    }
   ],
   "source": [
    "#Проверим данные на наличие дубликатов \n",
    "data.duplicated().sum()"
   ]
  },
  {
   "cell_type": "markdown",
   "id": "c0e4db6d",
   "metadata": {},
   "source": [
    "**Вывод**: в данных присутствует 153 дублированных значения, что составляет около 3% от всех имеющихся данных. "
   ]
  },
  {
   "cell_type": "code",
   "execution_count": 44,
   "id": "d00073df",
   "metadata": {},
   "outputs": [
    {
     "data": {
      "text/plain": [
       "0"
      ]
     },
     "execution_count": 44,
     "metadata": {},
     "output_type": "execute_result"
    }
   ],
   "source": [
    "#Удалим выявленные дублированные значения \n",
    "data = data.drop_duplicates()\n",
    "data.duplicated().sum()"
   ]
  },
  {
   "cell_type": "markdown",
   "id": "53b223c9",
   "metadata": {},
   "source": [
    "Проанализируем распределения имеющихся величин."
   ]
  },
  {
   "cell_type": "code",
   "execution_count": 45,
   "id": "9a2c8e0b",
   "metadata": {
    "scrolled": true
   },
   "outputs": [
    {
     "data": {
      "image/png": "[encoded data removed]",
      "text/plain": [
       "<Figure size 1500x2000 with 6 Axes>"
      ]
     },
     "metadata": {},
     "output_type": "display_data"
    }
   ],
   "source": [
    "data.hist(figsize=(15,20));"
   ]
  },
  {
   "cell_type": "code",
   "execution_count": 46,
   "id": "4bf39f8e",
   "metadata": {
    "scrolled": true
   },
   "outputs": [
    {
     "data": {
      "text/html": [
       "<div>\n",
       "<style scoped>\n",
       "    .dataframe tbody tr th:only-of-type {\n",
       "        vertical-align: middle;\n",
       "    }\n",
       "\n",
       "    .dataframe tbody tr th {\n",
       "        vertical-align: top;\n",
       "    }\n",
       "\n",
       "    .dataframe thead th {\n",
       "        text-align: right;\n",
       "    }\n",
       "</style>\n",
       "<table border=\"1\" class=\"dataframe\">\n",
       "  <thead>\n",
       "    <tr style=\"text-align: right;\">\n",
       "      <th></th>\n",
       "      <th>Пол</th>\n",
       "      <th>Возраст</th>\n",
       "      <th>Зарплата</th>\n",
       "      <th>Члены семьи</th>\n",
       "      <th>Страховые выплаты</th>\n",
       "    </tr>\n",
       "  </thead>\n",
       "  <tbody>\n",
       "    <tr>\n",
       "      <th>count</th>\n",
       "      <td>4847.000000</td>\n",
       "      <td>4847.000000</td>\n",
       "      <td>4847.000000</td>\n",
       "      <td>4847.000000</td>\n",
       "      <td>4847.000000</td>\n",
       "    </tr>\n",
       "    <tr>\n",
       "      <th>mean</th>\n",
       "      <td>0.498453</td>\n",
       "      <td>31.023932</td>\n",
       "      <td>39895.811223</td>\n",
       "      <td>1.203425</td>\n",
       "      <td>0.152259</td>\n",
       "    </tr>\n",
       "    <tr>\n",
       "      <th>std</th>\n",
       "      <td>0.500049</td>\n",
       "      <td>8.487995</td>\n",
       "      <td>9972.952441</td>\n",
       "      <td>1.098664</td>\n",
       "      <td>0.468934</td>\n",
       "    </tr>\n",
       "    <tr>\n",
       "      <th>min</th>\n",
       "      <td>0.000000</td>\n",
       "      <td>18.000000</td>\n",
       "      <td>5300.000000</td>\n",
       "      <td>0.000000</td>\n",
       "      <td>0.000000</td>\n",
       "    </tr>\n",
       "    <tr>\n",
       "      <th>25%</th>\n",
       "      <td>0.000000</td>\n",
       "      <td>24.000000</td>\n",
       "      <td>33200.000000</td>\n",
       "      <td>0.000000</td>\n",
       "      <td>0.000000</td>\n",
       "    </tr>\n",
       "    <tr>\n",
       "      <th>50%</th>\n",
       "      <td>0.000000</td>\n",
       "      <td>30.000000</td>\n",
       "      <td>40200.000000</td>\n",
       "      <td>1.000000</td>\n",
       "      <td>0.000000</td>\n",
       "    </tr>\n",
       "    <tr>\n",
       "      <th>75%</th>\n",
       "      <td>1.000000</td>\n",
       "      <td>37.000000</td>\n",
       "      <td>46600.000000</td>\n",
       "      <td>2.000000</td>\n",
       "      <td>0.000000</td>\n",
       "    </tr>\n",
       "    <tr>\n",
       "      <th>max</th>\n",
       "      <td>1.000000</td>\n",
       "      <td>65.000000</td>\n",
       "      <td>79000.000000</td>\n",
       "      <td>6.000000</td>\n",
       "      <td>5.000000</td>\n",
       "    </tr>\n",
       "  </tbody>\n",
       "</table>\n",
       "</div>"
      ],
      "text/plain": [
       "               Пол      Возраст      Зарплата  Члены семьи  Страховые выплаты\n",
       "count  4847.000000  4847.000000   4847.000000  4847.000000        4847.000000\n",
       "mean      0.498453    31.023932  39895.811223     1.203425           0.152259\n",
       "std       0.500049     8.487995   9972.952441     1.098664           0.468934\n",
       "min       0.000000    18.000000   5300.000000     0.000000           0.000000\n",
       "25%       0.000000    24.000000  33200.000000     0.000000           0.000000\n",
       "50%       0.000000    30.000000  40200.000000     1.000000           0.000000\n",
       "75%       1.000000    37.000000  46600.000000     2.000000           0.000000\n",
       "max       1.000000    65.000000  79000.000000     6.000000           5.000000"
      ]
     },
     "execution_count": 46,
     "metadata": {},
     "output_type": "execute_result"
    }
   ],
   "source": [
    "data.describe()"
   ]
  },
  {
   "cell_type": "code",
   "execution_count": 47,
   "id": "8da1de6d",
   "metadata": {},
   "outputs": [
    {
     "data": {
      "text/html": [
       "<div>\n",
       "<style scoped>\n",
       "    .dataframe tbody tr th:only-of-type {\n",
       "        vertical-align: middle;\n",
       "    }\n",
       "\n",
       "    .dataframe tbody tr th {\n",
       "        vertical-align: top;\n",
       "    }\n",
       "\n",
       "    .dataframe thead th {\n",
       "        text-align: right;\n",
       "    }\n",
       "</style>\n",
       "<table border=\"1\" class=\"dataframe\">\n",
       "  <thead>\n",
       "    <tr style=\"text-align: right;\">\n",
       "      <th></th>\n",
       "      <th>Пол</th>\n",
       "      <th>Возраст</th>\n",
       "      <th>Зарплата</th>\n",
       "      <th>Члены семьи</th>\n",
       "    </tr>\n",
       "  </thead>\n",
       "  <tbody>\n",
       "    <tr>\n",
       "      <th>Пол</th>\n",
       "      <td>1.000000</td>\n",
       "      <td>0.001953</td>\n",
       "      <td>0.015456</td>\n",
       "      <td>-0.007315</td>\n",
       "    </tr>\n",
       "    <tr>\n",
       "      <th>Возраст</th>\n",
       "      <td>0.001953</td>\n",
       "      <td>1.000000</td>\n",
       "      <td>-0.017386</td>\n",
       "      <td>-0.009064</td>\n",
       "    </tr>\n",
       "    <tr>\n",
       "      <th>Зарплата</th>\n",
       "      <td>0.015456</td>\n",
       "      <td>-0.017386</td>\n",
       "      <td>1.000000</td>\n",
       "      <td>-0.031687</td>\n",
       "    </tr>\n",
       "    <tr>\n",
       "      <th>Члены семьи</th>\n",
       "      <td>-0.007315</td>\n",
       "      <td>-0.009064</td>\n",
       "      <td>-0.031687</td>\n",
       "      <td>1.000000</td>\n",
       "    </tr>\n",
       "  </tbody>\n",
       "</table>\n",
       "</div>"
      ],
      "text/plain": [
       "                  Пол   Возраст  Зарплата  Члены семьи\n",
       "Пол          1.000000  0.001953  0.015456    -0.007315\n",
       "Возраст      0.001953  1.000000 -0.017386    -0.009064\n",
       "Зарплата     0.015456 -0.017386  1.000000    -0.031687\n",
       "Члены семьи -0.007315 -0.009064 -0.031687     1.000000"
      ]
     },
     "execution_count": 47,
     "metadata": {},
     "output_type": "execute_result"
    }
   ],
   "source": [
    "data_features = data.drop('Страховые выплаты', axis = 1)\n",
    "data_features.corr()\n"
   ]
  },
  {
   "cell_type": "markdown",
   "id": "2c070cab",
   "metadata": {},
   "source": [
    "**Вывод**: исходные данные были прочитаны и предваритально проанализированы. Выявлены дубликаты значений и неоптимизированные типы переменных. Явных аномалий и корреляций между переменными не обнаружено. "
   ]
  },
  {
   "cell_type": "markdown",
   "id": "e5f51343",
   "metadata": {},
   "source": [
    "# 2. Влияние умножения матриц на качество линейной регрессии"
   ]
  },
  {
   "cell_type": "markdown",
   "id": "32893c3c",
   "metadata": {},
   "source": [
    "Исследуем гипотезу, что при домножении исходной матрицы признаков на любую обратимую матрицу качество применяемой линейной регрессии не изменится.  "
   ]
  },
  {
   "cell_type": "markdown",
   "id": "1fd49f82",
   "metadata": {},
   "source": [
    "Воспользуемся стандартными обозначениями: \n",
    "\n",
    "$X$ матрица признаков (нулевой столбец состоит из единиц)\n",
    "\n",
    "$y$ вектор целевого признака\n",
    "\n",
    "$w$ вектор весов линейной регрессии (нулевой элемент равен сдвигу)\n",
    "\n",
    "$R$ вспомогательная матрица"
   ]
  },
  {
   "cell_type": "markdown",
   "id": "569c1005",
   "metadata": {},
   "source": [
    "Предсказания, даваемые с помощью линейной регрессии можно описать следующей формулой:\n",
    "$a = Xw$"
   ]
  },
  {
   "cell_type": "markdown",
   "id": "ec989356",
   "metadata": {},
   "source": [
    "где $w$ вычисляется по следующей формуле $w$ = $(X^{T}X)^{-1}X^{T}y$"
   ]
  },
  {
   "cell_type": "markdown",
   "id": "12d24514",
   "metadata": {},
   "source": [
    "Если же мы домножим исходную матрицу на матрицу $R$ и применим к полученному такую формулу, то получим для вектора весов линейной регрессии\n",
    "$w_1$ = $((XR)^{T}XR)^{-1}(XR)^{T}y$"
   ]
  },
  {
   "cell_type": "markdown",
   "id": "e60c5354",
   "metadata": {},
   "source": [
    "Известно, что транспонированное произведение матриц равно произведению транспонированных матриц, взятых в обратном порядке. Тогда получаем: "
   ]
  },
  {
   "cell_type": "markdown",
   "id": "47ed16af",
   "metadata": {},
   "source": [
    "$w_1$ = $(R^{T}X^{T}XR)^{-1}R^{T}X^{T}y$"
   ]
  },
  {
   "cell_type": "markdown",
   "id": "c5a83eb7",
   "metadata": {},
   "source": [
    "Известно также , что обратная матрица произведения матриц равна произведению обратных матриц, взятых в обратном порядке. Тогда последовательно применяя это свойство, получаем: "
   ]
  },
  {
   "cell_type": "markdown",
   "id": "f6c2342d",
   "metadata": {},
   "source": [
    "$w_1$ = $(XR)^{-1}(R^{T}X^{T})^{-1}R^{T}X^{T}y$"
   ]
  },
  {
   "cell_type": "markdown",
   "id": "7055bec5",
   "metadata": {},
   "source": [
    "$w_1$ = $(R)^{-1}X^{-1}(X^{T})^{-1}(R^{T})^{-1}R^{T}X^{T}y$"
   ]
  },
  {
   "cell_type": "markdown",
   "id": "6144ccac",
   "metadata": {},
   "source": [
    "$(R^{T})^{-1}R^{T}$ - произведение обратных матриц, а значит равно $E$- единичной и не изменяет общее произведение"
   ]
  },
  {
   "cell_type": "markdown",
   "id": "0c1bb3c6",
   "metadata": {},
   "source": [
    "$w_1$ = $(R)^{-1}X^{-1}(X^{T})^{-1}X^{T}y$"
   ]
  },
  {
   "cell_type": "markdown",
   "id": "a4896190",
   "metadata": {},
   "source": [
    "Что можно представить в виде:"
   ]
  },
  {
   "cell_type": "markdown",
   "id": "eee1d14c",
   "metadata": {},
   "source": [
    "$w_1$ = $(R)^{-1}(X^{T}X)^{-1}X^{T}y$"
   ]
  },
  {
   "cell_type": "markdown",
   "id": "0dca6b9b",
   "metadata": {},
   "source": [
    "Таким образом, исходная матрица весов и полученная связаны соотношением \n",
    "$w_1 = R^{-1}w$"
   ]
  },
  {
   "cell_type": "markdown",
   "id": "96be1ca3",
   "metadata": {},
   "source": [
    "Подставляя полученную матрицу весов линейной регрессии в исходную формулу для предсказаний \n",
    "$a = Xw_1 = XRR^{-1}w = Xw$"
   ]
  },
  {
   "cell_type": "markdown",
   "id": "0a964bf5",
   "metadata": {},
   "source": [
    "**Вывод**: Аналитическим путем была доказана гипотеза, что при домножении исходной матрицы признаков на обратимую матрицу, преобразование линейной регрессии остается прежним, а следовательно качество предсказаний также не изменяется. "
   ]
  },
  {
   "cell_type": "markdown",
   "id": "fefd4c6e",
   "metadata": {},
   "source": [
    "# 3. Преобразование исходных данных"
   ]
  },
  {
   "cell_type": "markdown",
   "id": "66cd53bf",
   "metadata": {},
   "source": [
    "Создадим алгоритм преобразования исходных данных, который затруднит их изначальную идентификацию. Очевидным примером такого преобразования будет домножение на матрицу случайных значений. "
   ]
  },
  {
   "cell_type": "code",
   "execution_count": 48,
   "id": "e9189395",
   "metadata": {},
   "outputs": [],
   "source": [
    "#Создадим класс линейной регресии \n",
    "class LinearRegression:\n",
    "    def fit(self, train_features, train_target):\n",
    "        X = np.concatenate((np.ones((train_features.shape[0], 1)), train_features), axis=1)\n",
    "        y = train_target\n",
    "        w = ((np.linalg.inv(X.T.dot(X))).dot(X.T)).dot(y)\n",
    "        self.w = w[1:]\n",
    "        self.w0 = w[0]\n",
    "\n",
    "    def predict(self, test_features):\n",
    "        return test_features.dot(self.w) + self.w0"
   ]
  },
  {
   "cell_type": "code",
   "execution_count": 49,
   "id": "0ca63939",
   "metadata": {},
   "outputs": [],
   "source": [
    "# Выделим столбец целевых признаков \n",
    "data_target = data['Страховые выплаты']"
   ]
  },
  {
   "cell_type": "code",
   "execution_count": 50,
   "id": "900b7f93",
   "metadata": {},
   "outputs": [
    {
     "name": "stdout",
     "output_type": "stream",
     "text": [
      "0.4302010046633359\n"
     ]
    }
   ],
   "source": [
    "#создадим и обучим модель линейной регрессии на исходных данных, вычислим метрику R2\n",
    "model = LinearRegression()\n",
    "model.fit(data_features, data_target)\n",
    "predictions = model.predict(data_features)\n",
    "quality_1 = r2_score(data_target, predictions)\n",
    "print(quality_1)"
   ]
  },
  {
   "cell_type": "code",
   "execution_count": 51,
   "id": "480f5458",
   "metadata": {
    "scrolled": true
   },
   "outputs": [
    {
     "data": {
      "text/plain": [
       "(4847, 4)"
      ]
     },
     "execution_count": 51,
     "metadata": {},
     "output_type": "execute_result"
    }
   ],
   "source": [
    "#Сформируем исходную матрицу признаков, которые в дальнейшем будут использоваться для линейной регрессии\n",
    "features_matrix = data_features.values\n",
    "features_matrix.shape"
   ]
  },
  {
   "cell_type": "code",
   "execution_count": 52,
   "id": "c6289b5f",
   "metadata": {
    "scrolled": true
   },
   "outputs": [
    {
     "data": {
      "text/plain": [
       "array([[    1,    41, 49600,     1],\n",
       "       [    0,    46, 38000,     1],\n",
       "       [    0,    29, 21000,     0],\n",
       "       ...,\n",
       "       [    0,    20, 33900,     2],\n",
       "       [    1,    22, 32700,     3],\n",
       "       [    1,    28, 40600,     1]], dtype=int64)"
      ]
     },
     "execution_count": 52,
     "metadata": {},
     "output_type": "execute_result"
    }
   ],
   "source": [
    "features_matrix"
   ]
  },
  {
   "cell_type": "markdown",
   "id": "c827cc47",
   "metadata": {},
   "source": [
    "Cформируем теперь произвольную матрицу, на которую и будем домножать нашу исходную."
   ]
  },
  {
   "cell_type": "code",
   "execution_count": 53,
   "id": "78e7a0dd",
   "metadata": {
    "scrolled": false
   },
   "outputs": [
    {
     "data": {
      "text/plain": [
       "array([[ 5, 77, 37, 28],\n",
       "       [91, 89, 73, 70],\n",
       "       [63, 71,  5, 41],\n",
       "       [44, 88, 82, 78]])"
      ]
     },
     "execution_count": 53,
     "metadata": {},
     "output_type": "execute_result"
    }
   ],
   "source": [
    "extra_matrix = (100*(np.random.random((features_matrix.shape[1], features_matrix.shape[1])).round(2))).astype(int)\n",
    "extra_matrix"
   ]
  },
  {
   "cell_type": "code",
   "execution_count": 54,
   "id": "b59523c5",
   "metadata": {},
   "outputs": [
    {
     "data": {
      "text/plain": [
       "array([[-0.00372454,  0.0194373 , -0.00104024, -0.01555993],\n",
       "       [ 0.01965876,  0.00111224,  0.00388543, -0.0100975 ],\n",
       "       [ 0.00886881,  0.02106213, -0.02481032, -0.00904426],\n",
       "       [-0.02940172, -0.0343617 ,  0.02228588,  0.04249803]])"
      ]
     },
     "execution_count": 54,
     "metadata": {},
     "output_type": "execute_result"
    }
   ],
   "source": [
    "#Проверим существование обратимой матрицы к созданной \n",
    "np.linalg.inv(extra_matrix)"
   ]
  },
  {
   "cell_type": "markdown",
   "id": "872b8d68",
   "metadata": {},
   "source": [
    "Произведем домножение исходной матрицы признаков на дополнительную матрицу."
   ]
  },
  {
   "cell_type": "code",
   "execution_count": 55,
   "id": "ecc49059",
   "metadata": {},
   "outputs": [
    {
     "data": {
      "text/plain": [
       "(4847, 4)"
      ]
     },
     "execution_count": 55,
     "metadata": {},
     "output_type": "execute_result"
    }
   ],
   "source": [
    "features_matrix_2 = features_matrix @ extra_matrix\n",
    "features_matrix_2.shape"
   ]
  },
  {
   "cell_type": "code",
   "execution_count": 56,
   "id": "fcafb17b",
   "metadata": {},
   "outputs": [],
   "source": [
    "data_features_2 = pd.DataFrame(features_matrix_2, columns = data_features.columns)"
   ]
  },
  {
   "cell_type": "code",
   "execution_count": 57,
   "id": "f767c9b6",
   "metadata": {
    "scrolled": true
   },
   "outputs": [
    {
     "name": "stdout",
     "output_type": "stream",
     "text": [
      "0.4302010046626952\n"
     ]
    }
   ],
   "source": [
    "model_2 = LinearRegression()\n",
    "model_2.fit(data_features_2, data_target)\n",
    "predictions = model_2.predict(data_features_2)\n",
    "quality_2 = r2_score(data_target, predictions)\n",
    "print(quality_2)"
   ]
  },
  {
   "cell_type": "code",
   "execution_count": 58,
   "id": "85396085",
   "metadata": {
    "scrolled": true
   },
   "outputs": [
    {
     "data": {
      "text/plain": [
       "6.407097075111778e-13"
      ]
     },
     "execution_count": 58,
     "metadata": {},
     "output_type": "execute_result"
    }
   ],
   "source": [
    "quality_1 - quality_2"
   ]
  },
  {
   "cell_type": "markdown",
   "id": "789814fa",
   "metadata": {},
   "source": [
    "**Вывод**: создав необратимую матрицу, домножив ее на исходную матрицу признаков и сравнив показатель качества R2 для обеих матриц, мы приходим к выводу, что **значимого различия в качестве предсказаний нет**."
   ]
  },
  {
   "cell_type": "markdown",
   "id": "219af90f",
   "metadata": {},
   "source": [
    "# 4. Проверка на адекватность"
   ]
  },
  {
   "cell_type": "markdown",
   "id": "4df7be4e",
   "metadata": {},
   "source": [
    "Сравним теперь качество предсказаний наших моделей и модели константной линейной регресии"
   ]
  },
  {
   "cell_type": "code",
   "execution_count": 59,
   "id": "20f016b2",
   "metadata": {},
   "outputs": [],
   "source": [
    "class DummyLinearRegression:\n",
    "    def fit(self, train_features, target_features):\n",
    "        self.w = None\n",
    "        self.w0 = None\n",
    "    def predict(self, new_features):\n",
    "        return np.zeros(new_features.shape[0])"
   ]
  },
  {
   "cell_type": "code",
   "execution_count": 60,
   "id": "f4782e1b",
   "metadata": {},
   "outputs": [
    {
     "name": "stdout",
     "output_type": "stream",
     "text": [
      "-0.1054464928417953\n"
     ]
    }
   ],
   "source": [
    "model_3 = DummyLinearRegression()\n",
    "model_3.fit(data_features, data_target)\n",
    "predictions = model_3.predict(data_features)\n",
    "quality_3 = r2_score(data_target, predictions)\n",
    "print(quality_3)"
   ]
  },
  {
   "cell_type": "markdown",
   "id": "04ae4737",
   "metadata": {},
   "source": [
    "**Вывод**: константная линейная регрессия выдает отрицательное значение метрики R2, что говорит о неэффективности ее предсказания."
   ]
  },
  {
   "cell_type": "markdown",
   "id": "40b84d94",
   "metadata": {},
   "source": [
    "# Вывод"
   ]
  },
  {
   "cell_type": "markdown",
   "id": "cf2208ae",
   "metadata": {},
   "source": [
    "В ходе работы были изучены исходные данные, проанализированы пропуски, дубликаты и аномальные значения. \n",
    "Был сформирован класс, который позволяет применять линейную регрессию и исследован вопрос об изменении качества предсказаний в зависимости от домножения исходной матрицы на вспомогательную. \n",
    "Таким образом в ходе исследования мы обнаружили, что домножение исходной матрицы признаков на любую обратимую матрицу не изменяет качество предсказания. "
   ]
  },
  {
   "cell_type": "markdown",
   "id": "36ae7b5c",
   "metadata": {},
   "source": [
    "Полученный результат позволяет осуществить шифрование исходных данных и обеспечить их сохранность. "
   ]
  }
 ],
 "metadata": {
  "kernelspec": {
   "display_name": "Python 3 (ipykernel)",
   "language": "python",
   "name": "python3"
  },
  "language_info": {
   "codemirror_mode": {
    "name": "ipython",
    "version": 3
   },
   "file_extension": ".py",
   "mimetype": "text/x-python",
   "name": "python",
   "nbconvert_exporter": "python",
   "pygments_lexer": "ipython3",
   "version": "3.9.16"
  }
 },
 "nbformat": 4,
 "nbformat_minor": 5
}
