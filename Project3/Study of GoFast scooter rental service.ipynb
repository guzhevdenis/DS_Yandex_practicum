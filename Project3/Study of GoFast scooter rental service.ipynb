{
 "cells": [
  {
   "cell_type": "markdown",
   "id": "b3c4543e-f25a-4f15-83f8-5b177edbd34a",
   "metadata": {},
   "source": [
    "# Исследование сервиса аренды самокатов GoFast"
   ]
  },
  {
   "cell_type": "markdown",
   "id": "2f53666f-40d7-4d2c-a6ac-1e167b0c86fe",
   "metadata": {},
   "source": [
    "**Цель**: в ходе нашего исследования мы проанализируем данные о пользователях исходного сервиса из нескольких городов, а также о совершаемых ими поездках. Также в ходе исследования мы проверим некоторые предложенные гипотезы, которые могут помочь бизнесу вырасти. \n",
    "В качестве исходных данных используем файлы users_go.csv, rides_go.csv, subscriptions_go.csv\n",
    "\n",
    "Структура этих данных следующая:\n",
    "**users_go.csv**\n",
    "*user_id*\tуникальный идентификатор пользователя\n",
    "*name*\tимя пользователя\n",
    "*age*\tвозраст\n",
    "*city*\tгород\n",
    "*subscription_type*\tтип подписки (free, ultra)\n",
    "\n",
    "**rides_go.csv**\n",
    "*user_id*\tуникальный идентификатор пользователя\n",
    "*distance*\tрасстояние, которое пользователь проехал в текущей сессии (в метрах)\n",
    "*duration*\tпродолжительность сессии (в минутах) — время с того момента, как пользователь нажал кнопку «Начать поездку» до момента, как он нажал кнопку «Завершить поездку»\n",
    "*date*\tдата совершения поездки\n",
    "\n",
    "**subscriptions_go.csv**\n",
    "*subscription_type*\tтип подписки\n",
    "*minute_price*\tстоимость одной минуты поездки по данной подписке\n",
    "*start_ride_price*\tстоимость начала поездки\n",
    "*subscription_fee*\tстоимость ежемесячного платежа\n",
    "\n",
    "В ходе работы - проанализируем исходные данные, проведем их предварительную обработку, проанализируем частоту встречаемости городов, соотношение пользователей с подпиской и без, их возраст, среднее расстояние за поездку и их продолжительность. проведем также расчеты ежемесячной выручки для каждого пользователя. Сформулируем и проверим также ряд гипотез, которые потенциально смогут увеличить количество пользователей с подпиской."
   ]
  },
  {
   "cell_type": "markdown",
   "id": "148cf962-7fca-45e0-a2c8-4bf49e339a64",
   "metadata": {
    "tags": []
   },
   "source": [
    "# 1. Загрузка данных"
   ]
  },
  {
   "cell_type": "markdown",
   "id": "3f9b649e-0593-4f3d-aab4-b7ad3693d6a3",
   "metadata": {},
   "source": [
    "Проведем первичный анализ исходных данных о пользователях, поездках и типах подписок. "
   ]
  },
  {
   "cell_type": "code",
   "execution_count": 1,
   "id": "c66524c1",
   "metadata": {},
   "outputs": [],
   "source": [
    "#Импортируем все используемые в проекте библиотеки\n",
    "import pandas as pd\n",
    "import seaborn as sns\n",
    "import matplotlib.pyplot as plt\n",
    "from scipy import stats as st\n",
    "import numpy as np\n",
    "from scipy.stats import binom, norm\n"
   ]
  },
  {
   "cell_type": "markdown",
   "id": "929eb0a3-afc6-46c1-b5c9-6b69b7b93baa",
   "metadata": {
    "tags": []
   },
   "source": [
    "## 1.1 Считывание данных "
   ]
  },
  {
   "cell_type": "markdown",
   "id": "fe72b0c7-93eb-4941-94b8-68e890afab84",
   "metadata": {},
   "source": [
    "Считаем соответсвующие данные из предложенных файлов. "
   ]
  },
  {
   "cell_type": "code",
   "execution_count": 2,
   "id": "bb2ffc4e-7d88-4f3d-b3d9-188c69ab35ca",
   "metadata": {
    "tags": []
   },
   "outputs": [],
   "source": [
    "#Импортируем библиотеку pandas\n",
    "\n",
    "#Считываем csv файлы с данными и сохраняем их в соответсвующие датафреймы\n",
    "try:\n",
    "    data_users = pd.read_csv('/datasets/users_go.csv')\n",
    "    data_rides = pd.read_csv('/datasets/rides_go.csv')\n",
    "    data_subscriptions = pd.read_csv('/datasets/subscriptions_go.csv')\n",
    "except:\n",
    "    data_users = pd.read_csv('users_go.csv')  \n",
    "    data_rides = pd.read_csv('rides_go.csv')\n",
    "    data_subscriptions = pd.read_csv('subscriptions_go.csv')"
   ]
  },
  {
   "cell_type": "markdown",
   "id": "7ae1b49b-481c-4c4f-a793-f36d356ba416",
   "metadata": {},
   "source": [
    "## 1.2 Общая информация о считанных данных"
   ]
  },
  {
   "cell_type": "markdown",
   "id": "a0a3033c-fa8d-4c52-a65c-b1247a55152f",
   "metadata": {},
   "source": [
    "Проанализируем общую информацию об имеющихся данных."
   ]
  },
  {
   "cell_type": "code",
   "execution_count": 3,
   "id": "682ae23b-6c02-4d2e-8c47-b050c32eae5c",
   "metadata": {
    "tags": []
   },
   "outputs": [
    {
     "data": {
      "text/html": [
       "<div>\n",
       "<style scoped>\n",
       "    .dataframe tbody tr th:only-of-type {\n",
       "        vertical-align: middle;\n",
       "    }\n",
       "\n",
       "    .dataframe tbody tr th {\n",
       "        vertical-align: top;\n",
       "    }\n",
       "\n",
       "    .dataframe thead th {\n",
       "        text-align: right;\n",
       "    }\n",
       "</style>\n",
       "<table border=\"1\" class=\"dataframe\">\n",
       "  <thead>\n",
       "    <tr style=\"text-align: right;\">\n",
       "      <th></th>\n",
       "      <th>user_id</th>\n",
       "      <th>name</th>\n",
       "      <th>age</th>\n",
       "      <th>city</th>\n",
       "      <th>subscription_type</th>\n",
       "    </tr>\n",
       "  </thead>\n",
       "  <tbody>\n",
       "    <tr>\n",
       "      <th>0</th>\n",
       "      <td>1</td>\n",
       "      <td>Кира</td>\n",
       "      <td>22</td>\n",
       "      <td>Тюмень</td>\n",
       "      <td>ultra</td>\n",
       "    </tr>\n",
       "    <tr>\n",
       "      <th>1</th>\n",
       "      <td>2</td>\n",
       "      <td>Станислав</td>\n",
       "      <td>31</td>\n",
       "      <td>Омск</td>\n",
       "      <td>ultra</td>\n",
       "    </tr>\n",
       "    <tr>\n",
       "      <th>2</th>\n",
       "      <td>3</td>\n",
       "      <td>Алексей</td>\n",
       "      <td>20</td>\n",
       "      <td>Москва</td>\n",
       "      <td>ultra</td>\n",
       "    </tr>\n",
       "    <tr>\n",
       "      <th>3</th>\n",
       "      <td>4</td>\n",
       "      <td>Константин</td>\n",
       "      <td>26</td>\n",
       "      <td>Ростов-на-Дону</td>\n",
       "      <td>ultra</td>\n",
       "    </tr>\n",
       "    <tr>\n",
       "      <th>4</th>\n",
       "      <td>5</td>\n",
       "      <td>Адель</td>\n",
       "      <td>28</td>\n",
       "      <td>Омск</td>\n",
       "      <td>ultra</td>\n",
       "    </tr>\n",
       "    <tr>\n",
       "      <th>5</th>\n",
       "      <td>6</td>\n",
       "      <td>Регина</td>\n",
       "      <td>25</td>\n",
       "      <td>Краснодар</td>\n",
       "      <td>ultra</td>\n",
       "    </tr>\n",
       "    <tr>\n",
       "      <th>6</th>\n",
       "      <td>7</td>\n",
       "      <td>Игорь</td>\n",
       "      <td>23</td>\n",
       "      <td>Омск</td>\n",
       "      <td>ultra</td>\n",
       "    </tr>\n",
       "    <tr>\n",
       "      <th>7</th>\n",
       "      <td>8</td>\n",
       "      <td>Юрий</td>\n",
       "      <td>23</td>\n",
       "      <td>Краснодар</td>\n",
       "      <td>ultra</td>\n",
       "    </tr>\n",
       "    <tr>\n",
       "      <th>8</th>\n",
       "      <td>9</td>\n",
       "      <td>Ян</td>\n",
       "      <td>21</td>\n",
       "      <td>Пятигорск</td>\n",
       "      <td>ultra</td>\n",
       "    </tr>\n",
       "    <tr>\n",
       "      <th>9</th>\n",
       "      <td>10</td>\n",
       "      <td>Валерий</td>\n",
       "      <td>18</td>\n",
       "      <td>Екатеринбург</td>\n",
       "      <td>ultra</td>\n",
       "    </tr>\n",
       "  </tbody>\n",
       "</table>\n",
       "</div>"
      ],
      "text/plain": [
       "   user_id        name  age            city subscription_type\n",
       "0        1        Кира   22          Тюмень             ultra\n",
       "1        2   Станислав   31            Омск             ultra\n",
       "2        3     Алексей   20          Москва             ultra\n",
       "3        4  Константин   26  Ростов-на-Дону             ultra\n",
       "4        5       Адель   28            Омск             ultra\n",
       "5        6      Регина   25       Краснодар             ultra\n",
       "6        7       Игорь   23            Омск             ultra\n",
       "7        8        Юрий   23       Краснодар             ultra\n",
       "8        9          Ян   21       Пятигорск             ultra\n",
       "9       10     Валерий   18    Екатеринбург             ultra"
      ]
     },
     "execution_count": 3,
     "metadata": {},
     "output_type": "execute_result"
    }
   ],
   "source": [
    "#Выводим первые строчки данных с пользователями \n",
    "data_users.head(10)"
   ]
  },
  {
   "cell_type": "code",
   "execution_count": 4,
   "id": "6910a3c3-e5ae-4672-a8e9-00f31f44be5e",
   "metadata": {
    "tags": []
   },
   "outputs": [
    {
     "data": {
      "text/html": [
       "<div>\n",
       "<style scoped>\n",
       "    .dataframe tbody tr th:only-of-type {\n",
       "        vertical-align: middle;\n",
       "    }\n",
       "\n",
       "    .dataframe tbody tr th {\n",
       "        vertical-align: top;\n",
       "    }\n",
       "\n",
       "    .dataframe thead th {\n",
       "        text-align: right;\n",
       "    }\n",
       "</style>\n",
       "<table border=\"1\" class=\"dataframe\">\n",
       "  <thead>\n",
       "    <tr style=\"text-align: right;\">\n",
       "      <th></th>\n",
       "      <th>user_id</th>\n",
       "      <th>distance</th>\n",
       "      <th>duration</th>\n",
       "      <th>date</th>\n",
       "    </tr>\n",
       "  </thead>\n",
       "  <tbody>\n",
       "    <tr>\n",
       "      <th>0</th>\n",
       "      <td>1</td>\n",
       "      <td>4409.919140</td>\n",
       "      <td>25.599769</td>\n",
       "      <td>2021-01-01</td>\n",
       "    </tr>\n",
       "    <tr>\n",
       "      <th>1</th>\n",
       "      <td>1</td>\n",
       "      <td>2617.592153</td>\n",
       "      <td>15.816871</td>\n",
       "      <td>2021-01-18</td>\n",
       "    </tr>\n",
       "    <tr>\n",
       "      <th>2</th>\n",
       "      <td>1</td>\n",
       "      <td>754.159807</td>\n",
       "      <td>6.232113</td>\n",
       "      <td>2021-04-20</td>\n",
       "    </tr>\n",
       "    <tr>\n",
       "      <th>3</th>\n",
       "      <td>1</td>\n",
       "      <td>2694.783254</td>\n",
       "      <td>18.511000</td>\n",
       "      <td>2021-08-11</td>\n",
       "    </tr>\n",
       "    <tr>\n",
       "      <th>4</th>\n",
       "      <td>1</td>\n",
       "      <td>4028.687306</td>\n",
       "      <td>26.265803</td>\n",
       "      <td>2021-08-28</td>\n",
       "    </tr>\n",
       "    <tr>\n",
       "      <th>5</th>\n",
       "      <td>1</td>\n",
       "      <td>2770.890808</td>\n",
       "      <td>16.650138</td>\n",
       "      <td>2021-10-09</td>\n",
       "    </tr>\n",
       "    <tr>\n",
       "      <th>6</th>\n",
       "      <td>1</td>\n",
       "      <td>3039.020292</td>\n",
       "      <td>14.927879</td>\n",
       "      <td>2021-10-19</td>\n",
       "    </tr>\n",
       "    <tr>\n",
       "      <th>7</th>\n",
       "      <td>1</td>\n",
       "      <td>2842.118050</td>\n",
       "      <td>23.117468</td>\n",
       "      <td>2021-11-06</td>\n",
       "    </tr>\n",
       "    <tr>\n",
       "      <th>8</th>\n",
       "      <td>1</td>\n",
       "      <td>3412.690668</td>\n",
       "      <td>15.238072</td>\n",
       "      <td>2021-11-14</td>\n",
       "    </tr>\n",
       "    <tr>\n",
       "      <th>9</th>\n",
       "      <td>1</td>\n",
       "      <td>748.690645</td>\n",
       "      <td>15.041884</td>\n",
       "      <td>2021-11-22</td>\n",
       "    </tr>\n",
       "  </tbody>\n",
       "</table>\n",
       "</div>"
      ],
      "text/plain": [
       "   user_id     distance   duration        date\n",
       "0        1  4409.919140  25.599769  2021-01-01\n",
       "1        1  2617.592153  15.816871  2021-01-18\n",
       "2        1   754.159807   6.232113  2021-04-20\n",
       "3        1  2694.783254  18.511000  2021-08-11\n",
       "4        1  4028.687306  26.265803  2021-08-28\n",
       "5        1  2770.890808  16.650138  2021-10-09\n",
       "6        1  3039.020292  14.927879  2021-10-19\n",
       "7        1  2842.118050  23.117468  2021-11-06\n",
       "8        1  3412.690668  15.238072  2021-11-14\n",
       "9        1   748.690645  15.041884  2021-11-22"
      ]
     },
     "execution_count": 4,
     "metadata": {},
     "output_type": "execute_result"
    }
   ],
   "source": [
    "#Выводим первые строчки данных с поездками\n",
    "data_rides.head(10)"
   ]
  },
  {
   "cell_type": "code",
   "execution_count": 5,
   "id": "1edd430e-b646-445d-9246-69dbdd102833",
   "metadata": {
    "tags": []
   },
   "outputs": [
    {
     "data": {
      "text/html": [
       "<div>\n",
       "<style scoped>\n",
       "    .dataframe tbody tr th:only-of-type {\n",
       "        vertical-align: middle;\n",
       "    }\n",
       "\n",
       "    .dataframe tbody tr th {\n",
       "        vertical-align: top;\n",
       "    }\n",
       "\n",
       "    .dataframe thead th {\n",
       "        text-align: right;\n",
       "    }\n",
       "</style>\n",
       "<table border=\"1\" class=\"dataframe\">\n",
       "  <thead>\n",
       "    <tr style=\"text-align: right;\">\n",
       "      <th></th>\n",
       "      <th>subscription_type</th>\n",
       "      <th>minute_price</th>\n",
       "      <th>start_ride_price</th>\n",
       "      <th>subscription_fee</th>\n",
       "    </tr>\n",
       "  </thead>\n",
       "  <tbody>\n",
       "    <tr>\n",
       "      <th>0</th>\n",
       "      <td>free</td>\n",
       "      <td>8</td>\n",
       "      <td>50</td>\n",
       "      <td>0</td>\n",
       "    </tr>\n",
       "    <tr>\n",
       "      <th>1</th>\n",
       "      <td>ultra</td>\n",
       "      <td>6</td>\n",
       "      <td>0</td>\n",
       "      <td>199</td>\n",
       "    </tr>\n",
       "  </tbody>\n",
       "</table>\n",
       "</div>"
      ],
      "text/plain": [
       "  subscription_type  minute_price  start_ride_price  subscription_fee\n",
       "0              free             8                50                 0\n",
       "1             ultra             6                 0               199"
      ]
     },
     "execution_count": 5,
     "metadata": {},
     "output_type": "execute_result"
    }
   ],
   "source": [
    "#Выводим первые строчки с данными ои\\ подписках\n",
    "data_subscriptions.head(10)"
   ]
  },
  {
   "cell_type": "code",
   "execution_count": 6,
   "id": "5fdb6267-9e1b-444b-9629-e2ae8b32ee9a",
   "metadata": {
    "tags": []
   },
   "outputs": [
    {
     "name": "stdout",
     "output_type": "stream",
     "text": [
      "<class 'pandas.core.frame.DataFrame'>\n",
      "RangeIndex: 1565 entries, 0 to 1564\n",
      "Data columns (total 5 columns):\n",
      " #   Column             Non-Null Count  Dtype \n",
      "---  ------             --------------  ----- \n",
      " 0   user_id            1565 non-null   int64 \n",
      " 1   name               1565 non-null   object\n",
      " 2   age                1565 non-null   int64 \n",
      " 3   city               1565 non-null   object\n",
      " 4   subscription_type  1565 non-null   object\n",
      "dtypes: int64(2), object(3)\n",
      "memory usage: 61.3+ KB\n"
     ]
    }
   ],
   "source": [
    "#Выводим общую информацию о пользователях\n",
    "data_users.info()"
   ]
  },
  {
   "cell_type": "code",
   "execution_count": 7,
   "id": "cb163fe8-df9d-45d3-802f-af4ed907df2f",
   "metadata": {
    "tags": []
   },
   "outputs": [
    {
     "name": "stdout",
     "output_type": "stream",
     "text": [
      "<class 'pandas.core.frame.DataFrame'>\n",
      "RangeIndex: 18068 entries, 0 to 18067\n",
      "Data columns (total 4 columns):\n",
      " #   Column    Non-Null Count  Dtype  \n",
      "---  ------    --------------  -----  \n",
      " 0   user_id   18068 non-null  int64  \n",
      " 1   distance  18068 non-null  float64\n",
      " 2   duration  18068 non-null  float64\n",
      " 3   date      18068 non-null  object \n",
      "dtypes: float64(2), int64(1), object(1)\n",
      "memory usage: 564.8+ KB\n"
     ]
    }
   ],
   "source": [
    "#Выводим общую информацию о поездках \n",
    "data_rides.info()"
   ]
  },
  {
   "cell_type": "code",
   "execution_count": 8,
   "id": "192ff05a-41dd-499e-851c-e48290e692ba",
   "metadata": {
    "tags": []
   },
   "outputs": [
    {
     "name": "stdout",
     "output_type": "stream",
     "text": [
      "<class 'pandas.core.frame.DataFrame'>\n",
      "RangeIndex: 2 entries, 0 to 1\n",
      "Data columns (total 4 columns):\n",
      " #   Column             Non-Null Count  Dtype \n",
      "---  ------             --------------  ----- \n",
      " 0   subscription_type  2 non-null      object\n",
      " 1   minute_price       2 non-null      int64 \n",
      " 2   start_ride_price   2 non-null      int64 \n",
      " 3   subscription_fee   2 non-null      int64 \n",
      "dtypes: int64(3), object(1)\n",
      "memory usage: 192.0+ bytes\n"
     ]
    }
   ],
   "source": [
    "#Выводим общую информацию о подписках\n",
    "data_subscriptions.info()"
   ]
  },
  {
   "cell_type": "markdown",
   "id": "a02a31fe-a291-48ed-a704-ceae97927373",
   "metadata": {},
   "source": [
    "**Вывод**: из полученного видно, что в данных отсутствуют пропуски, но в некоторых данных лучше произвести замену их типа. "
   ]
  },
  {
   "cell_type": "markdown",
   "id": "92d0ac57-2360-4e51-ba95-df79e2cc8345",
   "metadata": {
    "tags": []
   },
   "source": [
    "# 2. Предобработка данных"
   ]
  },
  {
   "cell_type": "markdown",
   "id": "3bc01f29-85ab-4a14-a6ab-c1b54fa5897a",
   "metadata": {},
   "source": [
    "Для дальнейшей работы произведем предобработку данных. "
   ]
  },
  {
   "cell_type": "markdown",
   "id": "5541ab40-b405-4039-89e0-2cdf3ef04bf6",
   "metadata": {
    "tags": []
   },
   "source": [
    "## 2.1 Преобразование типов данных"
   ]
  },
  {
   "cell_type": "markdown",
   "id": "58d5e695-d6c9-4aad-8fb3-6a9c6b4790ca",
   "metadata": {},
   "source": [
    "Данные о дате совершения поездки имеют неподходящий для дальнейшего тип object. Приведем эти данные к типу datetime."
   ]
  },
  {
   "cell_type": "code",
   "execution_count": 9,
   "id": "eb240541-8acc-4829-a9ea-f4389986ed72",
   "metadata": {
    "tags": []
   },
   "outputs": [],
   "source": [
    "#Приведем столбец data из датафрейма о поездках к типу datetime \n",
    "data_rides['date'] = pd.to_datetime(\n",
    "    data_rides['date'], format='%Y-%m-%d'\n",
    ")"
   ]
  },
  {
   "cell_type": "markdown",
   "id": "e4d7ae1b-5cad-4d98-9cb5-9d0cfdf8747a",
   "metadata": {
    "tags": []
   },
   "source": [
    "## 2.2 Создание нового столбца с номером месяца"
   ]
  },
  {
   "cell_type": "markdown",
   "id": "97721350-8f8d-4654-b83a-50125113c508",
   "metadata": {},
   "source": [
    "Для проведения дальшейшего анализа данных выделим новый столбец, в котором укажем месяц, в котором была совершена поездка. "
   ]
  },
  {
   "cell_type": "code",
   "execution_count": 10,
   "id": "d322f6f4-075f-4549-b081-7ad20d7c5e59",
   "metadata": {
    "tags": []
   },
   "outputs": [],
   "source": [
    "#Создадим новый столбец в данных о поездках с номером месяца поездка\n",
    "\n",
    "data_rides['month'] = data_rides['date'].dt.month\n"
   ]
  },
  {
   "cell_type": "markdown",
   "id": "c38d08e1-9fc6-4ac5-88b6-d3322bbdefa1",
   "metadata": {
    "tags": []
   },
   "source": [
    "## 2.3 Анализ пропущенных значений и дубликатов "
   ]
  },
  {
   "cell_type": "markdown",
   "id": "95ad4fd7-50e9-4103-8c2a-ed3aa5fd69dd",
   "metadata": {},
   "source": [
    "Проведем анализ пропущенных значений и дубликатов в данных. "
   ]
  },
  {
   "cell_type": "code",
   "execution_count": 11,
   "id": "4ce536d1-217c-458b-a1d3-e6dafa240c6c",
   "metadata": {
    "tags": []
   },
   "outputs": [
    {
     "data": {
      "text/plain": [
       "user_id              0\n",
       "name                 0\n",
       "age                  0\n",
       "city                 0\n",
       "subscription_type    0\n",
       "dtype: int64"
      ]
     },
     "execution_count": 11,
     "metadata": {},
     "output_type": "execute_result"
    }
   ],
   "source": [
    "#Определим число пропущенных значений для  пользователей\n",
    "data_users.isna().sum()\n"
   ]
  },
  {
   "cell_type": "code",
   "execution_count": 12,
   "id": "399fbd60-9b58-4b57-aab0-d5f8e5016371",
   "metadata": {
    "tags": []
   },
   "outputs": [
    {
     "data": {
      "text/plain": [
       "user_id     0\n",
       "distance    0\n",
       "duration    0\n",
       "date        0\n",
       "month       0\n",
       "dtype: int64"
      ]
     },
     "execution_count": 12,
     "metadata": {},
     "output_type": "execute_result"
    }
   ],
   "source": [
    "#Определим число пропущенных значений для поездок\n",
    "data_rides.isna().sum()"
   ]
  },
  {
   "cell_type": "code",
   "execution_count": 13,
   "id": "87499082-27d7-489f-a89d-0b8a0eefdbd4",
   "metadata": {
    "tags": []
   },
   "outputs": [
    {
     "data": {
      "text/plain": [
       "subscription_type    0\n",
       "minute_price         0\n",
       "start_ride_price     0\n",
       "subscription_fee     0\n",
       "dtype: int64"
      ]
     },
     "execution_count": 13,
     "metadata": {},
     "output_type": "execute_result"
    }
   ],
   "source": [
    "#Определим число пропущенных значений для подписок\n",
    "data_subscriptions.isna().sum()"
   ]
  },
  {
   "cell_type": "code",
   "execution_count": 14,
   "id": "7df68521-ea18-48b1-987c-b2b740bbdb8f",
   "metadata": {
    "tags": []
   },
   "outputs": [
    {
     "data": {
      "text/plain": [
       "31"
      ]
     },
     "execution_count": 14,
     "metadata": {},
     "output_type": "execute_result"
    }
   ],
   "source": [
    "#Определим количество дубликатов для пользователей\n",
    "data_users.duplicated().sum()"
   ]
  },
  {
   "cell_type": "code",
   "execution_count": 15,
   "id": "7e0d0f56-252a-4907-bbb8-948c1e95435f",
   "metadata": {
    "tags": []
   },
   "outputs": [
    {
     "data": {
      "text/plain": [
       "0"
      ]
     },
     "execution_count": 15,
     "metadata": {},
     "output_type": "execute_result"
    }
   ],
   "source": [
    "#Удалим имеющиеся дубликаты для пользователей и проверим число дубликатов\n",
    "data_users = data_users.drop_duplicates().reset_index(drop=True)\n",
    "data_users.duplicated().sum()"
   ]
  },
  {
   "cell_type": "code",
   "execution_count": 16,
   "id": "3304e5e8-abfc-43c4-a9a1-eb8ee4408548",
   "metadata": {
    "tags": []
   },
   "outputs": [
    {
     "data": {
      "text/plain": [
       "0"
      ]
     },
     "execution_count": 16,
     "metadata": {},
     "output_type": "execute_result"
    }
   ],
   "source": [
    "#Определим количество дубликатов для поездок\n",
    "data_rides.duplicated().sum()"
   ]
  },
  {
   "cell_type": "code",
   "execution_count": 17,
   "id": "7e3020f8-a0eb-42b0-a095-de4e064398ce",
   "metadata": {
    "tags": []
   },
   "outputs": [
    {
     "data": {
      "text/plain": [
       "0"
      ]
     },
     "execution_count": 17,
     "metadata": {},
     "output_type": "execute_result"
    }
   ],
   "source": [
    "#Определим количество дубликатов для подписок \n",
    "data_subscriptions.duplicated().sum()"
   ]
  },
  {
   "cell_type": "code",
   "execution_count": 18,
   "id": "ab5a0e80-87bb-41b9-b05f-626d93f91066",
   "metadata": {
    "tags": []
   },
   "outputs": [
    {
     "data": {
      "text/plain": [
       "array(['Кира', 'Станислав', 'Алексей', 'Константин', 'Адель', 'Регина',\n",
       "       'Игорь', 'Юрий', 'Ян', 'Валерий', 'Агата', 'Марк', 'Ева',\n",
       "       'Антонина', 'Валерия', 'Амалия', 'Даниил', 'Аделина', 'Святогор',\n",
       "       'Борис', 'Вероника', 'Ростислав', 'Назар', 'Эдуард', 'Василий',\n",
       "       'Денис', 'Тамара', 'Николай', 'Эвелина', 'Федор', 'Руслан', 'Иван',\n",
       "       'Любовь', 'Ярослава', 'Майя', 'Ильдар', 'Данила', 'Нина',\n",
       "       'Стефания', 'Ясмина', 'Дмитрий', 'Александр', 'Одиссей', 'Арсений',\n",
       "       'Алла', 'Таисия', 'Максим', 'Юлиана', 'Павел', 'Карина', 'Алиса',\n",
       "       'Лидия', 'Рамиль', 'Родион', 'Ника', 'Оксана', 'Анастасия',\n",
       "       'Маргарита', 'Вера', 'Тимур', 'Никита', 'Лев', 'Влад', 'Артур',\n",
       "       'Анна', 'Ольга', 'Вячеслав', 'Ксения', 'Виталина', 'Владислав',\n",
       "       'Тамерлан', 'Амина', 'Вадим', 'Олеся', 'Зарина', 'Егор', 'Гордей',\n",
       "       'Лилия', 'Святослав', 'Роберт', 'Амир', 'Влада', 'Богдан',\n",
       "       'Полина', 'Марат', 'Елисей', 'Макар', 'Алина', 'Глеб', 'Андрей',\n",
       "       'Альбина', 'Людмила', 'Марсель', 'Милена', 'Диана', 'Дарина',\n",
       "       'Данил', 'Артемий', 'Лиана', 'Альберт', 'Герман', 'Жанна', 'Нелли',\n",
       "       'Евгения', 'Ариана', 'Самира', 'Захар', 'Эльвира', 'Екатерина',\n",
       "       'Инна', 'Демид', 'Яна', 'Михаил', 'Татьяна', 'Степан', 'Мелания',\n",
       "       'Тимофей', 'Ирина', 'Анжелика', 'Владислава', 'Елизавета',\n",
       "       'Мадина', 'Снежана', 'Даниэль', 'Рустам', 'Каролина', 'Ангелина',\n",
       "       'Владимир', 'Виктория', 'Валентина', 'Семен', 'Арина', 'Лариса',\n",
       "       'Есения', 'Галина', 'Кирилл', 'Игнат', 'Виталий', 'Эмилия',\n",
       "       'Виолетта', 'Яромир', 'Софья', 'Мирослава', 'Евгений', 'Варвара',\n",
       "       'Платон', 'Наталия', 'Анатолий', 'Кристина', 'Всеволод', 'Дарья',\n",
       "       'Наташа', 'Мария', 'Марина', 'Василиса', 'Юлия', 'Илья', 'Злата',\n",
       "       'Роман', 'Наталья', 'Элина', 'Арсен', 'Айдар', 'Алия', 'Виктор',\n",
       "       'Мирон', 'Ульяна', 'Георгий', 'Петр', 'Эльмира', 'Олег', 'Дамир',\n",
       "       'Самир', 'Ярослав', 'Камилла', 'Сергей', 'Эмиль', 'Радмир',\n",
       "       'Савелий', 'Елена', 'Антон', 'Мирослав', 'София', 'Тихон', 'Артём',\n",
       "       'Давид', 'Григорий', 'Алёна', 'Светлана', 'Леонид', 'Александра',\n",
       "       'Василина', 'Милана', 'Матвей'], dtype=object)"
      ]
     },
     "execution_count": 18,
     "metadata": {},
     "output_type": "execute_result"
    }
   ],
   "source": [
    "#Проанализируем столбец name на наличие неявных дубликатов \n",
    "data_users['name'].unique()"
   ]
  },
  {
   "cell_type": "code",
   "execution_count": 19,
   "id": "85f85a43-f7b7-4059-b88f-f8fe8caa687c",
   "metadata": {
    "tags": []
   },
   "outputs": [
    {
     "data": {
      "text/plain": [
       "array(['Тюмень', 'Омск', 'Москва', 'Ростов-на-Дону', 'Краснодар',\n",
       "       'Пятигорск', 'Екатеринбург', 'Сочи'], dtype=object)"
      ]
     },
     "execution_count": 19,
     "metadata": {},
     "output_type": "execute_result"
    }
   ],
   "source": [
    "#Проанализируем столбец city на наличие неявных дубликатов \n",
    "data_users['city'].unique()"
   ]
  },
  {
   "cell_type": "markdown",
   "id": "c75b1701-72cd-4d58-9b55-e84b56a7b5c0",
   "metadata": {},
   "source": [
    "**Вывод**: Среди представленных данных были обнаружены и удалены явные дубликаты. Неявных дубликатов для данных имен и названий населенных пунктов обнаружено не было. "
   ]
  },
  {
   "cell_type": "markdown",
   "id": "448bd1da-e910-4faa-8f3c-c3d1ab5a18d8",
   "metadata": {
    "tags": []
   },
   "source": [
    "# 3. Исследовательский анализ данных"
   ]
  },
  {
   "cell_type": "markdown",
   "id": "1796ac14-8cc7-4595-8fdb-c0b02fc9a6a9",
   "metadata": {},
   "source": [
    "Пронализируем общую информацию о пользователях и поездках."
   ]
  },
  {
   "cell_type": "markdown",
   "id": "4547c200-e095-4c7f-82af-ca246a2f9b47",
   "metadata": {
    "tags": []
   },
   "source": [
    "## 3.1 Частота встречаемости городов"
   ]
  },
  {
   "cell_type": "code",
   "execution_count": 20,
   "id": "008c1520-59bb-441e-85d4-589e44d14de0",
   "metadata": {
    "tags": []
   },
   "outputs": [
    {
     "data": {
      "text/html": [
       "<div>\n",
       "<style scoped>\n",
       "    .dataframe tbody tr th:only-of-type {\n",
       "        vertical-align: middle;\n",
       "    }\n",
       "\n",
       "    .dataframe tbody tr th {\n",
       "        vertical-align: top;\n",
       "    }\n",
       "\n",
       "    .dataframe thead th {\n",
       "        text-align: right;\n",
       "    }\n",
       "</style>\n",
       "<table border=\"1\" class=\"dataframe\">\n",
       "  <thead>\n",
       "    <tr style=\"text-align: right;\">\n",
       "      <th></th>\n",
       "      <th>user_id</th>\n",
       "      <th>age</th>\n",
       "    </tr>\n",
       "  </thead>\n",
       "  <tbody>\n",
       "    <tr>\n",
       "      <th>count</th>\n",
       "      <td>1534.000000</td>\n",
       "      <td>1534.000000</td>\n",
       "    </tr>\n",
       "    <tr>\n",
       "      <th>mean</th>\n",
       "      <td>767.500000</td>\n",
       "      <td>24.903520</td>\n",
       "    </tr>\n",
       "    <tr>\n",
       "      <th>std</th>\n",
       "      <td>442.971971</td>\n",
       "      <td>4.572367</td>\n",
       "    </tr>\n",
       "    <tr>\n",
       "      <th>min</th>\n",
       "      <td>1.000000</td>\n",
       "      <td>12.000000</td>\n",
       "    </tr>\n",
       "    <tr>\n",
       "      <th>25%</th>\n",
       "      <td>384.250000</td>\n",
       "      <td>22.000000</td>\n",
       "    </tr>\n",
       "    <tr>\n",
       "      <th>50%</th>\n",
       "      <td>767.500000</td>\n",
       "      <td>25.000000</td>\n",
       "    </tr>\n",
       "    <tr>\n",
       "      <th>75%</th>\n",
       "      <td>1150.750000</td>\n",
       "      <td>28.000000</td>\n",
       "    </tr>\n",
       "    <tr>\n",
       "      <th>max</th>\n",
       "      <td>1534.000000</td>\n",
       "      <td>43.000000</td>\n",
       "    </tr>\n",
       "  </tbody>\n",
       "</table>\n",
       "</div>"
      ],
      "text/plain": [
       "           user_id          age\n",
       "count  1534.000000  1534.000000\n",
       "mean    767.500000    24.903520\n",
       "std     442.971971     4.572367\n",
       "min       1.000000    12.000000\n",
       "25%     384.250000    22.000000\n",
       "50%     767.500000    25.000000\n",
       "75%    1150.750000    28.000000\n",
       "max    1534.000000    43.000000"
      ]
     },
     "execution_count": 20,
     "metadata": {},
     "output_type": "execute_result"
    }
   ],
   "source": [
    "#Выведем общую информацию о пользователях\n",
    "data_users.describe()"
   ]
  },
  {
   "cell_type": "code",
   "execution_count": 21,
   "id": "91d56b41",
   "metadata": {
    "scrolled": true
   },
   "outputs": [
    {
     "data": {
      "text/html": [
       "<div>\n",
       "<style scoped>\n",
       "    .dataframe tbody tr th:only-of-type {\n",
       "        vertical-align: middle;\n",
       "    }\n",
       "\n",
       "    .dataframe tbody tr th {\n",
       "        vertical-align: top;\n",
       "    }\n",
       "\n",
       "    .dataframe thead th {\n",
       "        text-align: right;\n",
       "    }\n",
       "</style>\n",
       "<table border=\"1\" class=\"dataframe\">\n",
       "  <thead>\n",
       "    <tr style=\"text-align: right;\">\n",
       "      <th></th>\n",
       "      <th>user_id</th>\n",
       "    </tr>\n",
       "    <tr>\n",
       "      <th>city</th>\n",
       "      <th></th>\n",
       "    </tr>\n",
       "  </thead>\n",
       "  <tbody>\n",
       "    <tr>\n",
       "      <th>Екатеринбург</th>\n",
       "      <td>204</td>\n",
       "    </tr>\n",
       "    <tr>\n",
       "      <th>Краснодар</th>\n",
       "      <td>193</td>\n",
       "    </tr>\n",
       "    <tr>\n",
       "      <th>Москва</th>\n",
       "      <td>168</td>\n",
       "    </tr>\n",
       "    <tr>\n",
       "      <th>Омск</th>\n",
       "      <td>183</td>\n",
       "    </tr>\n",
       "    <tr>\n",
       "      <th>Пятигорск</th>\n",
       "      <td>219</td>\n",
       "    </tr>\n",
       "    <tr>\n",
       "      <th>Ростов-на-Дону</th>\n",
       "      <td>198</td>\n",
       "    </tr>\n",
       "    <tr>\n",
       "      <th>Сочи</th>\n",
       "      <td>189</td>\n",
       "    </tr>\n",
       "    <tr>\n",
       "      <th>Тюмень</th>\n",
       "      <td>180</td>\n",
       "    </tr>\n",
       "  </tbody>\n",
       "</table>\n",
       "</div>"
      ],
      "text/plain": [
       "                user_id\n",
       "city                   \n",
       "Екатеринбург        204\n",
       "Краснодар           193\n",
       "Москва              168\n",
       "Омск                183\n",
       "Пятигорск           219\n",
       "Ростов-на-Дону      198\n",
       "Сочи                189\n",
       "Тюмень              180"
      ]
     },
     "execution_count": 21,
     "metadata": {},
     "output_type": "execute_result"
    }
   ],
   "source": [
    "#Построим таблицу по встречаемости различных городов\n",
    "city_group = data_users.pivot_table(index = 'city', values = 'user_id', aggfunc='count')\n",
    "city_group"
   ]
  },
  {
   "cell_type": "code",
   "execution_count": 22,
   "id": "fed182c4-942c-4082-81b3-598176ae787e",
   "metadata": {
    "tags": []
   },
   "outputs": [
    {
     "data": {
      "image/png": "[encoded data removed]",
      "text/plain": [
       "<Figure size 576x576 with 1 Axes>"
      ]
     },
     "metadata": {
      "needs_background": "light"
     },
     "output_type": "display_data"
    }
   ],
   "source": [
    "#Построим гистограмму для частоты встречаемости разных городов\n",
    "city_group = city_group.sort_values(by = 'user_id')\n",
    "fig, ax = plt.subplots(figsize=(8,8))\n",
    "bars = plt.barh(city_group.index, city_group['user_id'])\n",
    "plt.ylabel('Города')\n",
    "plt.title('Частота встречаемости городов')\n",
    "plt.xlabel('Количество поездок')\n",
    "plt.show()\n"
   ]
  },
  {
   "cell_type": "markdown",
   "id": "cdfd4b94-8b1d-4d43-8c47-9933fa21f095",
   "metadata": {},
   "source": [
    "**Вывод**: из гистограммы видно, что чаще всего встречается город Пятигорск, а реже всего встречается город Москва. \n",
    "Количество упоминаний каждого из городов находится в диапазоне от 150 до 250 раз. Также из общих данных о пользователях можно определить, что средний возраст пользователей 25 лет."
   ]
  },
  {
   "cell_type": "markdown",
   "id": "bb84e85b-e074-403d-90c5-ae334a8e9232",
   "metadata": {
    "tags": []
   },
   "source": [
    "## 3.2 Соотношение пользователей с подпиской и без подписки "
   ]
  },
  {
   "cell_type": "code",
   "execution_count": 23,
   "id": "201f6516-df95-4edc-9390-252cd1f2c1d9",
   "metadata": {
    "tags": []
   },
   "outputs": [],
   "source": [
    "#Расчитаем количество разных типов подписок\n",
    "free_perc = data_users.loc[data_users['subscription_type']=='free']['user_id'].count()\n",
    "ultra_perc = data_users.loc[data_users['subscription_type']=='ultra']['user_id'].count()"
   ]
  },
  {
   "cell_type": "code",
   "execution_count": 24,
   "id": "83166f10-a93d-4100-a9c1-f2e31d9ecee7",
   "metadata": {
    "tags": []
   },
   "outputs": [
    {
     "name": "stdout",
     "output_type": "stream",
     "text": [
      "Количество пользователей без подписки составляет 54.43285528031291\n"
     ]
    }
   ],
   "source": [
    "print('Количество пользователей без подписки составляет', free_perc*100/(ultra_perc+free_perc ))"
   ]
  },
  {
   "cell_type": "code",
   "execution_count": 25,
   "id": "42cb4e42-9cd6-41d4-b65d-6440b6fa9bf6",
   "metadata": {
    "tags": []
   },
   "outputs": [
    {
     "data": {
      "image/png": "[encoded data removed]",
      "text/plain": [
       "<Figure size 432x288 with 1 Axes>"
      ]
     },
     "metadata": {},
     "output_type": "display_data"
    }
   ],
   "source": [
    "#Построим гистограмму для соотношения разных типов подписок \n",
    "data_users_sub = data_users.pivot_table(index='subscription_type', values ='user_id', aggfunc='count')\n",
    "plt.title('Соотношение пользователей с подпиской и без')\n",
    "plt.pie(data_users_sub['user_id'], labels = data_users_sub.index , labeldistance=1.15,  autopct=lambda p:f'{p:.2f}%')\n",
    "plt.show()"
   ]
  },
  {
   "cell_type": "markdown",
   "id": "0ea9fded-c7ad-4296-a121-4abf967108c2",
   "metadata": {},
   "source": [
    "**Вывод**: из полученных данных делаем вывод, что количество людей без подписок незначительно превосходит людей с подписками."
   ]
  },
  {
   "cell_type": "markdown",
   "id": "97d94bc3-0f5e-40d9-98ae-4f852ca2e0d1",
   "metadata": {},
   "source": [
    "## 3.3 Возраст пользователей "
   ]
  },
  {
   "cell_type": "code",
   "execution_count": 26,
   "id": "b1f858e7-fa5e-4a9a-8845-d59de616a781",
   "metadata": {
    "tags": []
   },
   "outputs": [
    {
     "data": {
      "image/png": "[encoded data removed]",
      "text/plain": [
       "<Figure size 432x288 with 1 Axes>"
      ]
     },
     "metadata": {
      "needs_background": "light"
     },
     "output_type": "display_data"
    }
   ],
   "source": [
    "#Построим гистограму распределения возрастов пользователей\n",
    "sns.histplot(data= data_users, x=\"age\")\n",
    "plt.title('Возраст пользователей')\n",
    "plt.xlabel('Возраст')\n",
    "plt.ylabel('Количество')\n",
    "plt.show()"
   ]
  },
  {
   "cell_type": "markdown",
   "id": "c892ac30-1e7b-4436-ac2b-79889f973903",
   "metadata": {},
   "source": [
    "**Вывод**: из гистограммы видно, что возраст пользователей в основном находится в диапазоне от 10 до 40 лет. Наибольшую долю составлют молодые - от 20 до 30 лет. Распределение имеет практически нормальный вид со средним значением около 26 лет. "
   ]
  },
  {
   "cell_type": "markdown",
   "id": "4e12eea3-e5e8-4428-9f14-988b6d021391",
   "metadata": {},
   "source": [
    "## 3.4 Расстояние, которое пользователь преодолел за одну поездку"
   ]
  },
  {
   "cell_type": "code",
   "execution_count": 27,
   "id": "87d2ca54-f0f5-43d4-8063-2b6f4df4f1c1",
   "metadata": {
    "tags": []
   },
   "outputs": [
    {
     "data": {
      "text/html": [
       "<div>\n",
       "<style scoped>\n",
       "    .dataframe tbody tr th:only-of-type {\n",
       "        vertical-align: middle;\n",
       "    }\n",
       "\n",
       "    .dataframe tbody tr th {\n",
       "        vertical-align: top;\n",
       "    }\n",
       "\n",
       "    .dataframe thead th {\n",
       "        text-align: right;\n",
       "    }\n",
       "</style>\n",
       "<table border=\"1\" class=\"dataframe\">\n",
       "  <thead>\n",
       "    <tr style=\"text-align: right;\">\n",
       "      <th></th>\n",
       "      <th>user_id</th>\n",
       "      <th>distance</th>\n",
       "      <th>duration</th>\n",
       "      <th>month</th>\n",
       "    </tr>\n",
       "  </thead>\n",
       "  <tbody>\n",
       "    <tr>\n",
       "      <th>count</th>\n",
       "      <td>18068.000000</td>\n",
       "      <td>18068.000000</td>\n",
       "      <td>18068.000000</td>\n",
       "      <td>18068.000000</td>\n",
       "    </tr>\n",
       "    <tr>\n",
       "      <th>mean</th>\n",
       "      <td>842.869936</td>\n",
       "      <td>3070.659976</td>\n",
       "      <td>17.805011</td>\n",
       "      <td>6.486772</td>\n",
       "    </tr>\n",
       "    <tr>\n",
       "      <th>std</th>\n",
       "      <td>434.734317</td>\n",
       "      <td>1116.831209</td>\n",
       "      <td>6.091051</td>\n",
       "      <td>3.437410</td>\n",
       "    </tr>\n",
       "    <tr>\n",
       "      <th>min</th>\n",
       "      <td>1.000000</td>\n",
       "      <td>0.855683</td>\n",
       "      <td>0.500000</td>\n",
       "      <td>1.000000</td>\n",
       "    </tr>\n",
       "    <tr>\n",
       "      <th>25%</th>\n",
       "      <td>487.000000</td>\n",
       "      <td>2543.226360</td>\n",
       "      <td>13.597563</td>\n",
       "      <td>4.000000</td>\n",
       "    </tr>\n",
       "    <tr>\n",
       "      <th>50%</th>\n",
       "      <td>889.000000</td>\n",
       "      <td>3133.609994</td>\n",
       "      <td>17.678395</td>\n",
       "      <td>6.000000</td>\n",
       "    </tr>\n",
       "    <tr>\n",
       "      <th>75%</th>\n",
       "      <td>1213.250000</td>\n",
       "      <td>3776.222735</td>\n",
       "      <td>21.724800</td>\n",
       "      <td>9.000000</td>\n",
       "    </tr>\n",
       "    <tr>\n",
       "      <th>max</th>\n",
       "      <td>1534.000000</td>\n",
       "      <td>7211.007745</td>\n",
       "      <td>40.823963</td>\n",
       "      <td>12.000000</td>\n",
       "    </tr>\n",
       "  </tbody>\n",
       "</table>\n",
       "</div>"
      ],
      "text/plain": [
       "            user_id      distance      duration         month\n",
       "count  18068.000000  18068.000000  18068.000000  18068.000000\n",
       "mean     842.869936   3070.659976     17.805011      6.486772\n",
       "std      434.734317   1116.831209      6.091051      3.437410\n",
       "min        1.000000      0.855683      0.500000      1.000000\n",
       "25%      487.000000   2543.226360     13.597563      4.000000\n",
       "50%      889.000000   3133.609994     17.678395      6.000000\n",
       "75%     1213.250000   3776.222735     21.724800      9.000000\n",
       "max     1534.000000   7211.007745     40.823963     12.000000"
      ]
     },
     "execution_count": 27,
     "metadata": {},
     "output_type": "execute_result"
    }
   ],
   "source": [
    "#Выведем общую информацию о растояниях\n",
    "data_rides.describe()\n"
   ]
  },
  {
   "cell_type": "code",
   "execution_count": 28,
   "id": "90e87449-7392-4492-9185-310307f8bab8",
   "metadata": {
    "tags": []
   },
   "outputs": [
    {
     "data": {
      "image/png": "[encoded data removed]",
      "text/plain": [
       "<Figure size 432x288 with 1 Axes>"
      ]
     },
     "metadata": {
      "needs_background": "light"
     },
     "output_type": "display_data"
    }
   ],
   "source": [
    "#Построим гистограму распределения расстояний за одну поездку\n",
    "sns.histplot(data= data_rides, x=\"distance\")\n",
    "plt.xticks(rotation=90)\n",
    "plt.title('Расстояние за одну поездку')\n",
    "plt.xlabel('м')\n",
    "plt.ylabel('Количество')\n",
    "plt.show()"
   ]
  },
  {
   "cell_type": "markdown",
   "id": "5270421e-073e-4bf6-8322-5740e98c76ca",
   "metadata": {},
   "source": [
    "**Вывод**: из полученных данных можно отметить следующее - расстояние за одну поездку практические не превышают 6000 м.  Среднее расстояние за поездку составляет 3 км. Поездки Можно разделить на два типа - коротки с средними расстояними порядка 600 метров и длительные - порядка 3 км."
   ]
  },
  {
   "cell_type": "markdown",
   "id": "fac209d6-d1d2-444b-bfe0-00831dad4021",
   "metadata": {},
   "source": [
    "## 3.5 Продолжительность поездок"
   ]
  },
  {
   "cell_type": "code",
   "execution_count": 29,
   "id": "300029d6-7b94-4c07-a287-07972f4c499c",
   "metadata": {
    "tags": []
   },
   "outputs": [
    {
     "data": {
      "text/plain": [
       "count    18068.000000\n",
       "mean        17.805011\n",
       "std          6.091051\n",
       "min          0.500000\n",
       "25%         13.597563\n",
       "50%         17.678395\n",
       "75%         21.724800\n",
       "max         40.823963\n",
       "Name: duration, dtype: float64"
      ]
     },
     "execution_count": 29,
     "metadata": {},
     "output_type": "execute_result"
    }
   ],
   "source": [
    "#Определим основные статистические характеристи для продолжительности поездок\n",
    "data_rides['duration'].describe()"
   ]
  },
  {
   "cell_type": "code",
   "execution_count": 30,
   "id": "84028c97-aaeb-4775-83f5-14e0d031c979",
   "metadata": {
    "tags": []
   },
   "outputs": [
    {
     "data": {
      "image/png": "[encoded data removed]",
      "text/plain": [
       "<Figure size 432x288 with 1 Axes>"
      ]
     },
     "metadata": {
      "needs_background": "light"
     },
     "output_type": "display_data"
    }
   ],
   "source": [
    "#Построим гистограму распределения продолжительности поездок \n",
    "sns.histplot(data= data_rides, x='duration')\n",
    "plt.xticks(rotation=90)\n",
    "plt.title('Длительность поездок')\n",
    "plt.xlabel('мин')\n",
    "plt.ylabel('Количество')\n",
    "plt.show()"
   ]
  },
  {
   "cell_type": "markdown",
   "id": "7f86100e-e460-41f9-acfb-f277fea2dcf7",
   "metadata": {},
   "source": [
    "**Вывод**: поездки не превышают по длительности 40 минут, большая часть поездок происходит в интервали от 10 до 25 минут. Среднее значение времени поездки - 17.8 минут."
   ]
  },
  {
   "cell_type": "markdown",
   "id": "5ef3aee9-c51a-4579-aee0-2e3443d0228a",
   "metadata": {},
   "source": [
    "**Общий вывод**:\n",
    "- Самый часто встречаемый город Пятигорск\n",
    "- Пользователей без подписки на 4 процента больше, чем с подпиской \n",
    "- Распределение возраста пользователей - нормальное со средним равным 26\n",
    "- Среднее расстояние за поездку около 3 км\n",
    "- Средняя продолжительность поездок около 18 минут"
   ]
  },
  {
   "cell_type": "markdown",
   "id": "e2d47658-1104-4f4f-ba28-f96c4a5a2be1",
   "metadata": {
    "tags": []
   },
   "source": [
    "# 4. Объединение данных"
   ]
  },
  {
   "cell_type": "markdown",
   "id": "000e3c24-76b7-4ec0-9317-4cebe27e9661",
   "metadata": {},
   "source": [
    "Для дальнейшего анализа создадим вспомогательные датафреймы. "
   ]
  },
  {
   "cell_type": "markdown",
   "id": "089412e5-0d69-4cc5-8608-0a6dfc6a1c83",
   "metadata": {},
   "source": [
    "## 4.1 Создание общего датафрейма"
   ]
  },
  {
   "cell_type": "code",
   "execution_count": 31,
   "id": "1eb18b1b",
   "metadata": {},
   "outputs": [],
   "source": [
    "#Объединим данные о пользователях, поездках и подписках в один датафрейм\n",
    "data = data_users.merge(data_rides, on='user_id')\n",
    "data = data.merge(data_subscriptions, on='subscription_type')"
   ]
  },
  {
   "cell_type": "code",
   "execution_count": 32,
   "id": "9605259b",
   "metadata": {},
   "outputs": [
    {
     "data": {
      "text/plain": [
       "1534"
      ]
     },
     "metadata": {},
     "output_type": "display_data"
    },
    {
     "data": {
      "text/plain": [
       "18068"
      ]
     },
     "metadata": {},
     "output_type": "display_data"
    },
    {
     "data": {
      "text/plain": [
       "2"
      ]
     },
     "metadata": {},
     "output_type": "display_data"
    },
    {
     "data": {
      "text/plain": [
       "18068"
      ]
     },
     "execution_count": 32,
     "metadata": {},
     "output_type": "execute_result"
    }
   ],
   "source": [
    "#Проверим размерности полученных датафреймов\n",
    "display(data_users.shape[0])\n",
    "display(data_rides.shape[0])\n",
    "display(data_subscriptions.shape[0])\n",
    "data.shape[0]"
   ]
  },
  {
   "cell_type": "code",
   "execution_count": 33,
   "id": "fedf8219-6d40-4261-a677-14e7a722deb2",
   "metadata": {
    "scrolled": true,
    "tags": []
   },
   "outputs": [
    {
     "name": "stdout",
     "output_type": "stream",
     "text": [
      "<class 'pandas.core.frame.DataFrame'>\n",
      "Int64Index: 18068 entries, 0 to 18067\n",
      "Data columns (total 12 columns):\n",
      " #   Column             Non-Null Count  Dtype         \n",
      "---  ------             --------------  -----         \n",
      " 0   user_id            18068 non-null  int64         \n",
      " 1   name               18068 non-null  object        \n",
      " 2   age                18068 non-null  int64         \n",
      " 3   city               18068 non-null  object        \n",
      " 4   subscription_type  18068 non-null  object        \n",
      " 5   distance           18068 non-null  float64       \n",
      " 6   duration           18068 non-null  float64       \n",
      " 7   date               18068 non-null  datetime64[ns]\n",
      " 8   month              18068 non-null  int64         \n",
      " 9   minute_price       18068 non-null  int64         \n",
      " 10  start_ride_price   18068 non-null  int64         \n",
      " 11  subscription_fee   18068 non-null  int64         \n",
      "dtypes: datetime64[ns](1), float64(2), int64(6), object(3)\n",
      "memory usage: 1.8+ MB\n"
     ]
    }
   ],
   "source": [
    "data.info()"
   ]
  },
  {
   "cell_type": "markdown",
   "id": "c02db127",
   "metadata": {},
   "source": [
    "**Вывод**: Пропуски в итоговых данных отсутсвуют"
   ]
  },
  {
   "cell_type": "markdown",
   "id": "4ff9da08-d5ab-4f1a-8479-8db8e2447866",
   "metadata": {},
   "source": [
    "## 4.2 Создание дополнительных датафреймов"
   ]
  },
  {
   "cell_type": "code",
   "execution_count": 34,
   "id": "19c1a933-04f2-4941-ba0e-51686b42ba2b",
   "metadata": {
    "tags": []
   },
   "outputs": [
    {
     "data": {
      "text/html": [
       "<div>\n",
       "<style scoped>\n",
       "    .dataframe tbody tr th:only-of-type {\n",
       "        vertical-align: middle;\n",
       "    }\n",
       "\n",
       "    .dataframe tbody tr th {\n",
       "        vertical-align: top;\n",
       "    }\n",
       "\n",
       "    .dataframe thead th {\n",
       "        text-align: right;\n",
       "    }\n",
       "</style>\n",
       "<table border=\"1\" class=\"dataframe\">\n",
       "  <thead>\n",
       "    <tr style=\"text-align: right;\">\n",
       "      <th></th>\n",
       "      <th>user_id</th>\n",
       "      <th>name</th>\n",
       "      <th>age</th>\n",
       "      <th>city</th>\n",
       "      <th>subscription_type</th>\n",
       "      <th>distance</th>\n",
       "      <th>duration</th>\n",
       "      <th>date</th>\n",
       "      <th>month</th>\n",
       "      <th>minute_price</th>\n",
       "      <th>start_ride_price</th>\n",
       "      <th>subscription_fee</th>\n",
       "    </tr>\n",
       "  </thead>\n",
       "  <tbody>\n",
       "    <tr>\n",
       "      <th>6500</th>\n",
       "      <td>700</td>\n",
       "      <td>Айдар</td>\n",
       "      <td>22</td>\n",
       "      <td>Омск</td>\n",
       "      <td>free</td>\n",
       "      <td>2515.690719</td>\n",
       "      <td>14.944286</td>\n",
       "      <td>2021-01-02</td>\n",
       "      <td>1</td>\n",
       "      <td>8</td>\n",
       "      <td>50</td>\n",
       "      <td>0</td>\n",
       "    </tr>\n",
       "    <tr>\n",
       "      <th>6501</th>\n",
       "      <td>700</td>\n",
       "      <td>Айдар</td>\n",
       "      <td>22</td>\n",
       "      <td>Омск</td>\n",
       "      <td>free</td>\n",
       "      <td>846.932642</td>\n",
       "      <td>16.234663</td>\n",
       "      <td>2021-02-01</td>\n",
       "      <td>2</td>\n",
       "      <td>8</td>\n",
       "      <td>50</td>\n",
       "      <td>0</td>\n",
       "    </tr>\n",
       "    <tr>\n",
       "      <th>6502</th>\n",
       "      <td>700</td>\n",
       "      <td>Айдар</td>\n",
       "      <td>22</td>\n",
       "      <td>Омск</td>\n",
       "      <td>free</td>\n",
       "      <td>4004.434142</td>\n",
       "      <td>20.016628</td>\n",
       "      <td>2021-02-04</td>\n",
       "      <td>2</td>\n",
       "      <td>8</td>\n",
       "      <td>50</td>\n",
       "      <td>0</td>\n",
       "    </tr>\n",
       "    <tr>\n",
       "      <th>6503</th>\n",
       "      <td>700</td>\n",
       "      <td>Айдар</td>\n",
       "      <td>22</td>\n",
       "      <td>Омск</td>\n",
       "      <td>free</td>\n",
       "      <td>1205.911290</td>\n",
       "      <td>9.782872</td>\n",
       "      <td>2021-02-10</td>\n",
       "      <td>2</td>\n",
       "      <td>8</td>\n",
       "      <td>50</td>\n",
       "      <td>0</td>\n",
       "    </tr>\n",
       "    <tr>\n",
       "      <th>6504</th>\n",
       "      <td>700</td>\n",
       "      <td>Айдар</td>\n",
       "      <td>22</td>\n",
       "      <td>Омск</td>\n",
       "      <td>free</td>\n",
       "      <td>3047.379435</td>\n",
       "      <td>17.427673</td>\n",
       "      <td>2021-02-14</td>\n",
       "      <td>2</td>\n",
       "      <td>8</td>\n",
       "      <td>50</td>\n",
       "      <td>0</td>\n",
       "    </tr>\n",
       "  </tbody>\n",
       "</table>\n",
       "</div>"
      ],
      "text/plain": [
       "      user_id   name  age  city subscription_type     distance   duration  \\\n",
       "6500      700  Айдар   22  Омск              free  2515.690719  14.944286   \n",
       "6501      700  Айдар   22  Омск              free   846.932642  16.234663   \n",
       "6502      700  Айдар   22  Омск              free  4004.434142  20.016628   \n",
       "6503      700  Айдар   22  Омск              free  1205.911290   9.782872   \n",
       "6504      700  Айдар   22  Омск              free  3047.379435  17.427673   \n",
       "\n",
       "           date  month  minute_price  start_ride_price  subscription_fee  \n",
       "6500 2021-01-02      1             8                50                 0  \n",
       "6501 2021-02-01      2             8                50                 0  \n",
       "6502 2021-02-04      2             8                50                 0  \n",
       "6503 2021-02-10      2             8                50                 0  \n",
       "6504 2021-02-14      2             8                50                 0  "
      ]
     },
     "execution_count": 34,
     "metadata": {},
     "output_type": "execute_result"
    }
   ],
   "source": [
    "#Создадим датайфрем с данными пользователей без подписки\n",
    "data_free = data.loc[data['subscription_type']=='free']\n",
    "data_free.reset_index(drop=True)\n",
    "data_free.head()"
   ]
  },
  {
   "cell_type": "code",
   "execution_count": 35,
   "id": "e204fe30-aadf-4b17-9319-614279a04289",
   "metadata": {
    "tags": []
   },
   "outputs": [
    {
     "data": {
      "text/html": [
       "<div>\n",
       "<style scoped>\n",
       "    .dataframe tbody tr th:only-of-type {\n",
       "        vertical-align: middle;\n",
       "    }\n",
       "\n",
       "    .dataframe tbody tr th {\n",
       "        vertical-align: top;\n",
       "    }\n",
       "\n",
       "    .dataframe thead th {\n",
       "        text-align: right;\n",
       "    }\n",
       "</style>\n",
       "<table border=\"1\" class=\"dataframe\">\n",
       "  <thead>\n",
       "    <tr style=\"text-align: right;\">\n",
       "      <th></th>\n",
       "      <th>user_id</th>\n",
       "      <th>name</th>\n",
       "      <th>age</th>\n",
       "      <th>city</th>\n",
       "      <th>subscription_type</th>\n",
       "      <th>distance</th>\n",
       "      <th>duration</th>\n",
       "      <th>date</th>\n",
       "      <th>month</th>\n",
       "      <th>minute_price</th>\n",
       "      <th>start_ride_price</th>\n",
       "      <th>subscription_fee</th>\n",
       "    </tr>\n",
       "  </thead>\n",
       "  <tbody>\n",
       "    <tr>\n",
       "      <th>0</th>\n",
       "      <td>1</td>\n",
       "      <td>Кира</td>\n",
       "      <td>22</td>\n",
       "      <td>Тюмень</td>\n",
       "      <td>ultra</td>\n",
       "      <td>4409.919140</td>\n",
       "      <td>25.599769</td>\n",
       "      <td>2021-01-01</td>\n",
       "      <td>1</td>\n",
       "      <td>6</td>\n",
       "      <td>0</td>\n",
       "      <td>199</td>\n",
       "    </tr>\n",
       "    <tr>\n",
       "      <th>1</th>\n",
       "      <td>1</td>\n",
       "      <td>Кира</td>\n",
       "      <td>22</td>\n",
       "      <td>Тюмень</td>\n",
       "      <td>ultra</td>\n",
       "      <td>2617.592153</td>\n",
       "      <td>15.816871</td>\n",
       "      <td>2021-01-18</td>\n",
       "      <td>1</td>\n",
       "      <td>6</td>\n",
       "      <td>0</td>\n",
       "      <td>199</td>\n",
       "    </tr>\n",
       "    <tr>\n",
       "      <th>2</th>\n",
       "      <td>1</td>\n",
       "      <td>Кира</td>\n",
       "      <td>22</td>\n",
       "      <td>Тюмень</td>\n",
       "      <td>ultra</td>\n",
       "      <td>754.159807</td>\n",
       "      <td>6.232113</td>\n",
       "      <td>2021-04-20</td>\n",
       "      <td>4</td>\n",
       "      <td>6</td>\n",
       "      <td>0</td>\n",
       "      <td>199</td>\n",
       "    </tr>\n",
       "    <tr>\n",
       "      <th>3</th>\n",
       "      <td>1</td>\n",
       "      <td>Кира</td>\n",
       "      <td>22</td>\n",
       "      <td>Тюмень</td>\n",
       "      <td>ultra</td>\n",
       "      <td>2694.783254</td>\n",
       "      <td>18.511000</td>\n",
       "      <td>2021-08-11</td>\n",
       "      <td>8</td>\n",
       "      <td>6</td>\n",
       "      <td>0</td>\n",
       "      <td>199</td>\n",
       "    </tr>\n",
       "    <tr>\n",
       "      <th>4</th>\n",
       "      <td>1</td>\n",
       "      <td>Кира</td>\n",
       "      <td>22</td>\n",
       "      <td>Тюмень</td>\n",
       "      <td>ultra</td>\n",
       "      <td>4028.687306</td>\n",
       "      <td>26.265803</td>\n",
       "      <td>2021-08-28</td>\n",
       "      <td>8</td>\n",
       "      <td>6</td>\n",
       "      <td>0</td>\n",
       "      <td>199</td>\n",
       "    </tr>\n",
       "  </tbody>\n",
       "</table>\n",
       "</div>"
      ],
      "text/plain": [
       "   user_id  name  age    city subscription_type     distance   duration  \\\n",
       "0        1  Кира   22  Тюмень             ultra  4409.919140  25.599769   \n",
       "1        1  Кира   22  Тюмень             ultra  2617.592153  15.816871   \n",
       "2        1  Кира   22  Тюмень             ultra   754.159807   6.232113   \n",
       "3        1  Кира   22  Тюмень             ultra  2694.783254  18.511000   \n",
       "4        1  Кира   22  Тюмень             ultra  4028.687306  26.265803   \n",
       "\n",
       "        date  month  minute_price  start_ride_price  subscription_fee  \n",
       "0 2021-01-01      1             6                 0               199  \n",
       "1 2021-01-18      1             6                 0               199  \n",
       "2 2021-04-20      4             6                 0               199  \n",
       "3 2021-08-11      8             6                 0               199  \n",
       "4 2021-08-28      8             6                 0               199  "
      ]
     },
     "execution_count": 35,
     "metadata": {},
     "output_type": "execute_result"
    }
   ],
   "source": [
    "#Создадим датайфрем с данными пользователей c подпиской\n",
    "data_ultra = data.loc[data['subscription_type']=='ultra']\n",
    "data_ultra.reset_index(drop=True)\n",
    "data_ultra.head()"
   ]
  },
  {
   "cell_type": "code",
   "execution_count": 36,
   "id": "4f962838",
   "metadata": {
    "scrolled": true
   },
   "outputs": [
    {
     "data": {
      "text/plain": [
       "18068"
      ]
     },
     "metadata": {},
     "output_type": "display_data"
    },
    {
     "data": {
      "text/plain": [
       "11568"
      ]
     },
     "metadata": {},
     "output_type": "display_data"
    },
    {
     "data": {
      "text/plain": [
       "6500"
      ]
     },
     "execution_count": 36,
     "metadata": {},
     "output_type": "execute_result"
    }
   ],
   "source": [
    "# Код ревьюера\n",
    "display(data.shape[0])\n",
    "display(data_free.shape[0])\n",
    "data_ultra.shape[0]"
   ]
  },
  {
   "cell_type": "markdown",
   "id": "a8cb6d55-77cb-4376-9cfd-67063d98c1b6",
   "metadata": {},
   "source": [
    "## 4.3 Визуализация данных пользователей с подпиской и без"
   ]
  },
  {
   "cell_type": "code",
   "execution_count": 37,
   "id": "484ae367-dcf6-4b2b-b275-5e7ca7e574b4",
   "metadata": {
    "tags": []
   },
   "outputs": [
    {
     "data": {
      "image/png": "[encoded data removed]",
      "text/plain": [
       "<Figure size 432x288 with 1 Axes>"
      ]
     },
     "metadata": {
      "needs_background": "light"
     },
     "output_type": "display_data"
    }
   ],
   "source": [
    "#Построим гистограммы для длительности поездок пользователей с подпиской и без\n",
    "sns.histplot(data=data_free, x=\"duration\", color=\"skyblue\", label=\"без подписки\", kde=True)\n",
    "sns.histplot(data=data_ultra, x=\"duration\", color=\"red\", label=\"с подпиской\", kde=True)\n",
    "plt.title('Сравнительная длительность поездок разных пользователей')\n",
    "plt.xlabel('мин')\n",
    "plt.ylabel('Количество')\n",
    "plt.legend() \n",
    "plt.show()"
   ]
  },
  {
   "cell_type": "markdown",
   "id": "2884ed12-c186-4fdd-bce9-9f16bb267b2d",
   "metadata": {},
   "source": [
    "**Вывод**: Из графика видно, что пользователей с подпиской действительно меньше чем пользователей без подписки. Оба распределения длительности имеют вид похожий на нормальный, но центр для пользователей без подписки смещен немного влево относительно пользователей с подпиской. "
   ]
  },
  {
   "cell_type": "code",
   "execution_count": 38,
   "id": "e7c27eda-ba1e-4684-97bb-647362465fae",
   "metadata": {
    "tags": []
   },
   "outputs": [
    {
     "data": {
      "image/png": "[encoded data removed]",
      "text/plain": [
       "<Figure size 432x288 with 1 Axes>"
      ]
     },
     "metadata": {
      "needs_background": "light"
     },
     "output_type": "display_data"
    }
   ],
   "source": [
    "#Построим гистограммы для расстоянии поездок пользователей с подпиской и без\n",
    "sns.histplot(data=data_free, x=\"distance\", color=\"skyblue\", label=\"без подписки\", kde=True)\n",
    "sns.histplot(data=data_ultra, x=\"distance\", color=\"red\", label=\"с подпиской\", kde=True)\n",
    "plt.title('Сравнительное расстояние поездок разных пользователей')\n",
    "plt.xlabel('м')\n",
    "plt.ylabel('Количество')\n",
    "plt.legend() \n",
    "plt.show()"
   ]
  },
  {
   "cell_type": "markdown",
   "id": "3797b827-7b80-4442-94f0-5de6c908883a",
   "metadata": {},
   "source": [
    "**Вывод**: Тут также видно, что пользователей без подписки больше, чем пользователей с подпиской. Распределения носят похожий вид с двумя выделеными \"горбами\". "
   ]
  },
  {
   "cell_type": "markdown",
   "id": "3fcfce04-fcc3-428b-8fb4-7847533927f8",
   "metadata": {
    "tags": []
   },
   "source": [
    "# 5. Подсчёт выручки"
   ]
  },
  {
   "cell_type": "markdown",
   "id": "43ad74ec-dd09-4970-b642-b2d52e1df2a0",
   "metadata": {},
   "source": [
    "Проведем анализ по месяцам для выручки, расстояния  и суммарного времени."
   ]
  },
  {
   "cell_type": "markdown",
   "id": "19ec528c-e527-44d0-a26b-186a91a50f71",
   "metadata": {},
   "source": [
    "## 5.1 Помесячные данные"
   ]
  },
  {
   "cell_type": "code",
   "execution_count": 39,
   "id": "cb8f196f-bc63-4df9-a4c8-19fd2965f483",
   "metadata": {
    "scrolled": false,
    "tags": []
   },
   "outputs": [
    {
     "data": {
      "text/html": [
       "<div>\n",
       "<style scoped>\n",
       "    .dataframe tbody tr th:only-of-type {\n",
       "        vertical-align: middle;\n",
       "    }\n",
       "\n",
       "    .dataframe tbody tr th {\n",
       "        vertical-align: top;\n",
       "    }\n",
       "\n",
       "    .dataframe thead th {\n",
       "        text-align: right;\n",
       "    }\n",
       "</style>\n",
       "<table border=\"1\" class=\"dataframe\">\n",
       "  <thead>\n",
       "    <tr style=\"text-align: right;\">\n",
       "      <th></th>\n",
       "      <th></th>\n",
       "      <th></th>\n",
       "      <th></th>\n",
       "      <th></th>\n",
       "      <th></th>\n",
       "      <th>distance_per_month</th>\n",
       "      <th>duration_per_month</th>\n",
       "      <th>rides</th>\n",
       "    </tr>\n",
       "    <tr>\n",
       "      <th>user_id</th>\n",
       "      <th>subscription_type</th>\n",
       "      <th>minute_price</th>\n",
       "      <th>start_ride_price</th>\n",
       "      <th>subscription_fee</th>\n",
       "      <th>month</th>\n",
       "      <th></th>\n",
       "      <th></th>\n",
       "      <th></th>\n",
       "    </tr>\n",
       "  </thead>\n",
       "  <tbody>\n",
       "    <tr>\n",
       "      <th rowspan=\"5\" valign=\"top\">1</th>\n",
       "      <th rowspan=\"5\" valign=\"top\">ultra</th>\n",
       "      <th rowspan=\"5\" valign=\"top\">6</th>\n",
       "      <th rowspan=\"5\" valign=\"top\">0</th>\n",
       "      <th rowspan=\"5\" valign=\"top\">199</th>\n",
       "      <th>1</th>\n",
       "      <td>7027.511294</td>\n",
       "      <td>42.0</td>\n",
       "      <td>2</td>\n",
       "    </tr>\n",
       "    <tr>\n",
       "      <th>4</th>\n",
       "      <td>754.159807</td>\n",
       "      <td>7.0</td>\n",
       "      <td>1</td>\n",
       "    </tr>\n",
       "    <tr>\n",
       "      <th>8</th>\n",
       "      <td>6723.470560</td>\n",
       "      <td>46.0</td>\n",
       "      <td>2</td>\n",
       "    </tr>\n",
       "    <tr>\n",
       "      <th>10</th>\n",
       "      <td>5809.911100</td>\n",
       "      <td>32.0</td>\n",
       "      <td>2</td>\n",
       "    </tr>\n",
       "    <tr>\n",
       "      <th>11</th>\n",
       "      <td>7003.499363</td>\n",
       "      <td>56.0</td>\n",
       "      <td>3</td>\n",
       "    </tr>\n",
       "    <tr>\n",
       "      <th>...</th>\n",
       "      <th>...</th>\n",
       "      <th>...</th>\n",
       "      <th>...</th>\n",
       "      <th>...</th>\n",
       "      <th>...</th>\n",
       "      <td>...</td>\n",
       "      <td>...</td>\n",
       "      <td>...</td>\n",
       "    </tr>\n",
       "    <tr>\n",
       "      <th rowspan=\"5\" valign=\"top\">1534</th>\n",
       "      <th rowspan=\"5\" valign=\"top\">free</th>\n",
       "      <th rowspan=\"5\" valign=\"top\">8</th>\n",
       "      <th rowspan=\"5\" valign=\"top\">50</th>\n",
       "      <th rowspan=\"5\" valign=\"top\">0</th>\n",
       "      <th>6</th>\n",
       "      <td>3409.468534</td>\n",
       "      <td>26.0</td>\n",
       "      <td>2</td>\n",
       "    </tr>\n",
       "    <tr>\n",
       "      <th>8</th>\n",
       "      <td>7622.453034</td>\n",
       "      <td>48.0</td>\n",
       "      <td>2</td>\n",
       "    </tr>\n",
       "    <tr>\n",
       "      <th>9</th>\n",
       "      <td>4928.173852</td>\n",
       "      <td>23.0</td>\n",
       "      <td>1</td>\n",
       "    </tr>\n",
       "    <tr>\n",
       "      <th>11</th>\n",
       "      <td>13350.015305</td>\n",
       "      <td>78.0</td>\n",
       "      <td>4</td>\n",
       "    </tr>\n",
       "    <tr>\n",
       "      <th>12</th>\n",
       "      <td>2371.711192</td>\n",
       "      <td>16.0</td>\n",
       "      <td>1</td>\n",
       "    </tr>\n",
       "  </tbody>\n",
       "</table>\n",
       "<p>11331 rows × 3 columns</p>\n",
       "</div>"
      ],
      "text/plain": [
       "                                                                                distance_per_month  \\\n",
       "user_id subscription_type minute_price start_ride_price subscription_fee month                       \n",
       "1       ultra             6            0                199              1             7027.511294   \n",
       "                                                                         4              754.159807   \n",
       "                                                                         8             6723.470560   \n",
       "                                                                         10            5809.911100   \n",
       "                                                                         11            7003.499363   \n",
       "...                                                                                            ...   \n",
       "1534    free              8            50               0                6             3409.468534   \n",
       "                                                                         8             7622.453034   \n",
       "                                                                         9             4928.173852   \n",
       "                                                                         11           13350.015305   \n",
       "                                                                         12            2371.711192   \n",
       "\n",
       "                                                                                duration_per_month  \\\n",
       "user_id subscription_type minute_price start_ride_price subscription_fee month                       \n",
       "1       ultra             6            0                199              1                    42.0   \n",
       "                                                                         4                     7.0   \n",
       "                                                                         8                    46.0   \n",
       "                                                                         10                   32.0   \n",
       "                                                                         11                   56.0   \n",
       "...                                                                                            ...   \n",
       "1534    free              8            50               0                6                    26.0   \n",
       "                                                                         8                    48.0   \n",
       "                                                                         9                    23.0   \n",
       "                                                                         11                   78.0   \n",
       "                                                                         12                   16.0   \n",
       "\n",
       "                                                                                rides  \n",
       "user_id subscription_type minute_price start_ride_price subscription_fee month         \n",
       "1       ultra             6            0                199              1          2  \n",
       "                                                                         4          1  \n",
       "                                                                         8          2  \n",
       "                                                                         10         2  \n",
       "                                                                         11         3  \n",
       "...                                                                               ...  \n",
       "1534    free              8            50               0                6          2  \n",
       "                                                                         8          2  \n",
       "                                                                         9          1  \n",
       "                                                                         11         4  \n",
       "                                                                         12         1  \n",
       "\n",
       "[11331 rows x 3 columns]"
      ]
     },
     "execution_count": 39,
     "metadata": {},
     "output_type": "execute_result"
    }
   ],
   "source": [
    "#Создадим датайфрейм с суммарным расстоянием, колиечством поездок и суммарным временем для каждого пользователя за месяц\n",
    "#Округлим значения длительности поездок\n",
    "data['duration'] = np.ceil(data['duration'])\n",
    "\n",
    "#Сгруппируем данные по пользователям и месяцам, вычислим общее расстояние и время, а также количество поездок. Укажем в таблице также тип подписки\n",
    "data_u = data.pivot_table(index = ['user_id','subscription_type', 'minute_price', 'start_ride_price', 'subscription_fee', 'month'], values = ['distance', 'duration'], aggfunc = {'distance':sum, 'duration':sum, 'user_id':len }) \n",
    "data_u.rename(columns = {'user_id':'rides', 'distance':'distance_per_month', 'duration':'duration_per_month'}, inplace = True )\n",
    "data_u"
   ]
  },
  {
   "cell_type": "markdown",
   "id": "0207f4b1-9857-4400-843c-f5d684002d04",
   "metadata": {},
   "source": [
    "## 5.2 Помесячная выручка"
   ]
  },
  {
   "cell_type": "code",
   "execution_count": 40,
   "id": "65715aa6",
   "metadata": {},
   "outputs": [
    {
     "data": {
      "text/html": [
       "<div>\n",
       "<style scoped>\n",
       "    .dataframe tbody tr th:only-of-type {\n",
       "        vertical-align: middle;\n",
       "    }\n",
       "\n",
       "    .dataframe tbody tr th {\n",
       "        vertical-align: top;\n",
       "    }\n",
       "\n",
       "    .dataframe thead th {\n",
       "        text-align: right;\n",
       "    }\n",
       "</style>\n",
       "<table border=\"1\" class=\"dataframe\">\n",
       "  <thead>\n",
       "    <tr style=\"text-align: right;\">\n",
       "      <th></th>\n",
       "      <th></th>\n",
       "      <th></th>\n",
       "      <th></th>\n",
       "      <th></th>\n",
       "      <th></th>\n",
       "      <th>distance_per_month</th>\n",
       "      <th>duration_per_month</th>\n",
       "      <th>rides</th>\n",
       "      <th>total_income</th>\n",
       "    </tr>\n",
       "    <tr>\n",
       "      <th>user_id</th>\n",
       "      <th>subscription_type</th>\n",
       "      <th>minute_price</th>\n",
       "      <th>start_ride_price</th>\n",
       "      <th>subscription_fee</th>\n",
       "      <th>month</th>\n",
       "      <th></th>\n",
       "      <th></th>\n",
       "      <th></th>\n",
       "      <th></th>\n",
       "    </tr>\n",
       "  </thead>\n",
       "  <tbody>\n",
       "    <tr>\n",
       "      <th rowspan=\"5\" valign=\"top\">1</th>\n",
       "      <th rowspan=\"5\" valign=\"top\">ultra</th>\n",
       "      <th rowspan=\"5\" valign=\"top\">6</th>\n",
       "      <th rowspan=\"5\" valign=\"top\">0</th>\n",
       "      <th rowspan=\"5\" valign=\"top\">199</th>\n",
       "      <th>1</th>\n",
       "      <td>7027.511294</td>\n",
       "      <td>42.0</td>\n",
       "      <td>2</td>\n",
       "      <td>451.0</td>\n",
       "    </tr>\n",
       "    <tr>\n",
       "      <th>4</th>\n",
       "      <td>754.159807</td>\n",
       "      <td>7.0</td>\n",
       "      <td>1</td>\n",
       "      <td>241.0</td>\n",
       "    </tr>\n",
       "    <tr>\n",
       "      <th>8</th>\n",
       "      <td>6723.470560</td>\n",
       "      <td>46.0</td>\n",
       "      <td>2</td>\n",
       "      <td>475.0</td>\n",
       "    </tr>\n",
       "    <tr>\n",
       "      <th>10</th>\n",
       "      <td>5809.911100</td>\n",
       "      <td>32.0</td>\n",
       "      <td>2</td>\n",
       "      <td>391.0</td>\n",
       "    </tr>\n",
       "    <tr>\n",
       "      <th>11</th>\n",
       "      <td>7003.499363</td>\n",
       "      <td>56.0</td>\n",
       "      <td>3</td>\n",
       "      <td>535.0</td>\n",
       "    </tr>\n",
       "    <tr>\n",
       "      <th>...</th>\n",
       "      <th>...</th>\n",
       "      <th>...</th>\n",
       "      <th>...</th>\n",
       "      <th>...</th>\n",
       "      <th>...</th>\n",
       "      <td>...</td>\n",
       "      <td>...</td>\n",
       "      <td>...</td>\n",
       "      <td>...</td>\n",
       "    </tr>\n",
       "    <tr>\n",
       "      <th rowspan=\"5\" valign=\"top\">1534</th>\n",
       "      <th rowspan=\"5\" valign=\"top\">free</th>\n",
       "      <th rowspan=\"5\" valign=\"top\">8</th>\n",
       "      <th rowspan=\"5\" valign=\"top\">50</th>\n",
       "      <th rowspan=\"5\" valign=\"top\">0</th>\n",
       "      <th>6</th>\n",
       "      <td>3409.468534</td>\n",
       "      <td>26.0</td>\n",
       "      <td>2</td>\n",
       "      <td>308.0</td>\n",
       "    </tr>\n",
       "    <tr>\n",
       "      <th>8</th>\n",
       "      <td>7622.453034</td>\n",
       "      <td>48.0</td>\n",
       "      <td>2</td>\n",
       "      <td>484.0</td>\n",
       "    </tr>\n",
       "    <tr>\n",
       "      <th>9</th>\n",
       "      <td>4928.173852</td>\n",
       "      <td>23.0</td>\n",
       "      <td>1</td>\n",
       "      <td>234.0</td>\n",
       "    </tr>\n",
       "    <tr>\n",
       "      <th>11</th>\n",
       "      <td>13350.015305</td>\n",
       "      <td>78.0</td>\n",
       "      <td>4</td>\n",
       "      <td>824.0</td>\n",
       "    </tr>\n",
       "    <tr>\n",
       "      <th>12</th>\n",
       "      <td>2371.711192</td>\n",
       "      <td>16.0</td>\n",
       "      <td>1</td>\n",
       "      <td>178.0</td>\n",
       "    </tr>\n",
       "  </tbody>\n",
       "</table>\n",
       "<p>11331 rows × 4 columns</p>\n",
       "</div>"
      ],
      "text/plain": [
       "                                                                                distance_per_month  \\\n",
       "user_id subscription_type minute_price start_ride_price subscription_fee month                       \n",
       "1       ultra             6            0                199              1             7027.511294   \n",
       "                                                                         4              754.159807   \n",
       "                                                                         8             6723.470560   \n",
       "                                                                         10            5809.911100   \n",
       "                                                                         11            7003.499363   \n",
       "...                                                                                            ...   \n",
       "1534    free              8            50               0                6             3409.468534   \n",
       "                                                                         8             7622.453034   \n",
       "                                                                         9             4928.173852   \n",
       "                                                                         11           13350.015305   \n",
       "                                                                         12            2371.711192   \n",
       "\n",
       "                                                                                duration_per_month  \\\n",
       "user_id subscription_type minute_price start_ride_price subscription_fee month                       \n",
       "1       ultra             6            0                199              1                    42.0   \n",
       "                                                                         4                     7.0   \n",
       "                                                                         8                    46.0   \n",
       "                                                                         10                   32.0   \n",
       "                                                                         11                   56.0   \n",
       "...                                                                                            ...   \n",
       "1534    free              8            50               0                6                    26.0   \n",
       "                                                                         8                    48.0   \n",
       "                                                                         9                    23.0   \n",
       "                                                                         11                   78.0   \n",
       "                                                                         12                   16.0   \n",
       "\n",
       "                                                                                rides  \\\n",
       "user_id subscription_type minute_price start_ride_price subscription_fee month          \n",
       "1       ultra             6            0                199              1          2   \n",
       "                                                                         4          1   \n",
       "                                                                         8          2   \n",
       "                                                                         10         2   \n",
       "                                                                         11         3   \n",
       "...                                                                               ...   \n",
       "1534    free              8            50               0                6          2   \n",
       "                                                                         8          2   \n",
       "                                                                         9          1   \n",
       "                                                                         11         4   \n",
       "                                                                         12         1   \n",
       "\n",
       "                                                                                total_income  \n",
       "user_id subscription_type minute_price start_ride_price subscription_fee month                \n",
       "1       ultra             6            0                199              1             451.0  \n",
       "                                                                         4             241.0  \n",
       "                                                                         8             475.0  \n",
       "                                                                         10            391.0  \n",
       "                                                                         11            535.0  \n",
       "...                                                                                      ...  \n",
       "1534    free              8            50               0                6             308.0  \n",
       "                                                                         8             484.0  \n",
       "                                                                         9             234.0  \n",
       "                                                                         11            824.0  \n",
       "                                                                         12            178.0  \n",
       "\n",
       "[11331 rows x 4 columns]"
      ]
     },
     "execution_count": 40,
     "metadata": {},
     "output_type": "execute_result"
    }
   ],
   "source": [
    "#Рассчитаем помесячную выручку\n",
    "data_u['total_income'] = ( data_u['rides']*data_u['rides'].index.get_level_values(3) \n",
    "                          + data_u['duration_per_month']*data_u['duration_per_month'].index.get_level_values(2)\n",
    "                          + data_u['rides'].index.get_level_values(4))\n",
    "data_u"
   ]
  },
  {
   "cell_type": "markdown",
   "id": "901ab4dd-2a70-4a17-ada8-0f480cdde5a8",
   "metadata": {},
   "source": [
    "**Вывод**: была вычислена помесячная выручка для каждого пользователя."
   ]
  },
  {
   "cell_type": "code",
   "execution_count": 51,
   "id": "20fc9c03",
   "metadata": {},
   "outputs": [
    {
     "data": {
      "text/plain": [
       "subscription_type\n",
       "free     328.641365\n",
       "ultra    362.792191\n",
       "Name: total_income, dtype: float64"
      ]
     },
     "execution_count": 51,
     "metadata": {},
     "output_type": "execute_result"
    }
   ],
   "source": [
    "# Код ревьюера\n",
    "data_rev = data_u.copy()\n",
    "data_rev.reset_index(inplace = True)\n",
    "data_rev.groupby('subscription_type')['total_income'].mean()"
   ]
  },
  {
   "cell_type": "markdown",
   "id": "e5873772-8808-418a-a301-a2d046bca15b",
   "metadata": {
    "tags": []
   },
   "source": [
    "## 6. Проверка гипотез"
   ]
  },
  {
   "cell_type": "markdown",
   "id": "d17fc9af-1515-4c42-a10a-d260d8faa4d5",
   "metadata": {},
   "source": [
    "Проверим некоторые статистические гипотезы, которые могут увеличить количество пользователей с подпиской. "
   ]
  },
  {
   "cell_type": "markdown",
   "id": "b6fc3015-edb8-445c-8d01-406fda1d3e9e",
   "metadata": {},
   "source": [
    "## 6.1 Время поездок у разных пользователей"
   ]
  },
  {
   "cell_type": "markdown",
   "id": "3eda7ffa-87cd-4160-8e33-ebd660446d34",
   "metadata": {},
   "source": [
    "\n",
    "**Нулевая гипотеза** - среднее время пользователей с подпиской и без подписки - одинаково.\n",
    "**Альтернативная гипотеза** - среднее время пользователей с подпиской больше, чем пользователей без подписки."
   ]
  },
  {
   "cell_type": "code",
   "execution_count": 41,
   "id": "6d572b09-d57e-44d2-957d-4b5a42a0078d",
   "metadata": {
    "tags": []
   },
   "outputs": [
    {
     "name": "stdout",
     "output_type": "stream",
     "text": [
      "p-значение: 1.2804098316645618e-34\n",
      "Отвергаем нулевую гипотезу о равенстве среднего времени\n"
     ]
    }
   ],
   "source": [
    "#Проверяем гипотезу с помощью t-test\n",
    "\n",
    "free_u = data_free['duration']\n",
    "ultra_u = data_ultra['duration']\n",
    "#Зададим уровень статистической значимости \n",
    "alpha = 0.05\n",
    "\n",
    "#Вычисляем p-значение для односторонней гипотезы \n",
    "results = st.ttest_ind(free_u, ultra_u, alternative ='less')\n",
    "\n",
    "print ('p-значение:', results.pvalue)\n",
    "\n",
    "if results.pvalue < alpha: \n",
    "    print('Отвергаем нулевую гипотезу о равенстве среднего времени')\n",
    "else:\n",
    "    print('Не получилось отвергнуть нулевую гипотезу о равенстве среднего времени')"
   ]
  },
  {
   "cell_type": "markdown",
   "id": "c8f776be-c33f-4c47-aa50-8441467eca2e",
   "metadata": {},
   "source": [
    "**Вывод**: есть основания полагать, что пользователи с подпиской тратят больше времени на поездки. "
   ]
  },
  {
   "cell_type": "markdown",
   "id": "4b38d39c-b4b7-45c8-8fdf-849bfa5b4373",
   "metadata": {},
   "source": [
    "## 6.2 Оптимальность расстояния поездок "
   ]
  },
  {
   "cell_type": "markdown",
   "id": "605e0c1a-ce6d-400b-a443-aa11091fb690",
   "metadata": {},
   "source": [
    "**Нулевая гипотеза**: Среднее расстояние поездки для пользователей равно 3130 метров.\n",
    "**Альтернативная гипотеза**: Среднее расстояние поездки для пользователей больше 3130 метров. "
   ]
  },
  {
   "cell_type": "code",
   "execution_count": 42,
   "id": "93968bb6-f25e-46d0-ac87-b9715febe108",
   "metadata": {
    "tags": []
   },
   "outputs": [
    {
     "name": "stdout",
     "output_type": "stream",
     "text": [
      "p-значение: 0.9195368847849785\n",
      "Не получилось отвергнуть нулевую гипотезу\n"
     ]
    }
   ],
   "source": [
    "#Проверим гипотезу с помощью одностороннего t-test\n",
    "recommended_value = 3130\n",
    "alpha = 0.05\n",
    "\n",
    "results = st.ttest_1samp(\n",
    "            data_ultra['distance'],\n",
    "            recommended_value,\n",
    "            alternative='greater')\n",
    "print('p-значение:', results.pvalue)\n",
    "\n",
    "if (results.pvalue<alpha):\n",
    "    print('Отвергаем нулевую гипотезу')\n",
    "else:\n",
    "    print('Не получилось отвергнуть нулевую гипотезу')\n",
    "\n"
   ]
  },
  {
   "cell_type": "markdown",
   "id": "ee3e3c59-5430-4786-9c34-5d1513f54543",
   "metadata": {},
   "source": [
    "**Вывод** - нельзя утверждать, что проезжаемое пользователями с подпиской расстояние за одну поездку не превышает 3130 метров. Это говорит о том, что в среднем самокат изнашивается не достаточно оптимально."
   ]
  },
  {
   "cell_type": "markdown",
   "id": "bc0d6476-e07a-4398-ac4c-694b93789d44",
   "metadata": {},
   "source": [
    "## 6.3 Помесячная выручка"
   ]
  },
  {
   "cell_type": "markdown",
   "id": "08f58b93",
   "metadata": {},
   "source": [
    "**Нулевая гипотеза**: Средняя помесячная выручка от пользователей с подпиской равна такой же выручке от пользователей без подписки. \n",
    "**Альтернативная гипотеза**: Средняя помесячная выручка от пользователей без подписки меньше, чем от пользователей с подпиской. "
   ]
  },
  {
   "cell_type": "code",
   "execution_count": 43,
   "id": "8804731b",
   "metadata": {},
   "outputs": [
    {
     "name": "stdout",
     "output_type": "stream",
     "text": [
      "p-значение: 1.8850394384715216e-31\n",
      "Отвергаем нулевую гипотезу о равенстве ежемесячных выручек\n"
     ]
    }
   ],
   "source": [
    "#Проверим гипотзу с помощью t-test\n",
    "free = data_u['total_income'].loc[data_u.index.get_level_values(1)=='free']\n",
    "ultra = data_u['total_income'].loc[data_u.index.get_level_values(1)=='ultra']\n",
    "#Зададим уровень статистической значимости \n",
    "alpha = 0.05\n",
    "\n",
    "#Вычисляем p-значение для односторонней гипотезы \n",
    "results = st.ttest_ind(free, ultra, alternative ='less')\n",
    "\n",
    "print ('p-значение:', results.pvalue)\n",
    "\n",
    "if results.pvalue < alpha: \n",
    "    print('Отвергаем нулевую гипотезу о равенстве ежемесячных выручек')\n",
    "else:\n",
    "    print('Не получилось отвергнуть нулевую гипотезу о равенстве ежемесячных выручек')"
   ]
  },
  {
   "cell_type": "markdown",
   "id": "8bb05cc6-04dd-4fab-902f-0e88b645d73b",
   "metadata": {},
   "source": [
    "**Вывод**: можно сделать вывод, что ежемесячная выручка для пользователей с подпиской значимо выше, чем для пользователей без подписки. "
   ]
  },
  {
   "cell_type": "markdown",
   "id": "4fe144ad-7fac-4bf4-be46-0da9434729bd",
   "metadata": {
    "tags": []
   },
   "source": [
    "## 6.4 Обновление сервера"
   ]
  },
  {
   "cell_type": "markdown",
   "id": "a70f47e7-77d8-4cd7-9917-573c47286a4d",
   "metadata": {},
   "source": [
    "Представим такую ситуацию: техническая команда сервиса обновила сервера, с которыми взаимодействует мобильное приложение. Она надеется, что из-за этого количество обращений в техподдержку значимо снизилось. Некоторый файл содержит для каждого пользователя данные о количестве обращений до обновления и после него.\n",
    "Для проверки этой гипотезы воспользуемся вользуемся гипотезой о равенстве средних для зависимых (парных) выборок и проведем соответсвующий t-test при помощи функции scipy.stats.ttest_rel()."
   ]
  },
  {
   "cell_type": "markdown",
   "id": "e9474486-a2bd-4ea1-9a6d-f5d6927f46f1",
   "metadata": {},
   "source": [
    "**Общие выводы**:\n",
    "- Есть основания полагать, что пользователи с подпиской тратят больше времени на поездки. \n",
    "- Нельзя утверждать, что проезжаемое пользователями с подпиской расстояние за одну поездку не превышает 3130 метров.\n",
    "- Можно сделать вывод, что ежемесячная выручка для пользователей с подпиской значимо выше, чем для пользователей без подписки. "
   ]
  },
  {
   "cell_type": "markdown",
   "id": "d025bdaf-9a62-4f98-882d-301c0e79c330",
   "metadata": {
    "tags": []
   },
   "source": [
    "# 7. Распределения "
   ]
  },
  {
   "cell_type": "markdown",
   "id": "5b0cb524-cd2b-483e-8fd1-72526b6ad1bb",
   "metadata": {},
   "source": [
    "## 7.1 Проведение акции "
   ]
  },
  {
   "cell_type": "markdown",
   "id": "76bb7e9b-e6e9-4546-b911-7cf3a8b63f93",
   "metadata": {},
   "source": [
    "Нужно провести акцию, с раздачей промокодов на один бесплатный месяц подписки, в рамках которой как минимум 100 существующих клиентов должны продлить подписку. "
   ]
  },
  {
   "cell_type": "markdown",
   "id": "cee7327b-2870-445d-bf0a-6e08a43208d0",
   "metadata": {},
   "source": [
    "Выяснилось, что после бесплатного пробного периода подписку продлевают 10% пользователей. Определим, какое минимальное количество промокодов нужно разослать, чтобы вероятность не выполнить план была примерно 5%. "
   ]
  },
  {
   "cell_type": "markdown",
   "id": "eb24f322-8c2d-4c71-b015-027ddca744b1",
   "metadata": {},
   "source": [
    "Продление или не продление подписки - это испытание бернули с вероятностью успеха p = 0.1. Количество успешных исходов данного испытания описывается биномиальным распределением. "
   ]
  },
  {
   "cell_type": "markdown",
   "id": "4743c8d9-dc55-4233-b004-e8157cc3e187",
   "metadata": {},
   "source": [
    "Подберем необходимые параметры этого распределение. Т.е. нам необходимо, чтобы вероятность того, что менее 100 клиентов продлят подписку равнялась 5%. "
   ]
  },
  {
   "cell_type": "code",
   "execution_count": 44,
   "id": "251c72ec-eb36-43b8-8b73-0d529f8b82c4",
   "metadata": {
    "tags": []
   },
   "outputs": [
    {
     "name": "stdout",
     "output_type": "stream",
     "text": [
      "Подобранное число клиентов равняется  1172\n",
      "В этом случае вероятность того, что количество менее 100 клиентов продлять подписку равняется 0.0495\n"
     ]
    }
   ],
   "source": [
    "#Зададим начальное значение клиентов и вероятность успеха\n",
    "n, p = 100, 0.1\n",
    "\n",
    "#Определим минимум клиентов для успешности испытания\n",
    "k = 100\n",
    "\n",
    "#Вычислим при каком значении n необходимая вероятность станет примерно равной 0.05\n",
    "while binom.cdf(k, n, p) > 0.05:\n",
    "    n = n + 1\n",
    "\n",
    "print('Подобранное число клиентов равняется ', n)\n",
    "print('В этом случае вероятность того, что количество менее 100 клиентов продлять подписку равняется', round (binom.cdf(k, n, p),4)) "
   ]
  },
  {
   "cell_type": "markdown",
   "id": "eb3f2bd7-aa42-4f72-9761-d94d033774c8",
   "metadata": {},
   "source": [
    "**Вывод**: для того, чтобы вероятность того, что менее 100 клиентов после проведения акции продлят подписку равнялась примерно 5% необхдоимо провести испытание с 1172 клиентами. В этом случае вероятность будет равнятся 0.0495"
   ]
  },
  {
   "cell_type": "markdown",
   "id": "bec6cdc2-f42a-4f2d-b37d-cfe39ab40edc",
   "metadata": {},
   "source": [
    "## 7.2 Рекламные уведомления"
   ]
  },
  {
   "cell_type": "markdown",
   "id": "bf589bc2-cad6-4f21-af10-cd070efb6455",
   "metadata": {},
   "source": [
    "Отдел маркетинга рассылает клиентам push-уведомления в мобильном приложении. Клиенты могут открыть его или не открывать. Известно, что уведомления открывают около 40% получивших клиентов. Отдел планирует разослать 1 млн уведомлений. С помощью аппроксимации построим примерный график распределения и оценим вероятность того, что уведомление откроют не более 399.5 тыс. пользователей. "
   ]
  },
  {
   "cell_type": "code",
   "execution_count": 45,
   "id": "45511925-02a3-4db7-8071-2b48c31fbd8c",
   "metadata": {
    "tags": []
   },
   "outputs": [
    {
     "name": "stdout",
     "output_type": "stream",
     "text": [
      "Среднее значение 400000.0\n",
      "Стандартное отклонение 489.89794855663564\n"
     ]
    }
   ],
   "source": [
    "#Зафиксируем параметры данного биномиального распределения \n",
    "n = 1000000\n",
    "p = 0.4\n",
    "x = 399500\n",
    "#Параметры этого распределения\n",
    "mean = binom(n, p).mean()\n",
    "std = binom(n,p).std()\n",
    "print('Среднее значение', mean)\n",
    "print('Стандартное отклонение', std)"
   ]
  },
  {
   "cell_type": "markdown",
   "id": "29721be4-0d2b-4101-a908-e08f29bacdf2",
   "metadata": {},
   "source": [
    "Проверим можно ли аппроксимировать данное распределение нормальным. "
   ]
  },
  {
   "cell_type": "code",
   "execution_count": 46,
   "id": "4050585d-a683-400e-8d26-e47b969bb223",
   "metadata": {
    "tags": []
   },
   "outputs": [
    {
     "name": "stdout",
     "output_type": "stream",
     "text": [
      "Левая граница 398530.3061543301\n",
      "Правая граница 401469.6938456699\n"
     ]
    }
   ],
   "source": [
    "#Определим границы промежутка от математического ожидания плюс-минус три стандартных отклонения\n",
    "a , b = mean - 3*std, mean+3*std\n",
    "print('Левая граница', a)\n",
    "print('Правая граница', b)"
   ]
  },
  {
   "cell_type": "markdown",
   "id": "7ae77c60-998e-4a31-85f7-ee7dac7fab84",
   "metadata": {},
   "source": [
    "Полученные границы попадают в промежуток [0, 1000000], следовательное данное распределение можно аппроксимировать нормальным. "
   ]
  },
  {
   "cell_type": "code",
   "execution_count": 47,
   "id": "9919c6fe-351c-446f-9272-008efba94049",
   "metadata": {
    "tags": []
   },
   "outputs": [],
   "source": [
    "#Зададим нормальное распределение с математическим ожиданием и стандартным отклонением биномиального распределения \n",
    "mu = mean\n",
    "sigma = std\n",
    "distr = st.norm(mu, sigma)"
   ]
  },
  {
   "cell_type": "code",
   "execution_count": 48,
   "id": "ddfd850f-04f6-4cb6-b99f-bbd1b715172d",
   "metadata": {
    "tags": []
   },
   "outputs": [
    {
     "data": {
      "text/plain": [
       "[<matplotlib.lines.Line2D at 0x7f35dade8f40>]"
      ]
     },
     "execution_count": 48,
     "metadata": {},
     "output_type": "execute_result"
    },
    {
     "data": {
      "image/png": "[encoded data removed]",
      "text/plain": [
       "<Figure size 432x288 with 1 Axes>"
      ]
     },
     "metadata": {
      "needs_background": "light"
     },
     "output_type": "display_data"
    }
   ],
   "source": [
    "#Визуализируем нормальное распределение \n",
    "x = np.arange (a, b, 0.001)\n",
    "plt.title('Распределение количества клиентов, открывших уведомление')\n",
    "\n",
    "\n",
    "plt.plot (x, norm. pdf (x, mu, sigma))"
   ]
  },
  {
   "cell_type": "code",
   "execution_count": 49,
   "id": "1ca8f5bc-e35a-4cf3-8e3f-fc1d4dbb2f79",
   "metadata": {
    "tags": []
   },
   "outputs": [
    {
     "name": "stdout",
     "output_type": "stream",
     "text": [
      "0.15371708296369768\n"
     ]
    }
   ],
   "source": [
    "#Расчитаем искомую вероятность того, что уведомление откроют не более 399.5 тыс. пользователей \n",
    "y = 399500\n",
    "result = distr.cdf(y)\n",
    "print(result)"
   ]
  },
  {
   "cell_type": "markdown",
   "id": "d90496b6-69a5-4002-90e4-720a215cf691",
   "metadata": {},
   "source": [
    "**Вывод**: количество клиентов, которые открывают присланные уведомления, может быть апроксимировано в виде нормального распределения. Вероятность того, что уведомление откроют не более 399.5 тыс. в данном испытании составляет 15%."
   ]
  },
  {
   "cell_type": "markdown",
   "id": "0d276630-7628-4626-a946-c38c8bcfe6c7",
   "metadata": {},
   "source": [
    "# Выводы:"
   ]
  },
  {
   "cell_type": "markdown",
   "id": "4af10595-6001-4b71-91ca-9ebfbf2121a6",
   "metadata": {},
   "source": [
    "В ходе проведения исследования были обработаны данные о пользователях и их поездках в приложении GoFast. \n",
    "На основе исследовательского анализа данных были сделаны следующие выводы: \n",
    "- Самый часто встречаемый город Пятигорск\n",
    "- Пользователей без подписки на 4 процента больше, чем с подпиской \n",
    "- Распределение возраста пользователей - нормальное со средним равным 26\n",
    "- Среднее расстояние за поездку около 3 км\n",
    "- Средняя продолжительность поездок около 18 минут\n",
    "Для проверки статистически гипотез представленные данные были агрегированы для анализа ежемесячной выручки от каждого пользователя. \n",
    "Были проверены несколько статистических гипотез и сделаны следующие выводы: \n",
    "- Есть основания полагать, что пользователи с подпиской тратят больше времени на поездки. \n",
    "- Нельзя утверждать, что проезжаемое пользователями с подпиской расстояние за одну поездку не превышает 3130 метров.\n",
    "- Можно сделать вывод, что ежемесячная выручка для пользователей с подпиской значимо выше, чем для пользователей без подписки. \n",
    "Также в ходе исследования проанализированы следующие ситуации - проведение акции по с бесплатным промокодом и рассылка push-уведомлений. Сделаны следующие выводы:\n",
    "- Вероятность того, что уведомление откроют не более 399.5 тыс. в данном испытании составляет 15%.\n",
    "- Чтобы вероятность того, что менее 100 клиентов после проведения акции продлят подписку равнялась примерно 5% необхдоимо провести испытание с 1172 клиентами. В этом случае вероятность будет равнятся 0.0495\n",
    "\n",
    "Таким образом, пользователи с подпиской являются более выгодными для компании - в среднем доход получаемых от них ежемясячно больше. Для привлечения новых клиентов с подписками достаточно эффективным будет проведение акции с бесплатными промокодами (на количестве клиентов более 1170). "
   ]
  }
 ],
 "metadata": {
  "ExecuteTimeLog": [
   {
    "duration": 470,
    "start_time": "2023-05-25T05:58:12.010Z"
   },
   {
    "duration": 22,
    "start_time": "2023-05-25T05:58:12.482Z"
   },
   {
    "duration": 13,
    "start_time": "2023-05-25T05:58:12.506Z"
   },
   {
    "duration": 12,
    "start_time": "2023-05-25T05:58:12.521Z"
   },
   {
    "duration": 16,
    "start_time": "2023-05-25T05:58:12.536Z"
   },
   {
    "duration": 29,
    "start_time": "2023-05-25T05:58:12.554Z"
   },
   {
    "duration": 21,
    "start_time": "2023-05-25T05:58:12.586Z"
   },
   {
    "duration": 11,
    "start_time": "2023-05-25T05:58:12.608Z"
   },
   {
    "duration": 8,
    "start_time": "2023-05-25T05:58:12.621Z"
   },
   {
    "duration": 8,
    "start_time": "2023-05-25T05:58:12.630Z"
   },
   {
    "duration": 9,
    "start_time": "2023-05-25T05:58:12.640Z"
   },
   {
    "duration": 32,
    "start_time": "2023-05-25T05:58:12.651Z"
   },
   {
    "duration": 10,
    "start_time": "2023-05-25T05:58:12.686Z"
   },
   {
    "duration": 12,
    "start_time": "2023-05-25T05:58:12.701Z"
   },
   {
    "duration": 12,
    "start_time": "2023-05-25T05:58:12.717Z"
   },
   {
    "duration": 6,
    "start_time": "2023-05-25T05:58:12.730Z"
   },
   {
    "duration": 4,
    "start_time": "2023-05-25T05:58:12.737Z"
   },
   {
    "duration": 48,
    "start_time": "2023-05-25T05:58:12.743Z"
   },
   {
    "duration": 890,
    "start_time": "2023-05-25T05:58:12.802Z"
   },
   {
    "duration": 16,
    "start_time": "2023-05-25T05:58:13.698Z"
   },
   {
    "duration": 204,
    "start_time": "2023-05-25T05:58:13.716Z"
   },
   {
    "duration": 7,
    "start_time": "2023-05-25T05:58:13.922Z"
   },
   {
    "duration": 10,
    "start_time": "2023-05-25T05:58:13.930Z"
   },
   {
    "duration": 100,
    "start_time": "2023-05-25T05:58:13.948Z"
   },
   {
    "duration": 273,
    "start_time": "2023-05-25T05:58:14.050Z"
   },
   {
    "duration": 30,
    "start_time": "2023-05-25T05:58:14.325Z"
   },
   {
    "duration": 351,
    "start_time": "2023-05-25T05:58:14.357Z"
   },
   {
    "duration": 9,
    "start_time": "2023-05-25T05:58:14.710Z"
   },
   {
    "duration": 322,
    "start_time": "2023-05-25T05:58:14.721Z"
   },
   {
    "duration": 17,
    "start_time": "2023-05-25T05:58:15.045Z"
   },
   {
    "duration": 45,
    "start_time": "2023-05-25T05:58:15.064Z"
   },
   {
    "duration": 17,
    "start_time": "2023-05-25T05:58:15.111Z"
   },
   {
    "duration": 29,
    "start_time": "2023-05-25T05:58:15.130Z"
   },
   {
    "duration": 655,
    "start_time": "2023-05-25T05:58:15.160Z"
   },
   {
    "duration": 722,
    "start_time": "2023-05-25T05:58:15.818Z"
   },
   {
    "duration": 115,
    "start_time": "2023-05-25T05:58:16.542Z"
   },
   {
    "duration": 55,
    "start_time": "2023-05-25T05:58:16.659Z"
   },
   {
    "duration": 6,
    "start_time": "2023-05-25T05:58:16.716Z"
   },
   {
    "duration": 5,
    "start_time": "2023-05-25T05:58:16.724Z"
   },
   {
    "duration": 21,
    "start_time": "2023-05-25T05:58:16.731Z"
   },
   {
    "duration": 23,
    "start_time": "2023-05-25T05:58:16.777Z"
   },
   {
    "duration": 6,
    "start_time": "2023-05-25T05:58:16.804Z"
   },
   {
    "duration": 180,
    "start_time": "2023-05-25T05:58:16.812Z"
   },
   {
    "duration": 8,
    "start_time": "2023-05-25T05:58:17.000Z"
   },
   {
    "duration": 6,
    "start_time": "2023-05-25T05:58:17.010Z"
   },
   {
    "duration": 8,
    "start_time": "2023-05-25T05:58:17.018Z"
   },
   {
    "duration": 677,
    "start_time": "2023-05-25T05:58:17.028Z"
   },
   {
    "duration": 6,
    "start_time": "2023-05-25T05:58:17.706Z"
   },
   {
    "duration": 111,
    "start_time": "2023-05-25T06:01:33.192Z"
   },
   {
    "duration": 10,
    "start_time": "2023-05-25T06:06:53.902Z"
   },
   {
    "duration": 148,
    "start_time": "2023-05-25T06:12:34.101Z"
   },
   {
    "duration": 1187,
    "start_time": "2023-05-26T05:47:01.737Z"
   },
   {
    "duration": 69,
    "start_time": "2023-05-26T05:47:02.926Z"
   },
   {
    "duration": 11,
    "start_time": "2023-05-26T05:47:02.997Z"
   },
   {
    "duration": 9,
    "start_time": "2023-05-26T05:47:03.010Z"
   },
   {
    "duration": 9,
    "start_time": "2023-05-26T05:47:03.020Z"
   },
   {
    "duration": 12,
    "start_time": "2023-05-26T05:47:03.030Z"
   },
   {
    "duration": 18,
    "start_time": "2023-05-26T05:47:03.043Z"
   },
   {
    "duration": 13,
    "start_time": "2023-05-26T05:47:03.062Z"
   },
   {
    "duration": 8,
    "start_time": "2023-05-26T05:47:03.077Z"
   },
   {
    "duration": 9,
    "start_time": "2023-05-26T05:47:03.087Z"
   },
   {
    "duration": 5,
    "start_time": "2023-05-26T05:47:03.098Z"
   },
   {
    "duration": 6,
    "start_time": "2023-05-26T05:47:03.105Z"
   },
   {
    "duration": 5,
    "start_time": "2023-05-26T05:47:03.112Z"
   },
   {
    "duration": 37,
    "start_time": "2023-05-26T05:47:03.118Z"
   },
   {
    "duration": 9,
    "start_time": "2023-05-26T05:47:03.157Z"
   },
   {
    "duration": 8,
    "start_time": "2023-05-26T05:47:03.167Z"
   },
   {
    "duration": 4,
    "start_time": "2023-05-26T05:47:03.177Z"
   },
   {
    "duration": 5,
    "start_time": "2023-05-26T05:47:03.183Z"
   },
   {
    "duration": 5,
    "start_time": "2023-05-26T05:47:03.189Z"
   },
   {
    "duration": 16,
    "start_time": "2023-05-26T05:47:03.195Z"
   },
   {
    "duration": 49,
    "start_time": "2023-05-26T05:47:03.213Z"
   },
   {
    "duration": 169,
    "start_time": "2023-05-26T05:47:03.264Z"
   },
   {
    "duration": 6,
    "start_time": "2023-05-26T05:47:03.435Z"
   },
   {
    "duration": 4,
    "start_time": "2023-05-26T05:47:03.450Z"
   },
   {
    "duration": 94,
    "start_time": "2023-05-26T05:47:03.456Z"
   },
   {
    "duration": 187,
    "start_time": "2023-05-26T05:47:03.552Z"
   },
   {
    "duration": 28,
    "start_time": "2023-05-26T05:47:03.740Z"
   },
   {
    "duration": 265,
    "start_time": "2023-05-26T05:47:03.771Z"
   },
   {
    "duration": 18,
    "start_time": "2023-05-26T05:47:04.038Z"
   },
   {
    "duration": 322,
    "start_time": "2023-05-26T05:47:04.059Z"
   },
   {
    "duration": 16,
    "start_time": "2023-05-26T05:47:04.383Z"
   },
   {
    "duration": 9,
    "start_time": "2023-05-26T05:47:04.400Z"
   },
   {
    "duration": 12,
    "start_time": "2023-05-26T05:47:04.411Z"
   },
   {
    "duration": 51,
    "start_time": "2023-05-26T05:47:04.425Z"
   },
   {
    "duration": 14,
    "start_time": "2023-05-26T05:47:04.478Z"
   },
   {
    "duration": 6,
    "start_time": "2023-05-26T05:47:04.494Z"
   },
   {
    "duration": 603,
    "start_time": "2023-05-26T05:47:04.502Z"
   },
   {
    "duration": 642,
    "start_time": "2023-05-26T05:47:05.106Z"
   },
   {
    "duration": 114,
    "start_time": "2023-05-26T05:47:05.750Z"
   },
   {
    "duration": 20,
    "start_time": "2023-05-26T05:47:05.866Z"
   },
   {
    "duration": 26,
    "start_time": "2023-05-26T05:47:05.888Z"
   },
   {
    "duration": 11,
    "start_time": "2023-05-26T05:47:05.915Z"
   },
   {
    "duration": 17,
    "start_time": "2023-05-26T05:47:05.928Z"
   },
   {
    "duration": 150,
    "start_time": "2023-05-26T05:47:05.947Z"
   },
   {
    "duration": 6,
    "start_time": "2023-05-26T05:47:06.099Z"
   },
   {
    "duration": 12,
    "start_time": "2023-05-26T05:47:06.106Z"
   },
   {
    "duration": 7,
    "start_time": "2023-05-26T05:47:06.120Z"
   },
   {
    "duration": 576,
    "start_time": "2023-05-26T05:47:06.129Z"
   },
   {
    "duration": 3,
    "start_time": "2023-05-26T05:47:06.707Z"
   },
   {
    "duration": 17,
    "start_time": "2023-05-26T05:52:28.064Z"
   },
   {
    "duration": 11,
    "start_time": "2023-05-26T05:53:02.667Z"
   }
  ],
  "kernelspec": {
   "display_name": "Python 3 (ipykernel)",
   "language": "python",
   "name": "python3"
  },
  "language_info": {
   "codemirror_mode": {
    "name": "ipython",
    "version": 3
   },
   "file_extension": ".py",
   "mimetype": "text/x-python",
   "name": "python",
   "nbconvert_exporter": "python",
   "pygments_lexer": "ipython3",
   "version": "3.9.16"
  },
  "toc": {
   "base_numbering": 1,
   "nav_menu": {},
   "number_sections": true,
   "sideBar": true,
   "skip_h1_title": true,
   "title_cell": "Table of Contents",
   "title_sidebar": "Contents",
   "toc_cell": false,
   "toc_position": {},
   "toc_section_display": true,
   "toc_window_display": false
  },
  "varInspector": {
   "cols": {
    "lenName": 16,
    "lenType": 16,
    "lenVar": 40
   },
   "kernels_config": {
    "python": {
     "delete_cmd_postfix": "",
     "delete_cmd_prefix": "del ",
     "library": "var_list.py",
     "varRefreshCmd": "print(var_dic_list())"
    },
    "r": {
     "delete_cmd_postfix": ") ",
     "delete_cmd_prefix": "rm(",
     "library": "var_list.r",
     "varRefreshCmd": "cat(var_dic_list()) "
    }
   },
   "types_to_exclude": [
    "module",
    "function",
    "builtin_function_or_method",
    "instance",
    "_Feature"
   ],
   "window_display": false
  }
 },
 "nbformat": 4,
 "nbformat_minor": 5
}
